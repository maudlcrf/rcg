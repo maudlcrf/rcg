{
 "cells": [
  {
   "cell_type": "markdown",
   "metadata": {},
   "source": [
    "#### AI for Retail & Consumer Goods | Group Project | MBD April 2024\n",
    "\n",
    "Group Members: Maud Lecerf | Cristina Mosquera | Christopher Stephan"
   ]
  },
  {
   "cell_type": "markdown",
   "metadata": {},
   "source": [
    "# Data Cleaning"
   ]
  },
  {
   "cell_type": "markdown",
   "metadata": {},
   "source": [
    "## Base Imports "
   ]
  },
  {
   "cell_type": "code",
   "execution_count": 1,
   "metadata": {},
   "outputs": [],
   "source": [
    "import pandas as pd\n",
    "import numpy as np\n",
    "import re\n",
    "import math"
   ]
  },
  {
   "cell_type": "code",
   "execution_count": 2,
   "metadata": {},
   "outputs": [],
   "source": [
    "#adjust the display settings to be able to better understand our data\n",
    "pd.set_option('display.max_columns', None)  # Show all columns\n",
    "pd.set_option('display.max_rows', None)  # Show all rows (if needed)"
   ]
  },
  {
   "cell_type": "markdown",
   "metadata": {},
   "source": [
    "Below: reading the data with different paths based on our local computers as the file is too heavy to be stored on Github. "
   ]
  },
  {
   "cell_type": "code",
   "execution_count": 3,
   "metadata": {},
   "outputs": [
    {
     "name": "stderr",
     "output_type": "stream",
     "text": [
      "C:\\Users\\ginny\\AppData\\Local\\Temp\\ipykernel_38476\\2810922981.py:1: DtypeWarning: Columns (6,14) have mixed types. Specify dtype option on import or set low_memory=False.\n",
      "  data = pd.read_csv(\"C:\\\\Users\\\\ginny\\\\Desktop\\\\RCG\\\\Group Work\\\\Iowa_Liquor_Sales_SEP2024.csv\") #Maud\n"
     ]
    }
   ],
   "source": [
    "data = pd.read_csv(\"C:\\\\Users\\\\ginny\\\\Desktop\\\\RCG\\\\Group Work\\\\Iowa_Liquor_Sales_SEP2024.csv\") #Maud\n",
    "\n",
    "#data = pd.read_csv(\"/Users/christopherstephan/Documents/IE/Term 3/Consumer Goods/project/Iowa_Liquor_Sales_DEC24.csv\") #Chris\n",
    "\n",
    "#gdown.download('https://drive.google.com/uc?export=download&id=1Nvt1FeNTQPWFXKZHhWD3P4Ynmwt3xGCG', 'archivo.csv', quiet=False)\n",
    "#data = pd.read_csv('archivo.csv') #Cristina"
   ]
  },
  {
   "cell_type": "markdown",
   "metadata": {},
   "source": [
    "## Initial Assessment of the data"
   ]
  },
  {
   "cell_type": "code",
   "execution_count": 4,
   "metadata": {},
   "outputs": [
    {
     "data": {
      "text/html": [
       "<div>\n",
       "<style scoped>\n",
       "    .dataframe tbody tr th:only-of-type {\n",
       "        vertical-align: middle;\n",
       "    }\n",
       "\n",
       "    .dataframe tbody tr th {\n",
       "        vertical-align: top;\n",
       "    }\n",
       "\n",
       "    .dataframe thead th {\n",
       "        text-align: right;\n",
       "    }\n",
       "</style>\n",
       "<table border=\"1\" class=\"dataframe\">\n",
       "  <thead>\n",
       "    <tr style=\"text-align: right;\">\n",
       "      <th></th>\n",
       "      <th>Invoice/Item Number</th>\n",
       "      <th>Date</th>\n",
       "      <th>Store Number</th>\n",
       "      <th>Store Name</th>\n",
       "      <th>Address</th>\n",
       "      <th>City</th>\n",
       "      <th>Zip Code</th>\n",
       "      <th>Store Location</th>\n",
       "      <th>County Number</th>\n",
       "      <th>County</th>\n",
       "      <th>Category</th>\n",
       "      <th>Category Name</th>\n",
       "      <th>Vendor Number</th>\n",
       "      <th>Vendor Name</th>\n",
       "      <th>Item Number</th>\n",
       "      <th>Item Description</th>\n",
       "      <th>Pack</th>\n",
       "      <th>Bottle Volume (ml)</th>\n",
       "      <th>State Bottle Cost</th>\n",
       "      <th>State Bottle Retail</th>\n",
       "      <th>Bottles Sold</th>\n",
       "      <th>Sale (Dollars)</th>\n",
       "      <th>Volume Sold (Liters)</th>\n",
       "      <th>Volume Sold (Gallons)</th>\n",
       "    </tr>\n",
       "  </thead>\n",
       "  <tbody>\n",
       "    <tr>\n",
       "      <th>0</th>\n",
       "      <td>S03408100057</td>\n",
       "      <td>01/03/2012</td>\n",
       "      <td>3162</td>\n",
       "      <td>NASH FINCH / WHOLESALE FOOD</td>\n",
       "      <td>807 GRANDVIEW</td>\n",
       "      <td>MUSCATINE</td>\n",
       "      <td>52761</td>\n",
       "      <td>POINT (-91.06411300000002 41.408437)</td>\n",
       "      <td>70.0</td>\n",
       "      <td>MUSCATINE</td>\n",
       "      <td>1062200.0</td>\n",
       "      <td>PUERTO RICO &amp; VIRGIN ISLANDS RUM</td>\n",
       "      <td>35.0</td>\n",
       "      <td>BACARDI U.S.A., INC.</td>\n",
       "      <td>43127</td>\n",
       "      <td>BACARDI SUPERIOR RUM</td>\n",
       "      <td>12</td>\n",
       "      <td>1000</td>\n",
       "      <td>9.43</td>\n",
       "      <td>14.14</td>\n",
       "      <td>4</td>\n",
       "      <td>56.56</td>\n",
       "      <td>4.00</td>\n",
       "      <td>1.06</td>\n",
       "    </tr>\n",
       "    <tr>\n",
       "      <th>1</th>\n",
       "      <td>S03408800027</td>\n",
       "      <td>01/03/2012</td>\n",
       "      <td>2959</td>\n",
       "      <td>DAHL'S / MERLE HAY</td>\n",
       "      <td>4343 MERLE HAY ROAD</td>\n",
       "      <td>DES MOINES</td>\n",
       "      <td>50310</td>\n",
       "      <td>POINT (-93.697647 41.63740800000001)</td>\n",
       "      <td>77.0</td>\n",
       "      <td>POLK</td>\n",
       "      <td>1031080.0</td>\n",
       "      <td>VODKA 80 PROOF</td>\n",
       "      <td>260.0</td>\n",
       "      <td>DIAGEO AMERICAS</td>\n",
       "      <td>36188</td>\n",
       "      <td>GORDON'S VODKA 80 PRF - PET</td>\n",
       "      <td>6</td>\n",
       "      <td>1750</td>\n",
       "      <td>9.68</td>\n",
       "      <td>14.52</td>\n",
       "      <td>6</td>\n",
       "      <td>87.12</td>\n",
       "      <td>10.50</td>\n",
       "      <td>2.77</td>\n",
       "    </tr>\n",
       "    <tr>\n",
       "      <th>2</th>\n",
       "      <td>S03382600002</td>\n",
       "      <td>01/03/2012</td>\n",
       "      <td>4317</td>\n",
       "      <td>FAREWAY STORES #941 / GREENFIELD</td>\n",
       "      <td>212 SW KENT</td>\n",
       "      <td>GREENFIELD</td>\n",
       "      <td>50849</td>\n",
       "      <td>POINT (-94.462719 41.303167)</td>\n",
       "      <td>1.0</td>\n",
       "      <td>ADAIR</td>\n",
       "      <td>1012100.0</td>\n",
       "      <td>CANADIAN WHISKIES</td>\n",
       "      <td>260.0</td>\n",
       "      <td>DIAGEO AMERICAS</td>\n",
       "      <td>11296</td>\n",
       "      <td>CROWN ROYAL</td>\n",
       "      <td>12</td>\n",
       "      <td>750</td>\n",
       "      <td>14.25</td>\n",
       "      <td>21.37</td>\n",
       "      <td>12</td>\n",
       "      <td>256.44</td>\n",
       "      <td>9.00</td>\n",
       "      <td>2.38</td>\n",
       "    </tr>\n",
       "    <tr>\n",
       "      <th>3</th>\n",
       "      <td>S03411200041</td>\n",
       "      <td>01/03/2012</td>\n",
       "      <td>2587</td>\n",
       "      <td>HY-VEE FOOD STORE / JOHNSTON</td>\n",
       "      <td>5750 MERLE HAY ROAD</td>\n",
       "      <td>JOHNSTON</td>\n",
       "      <td>50131</td>\n",
       "      <td>POINT (-93.697731 41.665172)</td>\n",
       "      <td>77.0</td>\n",
       "      <td>POLK</td>\n",
       "      <td>1022100.0</td>\n",
       "      <td>TEQUILA</td>\n",
       "      <td>65.0</td>\n",
       "      <td>JIM BEAM BRANDS</td>\n",
       "      <td>89786</td>\n",
       "      <td>SAUZA GOLD</td>\n",
       "      <td>12</td>\n",
       "      <td>750</td>\n",
       "      <td>8.40</td>\n",
       "      <td>12.59</td>\n",
       "      <td>1</td>\n",
       "      <td>12.59</td>\n",
       "      <td>0.75</td>\n",
       "      <td>0.20</td>\n",
       "    </tr>\n",
       "    <tr>\n",
       "      <th>4</th>\n",
       "      <td>S03410100024</td>\n",
       "      <td>01/03/2012</td>\n",
       "      <td>3962</td>\n",
       "      <td>DURANT STREET COUNTRY STOP</td>\n",
       "      <td>618 DURANT ST</td>\n",
       "      <td>HARLAN</td>\n",
       "      <td>51537</td>\n",
       "      <td>POINT (-95.318597 41.656803)</td>\n",
       "      <td>83.0</td>\n",
       "      <td>SHELBY</td>\n",
       "      <td>1081390.0</td>\n",
       "      <td>IMPORTED SCHNAPPS</td>\n",
       "      <td>260.0</td>\n",
       "      <td>DIAGEO AMERICAS</td>\n",
       "      <td>65061</td>\n",
       "      <td>GOLDSCHLAGER CINNAMON SCHNAPPS MINI</td>\n",
       "      <td>10</td>\n",
       "      <td>600</td>\n",
       "      <td>13.73</td>\n",
       "      <td>20.60</td>\n",
       "      <td>1</td>\n",
       "      <td>20.60</td>\n",
       "      <td>0.60</td>\n",
       "      <td>0.16</td>\n",
       "    </tr>\n",
       "    <tr>\n",
       "      <th>5</th>\n",
       "      <td>S03398600036</td>\n",
       "      <td>01/03/2012</td>\n",
       "      <td>2584</td>\n",
       "      <td>HY-VEE FOOD STORE / FORT MADISON</td>\n",
       "      <td>2606 AVENUE L</td>\n",
       "      <td>FORT MADISON</td>\n",
       "      <td>52627</td>\n",
       "      <td>POINT (-91.343544 40.626988)</td>\n",
       "      <td>56.0</td>\n",
       "      <td>LEE</td>\n",
       "      <td>1081340.0</td>\n",
       "      <td>ROOT BEER SCHNAPPS</td>\n",
       "      <td>65.0</td>\n",
       "      <td>JIM BEAM BRANDS</td>\n",
       "      <td>82826</td>\n",
       "      <td>DEKUYPER RAGIN' ROOT BEER SCHNAPPS</td>\n",
       "      <td>12</td>\n",
       "      <td>750</td>\n",
       "      <td>6.30</td>\n",
       "      <td>9.45</td>\n",
       "      <td>2</td>\n",
       "      <td>18.90</td>\n",
       "      <td>1.50</td>\n",
       "      <td>0.40</td>\n",
       "    </tr>\n",
       "    <tr>\n",
       "      <th>6</th>\n",
       "      <td>S03398800002</td>\n",
       "      <td>01/03/2012</td>\n",
       "      <td>2636</td>\n",
       "      <td>HY-VEE WINE AND SPIRITS / HUBBELL</td>\n",
       "      <td>2310 HUBBELL AVE</td>\n",
       "      <td>DES MOINES</td>\n",
       "      <td>50317</td>\n",
       "      <td>POINT (-93.573845 41.604312)</td>\n",
       "      <td>77.0</td>\n",
       "      <td>POLK</td>\n",
       "      <td>1031080.0</td>\n",
       "      <td>VODKA 80 PROOF</td>\n",
       "      <td>421.0</td>\n",
       "      <td>SAZERAC CO., INC.</td>\n",
       "      <td>36974</td>\n",
       "      <td>NIKOLAI VODKA</td>\n",
       "      <td>24</td>\n",
       "      <td>375</td>\n",
       "      <td>1.71</td>\n",
       "      <td>2.56</td>\n",
       "      <td>24</td>\n",
       "      <td>61.44</td>\n",
       "      <td>9.00</td>\n",
       "      <td>2.38</td>\n",
       "    </tr>\n",
       "    <tr>\n",
       "      <th>7</th>\n",
       "      <td>S03397600052</td>\n",
       "      <td>01/03/2012</td>\n",
       "      <td>2629</td>\n",
       "      <td>HY-VEE FOOD STORE #2 / COUNCIL BLUFF</td>\n",
       "      <td>1745 MADISON AVE</td>\n",
       "      <td>COUNCIL BLUFFS</td>\n",
       "      <td>51503</td>\n",
       "      <td>POINT (-95.825137 41.242732)</td>\n",
       "      <td>78.0</td>\n",
       "      <td>POTTAWATTAMIE</td>\n",
       "      <td>1031080.0</td>\n",
       "      <td>VODKA 80 PROOF</td>\n",
       "      <td>260.0</td>\n",
       "      <td>DIAGEO AMERICAS</td>\n",
       "      <td>37418</td>\n",
       "      <td>POPOV VODKA 80 PRF</td>\n",
       "      <td>6</td>\n",
       "      <td>1750</td>\n",
       "      <td>8.49</td>\n",
       "      <td>12.74</td>\n",
       "      <td>6</td>\n",
       "      <td>76.44</td>\n",
       "      <td>10.50</td>\n",
       "      <td>2.77</td>\n",
       "    </tr>\n",
       "    <tr>\n",
       "      <th>8</th>\n",
       "      <td>S03402500022</td>\n",
       "      <td>01/03/2012</td>\n",
       "      <td>4184</td>\n",
       "      <td>FAREWAY STORES #998 / MUSCATINE</td>\n",
       "      <td>2100 CEDAR PLAZA DR</td>\n",
       "      <td>MUSCATINE</td>\n",
       "      <td>52761</td>\n",
       "      <td>POINT (-91.08192400000001 41.435264)</td>\n",
       "      <td>70.0</td>\n",
       "      <td>MUSCATINE</td>\n",
       "      <td>1011200.0</td>\n",
       "      <td>STRAIGHT BOURBON WHISKIES</td>\n",
       "      <td>421.0</td>\n",
       "      <td>SAZERAC CO., INC.</td>\n",
       "      <td>18006</td>\n",
       "      <td>BUFFALO TRACE BOURBON</td>\n",
       "      <td>12</td>\n",
       "      <td>750</td>\n",
       "      <td>11.50</td>\n",
       "      <td>17.24</td>\n",
       "      <td>2</td>\n",
       "      <td>34.48</td>\n",
       "      <td>1.50</td>\n",
       "      <td>0.40</td>\n",
       "    </tr>\n",
       "    <tr>\n",
       "      <th>9</th>\n",
       "      <td>S03383900046</td>\n",
       "      <td>01/03/2012</td>\n",
       "      <td>2555</td>\n",
       "      <td>HY-VEE FOOD STORE / KEOKUK</td>\n",
       "      <td>3111 MAIN</td>\n",
       "      <td>KEOKUK</td>\n",
       "      <td>52632</td>\n",
       "      <td>POINT (-91.403752 40.41538)</td>\n",
       "      <td>56.0</td>\n",
       "      <td>LEE</td>\n",
       "      <td>1011200.0</td>\n",
       "      <td>STRAIGHT BOURBON WHISKIES</td>\n",
       "      <td>55.0</td>\n",
       "      <td>SAZERAC NORTH AMERICA</td>\n",
       "      <td>21597</td>\n",
       "      <td>TEN HIGH</td>\n",
       "      <td>12</td>\n",
       "      <td>1000</td>\n",
       "      <td>4.93</td>\n",
       "      <td>7.40</td>\n",
       "      <td>12</td>\n",
       "      <td>88.80</td>\n",
       "      <td>12.00</td>\n",
       "      <td>3.17</td>\n",
       "    </tr>\n",
       "  </tbody>\n",
       "</table>\n",
       "</div>"
      ],
      "text/plain": [
       "  Invoice/Item Number        Date  Store Number  \\\n",
       "0        S03408100057  01/03/2012          3162   \n",
       "1        S03408800027  01/03/2012          2959   \n",
       "2        S03382600002  01/03/2012          4317   \n",
       "3        S03411200041  01/03/2012          2587   \n",
       "4        S03410100024  01/03/2012          3962   \n",
       "5        S03398600036  01/03/2012          2584   \n",
       "6        S03398800002  01/03/2012          2636   \n",
       "7        S03397600052  01/03/2012          2629   \n",
       "8        S03402500022  01/03/2012          4184   \n",
       "9        S03383900046  01/03/2012          2555   \n",
       "\n",
       "                             Store Name              Address            City  \\\n",
       "0           NASH FINCH / WHOLESALE FOOD        807 GRANDVIEW       MUSCATINE   \n",
       "1                    DAHL'S / MERLE HAY  4343 MERLE HAY ROAD      DES MOINES   \n",
       "2      FAREWAY STORES #941 / GREENFIELD          212 SW KENT      GREENFIELD   \n",
       "3          HY-VEE FOOD STORE / JOHNSTON  5750 MERLE HAY ROAD        JOHNSTON   \n",
       "4            DURANT STREET COUNTRY STOP        618 DURANT ST          HARLAN   \n",
       "5      HY-VEE FOOD STORE / FORT MADISON        2606 AVENUE L    FORT MADISON   \n",
       "6     HY-VEE WINE AND SPIRITS / HUBBELL     2310 HUBBELL AVE      DES MOINES   \n",
       "7  HY-VEE FOOD STORE #2 / COUNCIL BLUFF     1745 MADISON AVE  COUNCIL BLUFFS   \n",
       "8       FAREWAY STORES #998 / MUSCATINE  2100 CEDAR PLAZA DR       MUSCATINE   \n",
       "9            HY-VEE FOOD STORE / KEOKUK            3111 MAIN          KEOKUK   \n",
       "\n",
       "  Zip Code                        Store Location  County Number  \\\n",
       "0    52761  POINT (-91.06411300000002 41.408437)           70.0   \n",
       "1    50310  POINT (-93.697647 41.63740800000001)           77.0   \n",
       "2    50849          POINT (-94.462719 41.303167)            1.0   \n",
       "3    50131          POINT (-93.697731 41.665172)           77.0   \n",
       "4    51537          POINT (-95.318597 41.656803)           83.0   \n",
       "5    52627          POINT (-91.343544 40.626988)           56.0   \n",
       "6    50317          POINT (-93.573845 41.604312)           77.0   \n",
       "7    51503          POINT (-95.825137 41.242732)           78.0   \n",
       "8    52761  POINT (-91.08192400000001 41.435264)           70.0   \n",
       "9    52632           POINT (-91.403752 40.41538)           56.0   \n",
       "\n",
       "          County   Category                     Category Name  Vendor Number  \\\n",
       "0      MUSCATINE  1062200.0  PUERTO RICO & VIRGIN ISLANDS RUM           35.0   \n",
       "1           POLK  1031080.0                    VODKA 80 PROOF          260.0   \n",
       "2          ADAIR  1012100.0                 CANADIAN WHISKIES          260.0   \n",
       "3           POLK  1022100.0                           TEQUILA           65.0   \n",
       "4         SHELBY  1081390.0                 IMPORTED SCHNAPPS          260.0   \n",
       "5            LEE  1081340.0                ROOT BEER SCHNAPPS           65.0   \n",
       "6           POLK  1031080.0                    VODKA 80 PROOF          421.0   \n",
       "7  POTTAWATTAMIE  1031080.0                    VODKA 80 PROOF          260.0   \n",
       "8      MUSCATINE  1011200.0         STRAIGHT BOURBON WHISKIES          421.0   \n",
       "9            LEE  1011200.0         STRAIGHT BOURBON WHISKIES           55.0   \n",
       "\n",
       "             Vendor Name Item Number                     Item Description  \\\n",
       "0   BACARDI U.S.A., INC.       43127                 BACARDI SUPERIOR RUM   \n",
       "1        DIAGEO AMERICAS       36188          GORDON'S VODKA 80 PRF - PET   \n",
       "2        DIAGEO AMERICAS       11296                          CROWN ROYAL   \n",
       "3        JIM BEAM BRANDS       89786                           SAUZA GOLD   \n",
       "4        DIAGEO AMERICAS       65061  GOLDSCHLAGER CINNAMON SCHNAPPS MINI   \n",
       "5        JIM BEAM BRANDS       82826   DEKUYPER RAGIN' ROOT BEER SCHNAPPS   \n",
       "6      SAZERAC CO., INC.       36974                        NIKOLAI VODKA   \n",
       "7        DIAGEO AMERICAS       37418                   POPOV VODKA 80 PRF   \n",
       "8      SAZERAC CO., INC.       18006                BUFFALO TRACE BOURBON   \n",
       "9  SAZERAC NORTH AMERICA       21597                             TEN HIGH   \n",
       "\n",
       "   Pack  Bottle Volume (ml)  State Bottle Cost  State Bottle Retail  \\\n",
       "0    12                1000               9.43                14.14   \n",
       "1     6                1750               9.68                14.52   \n",
       "2    12                 750              14.25                21.37   \n",
       "3    12                 750               8.40                12.59   \n",
       "4    10                 600              13.73                20.60   \n",
       "5    12                 750               6.30                 9.45   \n",
       "6    24                 375               1.71                 2.56   \n",
       "7     6                1750               8.49                12.74   \n",
       "8    12                 750              11.50                17.24   \n",
       "9    12                1000               4.93                 7.40   \n",
       "\n",
       "   Bottles Sold  Sale (Dollars)  Volume Sold (Liters)  Volume Sold (Gallons)  \n",
       "0             4           56.56                  4.00                   1.06  \n",
       "1             6           87.12                 10.50                   2.77  \n",
       "2            12          256.44                  9.00                   2.38  \n",
       "3             1           12.59                  0.75                   0.20  \n",
       "4             1           20.60                  0.60                   0.16  \n",
       "5             2           18.90                  1.50                   0.40  \n",
       "6            24           61.44                  9.00                   2.38  \n",
       "7             6           76.44                 10.50                   2.77  \n",
       "8             2           34.48                  1.50                   0.40  \n",
       "9            12           88.80                 12.00                   3.17  "
      ]
     },
     "execution_count": 4,
     "metadata": {},
     "output_type": "execute_result"
    }
   ],
   "source": [
    "#display first \"n\" lines of data\n",
    "data.head(10)"
   ]
  },
  {
   "cell_type": "code",
   "execution_count": 5,
   "metadata": {},
   "outputs": [
    {
     "data": {
      "text/plain": [
       "(29881462, 24)"
      ]
     },
     "execution_count": 5,
     "metadata": {},
     "output_type": "execute_result"
    }
   ],
   "source": [
    "#extracting the number of rows & columns in our dataset\n",
    "data.shape"
   ]
  },
  {
   "cell_type": "code",
   "execution_count": 6,
   "metadata": {},
   "outputs": [
    {
     "name": "stdout",
     "output_type": "stream",
     "text": [
      "<class 'pandas.core.frame.DataFrame'>\n",
      "RangeIndex: 29881462 entries, 0 to 29881461\n",
      "Data columns (total 24 columns):\n",
      " #   Column                 Dtype  \n",
      "---  ------                 -----  \n",
      " 0   Invoice/Item Number    object \n",
      " 1   Date                   object \n",
      " 2   Store Number           int64  \n",
      " 3   Store Name             object \n",
      " 4   Address                object \n",
      " 5   City                   object \n",
      " 6   Zip Code               object \n",
      " 7   Store Location         object \n",
      " 8   County Number          float64\n",
      " 9   County                 object \n",
      " 10  Category               float64\n",
      " 11  Category Name          object \n",
      " 12  Vendor Number          float64\n",
      " 13  Vendor Name            object \n",
      " 14  Item Number            object \n",
      " 15  Item Description       object \n",
      " 16  Pack                   int64  \n",
      " 17  Bottle Volume (ml)     int64  \n",
      " 18  State Bottle Cost      float64\n",
      " 19  State Bottle Retail    float64\n",
      " 20  Bottles Sold           int64  \n",
      " 21  Sale (Dollars)         float64\n",
      " 22  Volume Sold (Liters)   float64\n",
      " 23  Volume Sold (Gallons)  float64\n",
      "dtypes: float64(8), int64(4), object(12)\n",
      "memory usage: 5.3+ GB\n"
     ]
    }
   ],
   "source": [
    "#checking the information of our variables\n",
    "data.info()"
   ]
  },
  {
   "cell_type": "code",
   "execution_count": 7,
   "metadata": {},
   "outputs": [
    {
     "data": {
      "text/html": [
       "<div>\n",
       "<style scoped>\n",
       "    .dataframe tbody tr th:only-of-type {\n",
       "        vertical-align: middle;\n",
       "    }\n",
       "\n",
       "    .dataframe tbody tr th {\n",
       "        vertical-align: top;\n",
       "    }\n",
       "\n",
       "    .dataframe thead th {\n",
       "        text-align: right;\n",
       "    }\n",
       "</style>\n",
       "<table border=\"1\" class=\"dataframe\">\n",
       "  <thead>\n",
       "    <tr style=\"text-align: right;\">\n",
       "      <th></th>\n",
       "      <th>Store Number</th>\n",
       "      <th>County Number</th>\n",
       "      <th>Category</th>\n",
       "      <th>Vendor Number</th>\n",
       "      <th>Pack</th>\n",
       "      <th>Bottle Volume (ml)</th>\n",
       "      <th>State Bottle Cost</th>\n",
       "      <th>State Bottle Retail</th>\n",
       "      <th>Bottles Sold</th>\n",
       "      <th>Sale (Dollars)</th>\n",
       "      <th>Volume Sold (Liters)</th>\n",
       "      <th>Volume Sold (Gallons)</th>\n",
       "    </tr>\n",
       "  </thead>\n",
       "  <tbody>\n",
       "    <tr>\n",
       "      <th>count</th>\n",
       "      <td>2.988146e+07</td>\n",
       "      <td>2.413284e+07</td>\n",
       "      <td>2.986449e+07</td>\n",
       "      <td>2.988145e+07</td>\n",
       "      <td>2.988146e+07</td>\n",
       "      <td>2.988146e+07</td>\n",
       "      <td>2.988145e+07</td>\n",
       "      <td>2.988145e+07</td>\n",
       "      <td>2.988146e+07</td>\n",
       "      <td>2.988145e+07</td>\n",
       "      <td>2.988146e+07</td>\n",
       "      <td>2.988146e+07</td>\n",
       "    </tr>\n",
       "    <tr>\n",
       "      <th>mean</th>\n",
       "      <td>3.935989e+03</td>\n",
       "      <td>5.725913e+01</td>\n",
       "      <td>1.050391e+06</td>\n",
       "      <td>2.744148e+02</td>\n",
       "      <td>1.212339e+01</td>\n",
       "      <td>8.752978e+02</td>\n",
       "      <td>1.076350e+01</td>\n",
       "      <td>1.615515e+01</td>\n",
       "      <td>1.085411e+01</td>\n",
       "      <td>1.457132e+02</td>\n",
       "      <td>9.143934e+00</td>\n",
       "      <td>2.412744e+00</td>\n",
       "    </tr>\n",
       "    <tr>\n",
       "      <th>std</th>\n",
       "      <td>1.338225e+03</td>\n",
       "      <td>2.728710e+01</td>\n",
       "      <td>8.363795e+04</td>\n",
       "      <td>1.457791e+02</td>\n",
       "      <td>7.787556e+00</td>\n",
       "      <td>6.230850e+02</td>\n",
       "      <td>1.332898e+01</td>\n",
       "      <td>1.999222e+01</td>\n",
       "      <td>3.058111e+01</td>\n",
       "      <td>5.140851e+02</td>\n",
       "      <td>3.631079e+01</td>\n",
       "      <td>9.592405e+00</td>\n",
       "    </tr>\n",
       "    <tr>\n",
       "      <th>min</th>\n",
       "      <td>2.106000e+03</td>\n",
       "      <td>1.000000e+00</td>\n",
       "      <td>1.012200e+05</td>\n",
       "      <td>1.000000e+01</td>\n",
       "      <td>1.000000e+00</td>\n",
       "      <td>0.000000e+00</td>\n",
       "      <td>0.000000e+00</td>\n",
       "      <td>0.000000e+00</td>\n",
       "      <td>-7.680000e+02</td>\n",
       "      <td>-9.720000e+03</td>\n",
       "      <td>-1.344000e+03</td>\n",
       "      <td>-3.550400e+02</td>\n",
       "    </tr>\n",
       "    <tr>\n",
       "      <th>25%</th>\n",
       "      <td>2.623000e+03</td>\n",
       "      <td>3.100000e+01</td>\n",
       "      <td>1.012200e+06</td>\n",
       "      <td>1.630000e+02</td>\n",
       "      <td>6.000000e+00</td>\n",
       "      <td>7.500000e+02</td>\n",
       "      <td>5.740000e+00</td>\n",
       "      <td>8.610000e+00</td>\n",
       "      <td>3.000000e+00</td>\n",
       "      <td>3.585000e+01</td>\n",
       "      <td>1.500000e+00</td>\n",
       "      <td>4.000000e-01</td>\n",
       "    </tr>\n",
       "    <tr>\n",
       "      <th>50%</th>\n",
       "      <td>3.907000e+03</td>\n",
       "      <td>6.200000e+01</td>\n",
       "      <td>1.031200e+06</td>\n",
       "      <td>2.600000e+02</td>\n",
       "      <td>1.200000e+01</td>\n",
       "      <td>7.500000e+02</td>\n",
       "      <td>8.500000e+00</td>\n",
       "      <td>1.275000e+01</td>\n",
       "      <td>6.000000e+00</td>\n",
       "      <td>7.740000e+01</td>\n",
       "      <td>4.800000e+00</td>\n",
       "      <td>1.260000e+00</td>\n",
       "    </tr>\n",
       "    <tr>\n",
       "      <th>75%</th>\n",
       "      <td>4.829000e+03</td>\n",
       "      <td>7.700000e+01</td>\n",
       "      <td>1.062400e+06</td>\n",
       "      <td>3.950000e+02</td>\n",
       "      <td>1.200000e+01</td>\n",
       "      <td>1.000000e+03</td>\n",
       "      <td>1.300000e+01</td>\n",
       "      <td>1.950000e+01</td>\n",
       "      <td>1.200000e+01</td>\n",
       "      <td>1.493000e+02</td>\n",
       "      <td>1.050000e+01</td>\n",
       "      <td>2.770000e+00</td>\n",
       "    </tr>\n",
       "    <tr>\n",
       "      <th>max</th>\n",
       "      <td>1.046400e+04</td>\n",
       "      <td>9.900000e+01</td>\n",
       "      <td>1.901200e+06</td>\n",
       "      <td>9.870000e+02</td>\n",
       "      <td>3.360000e+02</td>\n",
       "      <td>3.780000e+05</td>\n",
       "      <td>2.498902e+04</td>\n",
       "      <td>3.748353e+04</td>\n",
       "      <td>1.500000e+04</td>\n",
       "      <td>2.795573e+05</td>\n",
       "      <td>1.500000e+04</td>\n",
       "      <td>3.962580e+03</td>\n",
       "    </tr>\n",
       "  </tbody>\n",
       "</table>\n",
       "</div>"
      ],
      "text/plain": [
       "       Store Number  County Number      Category  Vendor Number          Pack  \\\n",
       "count  2.988146e+07   2.413284e+07  2.986449e+07   2.988145e+07  2.988146e+07   \n",
       "mean   3.935989e+03   5.725913e+01  1.050391e+06   2.744148e+02  1.212339e+01   \n",
       "std    1.338225e+03   2.728710e+01  8.363795e+04   1.457791e+02  7.787556e+00   \n",
       "min    2.106000e+03   1.000000e+00  1.012200e+05   1.000000e+01  1.000000e+00   \n",
       "25%    2.623000e+03   3.100000e+01  1.012200e+06   1.630000e+02  6.000000e+00   \n",
       "50%    3.907000e+03   6.200000e+01  1.031200e+06   2.600000e+02  1.200000e+01   \n",
       "75%    4.829000e+03   7.700000e+01  1.062400e+06   3.950000e+02  1.200000e+01   \n",
       "max    1.046400e+04   9.900000e+01  1.901200e+06   9.870000e+02  3.360000e+02   \n",
       "\n",
       "       Bottle Volume (ml)  State Bottle Cost  State Bottle Retail  \\\n",
       "count        2.988146e+07       2.988145e+07         2.988145e+07   \n",
       "mean         8.752978e+02       1.076350e+01         1.615515e+01   \n",
       "std          6.230850e+02       1.332898e+01         1.999222e+01   \n",
       "min          0.000000e+00       0.000000e+00         0.000000e+00   \n",
       "25%          7.500000e+02       5.740000e+00         8.610000e+00   \n",
       "50%          7.500000e+02       8.500000e+00         1.275000e+01   \n",
       "75%          1.000000e+03       1.300000e+01         1.950000e+01   \n",
       "max          3.780000e+05       2.498902e+04         3.748353e+04   \n",
       "\n",
       "       Bottles Sold  Sale (Dollars)  Volume Sold (Liters)  \\\n",
       "count  2.988146e+07    2.988145e+07          2.988146e+07   \n",
       "mean   1.085411e+01    1.457132e+02          9.143934e+00   \n",
       "std    3.058111e+01    5.140851e+02          3.631079e+01   \n",
       "min   -7.680000e+02   -9.720000e+03         -1.344000e+03   \n",
       "25%    3.000000e+00    3.585000e+01          1.500000e+00   \n",
       "50%    6.000000e+00    7.740000e+01          4.800000e+00   \n",
       "75%    1.200000e+01    1.493000e+02          1.050000e+01   \n",
       "max    1.500000e+04    2.795573e+05          1.500000e+04   \n",
       "\n",
       "       Volume Sold (Gallons)  \n",
       "count           2.988146e+07  \n",
       "mean            2.412744e+00  \n",
       "std             9.592405e+00  \n",
       "min            -3.550400e+02  \n",
       "25%             4.000000e-01  \n",
       "50%             1.260000e+00  \n",
       "75%             2.770000e+00  \n",
       "max             3.962580e+03  "
      ]
     },
     "execution_count": 7,
     "metadata": {},
     "output_type": "execute_result"
    }
   ],
   "source": [
    "#describing numerical data\n",
    "data.describe()"
   ]
  },
  {
   "cell_type": "markdown",
   "metadata": {},
   "source": [
    "### Renaming Columns for ease of use"
   ]
  },
  {
   "cell_type": "code",
   "execution_count": 8,
   "metadata": {},
   "outputs": [
    {
     "data": {
      "text/plain": [
       "Index(['invoice_item_number', 'date', 'store_number', 'store_name', 'address',\n",
       "       'city', 'zip_code', 'store_location', 'county_number', 'county',\n",
       "       'category', 'category_name', 'vendor_number', 'vendor_name',\n",
       "       'item_number', 'item_description', 'pack', 'bottle_volume_(ml)',\n",
       "       'state_bottle_cost', 'state_bottle_retail', 'bottles_sold',\n",
       "       'sale_(dollars)', 'volume_sold_(liters)', 'volume_sold_(gallons)'],\n",
       "      dtype='object')"
      ]
     },
     "execution_count": 8,
     "metadata": {},
     "output_type": "execute_result"
    }
   ],
   "source": [
    "#rename columns: Remove \"/\", replace spaces with \"_\", and convert to lowercase\n",
    "\n",
    "def rename_columns(df):\n",
    "    df.columns = df.columns.str.replace(\"/\", \"_\", regex=True)  # Remove \"/\"\n",
    "    df.columns = df.columns.str.replace(\" \", \"_\")  # Replace spaces with \"_\"\n",
    "    df.columns = df.columns.str.lower()  # Convert to lowercase\n",
    "    return df\n",
    "\n",
    "data = rename_columns(data)\n",
    "\n",
    "data.columns"
   ]
  },
  {
   "cell_type": "markdown",
   "metadata": {},
   "source": [
    "### Data Types"
   ]
  },
  {
   "cell_type": "code",
   "execution_count": 9,
   "metadata": {},
   "outputs": [
    {
     "data": {
      "text/plain": [
       "invoice_item_number       object\n",
       "date                      object\n",
       "store_number               int64\n",
       "store_name                object\n",
       "address                   object\n",
       "city                      object\n",
       "zip_code                  object\n",
       "store_location            object\n",
       "county_number            float64\n",
       "county                    object\n",
       "category                 float64\n",
       "category_name             object\n",
       "vendor_number            float64\n",
       "vendor_name               object\n",
       "item_number               object\n",
       "item_description          object\n",
       "pack                       int64\n",
       "bottle_volume_(ml)         int64\n",
       "state_bottle_cost        float64\n",
       "state_bottle_retail      float64\n",
       "bottles_sold               int64\n",
       "sale_(dollars)           float64\n",
       "volume_sold_(liters)     float64\n",
       "volume_sold_(gallons)    float64\n",
       "dtype: object"
      ]
     },
     "execution_count": 9,
     "metadata": {},
     "output_type": "execute_result"
    }
   ],
   "source": [
    "#checking the type of each variable\n",
    "data.dtypes"
   ]
  },
  {
   "cell_type": "code",
   "execution_count": 10,
   "metadata": {},
   "outputs": [],
   "source": [
    "#function to check if a column contains only numeric values\n",
    "def check_numeric_column(df, column_name):\n",
    "    # Check if all values in the column are numeric\n",
    "    non_numeric_values = df[~df[column_name].astype(str).str.isnumeric()]\n",
    "    \n",
    "    if non_numeric_values.empty:\n",
    "        print(f\"Column '{column_name}' contains only numbers.\")\n",
    "    else:\n",
    "        print(f\"Column '{column_name}' contains non-numeric values. Here are some examples:\")\n",
    "        print(non_numeric_values[[column_name]].head(10))  # Display first 10 problematic rows\n"
   ]
  },
  {
   "cell_type": "code",
   "execution_count": 11,
   "metadata": {},
   "outputs": [
    {
     "name": "stdout",
     "output_type": "stream",
     "text": [
      "Column 'item_number' contains non-numeric values. Here are some examples:\n",
      "         item_number\n",
      "10157860     x904631\n",
      "11242251     x904631\n",
      "11267839     x904631\n"
     ]
    }
   ],
   "source": [
    "# Check for numeric values in \"item_number\"\n",
    "check_numeric_column(data, \"item_number\")"
   ]
  },
  {
   "cell_type": "markdown",
   "metadata": {},
   "source": [
    "Given that the column item_number contains a few rows with \"x\" before the numbers, we removed the \"x\" and re casted the column into numeric type, as it should be."
   ]
  },
  {
   "cell_type": "code",
   "execution_count": 12,
   "metadata": {},
   "outputs": [],
   "source": [
    "# Replace 'x' in the \"item_number\" column for specific rows\n",
    "data.loc[data[\"item_number\"].str.contains(\"x\", na=False), \"item_number\"] = data[\"item_number\"].str.replace(\"x\", \"\", regex=True)\n",
    "\n",
    "# Convert to numeric after replacement\n",
    "data[\"item_number\"] = pd.to_numeric(data[\"item_number\"], errors='coerce')"
   ]
  },
  {
   "cell_type": "markdown",
   "metadata": {},
   "source": [
    "## Null Values "
   ]
  },
  {
   "cell_type": "code",
   "execution_count": 13,
   "metadata": {},
   "outputs": [
    {
     "data": {
      "text/plain": [
       "invoice_item_number            0\n",
       "date                           0\n",
       "store_number                   0\n",
       "store_name                     0\n",
       "address                    83107\n",
       "city                       83106\n",
       "zip_code                   83173\n",
       "store_location           2498011\n",
       "county_number            5748619\n",
       "county                    159909\n",
       "category                   16974\n",
       "category_name              25040\n",
       "vendor_number                  9\n",
       "vendor_name                    7\n",
       "item_number                    0\n",
       "item_description               0\n",
       "pack                           0\n",
       "bottle_volume_(ml)             0\n",
       "state_bottle_cost             10\n",
       "state_bottle_retail           10\n",
       "bottles_sold                   0\n",
       "sale_(dollars)                10\n",
       "volume_sold_(liters)           0\n",
       "volume_sold_(gallons)          0\n",
       "dtype: int64"
      ]
     },
     "execution_count": 13,
     "metadata": {},
     "output_type": "execute_result"
    }
   ],
   "source": [
    "#check how many missing values are in our dataset\n",
    "data.isnull().sum()"
   ]
  },
  {
   "cell_type": "code",
   "execution_count": 14,
   "metadata": {},
   "outputs": [
    {
     "name": "stdout",
     "output_type": "stream",
     "text": [
      "invoice_item_number       0.000000\n",
      "date                      0.000000\n",
      "store_number              0.000000\n",
      "store_name                0.000000\n",
      "address                   0.278122\n",
      "city                      0.278119\n",
      "zip_code                  0.278343\n",
      "store_location            8.359735\n",
      "county_number            19.238078\n",
      "county                    0.535144\n",
      "category                  0.056804\n",
      "category_name             0.083798\n",
      "vendor_number             0.000030\n",
      "vendor_name               0.000023\n",
      "item_number               0.000000\n",
      "item_description          0.000000\n",
      "pack                      0.000000\n",
      "bottle_volume_(ml)        0.000000\n",
      "state_bottle_cost         0.000033\n",
      "state_bottle_retail       0.000033\n",
      "bottles_sold              0.000000\n",
      "sale_(dollars)            0.000033\n",
      "volume_sold_(liters)      0.000000\n",
      "volume_sold_(gallons)     0.000000\n",
      "dtype: float64\n"
     ]
    }
   ],
   "source": [
    "# Check the percentage of missing values per column\n",
    "missing_percentage = (data.isnull().sum() / len(data)) * 100\n",
    "print(missing_percentage)"
   ]
  },
  {
   "cell_type": "markdown",
   "metadata": {},
   "source": [
    "Although there seems to be a lot of missing values, it usually is less there 1% of the data missing. \n",
    "* Regarding the county number, it doesn't make sense that the county can be known and not the county number. **We can either replace with the matching county number, or delete the column altogether as this brings us very little information.** \n",
    "* For the missing stores, There is no possibility of replacing the data, as they are point location, but they could be imputed if the location is known for the same stores in other rows. \n",
    "* Regarding the category, for the numerical one, we cannot use an imputer as, even though it is a numerical value, it shows a category. \n",
    "* For the columns with few missing data such as *sale_bottle_cost, vendor_name*... we can simply remove the lines as the impact will be little and this way will allow us to only have correct data in those categories. "
   ]
  },
  {
   "cell_type": "markdown",
   "metadata": {},
   "source": [
    "### Imputing Missing Values "
   ]
  },
  {
   "cell_type": "markdown",
   "metadata": {},
   "source": [
    "#### County Number \n",
    "Here, we are using the county number that we know for each county based on the data and imputing it. However this is a basic label encoding and might not bring a lot of insights into our analysis. For the other missing county values we can either remove them or mark them as 'Unknown', and assign the matching county_number '100', which is the samllest number not used in the county_number column. "
   ]
  },
  {
   "cell_type": "code",
   "execution_count": 15,
   "metadata": {},
   "outputs": [
    {
     "data": {
      "text/plain": [
       "county\n",
       "WINNEBAGO     95.0\n",
       "WINNESHIEK    96.0\n",
       "WOODBURY      97.0\n",
       "WORTH         98.0\n",
       "WRIGHT        99.0\n",
       "Name: county_number, dtype: float64"
      ]
     },
     "execution_count": 15,
     "metadata": {},
     "output_type": "execute_result"
    }
   ],
   "source": [
    "# Create a mapping of county to county_number (using the most frequent county_number for each county)\n",
    "county_to_number = data.groupby('county')['county_number'].agg(lambda x: x.mode()[0] if not x.mode().empty else None)\n",
    "county_to_number.tail()"
   ]
  },
  {
   "cell_type": "code",
   "execution_count": 16,
   "metadata": {},
   "outputs": [],
   "source": [
    "# Fill missing values in county_number based on the county mapping\n",
    "data['county_number'] = data['county_number'].fillna(data['county'].map(county_to_number))"
   ]
  },
  {
   "cell_type": "code",
   "execution_count": 17,
   "metadata": {},
   "outputs": [
    {
     "name": "stdout",
     "output_type": "stream",
     "text": [
      "invoice_item_number      0.000000\n",
      "date                     0.000000\n",
      "store_number             0.000000\n",
      "store_name               0.000000\n",
      "address                  0.278122\n",
      "city                     0.278119\n",
      "zip_code                 0.278343\n",
      "store_location           8.359735\n",
      "county_number            0.535151\n",
      "county                   0.535144\n",
      "category                 0.056804\n",
      "category_name            0.083798\n",
      "vendor_number            0.000030\n",
      "vendor_name              0.000023\n",
      "item_number              0.000000\n",
      "item_description         0.000000\n",
      "pack                     0.000000\n",
      "bottle_volume_(ml)       0.000000\n",
      "state_bottle_cost        0.000033\n",
      "state_bottle_retail      0.000033\n",
      "bottles_sold             0.000000\n",
      "sale_(dollars)           0.000033\n",
      "volume_sold_(liters)     0.000000\n",
      "volume_sold_(gallons)    0.000000\n",
      "dtype: float64\n"
     ]
    }
   ],
   "source": [
    "# Check the percentage of missing values per column\n",
    "missing_percentage = (data.isnull().sum() / len(data)) * 100\n",
    "print(missing_percentage)"
   ]
  },
  {
   "cell_type": "markdown",
   "metadata": {},
   "source": [
    "The null values un the county_number column did decrease impressively but we still have 0.5% of the values to take care of. "
   ]
  },
  {
   "cell_type": "markdown",
   "metadata": {},
   "source": [
    "#### Store Location\n",
    "\n",
    "Here we will be applying the same process as above, with the goal that the location is already informed on some rows. "
   ]
  },
  {
   "cell_type": "code",
   "execution_count": 18,
   "metadata": {},
   "outputs": [
    {
     "data": {
      "text/plain": [
       "store_name\n",
       "\"DOUBLE \"\"D\"\" LIQUOR STORE\"                   POINT (-91.473634 43.262114)\n",
       "'DA BOOZE BARN / WEST BEND           POINT (-73.982421 40.305231000000006)\n",
       "10TH HOLE INN & SUITE / GIFT SHOP              POINT (-92.547769 43.36388)\n",
       "16TH AVE BP / CEDAR RAPIDS                    POINT (-91.667665 41.961645)\n",
       "173 CRAFT DISTILLERY                             POINT (-93.38241 43.1369)\n",
       "Name: store_location, dtype: object"
      ]
     },
     "execution_count": 18,
     "metadata": {},
     "output_type": "execute_result"
    }
   ],
   "source": [
    "# Create a mapping of county to county_number (using the most frequent county_number for each county)\n",
    "store_name_to_location = data.groupby('store_name')['store_location'].agg(lambda x: x.mode()[0] if not x.mode().empty else None)\n",
    "store_name_to_location.head()"
   ]
  },
  {
   "cell_type": "code",
   "execution_count": 19,
   "metadata": {},
   "outputs": [],
   "source": [
    "# Fill missing values in county_number based on the county mapping\n",
    "data['store_location'] = data['store_location'].fillna(data['store_name'].map(county_to_number))"
   ]
  },
  {
   "cell_type": "code",
   "execution_count": 20,
   "metadata": {},
   "outputs": [
    {
     "name": "stdout",
     "output_type": "stream",
     "text": [
      "invoice_item_number      0.000000\n",
      "date                     0.000000\n",
      "store_number             0.000000\n",
      "store_name               0.000000\n",
      "address                  0.278122\n",
      "city                     0.278119\n",
      "zip_code                 0.278343\n",
      "store_location           8.359735\n",
      "county_number            0.535151\n",
      "county                   0.535144\n",
      "category                 0.056804\n",
      "category_name            0.083798\n",
      "vendor_number            0.000030\n",
      "vendor_name              0.000023\n",
      "item_number              0.000000\n",
      "item_description         0.000000\n",
      "pack                     0.000000\n",
      "bottle_volume_(ml)       0.000000\n",
      "state_bottle_cost        0.000033\n",
      "state_bottle_retail      0.000033\n",
      "bottles_sold             0.000000\n",
      "sale_(dollars)           0.000033\n",
      "volume_sold_(liters)     0.000000\n",
      "volume_sold_(gallons)    0.000000\n",
      "dtype: float64\n"
     ]
    }
   ],
   "source": [
    "# Check the percentage of missing values per column\n",
    "missing_percentage = (data.isnull().sum() / len(data)) * 100\n",
    "print(missing_percentage)"
   ]
  },
  {
   "cell_type": "markdown",
   "metadata": {},
   "source": [
    "This action was unhelpful, there is still the same percentage of missing store locations, meaning that some locations are not available for some of the stores. \n",
    "\n",
    "As store location is a string/object, we will change the Null values in the store location with 'UNKNOWN', although bwe probably will delete these categories for the ML model. "
   ]
  },
  {
   "cell_type": "code",
   "execution_count": 28,
   "metadata": {},
   "outputs": [],
   "source": [
    "data['store_location'] = data['store_location'].fillna(\"UNKNOWN\")"
   ]
  },
  {
   "cell_type": "markdown",
   "metadata": {},
   "source": [
    "#### Category Name \n",
    "Same process as above. Although this will not benefit Machine Learning models ( as most can only compute numerical values), keeping and informing the null values is very usefull for visualisation, data analysis and recommendations. For the rest of category names, we can fill them as 'Unknown' and assign the smallest non-used number, or delete the rows with missing values altogether. "
   ]
  },
  {
   "cell_type": "code",
   "execution_count": 21,
   "metadata": {},
   "outputs": [
    {
     "data": {
      "text/plain": [
       "category\n",
       "101220.0                               None\n",
       "1011000.0                 AMERICAN WHISKIES\n",
       "1011100.0                  BLENDED WHISKIES\n",
       "1011200.0         STRAIGHT BOURBON WHISKIES\n",
       "1011250.0    SINGLE BARREL BOURBON WHISKIES\n",
       "Name: category_name, dtype: object"
      ]
     },
     "execution_count": 21,
     "metadata": {},
     "output_type": "execute_result"
    }
   ],
   "source": [
    "# Create a mapping of county to category_name (using the most frequent category_name for each category)\n",
    "category_number_to_name = data.groupby('category')['category_name'].agg(lambda x: x.mode()[0] if not x.mode().empty else None)\n",
    "category_number_to_name.head()"
   ]
  },
  {
   "cell_type": "code",
   "execution_count": 22,
   "metadata": {},
   "outputs": [],
   "source": [
    "# Fill missing values in categpry_name based on the category mapping\n",
    "data['category_name'] = data['category_name'].fillna(data['category'].map(county_to_number))"
   ]
  },
  {
   "cell_type": "code",
   "execution_count": 29,
   "metadata": {},
   "outputs": [
    {
     "name": "stdout",
     "output_type": "stream",
     "text": [
      "invoice_item_number      0.000000\n",
      "date                     0.000000\n",
      "store_number             0.000000\n",
      "store_name               0.000000\n",
      "address                  0.278122\n",
      "city                     0.278119\n",
      "zip_code                 0.278343\n",
      "store_location           0.000000\n",
      "county_number            0.535151\n",
      "county                   0.535144\n",
      "category                 0.056804\n",
      "category_name            0.083798\n",
      "vendor_number            0.000030\n",
      "vendor_name              0.000023\n",
      "item_number              0.000000\n",
      "item_description         0.000000\n",
      "pack                     0.000000\n",
      "bottle_volume_(ml)       0.000000\n",
      "state_bottle_cost        0.000033\n",
      "state_bottle_retail      0.000033\n",
      "bottles_sold             0.000000\n",
      "sale_(dollars)           0.000033\n",
      "volume_sold_(liters)     0.000000\n",
      "volume_sold_(gallons)    0.000000\n",
      "dtype: float64\n"
     ]
    }
   ],
   "source": [
    "# Check the percentage of missing values per column\n",
    "missing_percentage = (data.isnull().sum() / len(data)) * 100\n",
    "print(missing_percentage)"
   ]
  },
  {
   "cell_type": "markdown",
   "metadata": {},
   "source": [
    "#### Other columns\n",
    "\n",
    "Now that we have imputed all we could without making assumptions, considering that we have a very consequent dataset, we can delete the rows corresponding to the other null values. "
   ]
  },
  {
   "cell_type": "code",
   "execution_count": 31,
   "metadata": {},
   "outputs": [
    {
     "data": {
      "text/plain": [
       "(29881462, 24)"
      ]
     },
     "execution_count": 31,
     "metadata": {},
     "output_type": "execute_result"
    }
   ],
   "source": [
    "data.shape"
   ]
  },
  {
   "cell_type": "code",
   "execution_count": 32,
   "metadata": {},
   "outputs": [],
   "source": [
    "data = data.dropna()"
   ]
  },
  {
   "cell_type": "code",
   "execution_count": 34,
   "metadata": {},
   "outputs": [
    {
     "data": {
      "text/plain": [
       "(29696865, 24)"
      ]
     },
     "execution_count": 34,
     "metadata": {},
     "output_type": "execute_result"
    }
   ],
   "source": [
    "data.shape"
   ]
  }
 ],
 "metadata": {
  "kernelspec": {
   "display_name": "base",
   "language": "python",
   "name": "python3"
  },
  "language_info": {
   "codemirror_mode": {
    "name": "ipython",
    "version": 3
   },
   "file_extension": ".py",
   "mimetype": "text/x-python",
   "name": "python",
   "nbconvert_exporter": "python",
   "pygments_lexer": "ipython3",
   "version": "3.11.7"
  }
 },
 "nbformat": 4,
 "nbformat_minor": 2
}
