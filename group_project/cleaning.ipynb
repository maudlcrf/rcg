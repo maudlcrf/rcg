{
 "cells": [
  {
   "cell_type": "markdown",
   "metadata": {},
   "source": [
    "#### AI for Retail & Consumer Goods | Group Project | MBD April 2024\n",
    "\n",
    "Group Members: Maud Lecerf | Cristina Mosquera | Christopher Stephan"
   ]
  },
  {
   "cell_type": "markdown",
   "metadata": {},
   "source": [
    "# Data Cleaning"
   ]
  },
  {
   "cell_type": "markdown",
   "metadata": {},
   "source": [
    "## Base Imports "
   ]
  },
  {
   "cell_type": "code",
   "execution_count": 1,
   "metadata": {},
   "outputs": [],
   "source": [
    "import pandas as pd\n",
    "import numpy as np\n",
    "import re\n",
    "import math"
   ]
  },
  {
   "cell_type": "code",
   "execution_count": 2,
   "metadata": {},
   "outputs": [],
   "source": [
    "#adjust the display settings to be able to better understand our data\n",
    "pd.set_option('display.max_columns', None)  # Show all columns\n",
    "pd.set_option('display.max_rows', None)  # Show all rows (if needed)"
   ]
  },
  {
   "cell_type": "markdown",
   "metadata": {},
   "source": [
    "Below: reading the data with different paths based on our local computers as the file is too heavy to be stored on Github. "
   ]
  },
  {
   "cell_type": "code",
   "execution_count": 3,
   "metadata": {},
   "outputs": [
    {
     "name": "stderr",
     "output_type": "stream",
     "text": [
      "C:\\Users\\ginny\\AppData\\Local\\Temp\\ipykernel_38084\\2774574951.py:4: DtypeWarning: Columns (6,14) have mixed types. Specify dtype option on import or set low_memory=False.\n",
      "  data = pd.read_csv(\"C:\\\\Users\\\\ginny\\\\Desktop\\\\RCG\\\\Group Work\\\\Iowa_Liquor_Sales_DEC24.csv\")\n"
     ]
    }
   ],
   "source": [
    "#data = pd.read_csv(\"C:\\\\Users\\\\ginny\\\\Desktop\\\\RCG\\\\Group Work\\\\Iowa_Liquor_Sales_SEP2024.csv\") #Maud\n",
    "\n",
    "#data = pd.read_csv(\"G:\\\\Mon Drive\\\\RCG\\\\Iowa_Liquor_Sales_SEP2024.csv\") #Maud\n",
    "data = pd.read_csv(\"C:\\\\Users\\\\ginny\\\\Desktop\\\\RCG\\\\Group Work\\\\Iowa_Liquor_Sales_DEC24.csv\")\n",
    "#data = pd.read_csv(\"/Users/christopherstephan/Documents/IE/Term 3/Consumer Goods/project/Iowa_Liquor_Sales_DEC24.csv\") #Chris\n",
    "\n",
    "#gdown.download('https://drive.google.com/uc?export=download&id=1Nvt1FeNTQPWFXKZHhWD3P4Ynmwt3xGCG', 'archivo.csv', quiet=False)\n",
    "#data = pd.read_csv('archivo.csv') #Cristina"
   ]
  },
  {
   "cell_type": "markdown",
   "metadata": {},
   "source": [
    "## Initial Assessment of the data"
   ]
  },
  {
   "cell_type": "code",
   "execution_count": 4,
   "metadata": {},
   "outputs": [
    {
     "data": {
      "text/html": [
       "<div>\n",
       "<style scoped>\n",
       "    .dataframe tbody tr th:only-of-type {\n",
       "        vertical-align: middle;\n",
       "    }\n",
       "\n",
       "    .dataframe tbody tr th {\n",
       "        vertical-align: top;\n",
       "    }\n",
       "\n",
       "    .dataframe thead th {\n",
       "        text-align: right;\n",
       "    }\n",
       "</style>\n",
       "<table border=\"1\" class=\"dataframe\">\n",
       "  <thead>\n",
       "    <tr style=\"text-align: right;\">\n",
       "      <th></th>\n",
       "      <th>Invoice/Item Number</th>\n",
       "      <th>Date</th>\n",
       "      <th>Store Number</th>\n",
       "      <th>Store Name</th>\n",
       "      <th>Address</th>\n",
       "      <th>City</th>\n",
       "      <th>Zip Code</th>\n",
       "      <th>Store Location</th>\n",
       "      <th>County Number</th>\n",
       "      <th>County</th>\n",
       "      <th>Category</th>\n",
       "      <th>Category Name</th>\n",
       "      <th>Vendor Number</th>\n",
       "      <th>Vendor Name</th>\n",
       "      <th>Item Number</th>\n",
       "      <th>Item Description</th>\n",
       "      <th>Pack</th>\n",
       "      <th>Bottle Volume (ml)</th>\n",
       "      <th>State Bottle Cost</th>\n",
       "      <th>State Bottle Retail</th>\n",
       "      <th>Bottles Sold</th>\n",
       "      <th>Sale (Dollars)</th>\n",
       "      <th>Volume Sold (Liters)</th>\n",
       "      <th>Volume Sold (Gallons)</th>\n",
       "    </tr>\n",
       "  </thead>\n",
       "  <tbody>\n",
       "    <tr>\n",
       "      <th>0</th>\n",
       "      <td>INV-10004700134</td>\n",
       "      <td>01/25/2018</td>\n",
       "      <td>4988</td>\n",
       "      <td>HAPPY'S WINE &amp; SPIRITS</td>\n",
       "      <td>5925 UNIVERSITY AVE</td>\n",
       "      <td>CEDAR FALLS</td>\n",
       "      <td>50613.0</td>\n",
       "      <td>POINT (-92.429331 42.512766)</td>\n",
       "      <td>7.0</td>\n",
       "      <td>BLACK HAWK</td>\n",
       "      <td>1011200.0</td>\n",
       "      <td>STRAIGHT BOURBON WHISKIES</td>\n",
       "      <td>65.0</td>\n",
       "      <td>JIM BEAM BRANDS</td>\n",
       "      <td>19112</td>\n",
       "      <td>JIM BEAM DEVIL'S CUT</td>\n",
       "      <td>12</td>\n",
       "      <td>750</td>\n",
       "      <td>15.07</td>\n",
       "      <td>22.61</td>\n",
       "      <td>2</td>\n",
       "      <td>45.22</td>\n",
       "      <td>1.50</td>\n",
       "      <td>0.40</td>\n",
       "    </tr>\n",
       "    <tr>\n",
       "      <th>1</th>\n",
       "      <td>INV-10009800080</td>\n",
       "      <td>01/25/2018</td>\n",
       "      <td>2582</td>\n",
       "      <td>HY-VEE #2 FOOD STORE / MASON CITY</td>\n",
       "      <td>551 S ILLINOIS AVE</td>\n",
       "      <td>MASON CITY</td>\n",
       "      <td>50401.0</td>\n",
       "      <td>POINT (-93.17114 43.14623)</td>\n",
       "      <td>17.0</td>\n",
       "      <td>CERRO GORDO</td>\n",
       "      <td>1011400.0</td>\n",
       "      <td>TENNESSEE WHISKIES</td>\n",
       "      <td>85.0</td>\n",
       "      <td>BROWN FORMAN CORP.</td>\n",
       "      <td>26585</td>\n",
       "      <td>GENTLEMAN JACK</td>\n",
       "      <td>12</td>\n",
       "      <td>375</td>\n",
       "      <td>8.50</td>\n",
       "      <td>12.75</td>\n",
       "      <td>3</td>\n",
       "      <td>36.00</td>\n",
       "      <td>1.12</td>\n",
       "      <td>0.30</td>\n",
       "    </tr>\n",
       "    <tr>\n",
       "      <th>2</th>\n",
       "      <td>INV-10020300040</td>\n",
       "      <td>01/25/2018</td>\n",
       "      <td>4696</td>\n",
       "      <td>QUIK TRIP #517 / WEST DES MOINES</td>\n",
       "      <td>1451 22ND ST</td>\n",
       "      <td>WEST DES MOINES</td>\n",
       "      <td>50266.0</td>\n",
       "      <td>POINT (-93.735967 41.59527)</td>\n",
       "      <td>77.0</td>\n",
       "      <td>POLK</td>\n",
       "      <td>1031100.0</td>\n",
       "      <td>AMERICAN VODKAS</td>\n",
       "      <td>205.0</td>\n",
       "      <td>E &amp; J GALLO WINERY</td>\n",
       "      <td>36968</td>\n",
       "      <td>NEW AMSTERDAM VODKA</td>\n",
       "      <td>24</td>\n",
       "      <td>375</td>\n",
       "      <td>3.50</td>\n",
       "      <td>5.25</td>\n",
       "      <td>10</td>\n",
       "      <td>52.50</td>\n",
       "      <td>3.75</td>\n",
       "      <td>0.99</td>\n",
       "    </tr>\n",
       "    <tr>\n",
       "      <th>3</th>\n",
       "      <td>INV-10084700039</td>\n",
       "      <td>01/30/2018</td>\n",
       "      <td>5060</td>\n",
       "      <td>L&amp;M MIGHTY SHOP</td>\n",
       "      <td>504, E BURLINGTON ST</td>\n",
       "      <td>IOWA CITY</td>\n",
       "      <td>52240.0</td>\n",
       "      <td>POINT (-91.52843 41.657818)</td>\n",
       "      <td>52.0</td>\n",
       "      <td>JOHNSON</td>\n",
       "      <td>1031100.0</td>\n",
       "      <td>AMERICAN VODKAS</td>\n",
       "      <td>259.0</td>\n",
       "      <td>HEAVEN HILL BRANDS</td>\n",
       "      <td>35416</td>\n",
       "      <td>BURNETT'S VODKA 80 PRF</td>\n",
       "      <td>12</td>\n",
       "      <td>750</td>\n",
       "      <td>4.48</td>\n",
       "      <td>6.72</td>\n",
       "      <td>2</td>\n",
       "      <td>13.44</td>\n",
       "      <td>1.50</td>\n",
       "      <td>0.40</td>\n",
       "    </tr>\n",
       "    <tr>\n",
       "      <th>4</th>\n",
       "      <td>INV-10023000115</td>\n",
       "      <td>01/25/2018</td>\n",
       "      <td>2561</td>\n",
       "      <td>HY-VEE FOOD STORE / FLEUR / DSM</td>\n",
       "      <td>4605 FLEUR DRIVE</td>\n",
       "      <td>DES MOINES</td>\n",
       "      <td>50321.0</td>\n",
       "      <td>POINT (-93.64494300000001 41.542748)</td>\n",
       "      <td>77.0</td>\n",
       "      <td>POLK</td>\n",
       "      <td>1062400.0</td>\n",
       "      <td>SPICED RUM</td>\n",
       "      <td>259.0</td>\n",
       "      <td>HEAVEN HILL BRANDS</td>\n",
       "      <td>43028</td>\n",
       "      <td>ADMIRAL NELSON SPICED RUM</td>\n",
       "      <td>6</td>\n",
       "      <td>1750</td>\n",
       "      <td>11.55</td>\n",
       "      <td>17.33</td>\n",
       "      <td>6</td>\n",
       "      <td>103.98</td>\n",
       "      <td>10.50</td>\n",
       "      <td>2.77</td>\n",
       "    </tr>\n",
       "    <tr>\n",
       "      <th>5</th>\n",
       "      <td>INV-09998900057</td>\n",
       "      <td>01/24/2018</td>\n",
       "      <td>2670</td>\n",
       "      <td>HY-VEE FOOD STORE / CORALVILLE</td>\n",
       "      <td>2004 8TH  ST</td>\n",
       "      <td>CORALVILLE</td>\n",
       "      <td>52241.0</td>\n",
       "      <td>POINT (-91.591868 41.682337000000004)</td>\n",
       "      <td>52.0</td>\n",
       "      <td>JOHNSON</td>\n",
       "      <td>1031100.0</td>\n",
       "      <td>AMERICAN VODKAS</td>\n",
       "      <td>55.0</td>\n",
       "      <td>SAZERAC NORTH AMERICA</td>\n",
       "      <td>35948</td>\n",
       "      <td>FLEISCHMANN'S ROYAL VODKA 80 PRF</td>\n",
       "      <td>6</td>\n",
       "      <td>1750</td>\n",
       "      <td>6.85</td>\n",
       "      <td>10.28</td>\n",
       "      <td>6</td>\n",
       "      <td>64.62</td>\n",
       "      <td>10.50</td>\n",
       "      <td>2.77</td>\n",
       "    </tr>\n",
       "    <tr>\n",
       "      <th>6</th>\n",
       "      <td>INV-09980400044</td>\n",
       "      <td>01/24/2018</td>\n",
       "      <td>3704</td>\n",
       "      <td>CELTICS BEVERAGE COMPANY</td>\n",
       "      <td>1122 BROADWAY</td>\n",
       "      <td>EMMETSBURG</td>\n",
       "      <td>50536.0</td>\n",
       "      <td>POINT (-94.678807 43.10937)</td>\n",
       "      <td>74.0</td>\n",
       "      <td>PALO ALTO</td>\n",
       "      <td>1011200.0</td>\n",
       "      <td>STRAIGHT BOURBON WHISKIES</td>\n",
       "      <td>65.0</td>\n",
       "      <td>JIM BEAM BRANDS</td>\n",
       "      <td>19476</td>\n",
       "      <td>MAKER'S MARK</td>\n",
       "      <td>12</td>\n",
       "      <td>750</td>\n",
       "      <td>17.50</td>\n",
       "      <td>26.25</td>\n",
       "      <td>1</td>\n",
       "      <td>25.98</td>\n",
       "      <td>0.75</td>\n",
       "      <td>0.20</td>\n",
       "    </tr>\n",
       "    <tr>\n",
       "      <th>7</th>\n",
       "      <td>INV-10026000005</td>\n",
       "      <td>01/25/2018</td>\n",
       "      <td>4917</td>\n",
       "      <td>KUM &amp; GO #115 / PERRY</td>\n",
       "      <td>1115 IA HWY 141</td>\n",
       "      <td>PERRY</td>\n",
       "      <td>50220.0</td>\n",
       "      <td>POINT (-94.10386 41.830334)</td>\n",
       "      <td>25.0</td>\n",
       "      <td>DALLAS</td>\n",
       "      <td>1082000.0</td>\n",
       "      <td>IMPORTED CORDIALS &amp; LIQUEURS</td>\n",
       "      <td>192.0</td>\n",
       "      <td>MAST-JAGERMEISTER US, INC</td>\n",
       "      <td>65254</td>\n",
       "      <td>JAGERMEISTER LIQUEUR</td>\n",
       "      <td>24</td>\n",
       "      <td>375</td>\n",
       "      <td>6.52</td>\n",
       "      <td>9.78</td>\n",
       "      <td>4</td>\n",
       "      <td>39.12</td>\n",
       "      <td>1.50</td>\n",
       "      <td>0.40</td>\n",
       "    </tr>\n",
       "    <tr>\n",
       "      <th>8</th>\n",
       "      <td>INV-10034300037</td>\n",
       "      <td>01/26/2018</td>\n",
       "      <td>4291</td>\n",
       "      <td>FAREWAY STORES #597 / CRESTON</td>\n",
       "      <td>105 E ADAMS ST</td>\n",
       "      <td>CRESTON</td>\n",
       "      <td>50801.0</td>\n",
       "      <td>POINT (-94.237509 40.715722)</td>\n",
       "      <td>88.0</td>\n",
       "      <td>UNION</td>\n",
       "      <td>1081600.0</td>\n",
       "      <td>WHISKEY LIQUEUR</td>\n",
       "      <td>421.0</td>\n",
       "      <td>SAZERAC COMPANY  INC</td>\n",
       "      <td>86886</td>\n",
       "      <td>SOUTHERN COMFORT</td>\n",
       "      <td>12</td>\n",
       "      <td>750</td>\n",
       "      <td>10.33</td>\n",
       "      <td>15.50</td>\n",
       "      <td>4</td>\n",
       "      <td>62.00</td>\n",
       "      <td>3.00</td>\n",
       "      <td>0.79</td>\n",
       "    </tr>\n",
       "    <tr>\n",
       "      <th>9</th>\n",
       "      <td>INV-10115300020</td>\n",
       "      <td>01/31/2018</td>\n",
       "      <td>2522</td>\n",
       "      <td>HY-VEE WINE AND SPIRITS / SPIRIT LAKE</td>\n",
       "      <td>HWY 9 &amp; 71</td>\n",
       "      <td>SPIRIT LAKE</td>\n",
       "      <td>51360.0</td>\n",
       "      <td>NaN</td>\n",
       "      <td>30.0</td>\n",
       "      <td>DICKINSON</td>\n",
       "      <td>1012100.0</td>\n",
       "      <td>CANADIAN WHISKIES</td>\n",
       "      <td>115.0</td>\n",
       "      <td>CONSTELLATION BRANDS INC</td>\n",
       "      <td>10550</td>\n",
       "      <td>BLACK VELVET TOASTED CARAMEL</td>\n",
       "      <td>12</td>\n",
       "      <td>750</td>\n",
       "      <td>6.75</td>\n",
       "      <td>10.13</td>\n",
       "      <td>12</td>\n",
       "      <td>121.56</td>\n",
       "      <td>9.00</td>\n",
       "      <td>2.38</td>\n",
       "    </tr>\n",
       "  </tbody>\n",
       "</table>\n",
       "</div>"
      ],
      "text/plain": [
       "  Invoice/Item Number        Date  Store Number  \\\n",
       "0     INV-10004700134  01/25/2018          4988   \n",
       "1     INV-10009800080  01/25/2018          2582   \n",
       "2     INV-10020300040  01/25/2018          4696   \n",
       "3     INV-10084700039  01/30/2018          5060   \n",
       "4     INV-10023000115  01/25/2018          2561   \n",
       "5     INV-09998900057  01/24/2018          2670   \n",
       "6     INV-09980400044  01/24/2018          3704   \n",
       "7     INV-10026000005  01/25/2018          4917   \n",
       "8     INV-10034300037  01/26/2018          4291   \n",
       "9     INV-10115300020  01/31/2018          2522   \n",
       "\n",
       "                              Store Name               Address  \\\n",
       "0                 HAPPY'S WINE & SPIRITS   5925 UNIVERSITY AVE   \n",
       "1      HY-VEE #2 FOOD STORE / MASON CITY    551 S ILLINOIS AVE   \n",
       "2       QUIK TRIP #517 / WEST DES MOINES          1451 22ND ST   \n",
       "3                        L&M MIGHTY SHOP  504, E BURLINGTON ST   \n",
       "4        HY-VEE FOOD STORE / FLEUR / DSM      4605 FLEUR DRIVE   \n",
       "5         HY-VEE FOOD STORE / CORALVILLE          2004 8TH  ST   \n",
       "6               CELTICS BEVERAGE COMPANY         1122 BROADWAY   \n",
       "7                  KUM & GO #115 / PERRY       1115 IA HWY 141   \n",
       "8          FAREWAY STORES #597 / CRESTON        105 E ADAMS ST   \n",
       "9  HY-VEE WINE AND SPIRITS / SPIRIT LAKE            HWY 9 & 71   \n",
       "\n",
       "              City Zip Code                         Store Location  \\\n",
       "0      CEDAR FALLS  50613.0           POINT (-92.429331 42.512766)   \n",
       "1       MASON CITY  50401.0             POINT (-93.17114 43.14623)   \n",
       "2  WEST DES MOINES  50266.0            POINT (-93.735967 41.59527)   \n",
       "3        IOWA CITY  52240.0            POINT (-91.52843 41.657818)   \n",
       "4       DES MOINES  50321.0   POINT (-93.64494300000001 41.542748)   \n",
       "5       CORALVILLE  52241.0  POINT (-91.591868 41.682337000000004)   \n",
       "6       EMMETSBURG  50536.0            POINT (-94.678807 43.10937)   \n",
       "7            PERRY  50220.0            POINT (-94.10386 41.830334)   \n",
       "8          CRESTON  50801.0           POINT (-94.237509 40.715722)   \n",
       "9      SPIRIT LAKE  51360.0                                    NaN   \n",
       "\n",
       "   County Number       County   Category                 Category Name  \\\n",
       "0            7.0   BLACK HAWK  1011200.0     STRAIGHT BOURBON WHISKIES   \n",
       "1           17.0  CERRO GORDO  1011400.0            TENNESSEE WHISKIES   \n",
       "2           77.0         POLK  1031100.0               AMERICAN VODKAS   \n",
       "3           52.0      JOHNSON  1031100.0               AMERICAN VODKAS   \n",
       "4           77.0         POLK  1062400.0                    SPICED RUM   \n",
       "5           52.0      JOHNSON  1031100.0               AMERICAN VODKAS   \n",
       "6           74.0    PALO ALTO  1011200.0     STRAIGHT BOURBON WHISKIES   \n",
       "7           25.0       DALLAS  1082000.0  IMPORTED CORDIALS & LIQUEURS   \n",
       "8           88.0        UNION  1081600.0               WHISKEY LIQUEUR   \n",
       "9           30.0    DICKINSON  1012100.0             CANADIAN WHISKIES   \n",
       "\n",
       "   Vendor Number                Vendor Name Item Number  \\\n",
       "0           65.0            JIM BEAM BRANDS       19112   \n",
       "1           85.0         BROWN FORMAN CORP.       26585   \n",
       "2          205.0         E & J GALLO WINERY       36968   \n",
       "3          259.0         HEAVEN HILL BRANDS       35416   \n",
       "4          259.0         HEAVEN HILL BRANDS       43028   \n",
       "5           55.0      SAZERAC NORTH AMERICA       35948   \n",
       "6           65.0            JIM BEAM BRANDS       19476   \n",
       "7          192.0  MAST-JAGERMEISTER US, INC       65254   \n",
       "8          421.0       SAZERAC COMPANY  INC       86886   \n",
       "9          115.0   CONSTELLATION BRANDS INC       10550   \n",
       "\n",
       "                   Item Description  Pack  Bottle Volume (ml)  \\\n",
       "0              JIM BEAM DEVIL'S CUT    12                 750   \n",
       "1                    GENTLEMAN JACK    12                 375   \n",
       "2               NEW AMSTERDAM VODKA    24                 375   \n",
       "3            BURNETT'S VODKA 80 PRF    12                 750   \n",
       "4         ADMIRAL NELSON SPICED RUM     6                1750   \n",
       "5  FLEISCHMANN'S ROYAL VODKA 80 PRF     6                1750   \n",
       "6                      MAKER'S MARK    12                 750   \n",
       "7              JAGERMEISTER LIQUEUR    24                 375   \n",
       "8                  SOUTHERN COMFORT    12                 750   \n",
       "9      BLACK VELVET TOASTED CARAMEL    12                 750   \n",
       "\n",
       "   State Bottle Cost  State Bottle Retail  Bottles Sold  Sale (Dollars)  \\\n",
       "0              15.07                22.61             2           45.22   \n",
       "1               8.50                12.75             3           36.00   \n",
       "2               3.50                 5.25            10           52.50   \n",
       "3               4.48                 6.72             2           13.44   \n",
       "4              11.55                17.33             6          103.98   \n",
       "5               6.85                10.28             6           64.62   \n",
       "6              17.50                26.25             1           25.98   \n",
       "7               6.52                 9.78             4           39.12   \n",
       "8              10.33                15.50             4           62.00   \n",
       "9               6.75                10.13            12          121.56   \n",
       "\n",
       "   Volume Sold (Liters)  Volume Sold (Gallons)  \n",
       "0                  1.50                   0.40  \n",
       "1                  1.12                   0.30  \n",
       "2                  3.75                   0.99  \n",
       "3                  1.50                   0.40  \n",
       "4                 10.50                   2.77  \n",
       "5                 10.50                   2.77  \n",
       "6                  0.75                   0.20  \n",
       "7                  1.50                   0.40  \n",
       "8                  3.00                   0.79  \n",
       "9                  9.00                   2.38  "
      ]
     },
     "execution_count": 4,
     "metadata": {},
     "output_type": "execute_result"
    }
   ],
   "source": [
    "#display first \"n\" lines of data\n",
    "data.head(10)"
   ]
  },
  {
   "cell_type": "code",
   "execution_count": 5,
   "metadata": {},
   "outputs": [
    {
     "data": {
      "text/plain": [
       "(30767347, 24)"
      ]
     },
     "execution_count": 5,
     "metadata": {},
     "output_type": "execute_result"
    }
   ],
   "source": [
    "#extracting the number of rows & columns in our dataset\n",
    "data.shape"
   ]
  },
  {
   "cell_type": "code",
   "execution_count": 6,
   "metadata": {},
   "outputs": [
    {
     "name": "stdout",
     "output_type": "stream",
     "text": [
      "<class 'pandas.core.frame.DataFrame'>\n",
      "RangeIndex: 30767347 entries, 0 to 30767346\n",
      "Data columns (total 24 columns):\n",
      " #   Column                 Dtype  \n",
      "---  ------                 -----  \n",
      " 0   Invoice/Item Number    object \n",
      " 1   Date                   object \n",
      " 2   Store Number           int64  \n",
      " 3   Store Name             object \n",
      " 4   Address                object \n",
      " 5   City                   object \n",
      " 6   Zip Code               object \n",
      " 7   Store Location         object \n",
      " 8   County Number          float64\n",
      " 9   County                 object \n",
      " 10  Category               float64\n",
      " 11  Category Name          object \n",
      " 12  Vendor Number          float64\n",
      " 13  Vendor Name            object \n",
      " 14  Item Number            object \n",
      " 15  Item Description       object \n",
      " 16  Pack                   int64  \n",
      " 17  Bottle Volume (ml)     int64  \n",
      " 18  State Bottle Cost      float64\n",
      " 19  State Bottle Retail    float64\n",
      " 20  Bottles Sold           int64  \n",
      " 21  Sale (Dollars)         float64\n",
      " 22  Volume Sold (Liters)   float64\n",
      " 23  Volume Sold (Gallons)  float64\n",
      "dtypes: float64(8), int64(4), object(12)\n",
      "memory usage: 5.5+ GB\n"
     ]
    }
   ],
   "source": [
    "#checking the information of our variables\n",
    "data.info()"
   ]
  },
  {
   "cell_type": "code",
   "execution_count": 7,
   "metadata": {},
   "outputs": [
    {
     "data": {
      "text/html": [
       "<div>\n",
       "<style scoped>\n",
       "    .dataframe tbody tr th:only-of-type {\n",
       "        vertical-align: middle;\n",
       "    }\n",
       "\n",
       "    .dataframe tbody tr th {\n",
       "        vertical-align: top;\n",
       "    }\n",
       "\n",
       "    .dataframe thead th {\n",
       "        text-align: right;\n",
       "    }\n",
       "</style>\n",
       "<table border=\"1\" class=\"dataframe\">\n",
       "  <thead>\n",
       "    <tr style=\"text-align: right;\">\n",
       "      <th></th>\n",
       "      <th>Store Number</th>\n",
       "      <th>County Number</th>\n",
       "      <th>Category</th>\n",
       "      <th>Vendor Number</th>\n",
       "      <th>Pack</th>\n",
       "      <th>Bottle Volume (ml)</th>\n",
       "      <th>State Bottle Cost</th>\n",
       "      <th>State Bottle Retail</th>\n",
       "      <th>Bottles Sold</th>\n",
       "      <th>Sale (Dollars)</th>\n",
       "      <th>Volume Sold (Liters)</th>\n",
       "      <th>Volume Sold (Gallons)</th>\n",
       "    </tr>\n",
       "  </thead>\n",
       "  <tbody>\n",
       "    <tr>\n",
       "      <th>count</th>\n",
       "      <td>3.076735e+07</td>\n",
       "      <td>2.413284e+07</td>\n",
       "      <td>3.075037e+07</td>\n",
       "      <td>3.076734e+07</td>\n",
       "      <td>3.076735e+07</td>\n",
       "      <td>3.076735e+07</td>\n",
       "      <td>3.076734e+07</td>\n",
       "      <td>3.076734e+07</td>\n",
       "      <td>3.076735e+07</td>\n",
       "      <td>3.076734e+07</td>\n",
       "      <td>3.076735e+07</td>\n",
       "      <td>3.076735e+07</td>\n",
       "    </tr>\n",
       "    <tr>\n",
       "      <th>mean</th>\n",
       "      <td>3.965642e+03</td>\n",
       "      <td>5.725913e+01</td>\n",
       "      <td>1.051064e+06</td>\n",
       "      <td>2.755549e+02</td>\n",
       "      <td>1.210848e+01</td>\n",
       "      <td>8.725980e+02</td>\n",
       "      <td>1.086278e+01</td>\n",
       "      <td>1.630386e+01</td>\n",
       "      <td>1.089341e+01</td>\n",
       "      <td>1.466656e+02</td>\n",
       "      <td>9.141889e+00</td>\n",
       "      <td>2.412119e+00</td>\n",
       "    </tr>\n",
       "    <tr>\n",
       "      <th>std</th>\n",
       "      <td>1.386019e+03</td>\n",
       "      <td>2.728710e+01</td>\n",
       "      <td>8.619297e+04</td>\n",
       "      <td>1.462552e+02</td>\n",
       "      <td>7.803960e+00</td>\n",
       "      <td>6.207841e+02</td>\n",
       "      <td>1.349856e+01</td>\n",
       "      <td>2.024657e+01</td>\n",
       "      <td>3.068446e+01</td>\n",
       "      <td>5.175873e+02</td>\n",
       "      <td>3.642088e+01</td>\n",
       "      <td>9.621490e+00</td>\n",
       "    </tr>\n",
       "    <tr>\n",
       "      <th>min</th>\n",
       "      <td>2.106000e+03</td>\n",
       "      <td>1.000000e+00</td>\n",
       "      <td>1.012200e+05</td>\n",
       "      <td>1.000000e+01</td>\n",
       "      <td>1.000000e+00</td>\n",
       "      <td>0.000000e+00</td>\n",
       "      <td>0.000000e+00</td>\n",
       "      <td>0.000000e+00</td>\n",
       "      <td>-7.680000e+02</td>\n",
       "      <td>-9.720000e+03</td>\n",
       "      <td>-1.344000e+03</td>\n",
       "      <td>-3.550400e+02</td>\n",
       "    </tr>\n",
       "    <tr>\n",
       "      <th>25%</th>\n",
       "      <td>2.623000e+03</td>\n",
       "      <td>3.100000e+01</td>\n",
       "      <td>1.012200e+06</td>\n",
       "      <td>1.920000e+02</td>\n",
       "      <td>6.000000e+00</td>\n",
       "      <td>7.500000e+02</td>\n",
       "      <td>5.750000e+00</td>\n",
       "      <td>8.630000e+00</td>\n",
       "      <td>3.000000e+00</td>\n",
       "      <td>3.600000e+01</td>\n",
       "      <td>1.500000e+00</td>\n",
       "      <td>4.000000e-01</td>\n",
       "    </tr>\n",
       "    <tr>\n",
       "      <th>50%</th>\n",
       "      <td>3.917000e+03</td>\n",
       "      <td>6.200000e+01</td>\n",
       "      <td>1.031200e+06</td>\n",
       "      <td>2.600000e+02</td>\n",
       "      <td>1.200000e+01</td>\n",
       "      <td>7.500000e+02</td>\n",
       "      <td>8.500000e+00</td>\n",
       "      <td>1.275000e+01</td>\n",
       "      <td>6.000000e+00</td>\n",
       "      <td>7.800000e+01</td>\n",
       "      <td>4.800000e+00</td>\n",
       "      <td>1.260000e+00</td>\n",
       "    </tr>\n",
       "    <tr>\n",
       "      <th>75%</th>\n",
       "      <td>4.847000e+03</td>\n",
       "      <td>7.700000e+01</td>\n",
       "      <td>1.062400e+06</td>\n",
       "      <td>3.950000e+02</td>\n",
       "      <td>1.200000e+01</td>\n",
       "      <td>1.000000e+03</td>\n",
       "      <td>1.300000e+01</td>\n",
       "      <td>1.950000e+01</td>\n",
       "      <td>1.200000e+01</td>\n",
       "      <td>1.510800e+02</td>\n",
       "      <td>1.050000e+01</td>\n",
       "      <td>2.770000e+00</td>\n",
       "    </tr>\n",
       "    <tr>\n",
       "      <th>max</th>\n",
       "      <td>1.052900e+04</td>\n",
       "      <td>9.900000e+01</td>\n",
       "      <td>1.901200e+06</td>\n",
       "      <td>9.870000e+02</td>\n",
       "      <td>3.360000e+02</td>\n",
       "      <td>3.780000e+05</td>\n",
       "      <td>2.498902e+04</td>\n",
       "      <td>3.748353e+04</td>\n",
       "      <td>1.500000e+04</td>\n",
       "      <td>2.795573e+05</td>\n",
       "      <td>1.500000e+04</td>\n",
       "      <td>3.962580e+03</td>\n",
       "    </tr>\n",
       "  </tbody>\n",
       "</table>\n",
       "</div>"
      ],
      "text/plain": [
       "       Store Number  County Number      Category  Vendor Number          Pack  \\\n",
       "count  3.076735e+07   2.413284e+07  3.075037e+07   3.076734e+07  3.076735e+07   \n",
       "mean   3.965642e+03   5.725913e+01  1.051064e+06   2.755549e+02  1.210848e+01   \n",
       "std    1.386019e+03   2.728710e+01  8.619297e+04   1.462552e+02  7.803960e+00   \n",
       "min    2.106000e+03   1.000000e+00  1.012200e+05   1.000000e+01  1.000000e+00   \n",
       "25%    2.623000e+03   3.100000e+01  1.012200e+06   1.920000e+02  6.000000e+00   \n",
       "50%    3.917000e+03   6.200000e+01  1.031200e+06   2.600000e+02  1.200000e+01   \n",
       "75%    4.847000e+03   7.700000e+01  1.062400e+06   3.950000e+02  1.200000e+01   \n",
       "max    1.052900e+04   9.900000e+01  1.901200e+06   9.870000e+02  3.360000e+02   \n",
       "\n",
       "       Bottle Volume (ml)  State Bottle Cost  State Bottle Retail  \\\n",
       "count        3.076735e+07       3.076734e+07         3.076734e+07   \n",
       "mean         8.725980e+02       1.086278e+01         1.630386e+01   \n",
       "std          6.207841e+02       1.349856e+01         2.024657e+01   \n",
       "min          0.000000e+00       0.000000e+00         0.000000e+00   \n",
       "25%          7.500000e+02       5.750000e+00         8.630000e+00   \n",
       "50%          7.500000e+02       8.500000e+00         1.275000e+01   \n",
       "75%          1.000000e+03       1.300000e+01         1.950000e+01   \n",
       "max          3.780000e+05       2.498902e+04         3.748353e+04   \n",
       "\n",
       "       Bottles Sold  Sale (Dollars)  Volume Sold (Liters)  \\\n",
       "count  3.076735e+07    3.076734e+07          3.076735e+07   \n",
       "mean   1.089341e+01    1.466656e+02          9.141889e+00   \n",
       "std    3.068446e+01    5.175873e+02          3.642088e+01   \n",
       "min   -7.680000e+02   -9.720000e+03         -1.344000e+03   \n",
       "25%    3.000000e+00    3.600000e+01          1.500000e+00   \n",
       "50%    6.000000e+00    7.800000e+01          4.800000e+00   \n",
       "75%    1.200000e+01    1.510800e+02          1.050000e+01   \n",
       "max    1.500000e+04    2.795573e+05          1.500000e+04   \n",
       "\n",
       "       Volume Sold (Gallons)  \n",
       "count           3.076735e+07  \n",
       "mean            2.412119e+00  \n",
       "std             9.621490e+00  \n",
       "min            -3.550400e+02  \n",
       "25%             4.000000e-01  \n",
       "50%             1.260000e+00  \n",
       "75%             2.770000e+00  \n",
       "max             3.962580e+03  "
      ]
     },
     "execution_count": 7,
     "metadata": {},
     "output_type": "execute_result"
    }
   ],
   "source": [
    "#describing numerical data\n",
    "data.describe()"
   ]
  },
  {
   "cell_type": "markdown",
   "metadata": {},
   "source": [
    "### Renaming Columns for ease of use"
   ]
  },
  {
   "cell_type": "code",
   "execution_count": 8,
   "metadata": {},
   "outputs": [
    {
     "data": {
      "text/plain": [
       "Index(['invoice_item_number', 'date', 'store_number', 'store_name', 'address',\n",
       "       'city', 'zip_code', 'store_location', 'county_number', 'county',\n",
       "       'category', 'category_name', 'vendor_number', 'vendor_name',\n",
       "       'item_number', 'item_description', 'pack', 'bottle_volume_(ml)',\n",
       "       'state_bottle_cost', 'state_bottle_retail', 'bottles_sold',\n",
       "       'sale_(dollars)', 'volume_sold_(liters)', 'volume_sold_(gallons)'],\n",
       "      dtype='object')"
      ]
     },
     "execution_count": 8,
     "metadata": {},
     "output_type": "execute_result"
    }
   ],
   "source": [
    "#rename columns: Remove \"/\", replace spaces with \"_\", and convert to lowercase\n",
    "\n",
    "def rename_columns(df):\n",
    "    df.columns = df.columns.str.replace(\"/\", \"_\", regex=True)  # Remove \"/\"\n",
    "    df.columns = df.columns.str.replace(\" \", \"_\")  # Replace spaces with \"_\"\n",
    "    df.columns = df.columns.str.lower()  # Convert to lowercase\n",
    "    return df\n",
    "\n",
    "data = rename_columns(data)\n",
    "\n",
    "data.columns"
   ]
  },
  {
   "cell_type": "markdown",
   "metadata": {},
   "source": [
    "### Data Types"
   ]
  },
  {
   "cell_type": "code",
   "execution_count": 9,
   "metadata": {},
   "outputs": [
    {
     "data": {
      "text/plain": [
       "invoice_item_number       object\n",
       "date                      object\n",
       "store_number               int64\n",
       "store_name                object\n",
       "address                   object\n",
       "city                      object\n",
       "zip_code                  object\n",
       "store_location            object\n",
       "county_number            float64\n",
       "county                    object\n",
       "category                 float64\n",
       "category_name             object\n",
       "vendor_number            float64\n",
       "vendor_name               object\n",
       "item_number               object\n",
       "item_description          object\n",
       "pack                       int64\n",
       "bottle_volume_(ml)         int64\n",
       "state_bottle_cost        float64\n",
       "state_bottle_retail      float64\n",
       "bottles_sold               int64\n",
       "sale_(dollars)           float64\n",
       "volume_sold_(liters)     float64\n",
       "volume_sold_(gallons)    float64\n",
       "dtype: object"
      ]
     },
     "execution_count": 9,
     "metadata": {},
     "output_type": "execute_result"
    }
   ],
   "source": [
    "#checking the type of each variable\n",
    "data.dtypes"
   ]
  },
  {
   "cell_type": "code",
   "execution_count": 10,
   "metadata": {},
   "outputs": [],
   "source": [
    "#function to check if a column contains only numeric values\n",
    "def check_numeric_column(df, column_name):\n",
    "    # Check if all values in the column are numeric\n",
    "    non_numeric_values = df[~df[column_name].astype(str).str.isnumeric()]\n",
    "    \n",
    "    if non_numeric_values.empty:\n",
    "        print(f\"Column '{column_name}' contains only numbers.\")\n",
    "    else:\n",
    "        print(f\"Column '{column_name}' contains non-numeric values. Here are some examples:\")\n",
    "        print(non_numeric_values[[column_name]].head(10))  # Display first 10 problematic rows\n"
   ]
  },
  {
   "cell_type": "code",
   "execution_count": 11,
   "metadata": {},
   "outputs": [
    {
     "name": "stdout",
     "output_type": "stream",
     "text": [
      "Column 'item_number' contains non-numeric values. Here are some examples:\n",
      "         item_number\n",
      "27707782     x904631\n",
      "28713699     x904631\n",
      "28733608     x904631\n"
     ]
    }
   ],
   "source": [
    "# Check for numeric values in \"item_number\"\n",
    "check_numeric_column(data, \"item_number\")"
   ]
  },
  {
   "cell_type": "code",
   "execution_count": 12,
   "metadata": {},
   "outputs": [],
   "source": [
    "data['date'] = pd.to_datetime(data['date'])"
   ]
  },
  {
   "cell_type": "markdown",
   "metadata": {},
   "source": [
    "Given that the column item_number contains a few rows with \"x\" before the numbers, we removed the \"x\" and re casted the column into numeric type, as it should be."
   ]
  },
  {
   "cell_type": "code",
   "execution_count": 13,
   "metadata": {},
   "outputs": [],
   "source": [
    "# Replace 'x' in the \"item_number\" column for specific rows\n",
    "data.loc[data[\"item_number\"].str.contains(\"x\", na=False), \"item_number\"] = data[\"item_number\"].str.replace(\"x\", \"\", regex=True)\n",
    "\n",
    "# Convert to numeric after replacement\n",
    "data[\"item_number\"] = pd.to_numeric(data[\"item_number\"], errors='coerce')"
   ]
  },
  {
   "cell_type": "markdown",
   "metadata": {},
   "source": [
    "## Null Values "
   ]
  },
  {
   "cell_type": "code",
   "execution_count": 14,
   "metadata": {},
   "outputs": [
    {
     "data": {
      "text/plain": [
       "invoice_item_number            0\n",
       "date                           0\n",
       "store_number                   0\n",
       "store_name                     0\n",
       "address                    83512\n",
       "city                       83511\n",
       "zip_code                   83578\n",
       "store_location           2502249\n",
       "county_number            6634504\n",
       "county                    160314\n",
       "category                   16974\n",
       "category_name              25040\n",
       "vendor_number                  9\n",
       "vendor_name                    7\n",
       "item_number                    0\n",
       "item_description               0\n",
       "pack                           0\n",
       "bottle_volume_(ml)             0\n",
       "state_bottle_cost             10\n",
       "state_bottle_retail           10\n",
       "bottles_sold                   0\n",
       "sale_(dollars)                10\n",
       "volume_sold_(liters)           0\n",
       "volume_sold_(gallons)          0\n",
       "dtype: int64"
      ]
     },
     "execution_count": 14,
     "metadata": {},
     "output_type": "execute_result"
    }
   ],
   "source": [
    "#check how many missing values are in our dataset\n",
    "data.isnull().sum()"
   ]
  },
  {
   "cell_type": "code",
   "execution_count": 15,
   "metadata": {},
   "outputs": [
    {
     "name": "stdout",
     "output_type": "stream",
     "text": [
      "invoice_item_number       0.000000\n",
      "date                      0.000000\n",
      "store_number              0.000000\n",
      "store_name                0.000000\n",
      "address                   0.271431\n",
      "city                      0.271427\n",
      "zip_code                  0.271645\n",
      "store_location            8.132807\n",
      "county_number            21.563458\n",
      "county                    0.521052\n",
      "category                  0.055169\n",
      "category_name             0.081385\n",
      "vendor_number             0.000029\n",
      "vendor_name               0.000023\n",
      "item_number               0.000000\n",
      "item_description          0.000000\n",
      "pack                      0.000000\n",
      "bottle_volume_(ml)        0.000000\n",
      "state_bottle_cost         0.000033\n",
      "state_bottle_retail       0.000033\n",
      "bottles_sold              0.000000\n",
      "sale_(dollars)            0.000033\n",
      "volume_sold_(liters)      0.000000\n",
      "volume_sold_(gallons)     0.000000\n",
      "dtype: float64\n"
     ]
    }
   ],
   "source": [
    "# Check the percentage of missing values per column\n",
    "missing_percentage = (data.isnull().sum() / len(data)) * 100\n",
    "print(missing_percentage)"
   ]
  },
  {
   "cell_type": "markdown",
   "metadata": {},
   "source": [
    "Although there seems to be a lot of missing values, it usually is less there 1% of the data missing. \n",
    "* Regarding the county number, it doesn't make sense that the county can be known and not the county number. **We can either replace with the matching county number, or delete the column altogether as this brings us very little information.** \n",
    "* For the missing stores, There is no possibility of replacing the data, as they are point location, but they could be imputed if the location is known for the same stores in other rows. \n",
    "* Regarding the category, for the numerical one, we cannot use an imputer as, even though it is a numerical value, it shows a category. \n",
    "* For the columns with few missing data such as *sale_bottle_cost, vendor_name*... we can simply remove the lines as the impact will be little and this way will allow us to only have correct data in those categories. "
   ]
  },
  {
   "cell_type": "markdown",
   "metadata": {},
   "source": [
    "### Imputing Missing Values "
   ]
  },
  {
   "cell_type": "markdown",
   "metadata": {},
   "source": [
    "#### County Number \n",
    "Here, we are using the county number that we know for each county based on the data and imputing it. However this is a basic label encoding and might not bring a lot of insights into our analysis. For the other missing county values we can either remove them or mark them as 'Unknown', and assign the matching county_number '100', which is the samllest number not used in the county_number column. "
   ]
  },
  {
   "cell_type": "code",
   "execution_count": 16,
   "metadata": {},
   "outputs": [
    {
     "data": {
      "text/plain": [
       "county\n",
       "WINNEBAGO     95.0\n",
       "WINNESHIEK    96.0\n",
       "WOODBURY      97.0\n",
       "WORTH         98.0\n",
       "WRIGHT        99.0\n",
       "Name: county_number, dtype: float64"
      ]
     },
     "execution_count": 16,
     "metadata": {},
     "output_type": "execute_result"
    }
   ],
   "source": [
    "# Create a mapping of county to county_number (using the most frequent county_number for each county)\n",
    "county_to_number = data.groupby('county')['county_number'].agg(lambda x: x.mode()[0] if not x.mode().empty else None)\n",
    "county_to_number.tail()"
   ]
  },
  {
   "cell_type": "code",
   "execution_count": 17,
   "metadata": {},
   "outputs": [],
   "source": [
    "# Fill missing values in county_number based on the county mapping\n",
    "data['county_number'] = data['county_number'].fillna(data['county'].map(county_to_number))"
   ]
  },
  {
   "cell_type": "code",
   "execution_count": 18,
   "metadata": {},
   "outputs": [
    {
     "name": "stdout",
     "output_type": "stream",
     "text": [
      "invoice_item_number      0.000000\n",
      "date                     0.000000\n",
      "store_number             0.000000\n",
      "store_name               0.000000\n",
      "address                  0.271431\n",
      "city                     0.271427\n",
      "zip_code                 0.271645\n",
      "store_location           8.132807\n",
      "county_number            0.521059\n",
      "county                   0.521052\n",
      "category                 0.055169\n",
      "category_name            0.081385\n",
      "vendor_number            0.000029\n",
      "vendor_name              0.000023\n",
      "item_number              0.000000\n",
      "item_description         0.000000\n",
      "pack                     0.000000\n",
      "bottle_volume_(ml)       0.000000\n",
      "state_bottle_cost        0.000033\n",
      "state_bottle_retail      0.000033\n",
      "bottles_sold             0.000000\n",
      "sale_(dollars)           0.000033\n",
      "volume_sold_(liters)     0.000000\n",
      "volume_sold_(gallons)    0.000000\n",
      "dtype: float64\n"
     ]
    }
   ],
   "source": [
    "# Check the percentage of missing values per column\n",
    "missing_percentage = (data.isnull().sum() / len(data)) * 100\n",
    "print(missing_percentage)"
   ]
  },
  {
   "cell_type": "markdown",
   "metadata": {},
   "source": [
    "The null values un the county_number column did decrease impressively but we still have 0.5% of the values to take care of. "
   ]
  },
  {
   "cell_type": "markdown",
   "metadata": {},
   "source": [
    "#### Store Location\n",
    "\n",
    "Here we will be applying the same process as above, with the goal that the location is already informed on some rows. "
   ]
  },
  {
   "cell_type": "code",
   "execution_count": 19,
   "metadata": {},
   "outputs": [
    {
     "data": {
      "text/plain": [
       "store_name\n",
       "\"DOUBLE \"\"D\"\" LIQUOR STORE\"                   POINT (-91.473634 43.262114)\n",
       "'DA BOOZE BARN / WEST BEND           POINT (-73.982421 40.305231000000006)\n",
       "10TH HOLE INN & SUITE / GIFT SHOP              POINT (-92.547769 43.36388)\n",
       "16TH AVE BP / CEDAR RAPIDS                    POINT (-91.667665 41.961645)\n",
       "173 CRAFT DISTILLERY                             POINT (-93.38241 43.1369)\n",
       "Name: store_location, dtype: object"
      ]
     },
     "execution_count": 19,
     "metadata": {},
     "output_type": "execute_result"
    }
   ],
   "source": [
    "# Create a mapping of county to county_number (using the most frequent county_number for each county)\n",
    "store_name_to_location = data.groupby('store_name')['store_location'].agg(lambda x: x.mode()[0] if not x.mode().empty else None)\n",
    "store_name_to_location.head()"
   ]
  },
  {
   "cell_type": "code",
   "execution_count": 20,
   "metadata": {},
   "outputs": [],
   "source": [
    "# Fill missing values in county_number based on the county mapping\n",
    "data['store_location'] = data['store_location'].fillna(data['store_name'].map(county_to_number))"
   ]
  },
  {
   "cell_type": "code",
   "execution_count": 21,
   "metadata": {},
   "outputs": [
    {
     "name": "stdout",
     "output_type": "stream",
     "text": [
      "invoice_item_number      0.000000\n",
      "date                     0.000000\n",
      "store_number             0.000000\n",
      "store_name               0.000000\n",
      "address                  0.271431\n",
      "city                     0.271427\n",
      "zip_code                 0.271645\n",
      "store_location           8.132807\n",
      "county_number            0.521059\n",
      "county                   0.521052\n",
      "category                 0.055169\n",
      "category_name            0.081385\n",
      "vendor_number            0.000029\n",
      "vendor_name              0.000023\n",
      "item_number              0.000000\n",
      "item_description         0.000000\n",
      "pack                     0.000000\n",
      "bottle_volume_(ml)       0.000000\n",
      "state_bottle_cost        0.000033\n",
      "state_bottle_retail      0.000033\n",
      "bottles_sold             0.000000\n",
      "sale_(dollars)           0.000033\n",
      "volume_sold_(liters)     0.000000\n",
      "volume_sold_(gallons)    0.000000\n",
      "dtype: float64\n"
     ]
    }
   ],
   "source": [
    "# Check the percentage of missing values per column\n",
    "missing_percentage = (data.isnull().sum() / len(data)) * 100\n",
    "print(missing_percentage)"
   ]
  },
  {
   "cell_type": "markdown",
   "metadata": {},
   "source": [
    "This action was unhelpful, there is still the same percentage of missing store locations, meaning that some locations are not available for some of the stores. \n",
    "\n",
    "As store location is a string/object, we will change the Null values in the store location with 'UNKNOWN', although bwe probably will delete these categories for the ML model. "
   ]
  },
  {
   "cell_type": "code",
   "execution_count": 22,
   "metadata": {},
   "outputs": [],
   "source": [
    "data['store_location'] = data['store_location'].fillna(\"UNKNOWN\")"
   ]
  },
  {
   "cell_type": "markdown",
   "metadata": {},
   "source": [
    "#### Category Name \n",
    "Same process as above. Although this will not benefit Machine Learning models ( as most can only compute numerical values), keeping and informing the null values is very usefull for visualisation, data analysis and recommendations. For the rest of category names, we can fill them as 'Unknown' and assign the smallest non-used number, or delete the rows with missing values altogether. "
   ]
  },
  {
   "cell_type": "code",
   "execution_count": 23,
   "metadata": {},
   "outputs": [
    {
     "data": {
      "text/plain": [
       "category\n",
       "101220.0                               None\n",
       "1011000.0                 AMERICAN WHISKIES\n",
       "1011100.0                  BLENDED WHISKIES\n",
       "1011200.0         STRAIGHT BOURBON WHISKIES\n",
       "1011250.0    SINGLE BARREL BOURBON WHISKIES\n",
       "Name: category_name, dtype: object"
      ]
     },
     "execution_count": 23,
     "metadata": {},
     "output_type": "execute_result"
    }
   ],
   "source": [
    "# Create a mapping of county to category_name (using the most frequent category_name for each category)\n",
    "category_number_to_name = data.groupby('category')['category_name'].agg(lambda x: x.mode()[0] if not x.mode().empty else None)\n",
    "category_number_to_name.head()"
   ]
  },
  {
   "cell_type": "code",
   "execution_count": 24,
   "metadata": {},
   "outputs": [],
   "source": [
    "# Fill missing values in categpry_name based on the category mapping\n",
    "data['category_name'] = data['category_name'].fillna(data['category'].map(county_to_number))"
   ]
  },
  {
   "cell_type": "code",
   "execution_count": 25,
   "metadata": {},
   "outputs": [
    {
     "name": "stdout",
     "output_type": "stream",
     "text": [
      "invoice_item_number      0.000000\n",
      "date                     0.000000\n",
      "store_number             0.000000\n",
      "store_name               0.000000\n",
      "address                  0.271431\n",
      "city                     0.271427\n",
      "zip_code                 0.271645\n",
      "store_location           0.000000\n",
      "county_number            0.521059\n",
      "county                   0.521052\n",
      "category                 0.055169\n",
      "category_name            0.081385\n",
      "vendor_number            0.000029\n",
      "vendor_name              0.000023\n",
      "item_number              0.000000\n",
      "item_description         0.000000\n",
      "pack                     0.000000\n",
      "bottle_volume_(ml)       0.000000\n",
      "state_bottle_cost        0.000033\n",
      "state_bottle_retail      0.000033\n",
      "bottles_sold             0.000000\n",
      "sale_(dollars)           0.000033\n",
      "volume_sold_(liters)     0.000000\n",
      "volume_sold_(gallons)    0.000000\n",
      "dtype: float64\n"
     ]
    }
   ],
   "source": [
    "# Check the percentage of missing values per column\n",
    "missing_percentage = (data.isnull().sum() / len(data)) * 100\n",
    "print(missing_percentage)"
   ]
  },
  {
   "cell_type": "markdown",
   "metadata": {},
   "source": [
    "#### Other columns\n",
    "\n",
    "Now that we have imputed all we could without making assumptions, considering that we have a very consequent dataset, we can delete the rows corresponding to the other null values. "
   ]
  },
  {
   "cell_type": "code",
   "execution_count": 26,
   "metadata": {},
   "outputs": [
    {
     "data": {
      "text/plain": [
       "(30767347, 24)"
      ]
     },
     "execution_count": 26,
     "metadata": {},
     "output_type": "execute_result"
    }
   ],
   "source": [
    "data.shape"
   ]
  },
  {
   "cell_type": "code",
   "execution_count": 27,
   "metadata": {},
   "outputs": [],
   "source": [
    "data = data.dropna()"
   ]
  },
  {
   "cell_type": "code",
   "execution_count": 28,
   "metadata": {},
   "outputs": [
    {
     "data": {
      "text/plain": [
       "(30582345, 24)"
      ]
     },
     "execution_count": 28,
     "metadata": {},
     "output_type": "execute_result"
    }
   ],
   "source": [
    "data.shape"
   ]
  },
  {
   "cell_type": "code",
   "execution_count": 29,
   "metadata": {},
   "outputs": [
    {
     "data": {
      "text/html": [
       "<div>\n",
       "<style scoped>\n",
       "    .dataframe tbody tr th:only-of-type {\n",
       "        vertical-align: middle;\n",
       "    }\n",
       "\n",
       "    .dataframe tbody tr th {\n",
       "        vertical-align: top;\n",
       "    }\n",
       "\n",
       "    .dataframe thead th {\n",
       "        text-align: right;\n",
       "    }\n",
       "</style>\n",
       "<table border=\"1\" class=\"dataframe\">\n",
       "  <thead>\n",
       "    <tr style=\"text-align: right;\">\n",
       "      <th></th>\n",
       "      <th>invoice_item_number</th>\n",
       "      <th>date</th>\n",
       "      <th>store_number</th>\n",
       "      <th>store_name</th>\n",
       "      <th>address</th>\n",
       "      <th>city</th>\n",
       "      <th>zip_code</th>\n",
       "      <th>store_location</th>\n",
       "      <th>county_number</th>\n",
       "      <th>county</th>\n",
       "      <th>category</th>\n",
       "      <th>category_name</th>\n",
       "      <th>vendor_number</th>\n",
       "      <th>vendor_name</th>\n",
       "      <th>item_number</th>\n",
       "      <th>item_description</th>\n",
       "      <th>pack</th>\n",
       "      <th>bottle_volume_(ml)</th>\n",
       "      <th>state_bottle_cost</th>\n",
       "      <th>state_bottle_retail</th>\n",
       "      <th>bottles_sold</th>\n",
       "      <th>sale_(dollars)</th>\n",
       "      <th>volume_sold_(liters)</th>\n",
       "      <th>volume_sold_(gallons)</th>\n",
       "    </tr>\n",
       "  </thead>\n",
       "  <tbody>\n",
       "    <tr>\n",
       "      <th>0</th>\n",
       "      <td>INV-10004700134</td>\n",
       "      <td>2018-01-25</td>\n",
       "      <td>4988</td>\n",
       "      <td>HAPPY'S WINE &amp; SPIRITS</td>\n",
       "      <td>5925 UNIVERSITY AVE</td>\n",
       "      <td>CEDAR FALLS</td>\n",
       "      <td>50613.0</td>\n",
       "      <td>POINT (-92.429331 42.512766)</td>\n",
       "      <td>7.0</td>\n",
       "      <td>BLACK HAWK</td>\n",
       "      <td>1011200.0</td>\n",
       "      <td>STRAIGHT BOURBON WHISKIES</td>\n",
       "      <td>65.0</td>\n",
       "      <td>JIM BEAM BRANDS</td>\n",
       "      <td>19112</td>\n",
       "      <td>JIM BEAM DEVIL'S CUT</td>\n",
       "      <td>12</td>\n",
       "      <td>750</td>\n",
       "      <td>15.07</td>\n",
       "      <td>22.61</td>\n",
       "      <td>2</td>\n",
       "      <td>45.22</td>\n",
       "      <td>1.50</td>\n",
       "      <td>0.40</td>\n",
       "    </tr>\n",
       "    <tr>\n",
       "      <th>1</th>\n",
       "      <td>INV-10009800080</td>\n",
       "      <td>2018-01-25</td>\n",
       "      <td>2582</td>\n",
       "      <td>HY-VEE #2 FOOD STORE / MASON CITY</td>\n",
       "      <td>551 S ILLINOIS AVE</td>\n",
       "      <td>MASON CITY</td>\n",
       "      <td>50401.0</td>\n",
       "      <td>POINT (-93.17114 43.14623)</td>\n",
       "      <td>17.0</td>\n",
       "      <td>CERRO GORDO</td>\n",
       "      <td>1011400.0</td>\n",
       "      <td>TENNESSEE WHISKIES</td>\n",
       "      <td>85.0</td>\n",
       "      <td>BROWN FORMAN CORP.</td>\n",
       "      <td>26585</td>\n",
       "      <td>GENTLEMAN JACK</td>\n",
       "      <td>12</td>\n",
       "      <td>375</td>\n",
       "      <td>8.50</td>\n",
       "      <td>12.75</td>\n",
       "      <td>3</td>\n",
       "      <td>36.00</td>\n",
       "      <td>1.12</td>\n",
       "      <td>0.30</td>\n",
       "    </tr>\n",
       "    <tr>\n",
       "      <th>2</th>\n",
       "      <td>INV-10020300040</td>\n",
       "      <td>2018-01-25</td>\n",
       "      <td>4696</td>\n",
       "      <td>QUIK TRIP #517 / WEST DES MOINES</td>\n",
       "      <td>1451 22ND ST</td>\n",
       "      <td>WEST DES MOINES</td>\n",
       "      <td>50266.0</td>\n",
       "      <td>POINT (-93.735967 41.59527)</td>\n",
       "      <td>77.0</td>\n",
       "      <td>POLK</td>\n",
       "      <td>1031100.0</td>\n",
       "      <td>AMERICAN VODKAS</td>\n",
       "      <td>205.0</td>\n",
       "      <td>E &amp; J GALLO WINERY</td>\n",
       "      <td>36968</td>\n",
       "      <td>NEW AMSTERDAM VODKA</td>\n",
       "      <td>24</td>\n",
       "      <td>375</td>\n",
       "      <td>3.50</td>\n",
       "      <td>5.25</td>\n",
       "      <td>10</td>\n",
       "      <td>52.50</td>\n",
       "      <td>3.75</td>\n",
       "      <td>0.99</td>\n",
       "    </tr>\n",
       "    <tr>\n",
       "      <th>3</th>\n",
       "      <td>INV-10084700039</td>\n",
       "      <td>2018-01-30</td>\n",
       "      <td>5060</td>\n",
       "      <td>L&amp;M MIGHTY SHOP</td>\n",
       "      <td>504, E BURLINGTON ST</td>\n",
       "      <td>IOWA CITY</td>\n",
       "      <td>52240.0</td>\n",
       "      <td>POINT (-91.52843 41.657818)</td>\n",
       "      <td>52.0</td>\n",
       "      <td>JOHNSON</td>\n",
       "      <td>1031100.0</td>\n",
       "      <td>AMERICAN VODKAS</td>\n",
       "      <td>259.0</td>\n",
       "      <td>HEAVEN HILL BRANDS</td>\n",
       "      <td>35416</td>\n",
       "      <td>BURNETT'S VODKA 80 PRF</td>\n",
       "      <td>12</td>\n",
       "      <td>750</td>\n",
       "      <td>4.48</td>\n",
       "      <td>6.72</td>\n",
       "      <td>2</td>\n",
       "      <td>13.44</td>\n",
       "      <td>1.50</td>\n",
       "      <td>0.40</td>\n",
       "    </tr>\n",
       "    <tr>\n",
       "      <th>4</th>\n",
       "      <td>INV-10023000115</td>\n",
       "      <td>2018-01-25</td>\n",
       "      <td>2561</td>\n",
       "      <td>HY-VEE FOOD STORE / FLEUR / DSM</td>\n",
       "      <td>4605 FLEUR DRIVE</td>\n",
       "      <td>DES MOINES</td>\n",
       "      <td>50321.0</td>\n",
       "      <td>POINT (-93.64494300000001 41.542748)</td>\n",
       "      <td>77.0</td>\n",
       "      <td>POLK</td>\n",
       "      <td>1062400.0</td>\n",
       "      <td>SPICED RUM</td>\n",
       "      <td>259.0</td>\n",
       "      <td>HEAVEN HILL BRANDS</td>\n",
       "      <td>43028</td>\n",
       "      <td>ADMIRAL NELSON SPICED RUM</td>\n",
       "      <td>6</td>\n",
       "      <td>1750</td>\n",
       "      <td>11.55</td>\n",
       "      <td>17.33</td>\n",
       "      <td>6</td>\n",
       "      <td>103.98</td>\n",
       "      <td>10.50</td>\n",
       "      <td>2.77</td>\n",
       "    </tr>\n",
       "  </tbody>\n",
       "</table>\n",
       "</div>"
      ],
      "text/plain": [
       "  invoice_item_number       date  store_number  \\\n",
       "0     INV-10004700134 2018-01-25          4988   \n",
       "1     INV-10009800080 2018-01-25          2582   \n",
       "2     INV-10020300040 2018-01-25          4696   \n",
       "3     INV-10084700039 2018-01-30          5060   \n",
       "4     INV-10023000115 2018-01-25          2561   \n",
       "\n",
       "                          store_name               address             city  \\\n",
       "0             HAPPY'S WINE & SPIRITS   5925 UNIVERSITY AVE      CEDAR FALLS   \n",
       "1  HY-VEE #2 FOOD STORE / MASON CITY    551 S ILLINOIS AVE       MASON CITY   \n",
       "2   QUIK TRIP #517 / WEST DES MOINES          1451 22ND ST  WEST DES MOINES   \n",
       "3                    L&M MIGHTY SHOP  504, E BURLINGTON ST        IOWA CITY   \n",
       "4    HY-VEE FOOD STORE / FLEUR / DSM      4605 FLEUR DRIVE       DES MOINES   \n",
       "\n",
       "  zip_code                        store_location  county_number       county  \\\n",
       "0  50613.0          POINT (-92.429331 42.512766)            7.0   BLACK HAWK   \n",
       "1  50401.0            POINT (-93.17114 43.14623)           17.0  CERRO GORDO   \n",
       "2  50266.0           POINT (-93.735967 41.59527)           77.0         POLK   \n",
       "3  52240.0           POINT (-91.52843 41.657818)           52.0      JOHNSON   \n",
       "4  50321.0  POINT (-93.64494300000001 41.542748)           77.0         POLK   \n",
       "\n",
       "    category              category_name  vendor_number         vendor_name  \\\n",
       "0  1011200.0  STRAIGHT BOURBON WHISKIES           65.0     JIM BEAM BRANDS   \n",
       "1  1011400.0         TENNESSEE WHISKIES           85.0  BROWN FORMAN CORP.   \n",
       "2  1031100.0            AMERICAN VODKAS          205.0  E & J GALLO WINERY   \n",
       "3  1031100.0            AMERICAN VODKAS          259.0  HEAVEN HILL BRANDS   \n",
       "4  1062400.0                 SPICED RUM          259.0  HEAVEN HILL BRANDS   \n",
       "\n",
       "   item_number           item_description  pack  bottle_volume_(ml)  \\\n",
       "0        19112       JIM BEAM DEVIL'S CUT    12                 750   \n",
       "1        26585             GENTLEMAN JACK    12                 375   \n",
       "2        36968        NEW AMSTERDAM VODKA    24                 375   \n",
       "3        35416     BURNETT'S VODKA 80 PRF    12                 750   \n",
       "4        43028  ADMIRAL NELSON SPICED RUM     6                1750   \n",
       "\n",
       "   state_bottle_cost  state_bottle_retail  bottles_sold  sale_(dollars)  \\\n",
       "0              15.07                22.61             2           45.22   \n",
       "1               8.50                12.75             3           36.00   \n",
       "2               3.50                 5.25            10           52.50   \n",
       "3               4.48                 6.72             2           13.44   \n",
       "4              11.55                17.33             6          103.98   \n",
       "\n",
       "   volume_sold_(liters)  volume_sold_(gallons)  \n",
       "0                  1.50                   0.40  \n",
       "1                  1.12                   0.30  \n",
       "2                  3.75                   0.99  \n",
       "3                  1.50                   0.40  \n",
       "4                 10.50                   2.77  "
      ]
     },
     "execution_count": 29,
     "metadata": {},
     "output_type": "execute_result"
    }
   ],
   "source": [
    "data.head()"
   ]
  },
  {
   "cell_type": "code",
   "execution_count": 30,
   "metadata": {},
   "outputs": [
    {
     "data": {
      "text/plain": [
       "invoice_item_number      0\n",
       "date                     0\n",
       "store_number             0\n",
       "store_name               0\n",
       "address                  0\n",
       "city                     0\n",
       "zip_code                 0\n",
       "store_location           0\n",
       "county_number            0\n",
       "county                   0\n",
       "category                 0\n",
       "category_name            0\n",
       "vendor_number            0\n",
       "vendor_name              0\n",
       "item_number              0\n",
       "item_description         0\n",
       "pack                     0\n",
       "bottle_volume_(ml)       0\n",
       "state_bottle_cost        0\n",
       "state_bottle_retail      0\n",
       "bottles_sold             0\n",
       "sale_(dollars)           0\n",
       "volume_sold_(liters)     0\n",
       "volume_sold_(gallons)    0\n",
       "dtype: int64"
      ]
     },
     "execution_count": 30,
     "metadata": {},
     "output_type": "execute_result"
    }
   ],
   "source": [
    "data.isnull().sum()"
   ]
  },
  {
   "cell_type": "code",
   "execution_count": 31,
   "metadata": {},
   "outputs": [
    {
     "data": {
      "text/plain": [
       "invoice_item_number              object\n",
       "date                     datetime64[ns]\n",
       "store_number                      int64\n",
       "store_name                       object\n",
       "address                          object\n",
       "city                             object\n",
       "zip_code                         object\n",
       "store_location                   object\n",
       "county_number                   float64\n",
       "county                           object\n",
       "category                        float64\n",
       "category_name                    object\n",
       "vendor_number                   float64\n",
       "vendor_name                      object\n",
       "item_number                       int64\n",
       "item_description                 object\n",
       "pack                              int64\n",
       "bottle_volume_(ml)                int64\n",
       "state_bottle_cost               float64\n",
       "state_bottle_retail             float64\n",
       "bottles_sold                      int64\n",
       "sale_(dollars)                  float64\n",
       "volume_sold_(liters)            float64\n",
       "volume_sold_(gallons)           float64\n",
       "dtype: object"
      ]
     },
     "execution_count": 31,
     "metadata": {},
     "output_type": "execute_result"
    }
   ],
   "source": [
    "data.dtypes"
   ]
  },
  {
   "cell_type": "code",
   "execution_count": 32,
   "metadata": {},
   "outputs": [],
   "source": [
    "data_post_covid = data[(data['date'].dt.year >= 2021)].copy()\n"
   ]
  },
  {
   "cell_type": "code",
   "execution_count": 33,
   "metadata": {},
   "outputs": [],
   "source": [
    "data.to_csv(\"G:\\\\Mon Drive\\\\RCG\\\\Iowa_Liquor_Sales_Cleaned.csv\", index=False)\n",
    "#data_post_covid.to_csv(\"G:\\\\Mon Drive\\\\RCG\\\\Iowa_Liquor_Sales_Post_Covid.csv\", index=False)"
   ]
  },
  {
   "cell_type": "code",
   "execution_count": 34,
   "metadata": {},
   "outputs": [],
   "source": [
    "data_post_covid.to_csv(\"G:\\\\Mon Drive\\\\RCG\\\\Iowa_Liquor_Sales_Post_Covid.csv\", index=False)"
   ]
  },
  {
   "cell_type": "code",
   "execution_count": null,
   "metadata": {},
   "outputs": [],
   "source": []
  }
 ],
 "metadata": {
  "kernelspec": {
   "display_name": "base",
   "language": "python",
   "name": "python3"
  },
  "language_info": {
   "codemirror_mode": {
    "name": "ipython",
    "version": 3
   },
   "file_extension": ".py",
   "mimetype": "text/x-python",
   "name": "python",
   "nbconvert_exporter": "python",
   "pygments_lexer": "ipython3",
   "version": "3.11.7"
  }
 },
 "nbformat": 4,
 "nbformat_minor": 2
}
