{
  "cells": [
    {
      "cell_type": "markdown",
      "metadata": {
        "id": "view-in-github",
        "colab_type": "text"
      },
      "source": [
        "<a href=\"https://colab.research.google.com/github/maudlcrf/rcg/blob/main/group_project/eda_post_covid.ipynb\" target=\"_parent\"><img src=\"https://colab.research.google.com/assets/colab-badge.svg\" alt=\"Open In Colab\"/></a>"
      ]
    },
    {
      "cell_type": "markdown",
      "metadata": {
        "id": "wcKP94EiuQUR"
      },
      "source": [
        "#### AI for Retail & Consumer Goods | Group Project | MBD April 2024\n",
        "\n",
        "Group Members: Maud Lecerf | Cristina Mosquera | Christopher Stephan"
      ]
    },
    {
      "cell_type": "markdown",
      "metadata": {
        "id": "cfV1BYgAuQUS"
      },
      "source": [
        "# Imports & Color Palette"
      ]
    },
    {
      "cell_type": "code",
      "execution_count": null,
      "metadata": {
        "id": "hDkJhlkNuQUS"
      },
      "outputs": [],
      "source": [
        "import pandas as pd\n",
        "import numpy as np\n",
        "import plotly.express as px\n",
        "import plotly.io as pio\n",
        "from google.colab import drive"
      ]
    },
    {
      "cell_type": "code",
      "execution_count": null,
      "metadata": {
        "id": "mFHoQn1NuQUT"
      },
      "outputs": [],
      "source": [
        "import warnings\n",
        "warnings.filterwarnings(\"ignore\", category=FutureWarning)\n",
        "warnings.filterwarnings(\"ignore\", category=pd.errors.SettingWithCopyWarning)\n",
        "warnings.filterwarnings(\"ignore\", category=DeprecationWarning)"
      ]
    },
    {
      "cell_type": "code",
      "execution_count": null,
      "metadata": {
        "id": "Hs_KGKHquQUT"
      },
      "outputs": [],
      "source": [
        "# Custom Theme\n",
        "iowa = {\n",
        "    \"layout\": {\n",
        "        \"colorway\": [\"#4c3624\", \"#ff0651\", \"#ff7e06\", \"#74B36B\", \"#628395\",\n",
        "                     \"#996C48\", \"#FF5C8D\", \"#FF9633\", \"#8CC084\", \"#84A0AE\",\n",
        "                     \"#B78B66\", \"#FF85A9\", \"#FFB570\", \"#A7CEA1\", \"#A9BCC7\"],\n",
        "        \"plot_bgcolor\": \"white\",\n",
        "        \"paper_bgcolor\": \"white\",\n",
        "        \"font\": {\"color\": \"black\"},\n",
        "        \"xaxis\": {\"gridcolor\": \"lightgray\"},\n",
        "        \"yaxis\": {\"gridcolor\": \"lightgray\"},\n",
        "    }\n",
        "}\n",
        "\n",
        "# Register themes\n",
        "pio.templates[\"iowa\"] = iowa"
      ]
    },
    {
      "cell_type": "code",
      "execution_count": null,
      "metadata": {
        "id": "4a8QcmueuQUT"
      },
      "outputs": [],
      "source": [
        "#data_post_covid = pd.read_csv(\"G:\\\\Drive partagés\\\\RCG\\\\Iowa_Liquor_Sales_Post_Covid.csv\") #Maud\n",
        "\n",
        "drive.mount('/content/drive') #Cris\n",
        "data_post_covid = pd.read_csv(\"/content/drive/MyDrive/Iowa_Liquor_Sales_Post_Covid.csv\") #Cris"
      ]
    },
    {
      "cell_type": "markdown",
      "metadata": {
        "id": "ROz3Te0duQUU"
      },
      "source": [
        "## Splitting the data into alcohol types"
      ]
    },
    {
      "cell_type": "code",
      "execution_count": null,
      "metadata": {
        "id": "12YWwl4RuQUU"
      },
      "outputs": [],
      "source": [
        "## Regrouping the original categories into alcohol types\n",
        "# Define mapping of keywords to subcategories\n",
        "category_mapping = {\n",
        "    'RUM': 'RUM',\n",
        "    'VODKA': 'VODKAS',\n",
        "    'VODKAS': 'VODKAS',\n",
        "    'SCHNAPPS': 'SCHNAPPS',\n",
        "    'BRANDIES': 'BRANDIES',\n",
        "    'WHISKIES': 'WHISKIES',\n",
        "    'SCOTCH': 'WHISKIES',\n",
        "    'GINS': 'GINS',\n",
        "    'GIN': 'GINS',\n",
        "    'MEZCAL': 'MEZCAL',\n",
        "    'TEQUILA': 'TEQUILA',\n",
        "    'BOURBON': 'BOURBON',\n",
        "    'LIQUEURS': 'LIQUEURS',\n",
        "    'LIQUEUR':'LIQUEURS',\n",
        "    'AMARETTO': 'AMARETTO',\n",
        "    'CREME': 'CREME'\n",
        "}\n",
        "\n",
        "# Create a new column and assign \"OTHERS\" by default\n",
        "data_post_covid['alcohol_type'] = 'OTHERS'\n",
        "\n",
        "# Loop through mapping and assign subcategories\n",
        "for keyword, alcohol_type in category_mapping.items():\n",
        "    data_post_covid.loc[data_post_covid['category_name'].str.contains(keyword, case=False, na=False, regex=True), 'alcohol_type'] = alcohol_type\n",
        "\n"
      ]
    },
    {
      "cell_type": "code",
      "execution_count": null,
      "metadata": {
        "id": "lmYQKcdeuQUU"
      },
      "outputs": [],
      "source": [
        "data_post_covid.nunique()"
      ]
    },
    {
      "cell_type": "code",
      "execution_count": null,
      "metadata": {
        "id": "LEKD1BUQuQUU"
      },
      "outputs": [],
      "source": [
        "data_post_covid['alcohol_type'].value_counts()"
      ]
    },
    {
      "cell_type": "code",
      "source": [
        "data_post_covid['category_name'].value_counts()"
      ],
      "metadata": {
        "id": "kjRTavVfyfB9"
      },
      "execution_count": null,
      "outputs": []
    },
    {
      "cell_type": "code",
      "execution_count": null,
      "metadata": {
        "id": "aeT_j_BquQUV"
      },
      "outputs": [],
      "source": [
        "#separating the columns into numerical and categorical as it my be helpful later on\n",
        "numerical_cols = ['pack', 'bottle_volume_(ml)', 'state_bottle_cost', 'state_bottle_retail', 'bottles_sold', 'sale_(dollars)',\n",
        "                  'volume_sold_(liters)', 'volume_sold_(gallons)' ]\n",
        "categorical_cols = ['invoice_item_number', 'date', 'store_number', 'store_name', 'address',\n",
        "       'city', 'zip_code', 'store_location', 'county_number', 'county',\n",
        "       'category', 'category_name', 'vendor_number', 'vendor_name',\n",
        "       'item_number', 'item_description' ]"
      ]
    },
    {
      "cell_type": "code",
      "execution_count": null,
      "metadata": {
        "id": "HwVL583SuQUV"
      },
      "outputs": [],
      "source": [
        "data_post_covid['date'] = pd.to_datetime(data_post_covid['date'])\n",
        "\n",
        "# Create new columns\n",
        "data_post_covid['year'] = data_post_covid['date'].dt.year\n",
        "data_post_covid['month'] = data_post_covid['date'].dt.month\n",
        "data_post_covid['year_month'] = data_post_covid['date'].dt.to_period('M')\n",
        "data_post_covid['weekday'] = data_post_covid['date'].dt.weekday\n",
        "\n",
        "# Grouping data by alcohol\n",
        "data_yearly_alcohol = data_post_covid.groupby(['year', 'alcohol_type'])[numerical_cols].sum().reset_index()\n",
        "data_monthly_alcohol = data_post_covid.groupby(['year', 'month', 'alcohol_type'])[numerical_cols].sum().reset_index()\n",
        "data_year_month_alcohol = data_post_covid.groupby(['year_month', 'alcohol_type'])[numerical_cols].sum().reset_index()\n",
        "data_weekday_alcohol = data_post_covid.groupby(['weekday', 'alcohol_type'])[numerical_cols].sum().reset_index()"
      ]
    },
    {
      "cell_type": "code",
      "source": [
        "# Grouping data by category\n",
        "data_yearly_category = data_post_covid.groupby(['year', 'category_name'])[numerical_cols].sum().reset_index()\n",
        "data_monthly_category = data_post_covid.groupby(['year', 'month', 'category_name'])[numerical_cols].sum().reset_index()\n",
        "data_year_month_category = data_post_covid.groupby(['year_month', 'category_name'])[numerical_cols].sum().reset_index()\n",
        "data_weekday_category = data_post_covid.groupby(['weekday', 'category_name'])[numerical_cols].sum().reset_index()"
      ],
      "metadata": {
        "id": "tasRQ3yOyuTm"
      },
      "execution_count": null,
      "outputs": []
    },
    {
      "cell_type": "code",
      "execution_count": null,
      "metadata": {
        "id": "UQySm9GuuQUV"
      },
      "outputs": [],
      "source": [
        "px.bar(data_yearly_alcohol, x='year', y='volume_sold_(liters)', color= 'alcohol_type', template = iowa)"
      ]
    },
    {
      "cell_type": "code",
      "execution_count": null,
      "metadata": {
        "id": "F_Shc1pguQUV"
      },
      "outputs": [],
      "source": [
        "px.line(data_yearly_alcohol, x='year', y='volume_sold_(liters)', color= 'alcohol_type', template = iowa)"
      ]
    },
    {
      "cell_type": "code",
      "execution_count": null,
      "metadata": {
        "id": "dSimsikcuQUV"
      },
      "outputs": [],
      "source": [
        "px.bar(data_yearly_alcohol, x='year', y='bottles_sold', color= 'alcohol_type', template = iowa)"
      ]
    },
    {
      "cell_type": "code",
      "execution_count": null,
      "metadata": {
        "id": "AEjp9w4DuQUV"
      },
      "outputs": [],
      "source": [
        "px.line(data_yearly_alcohol, x='year', y='bottles_sold', color= 'alcohol_type', template = iowa)"
      ]
    },
    {
      "cell_type": "code",
      "execution_count": null,
      "metadata": {
        "id": "jhlu6JrpuQUV"
      },
      "outputs": [],
      "source": [
        "px.bar(data_yearly_alcohol, x='year', y='sale_(dollars)', color= 'alcohol_type', template = iowa)"
      ]
    },
    {
      "cell_type": "code",
      "execution_count": null,
      "metadata": {
        "id": "6AAbTpF0uQUW"
      },
      "outputs": [],
      "source": [
        "px.line(data_yearly_alcohol, x='year', y='sale_(dollars)', color= 'alcohol_type', template = iowa)"
      ]
    },
    {
      "cell_type": "code",
      "execution_count": null,
      "metadata": {
        "id": "CHzyizk4uQUW"
      },
      "outputs": [],
      "source": [
        "#Creating new features to understand the performance of each cateogry\n",
        "\n",
        "# Price related features\n",
        "data_post_covid['price_per_liter'] = data_post_covid['state_bottle_retail'] / data_post_covid['bottle_volume_(ml)'] * 1000\n",
        "data_post_covid['profit_per_bottle'] = data_post_covid['state_bottle_retail'] - data_post_covid['state_bottle_cost']\n",
        "data_post_covid['profit_margin'] = (data_post_covid['profit_per_bottle'] / data_post_covid['state_bottle_retail']) * 100\n",
        "\n",
        "\n",
        "# Sales performance features\n",
        "data_post_covid['sales_per_store'] = data_post_covid.groupby(['store_number', 'year_month'])['sale_(dollars)'].transform('sum')\n",
        "\n",
        "\n",
        "# Time based features\n",
        "data_post_covid['is_weekend'] = data_post_covid['weekday'].isin([5,6]).astype(int)\n",
        "data_post_covid['quarter'] = data_post_covid['date'].dt.quarter"
      ]
    },
    {
      "cell_type": "markdown",
      "source": [
        "#Sales"
      ],
      "metadata": {
        "id": "lkUJ1hAQzMrR"
      }
    },
    {
      "cell_type": "code",
      "source": [
        "# Evolutions of sales per category\n",
        "fig = px.line(data_yearly_category,\n",
        "              x='year',\n",
        "              y='sale_(dollars)',\n",
        "              color='category_name',\n",
        "              title='Evolution of Sales by Category per Year',\n",
        "              template='iowa')\n",
        "fig.show()\n"
      ],
      "metadata": {
        "id": "tLbaIFsXzOeZ"
      },
      "execution_count": null,
      "outputs": []
    },
    {
      "cell_type": "markdown",
      "source": [
        "Since we cannot see any peaks of find a specific pattern, we'll try to find it in the % growth of sales."
      ],
      "metadata": {
        "id": "zcsjj3Sh6Yud"
      }
    },
    {
      "cell_type": "code",
      "source": [
        "# Calculate year-over-year sales growth for each category\n",
        "sales_growth = data_yearly_category.copy()\n",
        "sales_growth['sales_growth'] = sales_growth.groupby('category_name')['sale_(dollars)'].pct_change() * 100\n",
        "\n",
        "# Fill NaN values with 0\n",
        "sales_growth['sales_growth'] = sales_growth['sales_growth'].fillna(0)\n",
        "\n",
        "# Display the sales growth\n",
        "print(sales_growth[['year', 'category_name', 'sale_(dollars)', 'sales_growth']])\n"
      ],
      "metadata": {
        "id": "4ABIgmQU1wh5"
      },
      "execution_count": null,
      "outputs": []
    },
    {
      "cell_type": "code",
      "source": [
        "# Plotting the growth of each category\n",
        "fig_sales_growth = px.line(sales_growth,\n",
        "                           x='year',\n",
        "                           y='sales_growth',\n",
        "                           color='category_name',\n",
        "                           title='Year-over-Year Sales Growth by Category',\n",
        "                           template='iowa')\n",
        "fig_sales_growth.show()\n"
      ],
      "metadata": {
        "id": "MASfBN5o1gWM"
      },
      "execution_count": null,
      "outputs": []
    },
    {
      "cell_type": "markdown",
      "source": [
        "it's a lot of information making it hard to analyze, let's filter by the % of fluctuation in sales growth, to see the categories that have growth or decrease their sales the most\n"
      ],
      "metadata": {
        "id": "5un_IVup7A6H"
      }
    },
    {
      "cell_type": "code",
      "source": [
        "# Calculate the absolute value of sales growth\n",
        "sales_growth['abs_sales_growth'] = abs(sales_growth['sales_growth'])\n",
        "\n",
        "# Find categories with the highest absolute sales growth\n",
        "most_fluctuating = sales_growth.groupby('category_name')['abs_sales_growth'].mean().sort_values(ascending=False)\n",
        "\n",
        "# Threshold 20% of fluctuation\n",
        "threshold = 20\n",
        "highly_fluctuating_categories = sales_growth[sales_growth['abs_sales_growth'] > threshold]\n",
        "print(\"\\nCategories with absolute sales growth greater than\", threshold, \"%:\")\n",
        "highly_fluctuating_categories\n"
      ],
      "metadata": {
        "id": "rZG2WVnG4XW3"
      },
      "execution_count": null,
      "outputs": []
    },
    {
      "cell_type": "code",
      "source": [
        "# Filter data for years starting from 2021\n",
        "sales_growth_2021 = sales_growth[sales_growth['year'] >= 2021]\n",
        "\n",
        "# Plotting the growth of highly fluctuating categories from 2021 onwards\n",
        "fig_highly_fluctuating = px.line(sales_growth_2021[sales_growth_2021['category_name'].isin(highly_fluctuating_categories['category_name'])],\n",
        "                                 x='year',\n",
        "                                 y='sales_growth',\n",
        "                                 color='category_name',\n",
        "                                 title='Year-over-Year Sales Growth of Highly Fluctuating Categories (2021-2024)',\n",
        "                                 template='iowa')\n",
        "fig_highly_fluctuating.show()\n"
      ],
      "metadata": {
        "id": "8cKvvvzn5EUZ"
      },
      "execution_count": null,
      "outputs": []
    },
    {
      "cell_type": "markdown",
      "source": [
        "The following categories don't have a continuis line, they stop at year 2022. Let's understand what hapenned\n",
        "- imported gins\n",
        "- imported whiskies\n",
        "- destilled spirits specialty"
      ],
      "metadata": {
        "id": "ztLEpdcZ6kf4"
      }
    },
    {
      "cell_type": "code",
      "source": [
        "# Filter data for specific categories\n",
        "imported_gins = data_yearly_category[data_yearly_category['category_name'] == 'IMPORTED GINS']\n",
        "imported_whiskies = data_yearly_category[data_yearly_category['category_name'] == 'IMPORTED WHISKIES']\n",
        "distilled_spirits = data_yearly_category[data_yearly_category['category_name'] == 'DISTILLED SPIRITS SPECIALTY']\n",
        "\n",
        "# Check if data exists for each category\n",
        "if not imported_gins.empty:\n",
        "    print(\"Data available for Imported Gins:\")\n",
        "    print(imported_gins[['year', 'sale_(dollars)']])\n",
        "else:\n",
        "    print(\"No data found for Imported Gins.\")\n",
        "\n",
        "if not imported_whiskies.empty:\n",
        "    print(\"\\nData available for Imported Whiskies:\")\n",
        "    print(imported_whiskies[['year', 'sale_(dollars)']])\n",
        "else:\n",
        "    print(\"No data found for Imported Whiskies.\")\n",
        "\n",
        "if not distilled_spirits.empty:\n",
        "    print(\"\\nData available for Distilled Spirits Specialty:\")\n",
        "    print(distilled_spirits[['year', 'category_name', 'sale_(dollars)']])\n",
        "else:\n",
        "    print(\"No data found for Distilled Spirits Specialty.\")\n"
      ],
      "metadata": {
        "id": "W-7nsQRk19g1"
      },
      "execution_count": null,
      "outputs": []
    },
    {
      "cell_type": "markdown",
      "source": [
        "Since we dont have data of these 3 categories for the last 2 years, we are not going to take them into consideration in the post covid analysis."
      ],
      "metadata": {
        "id": "ThntuNRl2gWO"
      }
    },
    {
      "cell_type": "markdown",
      "source": [
        "These three categories were the worst performers in 2022. This could be the reason they stopped buying in 2023."
      ],
      "metadata": {
        "id": "HAZ9YugH7NxA"
      }
    },
    {
      "cell_type": "code",
      "source": [
        "# Count category names per alcohol type in highly_fluctuating_categories\n",
        "category_counts_fluctuating  = highly_fluctuating_categories.groupby('alcohol_type')['category_name'].nunique()\n",
        "category_counts_fluctuating\n"
      ],
      "metadata": {
        "id": "FJklBEazlAzN"
      },
      "execution_count": null,
      "outputs": []
    },
    {
      "cell_type": "code",
      "source": [
        "# Count category names per alcohol type\n",
        "category_counts = data_post_covid.groupby('alcohol_type')['category_name'].nunique()\n",
        "category_counts"
      ],
      "metadata": {
        "id": "2yc3hCnZj8f0"
      },
      "execution_count": null,
      "outputs": []
    },
    {
      "cell_type": "markdown",
      "source": [
        "\n",
        "- Bourbon: 66% of the categories have more than 20% fluctuations in sales growth/decrease.\n",
        "- Gins: 40% of the categories have more than 20% fluctuations in sales growth/decrease.\n",
        "- Others: 44% of the categories have more than 20% fluctuations in sales growth/decrease.\n",
        "- Whiskies: 30% of the categories have more than 20% fluctuations in sales growth/decrease.\n"
      ],
      "metadata": {
        "id": "QDdlFp2plwwR"
      }
    },
    {
      "cell_type": "markdown",
      "source": [
        "Let's dig into the sales per alcohol type so we have more details about these fluctuations.\n"
      ],
      "metadata": {
        "id": "ToYXRx0QnVuG"
      }
    },
    {
      "cell_type": "markdown",
      "source": [
        "## Sales per Alcohol type"
      ],
      "metadata": {
        "id": "dCA9iEGanpLs"
      }
    },
    {
      "cell_type": "code",
      "source": [
        "# Merge 'sales_growth' with 'data_post_covid' to include 'alcohol_type'\n",
        "sales_growth = pd.merge(sales_growth, data_post_covid[['category_name', 'alcohol_type']], on='category_name', how='left')\n",
        "\n",
        "# Display the updated sales_growth DataFrame\n",
        "sales_growth\n"
      ],
      "metadata": {
        "id": "IH8hEml51T-9"
      },
      "execution_count": null,
      "outputs": []
    },
    {
      "cell_type": "markdown",
      "source": [
        "### Bourbon"
      ],
      "metadata": {
        "id": "fiVhcxFgn_dw"
      }
    },
    {
      "cell_type": "code",
      "source": [
        "# Filter data for Bourbon\n",
        "bourbon_data = data_yearly_alcohol[data_yearly_alcohol['alcohol_type'] == 'BOURBON']\n",
        "\n",
        "# Create the line plot\n",
        "fig = px.line(bourbon_data,\n",
        "              x='year',\n",
        "              y='sale_(dollars)',\n",
        "              title='Bourbon Sales Over Time',\n",
        "              template='iowa')\n",
        "\n",
        "# Update x-axis to display integer years\n",
        "fig.update_xaxes(type='category')\n",
        "\n",
        "fig.show()\n"
      ],
      "metadata": {
        "id": "efFMec6Sn-9_"
      },
      "execution_count": null,
      "outputs": []
    },
    {
      "cell_type": "markdown",
      "source": [
        "We can see a clear increase in sales over the past 4 years."
      ],
      "metadata": {
        "id": "rr8WqmdCor5k"
      }
    },
    {
      "cell_type": "code",
      "source": [
        "# Filter sales_growth for 'BOURBON'\n",
        "bourbon_sales_growth = sales_growth[sales_growth['alcohol_type'] == 'BOURBON']\n",
        "\n",
        "# Create the plot\n",
        "fig_bourbon_growth = px.line(bourbon_sales_growth,\n",
        "                             x='year',\n",
        "                             y='sales_growth',\n",
        "                             color='category_name',\n",
        "                             title='Bourbon Sales Growth by Category over the Years',\n",
        "                             template='iowa')\n",
        "fig_bourbon_growth.show()\n"
      ],
      "metadata": {
        "id": "uEpLqfQM1mu-"
      },
      "execution_count": null,
      "outputs": []
    },
    {
      "cell_type": "markdown",
      "source": [
        "- SINGLE BARREL BOURBON WHISKIES experienced significant growth, peaking in 2023 with around 69% growth but then saw a sharp decline to below zero in 2024, indicating a major drop in sales.\n",
        "\n",
        "- BOTTLED IN BOND BOURBON had steady growth, reaching its highest point in 2022 (37%) but slightly declined in 2023 and then dropped close to zero in 2024.\n",
        "\n",
        "- STRAIGHT BOURBON WHISKIES maintained modest and steady growth throughout the period, peaking slightly in 2023 before a minor decline in 2024, though still positive."
      ],
      "metadata": {
        "id": "QNRbpZPhp2HY"
      }
    },
    {
      "cell_type": "markdown",
      "source": [
        "The fluctuations show highly volatile categories within the bourbon.\n",
        "\n",
        "\n",
        "\n",
        "\n",
        "\n",
        "\n",
        "\n"
      ],
      "metadata": {
        "id": "ne2IuGo4qBv7"
      }
    },
    {
      "cell_type": "code",
      "source": [
        "# Filter data for Bourbon categories\n",
        "bourbon_categories = sales_growth[sales_growth['alcohol_type'] == 'BOURBON']\n",
        "\n",
        "# Group by category_name and sum the sales\n",
        "bourbon_sales_by_category = bourbon_categories.groupby('category_name')['sale_(dollars)'].sum().reset_index()\n",
        "\n",
        "# Sort by sales in descending order\n",
        "bourbon_sales_by_category = bourbon_sales_by_category.sort_values('sale_(dollars)', ascending=False)\n",
        "\n",
        "# Create the bar plot\n",
        "fig = px.bar(bourbon_sales_by_category,\n",
        "             x='category_name',\n",
        "             y='sale_(dollars)',\n",
        "             title='Total Bourbon Sales by Category',\n",
        "             template='iowa')\n",
        "fig.update_xaxes(title_text='Bourbon Category')\n",
        "fig.update_yaxes(title_text='Total Sales ($)')\n",
        "fig.show()\n"
      ],
      "metadata": {
        "id": "eej9r9Tt2jgi"
      },
      "execution_count": null,
      "outputs": []
    },
    {
      "cell_type": "markdown",
      "source": [
        "Bourbon sales peaked in 2023 but saw a sharp decline in 2024, especially in single barrel varieties. Despite growth fluctuations, Straight Bourbon Whiskies dominate total sales. The market remains steady, driven by traditional bourbon preferences."
      ],
      "metadata": {
        "id": "qz_HDy6VriIA"
      }
    },
    {
      "cell_type": "markdown",
      "source": [
        "### Gins"
      ],
      "metadata": {
        "id": "eT6qASJrsJxJ"
      }
    },
    {
      "cell_type": "code",
      "source": [
        "# Filter data for Gins\n",
        "gins_data = data_yearly_alcohol[data_yearly_alcohol['alcohol_type'] == 'GINS']\n",
        "\n",
        "# Create the line plot\n",
        "fig = px.line(gins_data,\n",
        "              x='year',\n",
        "              y='sale_(dollars)',\n",
        "              title='Gins Sales Over Time',\n",
        "              template='iowa')\n",
        "\n",
        "# Update x-axis to display integer years\n",
        "fig.update_xaxes(type='category')\n",
        "\n",
        "fig.show()\n"
      ],
      "metadata": {
        "id": "WhPtssvSsGz1"
      },
      "execution_count": null,
      "outputs": []
    },
    {
      "cell_type": "code",
      "source": [
        "# Filter sales_growth for 'GINS'\n",
        "gins_sales_growth = sales_growth[sales_growth['alcohol_type'] == 'GINS']\n",
        "\n",
        "# Create the plot\n",
        "fig_gins_growth = px.line(gins_sales_growth,\n",
        "                             x='year',\n",
        "                             y='sales_growth',\n",
        "                             color='category_name',\n",
        "                             title='Gins Sales Growth by Category over the Years',\n",
        "                             template='iowa')\n",
        "fig_gins_growth.show()\n"
      ],
      "metadata": {
        "id": "UjBSIY4Z20yP"
      },
      "execution_count": null,
      "outputs": []
    },
    {
      "cell_type": "code",
      "source": [
        "# Check if data exists for Imported Gins in 2023 and 2024\n",
        "imported_gins_2023_2024 = data_yearly_category[\n",
        "    (data_yearly_category['category_name'] == 'IMPORTED GINS') &\n",
        "    (data_yearly_category['year'].isin([2023, 2024]))\n",
        "]\n",
        "\n",
        "if not imported_gins_2023_2024.empty:\n",
        "    print(\"Data available for Imported Gins in 2023 and 2024:\")\n",
        "    print(imported_gins_2023_2024[['year', 'sale_(dollars)']])\n",
        "else:\n",
        "    print(\"No data found for Imported Gins in 2023 and 2024.\")\n"
      ],
      "metadata": {
        "id": "deQw3PqPszxv"
      },
      "execution_count": null,
      "outputs": []
    },
    {
      "cell_type": "markdown",
      "source": [
        "Since it had a bad performance in 2022 (decreasing sales by 50%), they stopped buying this category."
      ],
      "metadata": {
        "id": "-3pN7U9dtAxg"
      }
    },
    {
      "cell_type": "code",
      "source": [
        "# Filter data for Gins categories\n",
        "gins_categories = sales_growth[sales_growth['alcohol_type'] == 'GINS']\n",
        "\n",
        "# Group by category_name and sum the sales\n",
        "gins_sales_by_category = gins_categories.groupby('category_name')['sale_(dollars)'].sum().reset_index()\n",
        "\n",
        "# Sort by sales in descending order\n",
        "gins_sales_by_category = gins_sales_by_category.sort_values('sale_(dollars)', ascending=False)\n",
        "\n",
        "# Create the bar plot\n",
        "fig = px.bar(gins_sales_by_category,\n",
        "             x='category_name',\n",
        "             y='sale_(dollars)',\n",
        "             title='Total Gins Sales by Category',\n",
        "             template='iowa')\n",
        "fig.update_xaxes(title_text='Gins Category')\n",
        "fig.update_yaxes(title_text='Total Sales ($)')\n",
        "fig.show()\n"
      ],
      "metadata": {
        "id": "d49PwBOi3VxJ"
      },
      "execution_count": null,
      "outputs": []
    },
    {
      "cell_type": "markdown",
      "source": [
        "Gin experienced peak growth in 2022 but has since declined. Total sales remain strong, driven mainly by dry gins. Fluctuations suggest evolving consumer preferences, though overall demand stays stable."
      ],
      "metadata": {
        "id": "pnlD-YZD6A6D"
      }
    },
    {
      "cell_type": "markdown",
      "source": [
        "### Others\n"
      ],
      "metadata": {
        "id": "7Vkw74GEvXzB"
      }
    },
    {
      "cell_type": "code",
      "source": [
        "# Filter data for Others\n",
        "others_data = data_yearly_alcohol[data_yearly_alcohol['alcohol_type'] == 'OTHERS']\n",
        "\n",
        "# Create the line plot\n",
        "fig = px.line(others_data,\n",
        "              x='year',\n",
        "              y='sale_(dollars)',\n",
        "              title='Others Sales Over Time',\n",
        "              template='iowa')\n",
        "\n",
        "# Update x-axis to display integer years\n",
        "fig.update_xaxes(type='category')\n",
        "\n",
        "fig.show()\n"
      ],
      "metadata": {
        "id": "UeXda7NZvpeB"
      },
      "execution_count": null,
      "outputs": []
    },
    {
      "cell_type": "code",
      "source": [
        "# Filter sales_growth for 'OTHERS'\n",
        "others_sales_growth = sales_growth[sales_growth['alcohol_type'] == 'OTHERS']\n",
        "\n",
        "# Create the plot\n",
        "fig_others_growth = px.line(others_sales_growth,\n",
        "                             x='year',\n",
        "                             y='sales_growth',\n",
        "                             color='category_name',\n",
        "                             title='Others Sales Growth by Category over the Years',\n",
        "                             template='iowa')\n",
        "fig_others_growth.show()\n"
      ],
      "metadata": {
        "id": "Yh4hxUg03jNo"
      },
      "execution_count": null,
      "outputs": []
    },
    {
      "cell_type": "code",
      "source": [
        "# Filter data for Others categories\n",
        "others_categories = sales_growth[sales_growth['alcohol_type'] == 'OTHERS']\n",
        "# Group by category_name and sum the sales\n",
        "others_sales_by_category = others_categories.groupby('category_name')['sale_(dollars)'].sum().reset_index()\n",
        "# Sort by sales in descending order\n",
        "others_sales_by_category = others_sales_by_category.sort_values('sale_(dollars)', ascending=False)\n",
        "# Create the bar plot\n",
        "fig = px.bar(others_sales_by_category,\n",
        "             x='category_name',\n",
        "             y='sale_(dollars)',\n",
        "             title='Total Others Sales by Category',\n",
        "             template='iowa')\n",
        "fig.update_xaxes(title_text='', tickangle=45, tickfont=dict(size=10)) # Rotate x-axis labels\n",
        "fig.update_yaxes(title_text='Total Sales ($)')\n",
        "fig.show()\n"
      ],
      "metadata": {
        "id": "SLx_lvYF31sK"
      },
      "execution_count": null,
      "outputs": []
    },
    {
      "cell_type": "markdown",
      "source": [
        "Sales in the \"Others\" alcohol category show volatility, with sharp peaks and dips across years. Despite fluctuating growth, Temporary & Specialty Packages and Cocktails/RTD dominate total sales."
      ],
      "metadata": {
        "id": "W5IOX0s76o2C"
      }
    },
    {
      "cell_type": "markdown",
      "source": [
        "### Whiskies"
      ],
      "metadata": {
        "id": "C3pR9A8xvkrB"
      }
    },
    {
      "cell_type": "code",
      "source": [
        "# Filter data for Whiskies\n",
        "whiskies_data = data_yearly_alcohol[data_yearly_alcohol['alcohol_type'] == 'WHISKIES']\n",
        "\n",
        "# Create the line plot\n",
        "fig = px.line(whiskies_data,\n",
        "              x='year',\n",
        "              y='sale_(dollars)',\n",
        "              title='Whiskies Sales Over Time',\n",
        "              template='iowa')\n",
        "\n",
        "# Update x-axis to display integer years\n",
        "fig.update_xaxes(type='category')\n",
        "\n",
        "fig.show()\n"
      ],
      "metadata": {
        "id": "_vTRln1bvyT6"
      },
      "execution_count": null,
      "outputs": []
    },
    {
      "cell_type": "code",
      "source": [
        "# Filter sales_growth for 'WHISKIES'\n",
        "whiskies_sales_growth = sales_growth[sales_growth['alcohol_type'] == 'WHISKIES']\n",
        "\n",
        "# Create the plot\n",
        "fig_whiskies_growth = px.line(whiskies_sales_growth,\n",
        "                             x='year',\n",
        "                             y='sales_growth',\n",
        "                             color='category_name',\n",
        "                             title='Whiskies Sales Growth by Category over the Years',\n",
        "                             template='iowa')\n",
        "fig_whiskies_growth.show()\n"
      ],
      "metadata": {
        "id": "nZeEoYV84Jnd"
      },
      "execution_count": null,
      "outputs": []
    },
    {
      "cell_type": "code",
      "source": [
        "# Check if data exists for Imported Whiskies in 2023 and 2024\n",
        "imported_whiskies_2023_2024 = data_yearly_category[\n",
        "    (data_yearly_category['category_name'] == 'IMPORTED WHISKIES') &\n",
        "    (data_yearly_category['year'].isin([2023, 2024]))\n",
        "]\n",
        "\n",
        "if not imported_whiskies_2023_2024.empty:\n",
        "    print(\"Data available for Imported Whiskies in 2023 and 2024:\")\n",
        "    print(imported_whiskies_2023_2024[['year', 'sale_(dollars)']])\n",
        "else:\n",
        "    print(\"No data found for Imported Whiskies in 2023 and 2024.\")\n"
      ],
      "metadata": {
        "id": "bG07LSLW5ein"
      },
      "execution_count": null,
      "outputs": []
    },
    {
      "cell_type": "code",
      "source": [
        "# Filter data for Whiskies categories\n",
        "whiskies_categories = sales_growth[sales_growth['alcohol_type'] == 'WHISKIES']\n",
        "\n",
        "# Group by category_name and sum the sales\n",
        "whiskies_sales_by_category = whiskies_categories.groupby('category_name')['sale_(dollars)'].sum().reset_index()\n",
        "\n",
        "# Sort by sales in descending order\n",
        "whiskies_sales_by_category = whiskies_sales_by_category.sort_values('sale_(dollars)', ascending=False)\n",
        "\n",
        "# Create the bar plot\n",
        "fig = px.bar(whiskies_sales_by_category,\n",
        "             x='category_name',\n",
        "             y='sale_(dollars)',\n",
        "             title='Total Whiskies Sales by Category',\n",
        "             template='iowa')\n",
        "fig.update_xaxes(title_text='', tickangle=45, tickfont=dict(size=10)) # Rotate x-axis labels\n",
        "fig.update_yaxes(title_text='Total Sales ($)')\n",
        "fig.show()\n"
      ],
      "metadata": {
        "id": "qA0FjYAl4Q8M"
      },
      "execution_count": null,
      "outputs": []
    },
    {
      "cell_type": "markdown",
      "source": [
        "Whisky sales show overall market stability despite category-specific fluctuations. Canadian Whiskies dominate total sales, maintaining a strong market lead. While some types saw minor growth shifts, consumer preference remains largely consistent."
      ],
      "metadata": {
        "id": "Rn3f9esK621V"
      }
    },
    {
      "cell_type": "markdown",
      "source": [
        "**Sales per Alcohol Type Takeaways**\n",
        "\n",
        "The overall sales fluctuations often stem from categories with volatile growth but minimal market share, which can disproportionately affect sales trends without significantly impacting total revenue. In the graphs:\n",
        "\n",
        "- Gin: The large spike in flavored gin sales caused notable growth, but since its total market share is low, it had limited impact on overall revenue.\n",
        "- Others: Temporary & Specialty Packages show extreme volatility yet hold a dominant share, directly influencing total sales.\n",
        "- Whiskies: Imported Whiskies experienced major declines, but since Canadian Whiskies dominate total sales, the impact was cushioned.\n",
        "- Bourbon: Single Barrel Bourbons showed sharp growth and decline, but the market is led by Straight Bourbon Whiskies, stabilizing overall sales.\n",
        "\n",
        "Large fluctuations in minor categories create spikes in growth rates but often don’t alter total sales trends unless the volatile category holds significant market share"
      ],
      "metadata": {
        "id": "9xEtvUDr8NJA"
      }
    },
    {
      "cell_type": "code",
      "source": [
        "## we could analyze the less fluctuations categories, since less fluctuations means more consistent, and less short-time spikes = markets success"
      ],
      "metadata": {
        "id": "d53jfe7tkX3a"
      },
      "execution_count": null,
      "outputs": []
    }
  ],
  "metadata": {
    "kernelspec": {
      "display_name": "Python 3",
      "name": "python3"
    },
    "language_info": {
      "codemirror_mode": {
        "name": "ipython",
        "version": 3
      },
      "file_extension": ".py",
      "mimetype": "text/x-python",
      "name": "python",
      "nbconvert_exporter": "python",
      "pygments_lexer": "ipython3",
      "version": "3.11.7"
    },
    "colab": {
      "provenance": [],
      "toc_visible": true,
      "machine_shape": "hm",
      "gpuType": "L4",
      "include_colab_link": true
    },
    "accelerator": "GPU"
  },
  "nbformat": 4,
  "nbformat_minor": 0
}