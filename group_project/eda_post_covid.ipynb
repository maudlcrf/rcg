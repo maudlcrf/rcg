{
 "cells": [
  {
   "cell_type": "markdown",
   "metadata": {},
   "source": [
    "#### AI for Retail & Consumer Goods | Group Project | MBD April 2024\n",
    "\n",
    "Group Members: Maud Lecerf | Cristina Mosquera | Christopher Stephan"
   ]
  },
  {
   "cell_type": "markdown",
   "metadata": {},
   "source": [
    "# Imports & Color Palette"
   ]
  },
  {
   "cell_type": "code",
   "execution_count": 21,
   "metadata": {},
   "outputs": [],
   "source": [
    "import pandas as pd\n",
    "import numpy as np\n",
    "import plotly.express as px\n",
    "import plotly.io as pio"
   ]
  },
  {
   "cell_type": "code",
   "execution_count": 22,
   "metadata": {},
   "outputs": [],
   "source": [
    "import warnings\n",
    "warnings.filterwarnings(\"ignore\", category=FutureWarning)\n",
    "warnings.filterwarnings(\"ignore\", category=pd.errors.SettingWithCopyWarning)\n",
    "warnings.filterwarnings(\"ignore\", category=DeprecationWarning)"
   ]
  },
  {
   "cell_type": "code",
   "execution_count": 23,
   "metadata": {},
   "outputs": [],
   "source": [
    "# Custom Theme\n",
    "iowa = {\n",
    "    \"layout\": {\n",
    "        \"colorway\": [\"#4c3624\", \"#ff0651\", \"#ff7e06\", \"#74B36B\", \"#628395\",\n",
    "                     \"#996C48\", \"#FF5C8D\", \"#FF9633\", \"#8CC084\", \"#84A0AE\",\n",
    "                     \"#B78B66\", \"#FF85A9\", \"#FFB570\", \"#A7CEA1\", \"#A9BCC7\"], \n",
    "        \"plot_bgcolor\": \"white\",\n",
    "        \"paper_bgcolor\": \"white\",\n",
    "        \"font\": {\"color\": \"black\"},\n",
    "        \"xaxis\": {\"gridcolor\": \"lightgray\"},\n",
    "        \"yaxis\": {\"gridcolor\": \"lightgray\"},\n",
    "    }\n",
    "}\n",
    "\n",
    "# Register themes\n",
    "pio.templates[\"iowa\"] = iowa"
   ]
  },
  {
   "cell_type": "code",
   "execution_count": null,
   "metadata": {},
   "outputs": [],
   "source": [
    "daclean = pd.read_csv(\"G:\\\\Drive partagés\\\\RCG\\\\Iowa_Liquor_Sales_Post_Covid.csv\") #Maud"
   ]
  },
  {
   "cell_type": "markdown",
   "metadata": {},
   "source": [
    "## Splitting the data into alcohol types"
   ]
  },
  {
   "cell_type": "code",
   "execution_count": 25,
   "metadata": {},
   "outputs": [],
   "source": [
    "## Regrouping the original categories into alcohol types\n",
    "# Define mapping of keywords to subcategories\n",
    "category_mapping = {\n",
    "    'RUM': 'RUM',\n",
    "    'VODKA': 'VODKAS',\n",
    "    'VODKAS': 'VODKAS',\n",
    "    'SCHNAPPS': 'SCHNAPPS',\n",
    "    'BRANDIES': 'BRANDIES',\n",
    "    'WHISKIES': 'WHISKIES',\n",
    "    'SCOTCH': 'WHISKIES',\n",
    "    'GINS': 'GINS',\n",
    "    'GIN': 'GINS',\n",
    "    'MEZCAL': 'MEZCAL',\n",
    "    'TEQUILA': 'TEQUILA',\n",
    "    'BOURBON': 'BOURBON',\n",
    "    'LIQUEURS': 'LIQUEURS',\n",
    "    'LIQUEUR':'LIQUEURS',\n",
    "    'AMARETTO': 'AMARETTO',\n",
    "    'CREME': 'CREME'\n",
    "}\n",
    "\n",
    "# Create a new column and assign \"OTHERS\" by default\n",
    "data_post_covid['alcohol_type'] = 'OTHERS'\n",
    "\n",
    "# Loop through mapping and assign subcategories\n",
    "for keyword, alcohol_type in category_mapping.items():\n",
    "    data_post_covid.loc[data_post_covid['category_name'].str.contains(keyword, case=False, na=False, regex=True), 'alcohol_type'] = alcohol_type\n",
    "\n"
   ]
  },
  {
   "cell_type": "code",
   "execution_count": 26,
   "metadata": {},
   "outputs": [
    {
     "data": {
      "text/plain": [
       "invoice_item_number      10414198\n",
       "date                         1213\n",
       "store_number                 2445\n",
       "store_name                   2515\n",
       "address                      2531\n",
       "city                          477\n",
       "zip_code                      514\n",
       "store_location              10803\n",
       "county_number                  99\n",
       "county                         99\n",
       "category                       59\n",
       "category_name                  48\n",
       "vendor_number                 345\n",
       "vendor_name                   357\n",
       "item_number                  8278\n",
       "item_description             7554\n",
       "pack                           22\n",
       "bottle_volume_(ml)             26\n",
       "state_bottle_cost            2231\n",
       "state_bottle_retail          2235\n",
       "bottles_sold                  610\n",
       "sale_(dollars)              20487\n",
       "volume_sold_(liters)         1227\n",
       "volume_sold_(gallons)        1214\n",
       "alcohol_type                   11\n",
       "dtype: int64"
      ]
     },
     "execution_count": 26,
     "metadata": {},
     "output_type": "execute_result"
    }
   ],
   "source": [
    "data_post_covid.nunique()"
   ]
  },
  {
   "cell_type": "code",
   "execution_count": 27,
   "metadata": {},
   "outputs": [
    {
     "data": {
      "text/plain": [
       "alcohol_type\n",
       "VODKAS      2481955\n",
       "WHISKIES    2093746\n",
       "LIQUEURS    1377236\n",
       "RUM          903040\n",
       "OTHERS       849708\n",
       "BOURBON      842461\n",
       "TEQUILA      686286\n",
       "SCHNAPPS     486618\n",
       "BRANDIES     421626\n",
       "GINS         260273\n",
       "MEZCAL        11249\n",
       "Name: count, dtype: int64"
      ]
     },
     "execution_count": 27,
     "metadata": {},
     "output_type": "execute_result"
    }
   ],
   "source": [
    "data_post_covid['alcohol_type'].value_counts()"
   ]
  },
  {
   "cell_type": "code",
   "execution_count": 28,
   "metadata": {},
   "outputs": [],
   "source": [
    "#separating the columns into numerical and categorical as it my be helpful later on \n",
    "numerical_cols = ['pack', 'bottle_volume_(ml)', 'state_bottle_cost', 'state_bottle_retail', 'bottles_sold', 'sale_(dollars)',\n",
    "                  'volume_sold_(liters)', 'volume_sold_(gallons)' ]\n",
    "categorical_cols = ['invoice_item_number', 'date', 'store_number', 'store_name', 'address',\n",
    "       'city', 'zip_code', 'store_location', 'county_number', 'county',\n",
    "       'category', 'category_name', 'vendor_number', 'vendor_name',\n",
    "       'item_number', 'item_description' ]"
   ]
  },
  {
   "cell_type": "code",
   "execution_count": 29,
   "metadata": {},
   "outputs": [],
   "source": [
    "data_post_covid['date'] = pd.to_datetime(data_post_covid['date'])\n",
    "\n",
    "# Create new columns\n",
    "data_post_covid['year'] = data_post_covid['date'].dt.year\n",
    "data_post_covid['month'] = data_post_covid['date'].dt.month\n",
    "data_post_covid['year_month'] = data_post_covid['date'].dt.to_period('M')\n",
    "data_post_covid['weekday'] = data_post_covid['date'].dt.weekday\n",
    "\n",
    "# Grouping data\n",
    "data_yearly = data_post_covid.groupby(['year', 'alcohol_type'])[numerical_cols].sum().reset_index()\n",
    "data_monthly = data_post_covid.groupby(['year', 'month', 'alcohol_type'])[numerical_cols].sum().reset_index()\n",
    "data_year_month = data_post_covid.groupby(['year_month', 'alcohol_type'])[numerical_cols].sum().reset_index()\n",
    "data_weekday = data_post_covid.groupby(['weekday', 'alcohol_type'])[numerical_cols].sum().reset_index()"
   ]
  },
  {
   "cell_type": "code",
   "execution_count": 30,
   "metadata": {},
   "outputs": [
    {
     "data": {
      "text/plain": [
       "Index(['year', 'alcohol_type', 'pack', 'bottle_volume_(ml)',\n",
       "       'state_bottle_cost', 'state_bottle_retail', 'bottles_sold',\n",
       "       'sale_(dollars)', 'volume_sold_(liters)', 'volume_sold_(gallons)'],\n",
       "      dtype='object')"
      ]
     },
     "execution_count": 30,
     "metadata": {},
     "output_type": "execute_result"
    }
   ],
   "source": [
    "data_yearly.columns"
   ]
  },
  {
   "cell_type": "code",
   "execution_count": 34,
   "metadata": {},
   "outputs": [
    {
     "data": {
      "application/vnd.plotly.v1+json": {
       "config": {
        "plotlyServerURL": "https://plot.ly"
       },
       "data": [
        {
         "alignmentgroup": "True",
         "hovertemplate": "alcohol_type=BOURBON<br>year=%{x}<br>volume_sold_(liters)=%{y}<extra></extra>",
         "legendgroup": "BOURBON",
         "marker": {
          "color": "#4c3624",
          "pattern": {
           "shape": ""
          }
         },
         "name": "BOURBON",
         "offsetgroup": "BOURBON",
         "orientation": "v",
         "showlegend": true,
         "textposition": "auto",
         "type": "bar",
         "x": [
          2021,
          2022,
          2023,
          2024
         ],
         "xaxis": "x",
         "y": [
          1387522.45,
          1368936.16,
          1434999.04,
          1461189.95
         ],
         "yaxis": "y"
        },
        {
         "alignmentgroup": "True",
         "hovertemplate": "alcohol_type=BRANDIES<br>year=%{x}<br>volume_sold_(liters)=%{y}<extra></extra>",
         "legendgroup": "BRANDIES",
         "marker": {
          "color": "#ff0651",
          "pattern": {
           "shape": ""
          }
         },
         "name": "BRANDIES",
         "offsetgroup": "BRANDIES",
         "orientation": "v",
         "showlegend": true,
         "textposition": "auto",
         "type": "bar",
         "x": [
          2021,
          2022,
          2023,
          2024
         ],
         "xaxis": "x",
         "y": [
          747893.55,
          645185.01,
          590307.98,
          555263.49
         ],
         "yaxis": "y"
        },
        {
         "alignmentgroup": "True",
         "hovertemplate": "alcohol_type=GINS<br>year=%{x}<br>volume_sold_(liters)=%{y}<extra></extra>",
         "legendgroup": "GINS",
         "marker": {
          "color": "#ff7e06",
          "pattern": {
           "shape": ""
          }
         },
         "name": "GINS",
         "offsetgroup": "GINS",
         "orientation": "v",
         "showlegend": true,
         "textposition": "auto",
         "type": "bar",
         "x": [
          2021,
          2022,
          2023,
          2024
         ],
         "xaxis": "x",
         "y": [
          584394.29,
          529532.81,
          523641.44,
          506830.37
         ],
         "yaxis": "y"
        },
        {
         "alignmentgroup": "True",
         "hovertemplate": "alcohol_type=LIQUEURS<br>year=%{x}<br>volume_sold_(liters)=%{y}<extra></extra>",
         "legendgroup": "LIQUEURS",
         "marker": {
          "color": "#74B36B",
          "pattern": {
           "shape": ""
          }
         },
         "name": "LIQUEURS",
         "offsetgroup": "LIQUEURS",
         "orientation": "v",
         "showlegend": true,
         "textposition": "auto",
         "type": "bar",
         "x": [
          2021,
          2022,
          2023,
          2024
         ],
         "xaxis": "x",
         "y": [
          2242278.1,
          2161224.35,
          2117832.91,
          2001161.12
         ],
         "yaxis": "y"
        },
        {
         "alignmentgroup": "True",
         "hovertemplate": "alcohol_type=MEZCAL<br>year=%{x}<br>volume_sold_(liters)=%{y}<extra></extra>",
         "legendgroup": "MEZCAL",
         "marker": {
          "color": "#628395",
          "pattern": {
           "shape": ""
          }
         },
         "name": "MEZCAL",
         "offsetgroup": "MEZCAL",
         "orientation": "v",
         "showlegend": true,
         "textposition": "auto",
         "type": "bar",
         "x": [
          2021,
          2022,
          2023,
          2024
         ],
         "xaxis": "x",
         "y": [
          9976.5,
          11542.2,
          11673.15,
          10928.6
         ],
         "yaxis": "y"
        },
        {
         "alignmentgroup": "True",
         "hovertemplate": "alcohol_type=OTHERS<br>year=%{x}<br>volume_sold_(liters)=%{y}<extra></extra>",
         "legendgroup": "OTHERS",
         "marker": {
          "color": "#996C48",
          "pattern": {
           "shape": ""
          }
         },
         "name": "OTHERS",
         "offsetgroup": "OTHERS",
         "orientation": "v",
         "showlegend": true,
         "textposition": "auto",
         "type": "bar",
         "x": [
          2021,
          2022,
          2023,
          2024
         ],
         "xaxis": "x",
         "y": [
          2197265.02,
          2143867.7,
          2021633.2,
          2196037.5
         ],
         "yaxis": "y"
        },
        {
         "alignmentgroup": "True",
         "hovertemplate": "alcohol_type=RUM<br>year=%{x}<br>volume_sold_(liters)=%{y}<extra></extra>",
         "legendgroup": "RUM",
         "marker": {
          "color": "#FF5C8D",
          "pattern": {
           "shape": ""
          }
         },
         "name": "RUM",
         "offsetgroup": "RUM",
         "orientation": "v",
         "showlegend": true,
         "textposition": "auto",
         "type": "bar",
         "x": [
          2021,
          2022,
          2023,
          2024
         ],
         "xaxis": "x",
         "y": [
          2819322.52,
          2546934.33,
          2584873.7,
          2386968.1
         ],
         "yaxis": "y"
        },
        {
         "alignmentgroup": "True",
         "hovertemplate": "alcohol_type=SCHNAPPS<br>year=%{x}<br>volume_sold_(liters)=%{y}<extra></extra>",
         "legendgroup": "SCHNAPPS",
         "marker": {
          "color": "#FF9633",
          "pattern": {
           "shape": ""
          }
         },
         "name": "SCHNAPPS",
         "offsetgroup": "SCHNAPPS",
         "orientation": "v",
         "showlegend": true,
         "textposition": "auto",
         "type": "bar",
         "x": [
          2021,
          2022,
          2023,
          2024
         ],
         "xaxis": "x",
         "y": [
          875188,
          801009.92,
          775874.15,
          739155.68
         ],
         "yaxis": "y"
        },
        {
         "alignmentgroup": "True",
         "hovertemplate": "alcohol_type=TEQUILA<br>year=%{x}<br>volume_sold_(liters)=%{y}<extra></extra>",
         "legendgroup": "TEQUILA",
         "marker": {
          "color": "#8CC084",
          "pattern": {
           "shape": ""
          }
         },
         "name": "TEQUILA",
         "offsetgroup": "TEQUILA",
         "orientation": "v",
         "showlegend": true,
         "textposition": "auto",
         "type": "bar",
         "x": [
          2021,
          2022,
          2023,
          2024
         ],
         "xaxis": "x",
         "y": [
          1257134.36,
          1275403.24,
          1378429.54,
          1388541.32
         ],
         "yaxis": "y"
        },
        {
         "alignmentgroup": "True",
         "hovertemplate": "alcohol_type=VODKAS<br>year=%{x}<br>volume_sold_(liters)=%{y}<extra></extra>",
         "legendgroup": "VODKAS",
         "marker": {
          "color": "#84A0AE",
          "pattern": {
           "shape": ""
          }
         },
         "name": "VODKAS",
         "offsetgroup": "VODKAS",
         "orientation": "v",
         "showlegend": true,
         "textposition": "auto",
         "type": "bar",
         "x": [
          2021,
          2022,
          2023,
          2024
         ],
         "xaxis": "x",
         "y": [
          7492451.41,
          7246432.05,
          7459786.16,
          7394631.46
         ],
         "yaxis": "y"
        },
        {
         "alignmentgroup": "True",
         "hovertemplate": "alcohol_type=WHISKIES<br>year=%{x}<br>volume_sold_(liters)=%{y}<extra></extra>",
         "legendgroup": "WHISKIES",
         "marker": {
          "color": "#B78B66",
          "pattern": {
           "shape": ""
          }
         },
         "name": "WHISKIES",
         "offsetgroup": "WHISKIES",
         "orientation": "v",
         "showlegend": true,
         "textposition": "auto",
         "type": "bar",
         "x": [
          2021,
          2022,
          2023,
          2024
         ],
         "xaxis": "x",
         "y": [
          5138826.46,
          4819440.45,
          4824739.39,
          4664797.65
         ],
         "yaxis": "y"
        }
       ],
       "layout": {
        "barmode": "relative",
        "legend": {
         "title": {
          "text": "alcohol_type"
         },
         "tracegroupgap": 0
        },
        "margin": {
         "t": 60
        },
        "template": {
         "layout": {
          "colorway": [
           "#4c3624",
           "#ff0651",
           "#ff7e06",
           "#74B36B",
           "#628395",
           "#996C48",
           "#FF5C8D",
           "#FF9633",
           "#8CC084",
           "#84A0AE",
           "#B78B66",
           "#FF85A9",
           "#FFB570",
           "#A7CEA1",
           "#A9BCC7"
          ],
          "font": {
           "color": "black"
          },
          "paper_bgcolor": "white",
          "plot_bgcolor": "white",
          "xaxis": {
           "gridcolor": "lightgray"
          },
          "yaxis": {
           "gridcolor": "lightgray"
          }
         }
        },
        "xaxis": {
         "anchor": "y",
         "domain": [
          0,
          1
         ],
         "title": {
          "text": "year"
         }
        },
        "yaxis": {
         "anchor": "x",
         "domain": [
          0,
          1
         ],
         "title": {
          "text": "volume_sold_(liters)"
         }
        }
       }
      }
     },
     "metadata": {},
     "output_type": "display_data"
    }
   ],
   "source": [
    "px.bar(data_yearly, x='year', y='volume_sold_(liters)', color= 'alcohol_type', template = iowa)"
   ]
  },
  {
   "cell_type": "code",
   "execution_count": 35,
   "metadata": {},
   "outputs": [
    {
     "data": {
      "application/vnd.plotly.v1+json": {
       "config": {
        "plotlyServerURL": "https://plot.ly"
       },
       "data": [
        {
         "hovertemplate": "alcohol_type=BOURBON<br>year=%{x}<br>volume_sold_(liters)=%{y}<extra></extra>",
         "legendgroup": "BOURBON",
         "line": {
          "color": "#4c3624",
          "dash": "solid"
         },
         "marker": {
          "symbol": "circle"
         },
         "mode": "lines",
         "name": "BOURBON",
         "orientation": "v",
         "showlegend": true,
         "type": "scatter",
         "x": [
          2021,
          2022,
          2023,
          2024
         ],
         "xaxis": "x",
         "y": [
          1387522.45,
          1368936.16,
          1434999.04,
          1461189.95
         ],
         "yaxis": "y"
        },
        {
         "hovertemplate": "alcohol_type=BRANDIES<br>year=%{x}<br>volume_sold_(liters)=%{y}<extra></extra>",
         "legendgroup": "BRANDIES",
         "line": {
          "color": "#ff0651",
          "dash": "solid"
         },
         "marker": {
          "symbol": "circle"
         },
         "mode": "lines",
         "name": "BRANDIES",
         "orientation": "v",
         "showlegend": true,
         "type": "scatter",
         "x": [
          2021,
          2022,
          2023,
          2024
         ],
         "xaxis": "x",
         "y": [
          747893.55,
          645185.01,
          590307.98,
          555263.49
         ],
         "yaxis": "y"
        },
        {
         "hovertemplate": "alcohol_type=GINS<br>year=%{x}<br>volume_sold_(liters)=%{y}<extra></extra>",
         "legendgroup": "GINS",
         "line": {
          "color": "#ff7e06",
          "dash": "solid"
         },
         "marker": {
          "symbol": "circle"
         },
         "mode": "lines",
         "name": "GINS",
         "orientation": "v",
         "showlegend": true,
         "type": "scatter",
         "x": [
          2021,
          2022,
          2023,
          2024
         ],
         "xaxis": "x",
         "y": [
          584394.29,
          529532.81,
          523641.44,
          506830.37
         ],
         "yaxis": "y"
        },
        {
         "hovertemplate": "alcohol_type=LIQUEURS<br>year=%{x}<br>volume_sold_(liters)=%{y}<extra></extra>",
         "legendgroup": "LIQUEURS",
         "line": {
          "color": "#74B36B",
          "dash": "solid"
         },
         "marker": {
          "symbol": "circle"
         },
         "mode": "lines",
         "name": "LIQUEURS",
         "orientation": "v",
         "showlegend": true,
         "type": "scatter",
         "x": [
          2021,
          2022,
          2023,
          2024
         ],
         "xaxis": "x",
         "y": [
          2242278.1,
          2161224.35,
          2117832.91,
          2001161.12
         ],
         "yaxis": "y"
        },
        {
         "hovertemplate": "alcohol_type=MEZCAL<br>year=%{x}<br>volume_sold_(liters)=%{y}<extra></extra>",
         "legendgroup": "MEZCAL",
         "line": {
          "color": "#628395",
          "dash": "solid"
         },
         "marker": {
          "symbol": "circle"
         },
         "mode": "lines",
         "name": "MEZCAL",
         "orientation": "v",
         "showlegend": true,
         "type": "scatter",
         "x": [
          2021,
          2022,
          2023,
          2024
         ],
         "xaxis": "x",
         "y": [
          9976.5,
          11542.2,
          11673.15,
          10928.6
         ],
         "yaxis": "y"
        },
        {
         "hovertemplate": "alcohol_type=OTHERS<br>year=%{x}<br>volume_sold_(liters)=%{y}<extra></extra>",
         "legendgroup": "OTHERS",
         "line": {
          "color": "#996C48",
          "dash": "solid"
         },
         "marker": {
          "symbol": "circle"
         },
         "mode": "lines",
         "name": "OTHERS",
         "orientation": "v",
         "showlegend": true,
         "type": "scatter",
         "x": [
          2021,
          2022,
          2023,
          2024
         ],
         "xaxis": "x",
         "y": [
          2197265.02,
          2143867.7,
          2021633.2,
          2196037.5
         ],
         "yaxis": "y"
        },
        {
         "hovertemplate": "alcohol_type=RUM<br>year=%{x}<br>volume_sold_(liters)=%{y}<extra></extra>",
         "legendgroup": "RUM",
         "line": {
          "color": "#FF5C8D",
          "dash": "solid"
         },
         "marker": {
          "symbol": "circle"
         },
         "mode": "lines",
         "name": "RUM",
         "orientation": "v",
         "showlegend": true,
         "type": "scatter",
         "x": [
          2021,
          2022,
          2023,
          2024
         ],
         "xaxis": "x",
         "y": [
          2819322.52,
          2546934.33,
          2584873.7,
          2386968.1
         ],
         "yaxis": "y"
        },
        {
         "hovertemplate": "alcohol_type=SCHNAPPS<br>year=%{x}<br>volume_sold_(liters)=%{y}<extra></extra>",
         "legendgroup": "SCHNAPPS",
         "line": {
          "color": "#FF9633",
          "dash": "solid"
         },
         "marker": {
          "symbol": "circle"
         },
         "mode": "lines",
         "name": "SCHNAPPS",
         "orientation": "v",
         "showlegend": true,
         "type": "scatter",
         "x": [
          2021,
          2022,
          2023,
          2024
         ],
         "xaxis": "x",
         "y": [
          875188,
          801009.92,
          775874.15,
          739155.68
         ],
         "yaxis": "y"
        },
        {
         "hovertemplate": "alcohol_type=TEQUILA<br>year=%{x}<br>volume_sold_(liters)=%{y}<extra></extra>",
         "legendgroup": "TEQUILA",
         "line": {
          "color": "#8CC084",
          "dash": "solid"
         },
         "marker": {
          "symbol": "circle"
         },
         "mode": "lines",
         "name": "TEQUILA",
         "orientation": "v",
         "showlegend": true,
         "type": "scatter",
         "x": [
          2021,
          2022,
          2023,
          2024
         ],
         "xaxis": "x",
         "y": [
          1257134.36,
          1275403.24,
          1378429.54,
          1388541.32
         ],
         "yaxis": "y"
        },
        {
         "hovertemplate": "alcohol_type=VODKAS<br>year=%{x}<br>volume_sold_(liters)=%{y}<extra></extra>",
         "legendgroup": "VODKAS",
         "line": {
          "color": "#84A0AE",
          "dash": "solid"
         },
         "marker": {
          "symbol": "circle"
         },
         "mode": "lines",
         "name": "VODKAS",
         "orientation": "v",
         "showlegend": true,
         "type": "scatter",
         "x": [
          2021,
          2022,
          2023,
          2024
         ],
         "xaxis": "x",
         "y": [
          7492451.41,
          7246432.05,
          7459786.16,
          7394631.46
         ],
         "yaxis": "y"
        },
        {
         "hovertemplate": "alcohol_type=WHISKIES<br>year=%{x}<br>volume_sold_(liters)=%{y}<extra></extra>",
         "legendgroup": "WHISKIES",
         "line": {
          "color": "#B78B66",
          "dash": "solid"
         },
         "marker": {
          "symbol": "circle"
         },
         "mode": "lines",
         "name": "WHISKIES",
         "orientation": "v",
         "showlegend": true,
         "type": "scatter",
         "x": [
          2021,
          2022,
          2023,
          2024
         ],
         "xaxis": "x",
         "y": [
          5138826.46,
          4819440.45,
          4824739.39,
          4664797.65
         ],
         "yaxis": "y"
        }
       ],
       "layout": {
        "legend": {
         "title": {
          "text": "alcohol_type"
         },
         "tracegroupgap": 0
        },
        "margin": {
         "t": 60
        },
        "template": {
         "layout": {
          "colorway": [
           "#4c3624",
           "#ff0651",
           "#ff7e06",
           "#74B36B",
           "#628395",
           "#996C48",
           "#FF5C8D",
           "#FF9633",
           "#8CC084",
           "#84A0AE",
           "#B78B66",
           "#FF85A9",
           "#FFB570",
           "#A7CEA1",
           "#A9BCC7"
          ],
          "font": {
           "color": "black"
          },
          "paper_bgcolor": "white",
          "plot_bgcolor": "white",
          "xaxis": {
           "gridcolor": "lightgray"
          },
          "yaxis": {
           "gridcolor": "lightgray"
          }
         }
        },
        "xaxis": {
         "anchor": "y",
         "domain": [
          0,
          1
         ],
         "title": {
          "text": "year"
         }
        },
        "yaxis": {
         "anchor": "x",
         "domain": [
          0,
          1
         ],
         "title": {
          "text": "volume_sold_(liters)"
         }
        }
       }
      }
     },
     "metadata": {},
     "output_type": "display_data"
    }
   ],
   "source": [
    "px.line(data_yearly, x='year', y='volume_sold_(liters)', color= 'alcohol_type', template = iowa)"
   ]
  },
  {
   "cell_type": "code",
   "execution_count": 36,
   "metadata": {},
   "outputs": [
    {
     "data": {
      "application/vnd.plotly.v1+json": {
       "config": {
        "plotlyServerURL": "https://plot.ly"
       },
       "data": [
        {
         "alignmentgroup": "True",
         "hovertemplate": "alcohol_type=BOURBON<br>year=%{x}<br>bottles_sold=%{y}<extra></extra>",
         "legendgroup": "BOURBON",
         "marker": {
          "color": "#4c3624",
          "pattern": {
           "shape": ""
          }
         },
         "name": "BOURBON",
         "offsetgroup": "BOURBON",
         "orientation": "v",
         "showlegend": true,
         "textposition": "auto",
         "type": "bar",
         "x": [
          2021,
          2022,
          2023,
          2024
         ],
         "xaxis": "x",
         "y": [
          1742865,
          1714201,
          1809473,
          1824041
         ],
         "yaxis": "y"
        },
        {
         "alignmentgroup": "True",
         "hovertemplate": "alcohol_type=BRANDIES<br>year=%{x}<br>bottles_sold=%{y}<extra></extra>",
         "legendgroup": "BRANDIES",
         "marker": {
          "color": "#ff0651",
          "pattern": {
           "shape": ""
          }
         },
         "name": "BRANDIES",
         "offsetgroup": "BRANDIES",
         "orientation": "v",
         "showlegend": true,
         "textposition": "auto",
         "type": "bar",
         "x": [
          2021,
          2022,
          2023,
          2024
         ],
         "xaxis": "x",
         "y": [
          1555900,
          1295501,
          1200369,
          1115008
         ],
         "yaxis": "y"
        },
        {
         "alignmentgroup": "True",
         "hovertemplate": "alcohol_type=GINS<br>year=%{x}<br>bottles_sold=%{y}<extra></extra>",
         "legendgroup": "GINS",
         "marker": {
          "color": "#ff7e06",
          "pattern": {
           "shape": ""
          }
         },
         "name": "GINS",
         "offsetgroup": "GINS",
         "orientation": "v",
         "showlegend": true,
         "textposition": "auto",
         "type": "bar",
         "x": [
          2021,
          2022,
          2023,
          2024
         ],
         "xaxis": "x",
         "y": [
          688088,
          596377,
          604740,
          595660
         ],
         "yaxis": "y"
        },
        {
         "alignmentgroup": "True",
         "hovertemplate": "alcohol_type=LIQUEURS<br>year=%{x}<br>bottles_sold=%{y}<extra></extra>",
         "legendgroup": "LIQUEURS",
         "marker": {
          "color": "#74B36B",
          "pattern": {
           "shape": ""
          }
         },
         "name": "LIQUEURS",
         "offsetgroup": "LIQUEURS",
         "orientation": "v",
         "showlegend": true,
         "textposition": "auto",
         "type": "bar",
         "x": [
          2021,
          2022,
          2023,
          2024
         ],
         "xaxis": "x",
         "y": [
          5508279,
          5687114,
          5882978,
          5985583
         ],
         "yaxis": "y"
        },
        {
         "alignmentgroup": "True",
         "hovertemplate": "alcohol_type=MEZCAL<br>year=%{x}<br>bottles_sold=%{y}<extra></extra>",
         "legendgroup": "MEZCAL",
         "marker": {
          "color": "#628395",
          "pattern": {
           "shape": ""
          }
         },
         "name": "MEZCAL",
         "offsetgroup": "MEZCAL",
         "orientation": "v",
         "showlegend": true,
         "textposition": "auto",
         "type": "bar",
         "x": [
          2021,
          2022,
          2023,
          2024
         ],
         "xaxis": "x",
         "y": [
          13233,
          15390,
          15550,
          14477
         ],
         "yaxis": "y"
        },
        {
         "alignmentgroup": "True",
         "hovertemplate": "alcohol_type=OTHERS<br>year=%{x}<br>bottles_sold=%{y}<extra></extra>",
         "legendgroup": "OTHERS",
         "marker": {
          "color": "#996C48",
          "pattern": {
           "shape": ""
          }
         },
         "name": "OTHERS",
         "offsetgroup": "OTHERS",
         "orientation": "v",
         "showlegend": true,
         "textposition": "auto",
         "type": "bar",
         "x": [
          2021,
          2022,
          2023,
          2024
         ],
         "xaxis": "x",
         "y": [
          2043647,
          2092656,
          1980789,
          2269181
         ],
         "yaxis": "y"
        },
        {
         "alignmentgroup": "True",
         "hovertemplate": "alcohol_type=RUM<br>year=%{x}<br>bottles_sold=%{y}<extra></extra>",
         "legendgroup": "RUM",
         "marker": {
          "color": "#FF5C8D",
          "pattern": {
           "shape": ""
          }
         },
         "name": "RUM",
         "offsetgroup": "RUM",
         "orientation": "v",
         "showlegend": true,
         "textposition": "auto",
         "type": "bar",
         "x": [
          2021,
          2022,
          2023,
          2024
         ],
         "xaxis": "x",
         "y": [
          2876552,
          2617558,
          2614821,
          2415911
         ],
         "yaxis": "y"
        },
        {
         "alignmentgroup": "True",
         "hovertemplate": "alcohol_type=SCHNAPPS<br>year=%{x}<br>bottles_sold=%{y}<extra></extra>",
         "legendgroup": "SCHNAPPS",
         "marker": {
          "color": "#FF9633",
          "pattern": {
           "shape": ""
          }
         },
         "name": "SCHNAPPS",
         "offsetgroup": "SCHNAPPS",
         "orientation": "v",
         "showlegend": true,
         "textposition": "auto",
         "type": "bar",
         "x": [
          2021,
          2022,
          2023,
          2024
         ],
         "xaxis": "x",
         "y": [
          1183747,
          1168188,
          1303502,
          1391745
         ],
         "yaxis": "y"
        },
        {
         "alignmentgroup": "True",
         "hovertemplate": "alcohol_type=TEQUILA<br>year=%{x}<br>bottles_sold=%{y}<extra></extra>",
         "legendgroup": "TEQUILA",
         "marker": {
          "color": "#8CC084",
          "pattern": {
           "shape": ""
          }
         },
         "name": "TEQUILA",
         "offsetgroup": "TEQUILA",
         "orientation": "v",
         "showlegend": true,
         "textposition": "auto",
         "type": "bar",
         "x": [
          2021,
          2022,
          2023,
          2024
         ],
         "xaxis": "x",
         "y": [
          1616833,
          1703739,
          1911964,
          1972159
         ],
         "yaxis": "y"
        },
        {
         "alignmentgroup": "True",
         "hovertemplate": "alcohol_type=VODKAS<br>year=%{x}<br>bottles_sold=%{y}<extra></extra>",
         "legendgroup": "VODKAS",
         "marker": {
          "color": "#84A0AE",
          "pattern": {
           "shape": ""
          }
         },
         "name": "VODKAS",
         "offsetgroup": "VODKAS",
         "orientation": "v",
         "showlegend": true,
         "textposition": "auto",
         "type": "bar",
         "x": [
          2021,
          2022,
          2023,
          2024
         ],
         "xaxis": "x",
         "y": [
          8270436,
          8229267,
          8527908,
          8530078
         ],
         "yaxis": "y"
        },
        {
         "alignmentgroup": "True",
         "hovertemplate": "alcohol_type=WHISKIES<br>year=%{x}<br>bottles_sold=%{y}<extra></extra>",
         "legendgroup": "WHISKIES",
         "marker": {
          "color": "#B78B66",
          "pattern": {
           "shape": ""
          }
         },
         "name": "WHISKIES",
         "offsetgroup": "WHISKIES",
         "orientation": "v",
         "showlegend": true,
         "textposition": "auto",
         "type": "bar",
         "x": [
          2021,
          2022,
          2023,
          2024
         ],
         "xaxis": "x",
         "y": [
          5701689,
          5290891,
          5404781,
          5270055
         ],
         "yaxis": "y"
        }
       ],
       "layout": {
        "barmode": "relative",
        "legend": {
         "title": {
          "text": "alcohol_type"
         },
         "tracegroupgap": 0
        },
        "margin": {
         "t": 60
        },
        "template": {
         "layout": {
          "colorway": [
           "#4c3624",
           "#ff0651",
           "#ff7e06",
           "#74B36B",
           "#628395",
           "#996C48",
           "#FF5C8D",
           "#FF9633",
           "#8CC084",
           "#84A0AE",
           "#B78B66",
           "#FF85A9",
           "#FFB570",
           "#A7CEA1",
           "#A9BCC7"
          ],
          "font": {
           "color": "black"
          },
          "paper_bgcolor": "white",
          "plot_bgcolor": "white",
          "xaxis": {
           "gridcolor": "lightgray"
          },
          "yaxis": {
           "gridcolor": "lightgray"
          }
         }
        },
        "xaxis": {
         "anchor": "y",
         "domain": [
          0,
          1
         ],
         "title": {
          "text": "year"
         }
        },
        "yaxis": {
         "anchor": "x",
         "domain": [
          0,
          1
         ],
         "title": {
          "text": "bottles_sold"
         }
        }
       }
      }
     },
     "metadata": {},
     "output_type": "display_data"
    }
   ],
   "source": [
    "px.bar(data_yearly, x='year', y='bottles_sold', color= 'alcohol_type', template = iowa)"
   ]
  },
  {
   "cell_type": "code",
   "execution_count": 37,
   "metadata": {},
   "outputs": [
    {
     "data": {
      "application/vnd.plotly.v1+json": {
       "config": {
        "plotlyServerURL": "https://plot.ly"
       },
       "data": [
        {
         "hovertemplate": "alcohol_type=BOURBON<br>year=%{x}<br>bottles_sold=%{y}<extra></extra>",
         "legendgroup": "BOURBON",
         "line": {
          "color": "#4c3624",
          "dash": "solid"
         },
         "marker": {
          "symbol": "circle"
         },
         "mode": "lines",
         "name": "BOURBON",
         "orientation": "v",
         "showlegend": true,
         "type": "scatter",
         "x": [
          2021,
          2022,
          2023,
          2024
         ],
         "xaxis": "x",
         "y": [
          1742865,
          1714201,
          1809473,
          1824041
         ],
         "yaxis": "y"
        },
        {
         "hovertemplate": "alcohol_type=BRANDIES<br>year=%{x}<br>bottles_sold=%{y}<extra></extra>",
         "legendgroup": "BRANDIES",
         "line": {
          "color": "#ff0651",
          "dash": "solid"
         },
         "marker": {
          "symbol": "circle"
         },
         "mode": "lines",
         "name": "BRANDIES",
         "orientation": "v",
         "showlegend": true,
         "type": "scatter",
         "x": [
          2021,
          2022,
          2023,
          2024
         ],
         "xaxis": "x",
         "y": [
          1555900,
          1295501,
          1200369,
          1115008
         ],
         "yaxis": "y"
        },
        {
         "hovertemplate": "alcohol_type=GINS<br>year=%{x}<br>bottles_sold=%{y}<extra></extra>",
         "legendgroup": "GINS",
         "line": {
          "color": "#ff7e06",
          "dash": "solid"
         },
         "marker": {
          "symbol": "circle"
         },
         "mode": "lines",
         "name": "GINS",
         "orientation": "v",
         "showlegend": true,
         "type": "scatter",
         "x": [
          2021,
          2022,
          2023,
          2024
         ],
         "xaxis": "x",
         "y": [
          688088,
          596377,
          604740,
          595660
         ],
         "yaxis": "y"
        },
        {
         "hovertemplate": "alcohol_type=LIQUEURS<br>year=%{x}<br>bottles_sold=%{y}<extra></extra>",
         "legendgroup": "LIQUEURS",
         "line": {
          "color": "#74B36B",
          "dash": "solid"
         },
         "marker": {
          "symbol": "circle"
         },
         "mode": "lines",
         "name": "LIQUEURS",
         "orientation": "v",
         "showlegend": true,
         "type": "scatter",
         "x": [
          2021,
          2022,
          2023,
          2024
         ],
         "xaxis": "x",
         "y": [
          5508279,
          5687114,
          5882978,
          5985583
         ],
         "yaxis": "y"
        },
        {
         "hovertemplate": "alcohol_type=MEZCAL<br>year=%{x}<br>bottles_sold=%{y}<extra></extra>",
         "legendgroup": "MEZCAL",
         "line": {
          "color": "#628395",
          "dash": "solid"
         },
         "marker": {
          "symbol": "circle"
         },
         "mode": "lines",
         "name": "MEZCAL",
         "orientation": "v",
         "showlegend": true,
         "type": "scatter",
         "x": [
          2021,
          2022,
          2023,
          2024
         ],
         "xaxis": "x",
         "y": [
          13233,
          15390,
          15550,
          14477
         ],
         "yaxis": "y"
        },
        {
         "hovertemplate": "alcohol_type=OTHERS<br>year=%{x}<br>bottles_sold=%{y}<extra></extra>",
         "legendgroup": "OTHERS",
         "line": {
          "color": "#996C48",
          "dash": "solid"
         },
         "marker": {
          "symbol": "circle"
         },
         "mode": "lines",
         "name": "OTHERS",
         "orientation": "v",
         "showlegend": true,
         "type": "scatter",
         "x": [
          2021,
          2022,
          2023,
          2024
         ],
         "xaxis": "x",
         "y": [
          2043647,
          2092656,
          1980789,
          2269181
         ],
         "yaxis": "y"
        },
        {
         "hovertemplate": "alcohol_type=RUM<br>year=%{x}<br>bottles_sold=%{y}<extra></extra>",
         "legendgroup": "RUM",
         "line": {
          "color": "#FF5C8D",
          "dash": "solid"
         },
         "marker": {
          "symbol": "circle"
         },
         "mode": "lines",
         "name": "RUM",
         "orientation": "v",
         "showlegend": true,
         "type": "scatter",
         "x": [
          2021,
          2022,
          2023,
          2024
         ],
         "xaxis": "x",
         "y": [
          2876552,
          2617558,
          2614821,
          2415911
         ],
         "yaxis": "y"
        },
        {
         "hovertemplate": "alcohol_type=SCHNAPPS<br>year=%{x}<br>bottles_sold=%{y}<extra></extra>",
         "legendgroup": "SCHNAPPS",
         "line": {
          "color": "#FF9633",
          "dash": "solid"
         },
         "marker": {
          "symbol": "circle"
         },
         "mode": "lines",
         "name": "SCHNAPPS",
         "orientation": "v",
         "showlegend": true,
         "type": "scatter",
         "x": [
          2021,
          2022,
          2023,
          2024
         ],
         "xaxis": "x",
         "y": [
          1183747,
          1168188,
          1303502,
          1391745
         ],
         "yaxis": "y"
        },
        {
         "hovertemplate": "alcohol_type=TEQUILA<br>year=%{x}<br>bottles_sold=%{y}<extra></extra>",
         "legendgroup": "TEQUILA",
         "line": {
          "color": "#8CC084",
          "dash": "solid"
         },
         "marker": {
          "symbol": "circle"
         },
         "mode": "lines",
         "name": "TEQUILA",
         "orientation": "v",
         "showlegend": true,
         "type": "scatter",
         "x": [
          2021,
          2022,
          2023,
          2024
         ],
         "xaxis": "x",
         "y": [
          1616833,
          1703739,
          1911964,
          1972159
         ],
         "yaxis": "y"
        },
        {
         "hovertemplate": "alcohol_type=VODKAS<br>year=%{x}<br>bottles_sold=%{y}<extra></extra>",
         "legendgroup": "VODKAS",
         "line": {
          "color": "#84A0AE",
          "dash": "solid"
         },
         "marker": {
          "symbol": "circle"
         },
         "mode": "lines",
         "name": "VODKAS",
         "orientation": "v",
         "showlegend": true,
         "type": "scatter",
         "x": [
          2021,
          2022,
          2023,
          2024
         ],
         "xaxis": "x",
         "y": [
          8270436,
          8229267,
          8527908,
          8530078
         ],
         "yaxis": "y"
        },
        {
         "hovertemplate": "alcohol_type=WHISKIES<br>year=%{x}<br>bottles_sold=%{y}<extra></extra>",
         "legendgroup": "WHISKIES",
         "line": {
          "color": "#B78B66",
          "dash": "solid"
         },
         "marker": {
          "symbol": "circle"
         },
         "mode": "lines",
         "name": "WHISKIES",
         "orientation": "v",
         "showlegend": true,
         "type": "scatter",
         "x": [
          2021,
          2022,
          2023,
          2024
         ],
         "xaxis": "x",
         "y": [
          5701689,
          5290891,
          5404781,
          5270055
         ],
         "yaxis": "y"
        }
       ],
       "layout": {
        "legend": {
         "title": {
          "text": "alcohol_type"
         },
         "tracegroupgap": 0
        },
        "margin": {
         "t": 60
        },
        "template": {
         "layout": {
          "colorway": [
           "#4c3624",
           "#ff0651",
           "#ff7e06",
           "#74B36B",
           "#628395",
           "#996C48",
           "#FF5C8D",
           "#FF9633",
           "#8CC084",
           "#84A0AE",
           "#B78B66",
           "#FF85A9",
           "#FFB570",
           "#A7CEA1",
           "#A9BCC7"
          ],
          "font": {
           "color": "black"
          },
          "paper_bgcolor": "white",
          "plot_bgcolor": "white",
          "xaxis": {
           "gridcolor": "lightgray"
          },
          "yaxis": {
           "gridcolor": "lightgray"
          }
         }
        },
        "xaxis": {
         "anchor": "y",
         "domain": [
          0,
          1
         ],
         "title": {
          "text": "year"
         }
        },
        "yaxis": {
         "anchor": "x",
         "domain": [
          0,
          1
         ],
         "title": {
          "text": "bottles_sold"
         }
        }
       }
      }
     },
     "metadata": {},
     "output_type": "display_data"
    }
   ],
   "source": [
    "px.line(data_yearly, x='year', y='bottles_sold', color= 'alcohol_type', template = iowa)"
   ]
  },
  {
   "cell_type": "code",
   "execution_count": 31,
   "metadata": {},
   "outputs": [
    {
     "data": {
      "application/vnd.plotly.v1+json": {
       "config": {
        "plotlyServerURL": "https://plot.ly"
       },
       "data": [
        {
         "alignmentgroup": "True",
         "hovertemplate": "alcohol_type=BOURBON<br>year=%{x}<br>sale_(dollars)=%{y}<extra></extra>",
         "legendgroup": "BOURBON",
         "marker": {
          "color": "#4c3624",
          "pattern": {
           "shape": ""
          }
         },
         "name": "BOURBON",
         "offsetgroup": "BOURBON",
         "orientation": "v",
         "showlegend": true,
         "textposition": "auto",
         "type": "bar",
         "x": [
          2021,
          2022,
          2023,
          2024
         ],
         "xaxis": "x",
         "y": [
          36256343.17,
          38245142.38,
          42193448.48,
          43706248.48
         ],
         "yaxis": "y"
        },
        {
         "alignmentgroup": "True",
         "hovertemplate": "alcohol_type=BRANDIES<br>year=%{x}<br>sale_(dollars)=%{y}<extra></extra>",
         "legendgroup": "BRANDIES",
         "marker": {
          "color": "#ff0651",
          "pattern": {
           "shape": ""
          }
         },
         "name": "BRANDIES",
         "offsetgroup": "BRANDIES",
         "orientation": "v",
         "showlegend": true,
         "textposition": "auto",
         "type": "bar",
         "x": [
          2021,
          2022,
          2023,
          2024
         ],
         "xaxis": "x",
         "y": [
          21211232.16,
          18143175.21,
          15885214.62,
          14160587.63
         ],
         "yaxis": "y"
        },
        {
         "alignmentgroup": "True",
         "hovertemplate": "alcohol_type=GINS<br>year=%{x}<br>sale_(dollars)=%{y}<extra></extra>",
         "legendgroup": "GINS",
         "marker": {
          "color": "#ff7e06",
          "pattern": {
           "shape": ""
          }
         },
         "name": "GINS",
         "offsetgroup": "GINS",
         "orientation": "v",
         "showlegend": true,
         "textposition": "auto",
         "type": "bar",
         "x": [
          2021,
          2022,
          2023,
          2024
         ],
         "xaxis": "x",
         "y": [
          9737478.35,
          9257973.8,
          9699453.53,
          9676884.3
         ],
         "yaxis": "y"
        },
        {
         "alignmentgroup": "True",
         "hovertemplate": "alcohol_type=LIQUEURS<br>year=%{x}<br>sale_(dollars)=%{y}<extra></extra>",
         "legendgroup": "LIQUEURS",
         "marker": {
          "color": "#74B36B",
          "pattern": {
           "shape": ""
          }
         },
         "name": "LIQUEURS",
         "offsetgroup": "LIQUEURS",
         "orientation": "v",
         "showlegend": true,
         "textposition": "auto",
         "type": "bar",
         "x": [
          2021,
          2022,
          2023,
          2024
         ],
         "xaxis": "x",
         "y": [
          51151377.45,
          52249573.14,
          54048161.55,
          52845156.67
         ],
         "yaxis": "y"
        },
        {
         "alignmentgroup": "True",
         "hovertemplate": "alcohol_type=MEZCAL<br>year=%{x}<br>sale_(dollars)=%{y}<extra></extra>",
         "legendgroup": "MEZCAL",
         "marker": {
          "color": "#628395",
          "pattern": {
           "shape": ""
          }
         },
         "name": "MEZCAL",
         "offsetgroup": "MEZCAL",
         "orientation": "v",
         "showlegend": true,
         "textposition": "auto",
         "type": "bar",
         "x": [
          2021,
          2022,
          2023,
          2024
         ],
         "xaxis": "x",
         "y": [
          430544.76,
          506772.9,
          527681.49,
          466248.68
         ],
         "yaxis": "y"
        },
        {
         "alignmentgroup": "True",
         "hovertemplate": "alcohol_type=OTHERS<br>year=%{x}<br>sale_(dollars)=%{y}<extra></extra>",
         "legendgroup": "OTHERS",
         "marker": {
          "color": "#996C48",
          "pattern": {
           "shape": ""
          }
         },
         "name": "OTHERS",
         "offsetgroup": "OTHERS",
         "orientation": "v",
         "showlegend": true,
         "textposition": "auto",
         "type": "bar",
         "x": [
          2021,
          2022,
          2023,
          2024
         ],
         "xaxis": "x",
         "y": [
          27169031.92,
          32595092.14,
          28588548.33,
          34952785.98
         ],
         "yaxis": "y"
        },
        {
         "alignmentgroup": "True",
         "hovertemplate": "alcohol_type=RUM<br>year=%{x}<br>sale_(dollars)=%{y}<extra></extra>",
         "legendgroup": "RUM",
         "marker": {
          "color": "#FF5C8D",
          "pattern": {
           "shape": ""
          }
         },
         "name": "RUM",
         "offsetgroup": "RUM",
         "orientation": "v",
         "showlegend": true,
         "textposition": "auto",
         "type": "bar",
         "x": [
          2021,
          2022,
          2023,
          2024
         ],
         "xaxis": "x",
         "y": [
          41074845.85,
          37803426.38,
          39442959.98,
          36794486.27
         ],
         "yaxis": "y"
        },
        {
         "alignmentgroup": "True",
         "hovertemplate": "alcohol_type=SCHNAPPS<br>year=%{x}<br>sale_(dollars)=%{y}<extra></extra>",
         "legendgroup": "SCHNAPPS",
         "marker": {
          "color": "#FF9633",
          "pattern": {
           "shape": ""
          }
         },
         "name": "SCHNAPPS",
         "offsetgroup": "SCHNAPPS",
         "orientation": "v",
         "showlegend": true,
         "textposition": "auto",
         "type": "bar",
         "x": [
          2021,
          2022,
          2023,
          2024
         ],
         "xaxis": "x",
         "y": [
          13198252.02,
          12556047.22,
          13423454.1,
          13627052.05
         ],
         "yaxis": "y"
        },
        {
         "alignmentgroup": "True",
         "hovertemplate": "alcohol_type=TEQUILA<br>year=%{x}<br>sale_(dollars)=%{y}<extra></extra>",
         "legendgroup": "TEQUILA",
         "marker": {
          "color": "#8CC084",
          "pattern": {
           "shape": ""
          }
         },
         "name": "TEQUILA",
         "offsetgroup": "TEQUILA",
         "orientation": "v",
         "showlegend": true,
         "textposition": "auto",
         "type": "bar",
         "x": [
          2021,
          2022,
          2023,
          2024
         ],
         "xaxis": "x",
         "y": [
          34583419.74,
          38011773.81,
          43642246.9,
          45769586.48
         ],
         "yaxis": "y"
        },
        {
         "alignmentgroup": "True",
         "hovertemplate": "alcohol_type=VODKAS<br>year=%{x}<br>sale_(dollars)=%{y}<extra></extra>",
         "legendgroup": "VODKAS",
         "marker": {
          "color": "#84A0AE",
          "pattern": {
           "shape": ""
          }
         },
         "name": "VODKAS",
         "offsetgroup": "VODKAS",
         "orientation": "v",
         "showlegend": true,
         "textposition": "auto",
         "type": "bar",
         "x": [
          2021,
          2022,
          2023,
          2024
         ],
         "xaxis": "x",
         "y": [
          92302813.51,
          91013327.45,
          95754328.7,
          94538772.86
         ],
         "yaxis": "y"
        },
        {
         "alignmentgroup": "True",
         "hovertemplate": "alcohol_type=WHISKIES<br>year=%{x}<br>sale_(dollars)=%{y}<extra></extra>",
         "legendgroup": "WHISKIES",
         "marker": {
          "color": "#B78B66",
          "pattern": {
           "shape": ""
          }
         },
         "name": "WHISKIES",
         "offsetgroup": "WHISKIES",
         "orientation": "v",
         "showlegend": true,
         "textposition": "auto",
         "type": "bar",
         "x": [
          2021,
          2022,
          2023,
          2024
         ],
         "xaxis": "x",
         "y": [
          100952840.33,
          97971405.61,
          102738798.29,
          100637423.87
         ],
         "yaxis": "y"
        }
       ],
       "layout": {
        "barmode": "relative",
        "legend": {
         "title": {
          "text": "alcohol_type"
         },
         "tracegroupgap": 0
        },
        "margin": {
         "t": 60
        },
        "template": {
         "layout": {
          "colorway": [
           "#4c3624",
           "#ff0651",
           "#ff7e06",
           "#74B36B",
           "#628395",
           "#996C48",
           "#FF5C8D",
           "#FF9633",
           "#8CC084",
           "#84A0AE",
           "#B78B66",
           "#FF85A9",
           "#FFB570",
           "#A7CEA1",
           "#A9BCC7"
          ],
          "font": {
           "color": "black"
          },
          "paper_bgcolor": "white",
          "plot_bgcolor": "white",
          "xaxis": {
           "gridcolor": "lightgray"
          },
          "yaxis": {
           "gridcolor": "lightgray"
          }
         }
        },
        "xaxis": {
         "anchor": "y",
         "domain": [
          0,
          1
         ],
         "title": {
          "text": "year"
         }
        },
        "yaxis": {
         "anchor": "x",
         "domain": [
          0,
          1
         ],
         "title": {
          "text": "sale_(dollars)"
         }
        }
       }
      }
     },
     "metadata": {},
     "output_type": "display_data"
    }
   ],
   "source": [
    "px.bar(data_yearly, x='year', y='sale_(dollars)', color= 'alcohol_type', template = iowa)"
   ]
  },
  {
   "cell_type": "code",
   "execution_count": 32,
   "metadata": {},
   "outputs": [
    {
     "data": {
      "application/vnd.plotly.v1+json": {
       "config": {
        "plotlyServerURL": "https://plot.ly"
       },
       "data": [
        {
         "hovertemplate": "alcohol_type=BOURBON<br>year=%{x}<br>sale_(dollars)=%{y}<extra></extra>",
         "legendgroup": "BOURBON",
         "line": {
          "color": "#4c3624",
          "dash": "solid"
         },
         "marker": {
          "symbol": "circle"
         },
         "mode": "lines",
         "name": "BOURBON",
         "orientation": "v",
         "showlegend": true,
         "type": "scatter",
         "x": [
          2021,
          2022,
          2023,
          2024
         ],
         "xaxis": "x",
         "y": [
          36256343.17,
          38245142.38,
          42193448.48,
          43706248.48
         ],
         "yaxis": "y"
        },
        {
         "hovertemplate": "alcohol_type=BRANDIES<br>year=%{x}<br>sale_(dollars)=%{y}<extra></extra>",
         "legendgroup": "BRANDIES",
         "line": {
          "color": "#ff0651",
          "dash": "solid"
         },
         "marker": {
          "symbol": "circle"
         },
         "mode": "lines",
         "name": "BRANDIES",
         "orientation": "v",
         "showlegend": true,
         "type": "scatter",
         "x": [
          2021,
          2022,
          2023,
          2024
         ],
         "xaxis": "x",
         "y": [
          21211232.16,
          18143175.21,
          15885214.62,
          14160587.63
         ],
         "yaxis": "y"
        },
        {
         "hovertemplate": "alcohol_type=GINS<br>year=%{x}<br>sale_(dollars)=%{y}<extra></extra>",
         "legendgroup": "GINS",
         "line": {
          "color": "#ff7e06",
          "dash": "solid"
         },
         "marker": {
          "symbol": "circle"
         },
         "mode": "lines",
         "name": "GINS",
         "orientation": "v",
         "showlegend": true,
         "type": "scatter",
         "x": [
          2021,
          2022,
          2023,
          2024
         ],
         "xaxis": "x",
         "y": [
          9737478.35,
          9257973.8,
          9699453.53,
          9676884.3
         ],
         "yaxis": "y"
        },
        {
         "hovertemplate": "alcohol_type=LIQUEURS<br>year=%{x}<br>sale_(dollars)=%{y}<extra></extra>",
         "legendgroup": "LIQUEURS",
         "line": {
          "color": "#74B36B",
          "dash": "solid"
         },
         "marker": {
          "symbol": "circle"
         },
         "mode": "lines",
         "name": "LIQUEURS",
         "orientation": "v",
         "showlegend": true,
         "type": "scatter",
         "x": [
          2021,
          2022,
          2023,
          2024
         ],
         "xaxis": "x",
         "y": [
          51151377.45,
          52249573.14,
          54048161.55,
          52845156.67
         ],
         "yaxis": "y"
        },
        {
         "hovertemplate": "alcohol_type=MEZCAL<br>year=%{x}<br>sale_(dollars)=%{y}<extra></extra>",
         "legendgroup": "MEZCAL",
         "line": {
          "color": "#628395",
          "dash": "solid"
         },
         "marker": {
          "symbol": "circle"
         },
         "mode": "lines",
         "name": "MEZCAL",
         "orientation": "v",
         "showlegend": true,
         "type": "scatter",
         "x": [
          2021,
          2022,
          2023,
          2024
         ],
         "xaxis": "x",
         "y": [
          430544.76,
          506772.9,
          527681.49,
          466248.68
         ],
         "yaxis": "y"
        },
        {
         "hovertemplate": "alcohol_type=OTHERS<br>year=%{x}<br>sale_(dollars)=%{y}<extra></extra>",
         "legendgroup": "OTHERS",
         "line": {
          "color": "#996C48",
          "dash": "solid"
         },
         "marker": {
          "symbol": "circle"
         },
         "mode": "lines",
         "name": "OTHERS",
         "orientation": "v",
         "showlegend": true,
         "type": "scatter",
         "x": [
          2021,
          2022,
          2023,
          2024
         ],
         "xaxis": "x",
         "y": [
          27169031.92,
          32595092.14,
          28588548.33,
          34952785.98
         ],
         "yaxis": "y"
        },
        {
         "hovertemplate": "alcohol_type=RUM<br>year=%{x}<br>sale_(dollars)=%{y}<extra></extra>",
         "legendgroup": "RUM",
         "line": {
          "color": "#FF5C8D",
          "dash": "solid"
         },
         "marker": {
          "symbol": "circle"
         },
         "mode": "lines",
         "name": "RUM",
         "orientation": "v",
         "showlegend": true,
         "type": "scatter",
         "x": [
          2021,
          2022,
          2023,
          2024
         ],
         "xaxis": "x",
         "y": [
          41074845.85,
          37803426.38,
          39442959.98,
          36794486.27
         ],
         "yaxis": "y"
        },
        {
         "hovertemplate": "alcohol_type=SCHNAPPS<br>year=%{x}<br>sale_(dollars)=%{y}<extra></extra>",
         "legendgroup": "SCHNAPPS",
         "line": {
          "color": "#FF9633",
          "dash": "solid"
         },
         "marker": {
          "symbol": "circle"
         },
         "mode": "lines",
         "name": "SCHNAPPS",
         "orientation": "v",
         "showlegend": true,
         "type": "scatter",
         "x": [
          2021,
          2022,
          2023,
          2024
         ],
         "xaxis": "x",
         "y": [
          13198252.02,
          12556047.22,
          13423454.1,
          13627052.05
         ],
         "yaxis": "y"
        },
        {
         "hovertemplate": "alcohol_type=TEQUILA<br>year=%{x}<br>sale_(dollars)=%{y}<extra></extra>",
         "legendgroup": "TEQUILA",
         "line": {
          "color": "#8CC084",
          "dash": "solid"
         },
         "marker": {
          "symbol": "circle"
         },
         "mode": "lines",
         "name": "TEQUILA",
         "orientation": "v",
         "showlegend": true,
         "type": "scatter",
         "x": [
          2021,
          2022,
          2023,
          2024
         ],
         "xaxis": "x",
         "y": [
          34583419.74,
          38011773.81,
          43642246.9,
          45769586.48
         ],
         "yaxis": "y"
        },
        {
         "hovertemplate": "alcohol_type=VODKAS<br>year=%{x}<br>sale_(dollars)=%{y}<extra></extra>",
         "legendgroup": "VODKAS",
         "line": {
          "color": "#84A0AE",
          "dash": "solid"
         },
         "marker": {
          "symbol": "circle"
         },
         "mode": "lines",
         "name": "VODKAS",
         "orientation": "v",
         "showlegend": true,
         "type": "scatter",
         "x": [
          2021,
          2022,
          2023,
          2024
         ],
         "xaxis": "x",
         "y": [
          92302813.51,
          91013327.45,
          95754328.7,
          94538772.86
         ],
         "yaxis": "y"
        },
        {
         "hovertemplate": "alcohol_type=WHISKIES<br>year=%{x}<br>sale_(dollars)=%{y}<extra></extra>",
         "legendgroup": "WHISKIES",
         "line": {
          "color": "#B78B66",
          "dash": "solid"
         },
         "marker": {
          "symbol": "circle"
         },
         "mode": "lines",
         "name": "WHISKIES",
         "orientation": "v",
         "showlegend": true,
         "type": "scatter",
         "x": [
          2021,
          2022,
          2023,
          2024
         ],
         "xaxis": "x",
         "y": [
          100952840.33,
          97971405.61,
          102738798.29,
          100637423.87
         ],
         "yaxis": "y"
        }
       ],
       "layout": {
        "legend": {
         "title": {
          "text": "alcohol_type"
         },
         "tracegroupgap": 0
        },
        "margin": {
         "t": 60
        },
        "template": {
         "layout": {
          "colorway": [
           "#4c3624",
           "#ff0651",
           "#ff7e06",
           "#74B36B",
           "#628395",
           "#996C48",
           "#FF5C8D",
           "#FF9633",
           "#8CC084",
           "#84A0AE",
           "#B78B66",
           "#FF85A9",
           "#FFB570",
           "#A7CEA1",
           "#A9BCC7"
          ],
          "font": {
           "color": "black"
          },
          "paper_bgcolor": "white",
          "plot_bgcolor": "white",
          "xaxis": {
           "gridcolor": "lightgray"
          },
          "yaxis": {
           "gridcolor": "lightgray"
          }
         }
        },
        "xaxis": {
         "anchor": "y",
         "domain": [
          0,
          1
         ],
         "title": {
          "text": "year"
         }
        },
        "yaxis": {
         "anchor": "x",
         "domain": [
          0,
          1
         ],
         "title": {
          "text": "sale_(dollars)"
         }
        }
       }
      }
     },
     "metadata": {},
     "output_type": "display_data"
    }
   ],
   "source": [
    "px.line(data_yearly, x='year', y='sale_(dollars)', color= 'alcohol_type', template = iowa)"
   ]
  },
  {
   "cell_type": "code",
   "execution_count": null,
   "metadata": {},
   "outputs": [],
   "source": []
  }
 ],
 "metadata": {
  "kernelspec": {
   "display_name": "base",
   "language": "python",
   "name": "python3"
  },
  "language_info": {
   "codemirror_mode": {
    "name": "ipython",
    "version": 3
   },
   "file_extension": ".py",
   "mimetype": "text/x-python",
   "name": "python",
   "nbconvert_exporter": "python",
   "pygments_lexer": "ipython3",
   "version": "3.11.7"
  }
 },
 "nbformat": 4,
 "nbformat_minor": 2
}
