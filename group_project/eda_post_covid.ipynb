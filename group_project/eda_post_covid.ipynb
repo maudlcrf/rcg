{
  "cells": [
    {
      "cell_type": "markdown",
      "metadata": {
        "id": "view-in-github",
        "colab_type": "text"
      },
      "source": [
        "<a href=\"https://colab.research.google.com/github/maudlcrf/rcg/blob/main/group_project/eda_post_covid.ipynb\" target=\"_parent\"><img src=\"https://colab.research.google.com/assets/colab-badge.svg\" alt=\"Open In Colab\"/></a>"
      ]
    },
    {
      "cell_type": "markdown",
      "metadata": {
        "id": "wcKP94EiuQUR"
      },
      "source": [
        "#### AI for Retail & Consumer Goods | Group Project | MBD April 2024\n",
        "\n",
        "Group Members: Maud Lecerf | Cristina Mosquera | Christopher Stephan"
      ]
    },
    {
      "cell_type": "markdown",
      "metadata": {
        "id": "cfV1BYgAuQUS"
      },
      "source": [
        "# Imports & Color Palette"
      ]
    },
    {
      "cell_type": "code",
      "execution_count": null,
      "metadata": {
        "id": "hDkJhlkNuQUS"
      },
      "outputs": [],
      "source": [
        "import pandas as pd\n",
        "import numpy as np\n",
        "import plotly.express as px\n",
        "import plotly.io as pio\n",
        "from google.colab import drive"
      ]
    },
    {
      "cell_type": "code",
      "execution_count": null,
      "metadata": {
        "id": "mFHoQn1NuQUT"
      },
      "outputs": [],
      "source": [
        "import warnings\n",
        "warnings.filterwarnings(\"ignore\", category=FutureWarning)\n",
        "warnings.filterwarnings(\"ignore\", category=pd.errors.SettingWithCopyWarning)\n",
        "warnings.filterwarnings(\"ignore\", category=DeprecationWarning)"
      ]
    },
    {
      "cell_type": "code",
      "execution_count": null,
      "metadata": {
        "id": "Hs_KGKHquQUT"
      },
      "outputs": [],
      "source": [
        "# Custom Theme\n",
        "iowa = {\n",
        "    \"layout\": {\n",
        "        \"colorway\": [\"#4c3624\", \"#ff0651\", \"#ff7e06\", \"#74B36B\", \"#628395\",\n",
        "                     \"#996C48\", \"#FF5C8D\", \"#FF9633\", \"#8CC084\", \"#84A0AE\",\n",
        "                     \"#B78B66\", \"#FF85A9\", \"#FFB570\", \"#A7CEA1\", \"#A9BCC7\"],\n",
        "        \"plot_bgcolor\": \"white\",\n",
        "        \"paper_bgcolor\": \"white\",\n",
        "        \"font\": {\"color\": \"black\"},\n",
        "        \"xaxis\": {\"gridcolor\": \"lightgray\"},\n",
        "        \"yaxis\": {\"gridcolor\": \"lightgray\"},\n",
        "    }\n",
        "}\n",
        "\n",
        "# Register themes\n",
        "pio.templates[\"iowa\"] = iowa"
      ]
    },
    {
      "cell_type": "code",
      "execution_count": null,
      "metadata": {
        "id": "4a8QcmueuQUT"
      },
      "outputs": [],
      "source": [
        "#data_post_covid = pd.read_csv(\"G:\\\\Drive partagés\\\\RCG\\\\Iowa_Liquor_Sales_Post_Covid.csv\") #Maud\n",
        "\n",
        "drive.mount('/content/drive') #Cris\n",
        "data_post_covid = pd.read_csv(\"/content/drive/MyDrive/Iowa_Liquor_Sales_Post_Covid.csv\") #Cris"
      ]
    },
    {
      "cell_type": "markdown",
      "metadata": {
        "id": "ROz3Te0duQUU"
      },
      "source": [
        "## Splitting the data into alcohol types"
      ]
    },
    {
      "cell_type": "code",
      "execution_count": null,
      "metadata": {
        "id": "12YWwl4RuQUU"
      },
      "outputs": [],
      "source": [
        "## Regrouping the original categories into alcohol types\n",
        "# Define mapping of keywords to subcategories\n",
        "category_mapping = {\n",
        "    'RUM': 'RUM',\n",
        "    'VODKA': 'VODKAS',\n",
        "    'VODKAS': 'VODKAS',\n",
        "    'SCHNAPPS': 'SCHNAPPS',\n",
        "    'BRANDIES': 'BRANDIES',\n",
        "    'WHISKIES': 'WHISKIES',\n",
        "    'SCOTCH': 'WHISKIES',\n",
        "    'GINS': 'GINS',\n",
        "    'GIN': 'GINS',\n",
        "    'MEZCAL': 'MEZCAL',\n",
        "    'TEQUILA': 'TEQUILA',\n",
        "    'BOURBON': 'BOURBON',\n",
        "    'LIQUEURS': 'LIQUEURS',\n",
        "    'LIQUEUR':'LIQUEURS',\n",
        "    'AMARETTO': 'AMARETTO',\n",
        "    'CREME': 'CREME'\n",
        "}\n",
        "\n",
        "# Create a new column and assign \"OTHERS\" by default\n",
        "data_post_covid['alcohol_type'] = 'OTHERS'\n",
        "\n",
        "# Loop through mapping and assign subcategories\n",
        "for keyword, alcohol_type in category_mapping.items():\n",
        "    data_post_covid.loc[data_post_covid['category_name'].str.contains(keyword, case=False, na=False, regex=True), 'alcohol_type'] = alcohol_type"
      ]
    },
    {
      "cell_type": "code",
      "execution_count": null,
      "metadata": {
        "id": "lmYQKcdeuQUU"
      },
      "outputs": [],
      "source": [
        "data_post_covid.nunique()"
      ]
    },
    {
      "cell_type": "code",
      "execution_count": null,
      "metadata": {
        "id": "LEKD1BUQuQUU"
      },
      "outputs": [],
      "source": [
        "data_post_covid['alcohol_type'].value_counts()"
      ]
    },
    {
      "cell_type": "code",
      "execution_count": null,
      "metadata": {
        "id": "kjRTavVfyfB9"
      },
      "outputs": [],
      "source": [
        "data_post_covid['category_name'].value_counts()"
      ]
    },
    {
      "cell_type": "code",
      "execution_count": null,
      "metadata": {
        "id": "aeT_j_BquQUV"
      },
      "outputs": [],
      "source": [
        "#separating the columns into numerical and categorical as it my be helpful later on\n",
        "numerical_cols = ['pack', 'bottle_volume_(ml)', 'state_bottle_cost', 'state_bottle_retail', 'bottles_sold', 'sale_(dollars)',\n",
        "                  'volume_sold_(liters)', 'volume_sold_(gallons)' ]\n",
        "categorical_cols = ['invoice_item_number', 'date', 'store_number', 'store_name', 'address',\n",
        "       'city', 'zip_code', 'store_location', 'county_number', 'county',\n",
        "       'category', 'category_name', 'vendor_number', 'vendor_name',\n",
        "       'item_number', 'item_description' ]"
      ]
    },
    {
      "cell_type": "code",
      "execution_count": null,
      "metadata": {
        "id": "HwVL583SuQUV"
      },
      "outputs": [],
      "source": [
        "data_post_covid['date'] = pd.to_datetime(data_post_covid['date'])\n",
        "\n",
        "# Create new columns\n",
        "data_post_covid['year'] = data_post_covid['date'].dt.year\n",
        "data_post_covid['month'] = data_post_covid['date'].dt.month\n",
        "data_post_covid['year_month'] = data_post_covid['date'].dt.to_period('M')\n",
        "data_post_covid['weekday'] = data_post_covid['date'].dt.weekday\n",
        "\n",
        "# Grouping data by alcohol\n",
        "data_yearly_alcohol = data_post_covid.groupby(['year', 'alcohol_type'])[numerical_cols].sum().reset_index()\n",
        "data_monthly_alcohol = data_post_covid.groupby(['year', 'month', 'alcohol_type'])[numerical_cols].sum().reset_index()\n",
        "data_year_month_alcohol = data_post_covid.groupby(['year_month', 'alcohol_type'])[numerical_cols].sum().reset_index()\n",
        "data_weekday_alcohol = data_post_covid.groupby(['weekday', 'alcohol_type'])[numerical_cols].sum().reset_index()"
      ]
    },
    {
      "cell_type": "code",
      "execution_count": null,
      "metadata": {
        "id": "tasRQ3yOyuTm"
      },
      "outputs": [],
      "source": [
        "# Grouping data by category\n",
        "data_yearly_category = data_post_covid.groupby(['year', 'category_name'])[numerical_cols].sum().reset_index()\n",
        "data_monthly_category = data_post_covid.groupby(['year', 'month', 'category_name'])[numerical_cols].sum().reset_index()\n",
        "data_year_month_category = data_post_covid.groupby(['year_month', 'category_name'])[numerical_cols].sum().reset_index()\n",
        "data_weekday_category = data_post_covid.groupby(['weekday', 'category_name'])[numerical_cols].sum().reset_index()"
      ]
    },
    {
      "cell_type": "code",
      "execution_count": null,
      "metadata": {
        "id": "UQySm9GuuQUV"
      },
      "outputs": [],
      "source": [
        "px.bar(data_yearly_alcohol, x='year', y='volume_sold_(liters)', color= 'alcohol_type', template = iowa)"
      ]
    },
    {
      "cell_type": "code",
      "execution_count": null,
      "metadata": {
        "id": "F_Shc1pguQUV"
      },
      "outputs": [],
      "source": [
        "px.line(data_yearly_alcohol, x='year', y='volume_sold_(liters)', color= 'alcohol_type', template = iowa)"
      ]
    },
    {
      "cell_type": "code",
      "execution_count": null,
      "metadata": {
        "id": "dSimsikcuQUV"
      },
      "outputs": [],
      "source": [
        "px.bar(data_yearly_alcohol, x='year', y='bottles_sold', color= 'alcohol_type', template = iowa)"
      ]
    },
    {
      "cell_type": "code",
      "execution_count": null,
      "metadata": {
        "id": "AEjp9w4DuQUV"
      },
      "outputs": [],
      "source": [
        "px.line(data_yearly_alcohol, x='year', y='bottles_sold', color= 'alcohol_type', template = iowa)"
      ]
    },
    {
      "cell_type": "code",
      "execution_count": null,
      "metadata": {
        "id": "jhlu6JrpuQUV"
      },
      "outputs": [],
      "source": [
        "px.bar(data_yearly_alcohol, x='year', y='sale_(dollars)', color= 'alcohol_type', template = iowa)"
      ]
    },
    {
      "cell_type": "code",
      "execution_count": null,
      "metadata": {
        "id": "6AAbTpF0uQUW"
      },
      "outputs": [],
      "source": [
        "px.line(data_yearly_alcohol, x='year', y='sale_(dollars)', color= 'alcohol_type', template = iowa)"
      ]
    },
    {
      "cell_type": "code",
      "execution_count": null,
      "metadata": {
        "id": "CHzyizk4uQUW"
      },
      "outputs": [],
      "source": [
        "#Creating new features to understand the performance of each cateogry\n",
        "\n",
        "# Price related features\n",
        "data_post_covid['price_per_liter'] = data_post_covid['state_bottle_retail'] / data_post_covid['bottle_volume_(ml)'] * 1000\n",
        "data_post_covid['profit_per_bottle'] = data_post_covid['state_bottle_retail'] - data_post_covid['state_bottle_cost']\n",
        "data_post_covid['profit_margin'] = (data_post_covid['profit_per_bottle'] / data_post_covid['state_bottle_retail']) * 100\n",
        "\n",
        "\n",
        "# Sales performance features\n",
        "data_post_covid['sales_per_store'] = data_post_covid.groupby(['store_number', 'year_month'])['sale_(dollars)'].transform('sum')\n",
        "\n",
        "\n",
        "# Time based features\n",
        "data_post_covid['is_weekend'] = data_post_covid['weekday'].isin([5,6]).astype(int)\n",
        "data_post_covid['quarter'] = data_post_covid['date'].dt.quarter"
      ]
    },
    {
      "cell_type": "markdown",
      "metadata": {
        "id": "lkUJ1hAQzMrR"
      },
      "source": [
        "#Sales"
      ]
    },
    {
      "cell_type": "code",
      "execution_count": null,
      "metadata": {
        "id": "tLbaIFsXzOeZ"
      },
      "outputs": [],
      "source": [
        "# Evolutions of sales per category\n",
        "fig = px.line(data_yearly_category,\n",
        "              x='year',\n",
        "              y='sale_(dollars)',\n",
        "              color='category_name',\n",
        "              title='Evolution of Sales by Category per Year',\n",
        "              template='iowa')\n",
        "fig.show()\n"
      ]
    },
    {
      "cell_type": "markdown",
      "metadata": {
        "id": "zcsjj3Sh6Yud"
      },
      "source": [
        "Since we cannot see any peaks of find a specific pattern, we'll try to find it in the % growth of sales."
      ]
    },
    {
      "cell_type": "code",
      "execution_count": null,
      "metadata": {
        "id": "4ABIgmQU1wh5"
      },
      "outputs": [],
      "source": [
        "# Calculate year-over-year sales growth for each category\n",
        "sales_growth = data_yearly_category.copy()\n",
        "sales_growth['sales_growth'] = sales_growth.groupby('category_name')['sale_(dollars)'].pct_change() * 100\n",
        "\n",
        "# Fill NaN values with 0\n",
        "sales_growth['sales_growth'] = sales_growth['sales_growth'].fillna(0)\n",
        "\n",
        "# Display the sales growth\n",
        "print(sales_growth[['year', 'category_name', 'sale_(dollars)', 'sales_growth']])\n"
      ]
    },
    {
      "cell_type": "code",
      "execution_count": null,
      "metadata": {
        "id": "MASfBN5o1gWM"
      },
      "outputs": [],
      "source": [
        "# Plotting the growth of each category\n",
        "fig_sales_growth = px.line(sales_growth,\n",
        "                           x='year',\n",
        "                           y='sales_growth',\n",
        "                           color='category_name',\n",
        "                           title='Year-over-Year Sales Growth by Category',\n",
        "                           template='iowa')\n",
        "fig_sales_growth.show()\n"
      ]
    },
    {
      "cell_type": "markdown",
      "metadata": {
        "id": "5un_IVup7A6H"
      },
      "source": [
        "it's a lot of information making it hard to analyze, let's filter by the % of fluctuation in sales growth, to see the categories that have growth or decrease their sales the most\n"
      ]
    },
    {
      "cell_type": "code",
      "execution_count": null,
      "metadata": {
        "id": "rZG2WVnG4XW3"
      },
      "outputs": [],
      "source": [
        "# Calculate the absolute value of sales growth\n",
        "sales_growth['abs_sales_growth'] = abs(sales_growth['sales_growth'])\n",
        "\n",
        "# Find categories with the highest absolute sales growth\n",
        "most_fluctuating = sales_growth.groupby('category_name')['abs_sales_growth'].mean().sort_values(ascending=False)\n",
        "\n",
        "# Threshold 20% of fluctuation\n",
        "threshold = 20\n",
        "highly_fluctuating_categories = sales_growth[sales_growth['abs_sales_growth'] > threshold]\n",
        "print(\"\\nCategories with absolute sales growth greater than\", threshold, \"%:\")\n",
        "highly_fluctuating_categories\n"
      ]
    },
    {
      "cell_type": "code",
      "execution_count": null,
      "metadata": {
        "id": "8cKvvvzn5EUZ"
      },
      "outputs": [],
      "source": [
        "# Filter data for years starting from 2021\n",
        "sales_growth_2021 = sales_growth[sales_growth['year'] >= 2021]\n",
        "\n",
        "# Plotting the growth of highly fluctuating categories from 2021 onwards\n",
        "fig_highly_fluctuating = px.line(sales_growth_2021[sales_growth_2021['category_name'].isin(highly_fluctuating_categories['category_name'])],\n",
        "                                 x='year',\n",
        "                                 y='sales_growth',\n",
        "                                 color='category_name',\n",
        "                                 title='Year-over-Year Sales Growth of Highly Fluctuating Categories (2021-2024)',\n",
        "                                 template='iowa')\n",
        "fig_highly_fluctuating.show()\n"
      ]
    },
    {
      "cell_type": "markdown",
      "metadata": {
        "id": "ztLEpdcZ6kf4"
      },
      "source": [
        "The following categories don't have a continuis line, they stop at year 2022. Let's understand what hapenned\n",
        "- imported gins\n",
        "- imported whiskies\n",
        "- destilled spirits specialty"
      ]
    },
    {
      "cell_type": "code",
      "execution_count": null,
      "metadata": {
        "id": "W-7nsQRk19g1"
      },
      "outputs": [],
      "source": [
        "# Filter data for specific categories\n",
        "imported_gins = data_yearly_category[data_yearly_category['category_name'] == 'IMPORTED GINS']\n",
        "imported_whiskies = data_yearly_category[data_yearly_category['category_name'] == 'IMPORTED WHISKIES']\n",
        "distilled_spirits = data_yearly_category[data_yearly_category['category_name'] == 'DISTILLED SPIRITS SPECIALTY']\n",
        "\n",
        "# Check if data exists for each category\n",
        "if not imported_gins.empty:\n",
        "    print(\"Data available for Imported Gins:\")\n",
        "    print(imported_gins[['year', 'sale_(dollars)']])\n",
        "else:\n",
        "    print(\"No data found for Imported Gins.\")\n",
        "\n",
        "if not imported_whiskies.empty:\n",
        "    print(\"\\nData available for Imported Whiskies:\")\n",
        "    print(imported_whiskies[['year', 'sale_(dollars)']])\n",
        "else:\n",
        "    print(\"No data found for Imported Whiskies.\")\n",
        "\n",
        "if not distilled_spirits.empty:\n",
        "    print(\"\\nData available for Distilled Spirits Specialty:\")\n",
        "    print(distilled_spirits[['year', 'category_name', 'sale_(dollars)']])\n",
        "else:\n",
        "    print(\"No data found for Distilled Spirits Specialty.\")\n"
      ]
    },
    {
      "cell_type": "markdown",
      "metadata": {
        "id": "ThntuNRl2gWO"
      },
      "source": [
        "Since we dont have data of these 3 categories for the last 2 years, we are not going to take them into consideration in the post covid analysis."
      ]
    },
    {
      "cell_type": "markdown",
      "metadata": {
        "id": "HAZ9YugH7NxA"
      },
      "source": [
        "These three categories were the worst performers in 2022. This could be the reason they stopped buying in 2023."
      ]
    },
    {
      "cell_type": "markdown",
      "metadata": {
        "id": "3gtQxVDM2TeJ"
      },
      "source": [
        "## High fluctuating categories"
      ]
    },
    {
      "cell_type": "code",
      "execution_count": null,
      "metadata": {
        "id": "ltqmWo_Pz3hI"
      },
      "outputs": [],
      "source": [
        "# Merge 'sales_growth' with 'data_post_covid' to include 'alcohol_type' BEFORE calculating highly_fluctuating_categories\n",
        "sales_growth = pd.merge(sales_growth, data_post_covid[['category_name', 'alcohol_type']], on='category_name', how='left')\n",
        "\n",
        "# Calculate the absolute value of sales growth\n",
        "sales_growth['abs_sales_growth'] = abs(sales_growth['sales_growth'])\n",
        "\n",
        "# Find categories with the highest absolute sales growth\n",
        "most_fluctuating = sales_growth.groupby('category_name')['abs_sales_growth'].mean().sort_values(ascending=False)\n",
        "\n",
        "# Threshold 20% of fluctuation\n",
        "threshold = 20\n",
        "highly_fluctuating_categories = sales_growth[sales_growth['abs_sales_growth'] > threshold]\n",
        "print(\"\\nCategories with absolute sales growth greater than\", threshold, \"%:\")\n",
        "highly_fluctuating_categories\n",
        "\n",
        "# Now you can count category names per alcohol type in highly_fluctuating_categories\n",
        "category_counts_fluctuating  = highly_fluctuating_categories.groupby('alcohol_type')['category_name'].nunique()\n",
        "category_counts_fluctuating"
      ]
    },
    {
      "cell_type": "code",
      "execution_count": null,
      "metadata": {
        "id": "2yc3hCnZj8f0"
      },
      "outputs": [],
      "source": [
        "# Count category names per alcohol type\n",
        "category_counts = data_post_covid.groupby('alcohol_type')['category_name'].nunique()\n",
        "category_counts"
      ]
    },
    {
      "cell_type": "markdown",
      "metadata": {
        "id": "s-5Zannd97Hk"
      },
      "source": [
        "# New Section"
      ]
    },
    {
      "cell_type": "markdown",
      "metadata": {
        "id": "QDdlFp2plwwR"
      },
      "source": [
        "\n",
        "- Bourbon: 66% of the categories have more than 20% fluctuations in sales growth/decrease.\n",
        "- Gins: 40% of the categories have more than 20% fluctuations in sales growth/decrease.\n",
        "- Others: 44% of the categories have more than 20% fluctuations in sales growth/decrease.\n",
        "- Whiskies: 30% of the categories have more than 20% fluctuations in sales growth/decrease.\n"
      ]
    },
    {
      "cell_type": "markdown",
      "metadata": {
        "id": "ToYXRx0QnVuG"
      },
      "source": [
        "Let's dig into the sales per alcohol type so we have more details about these fluctuations.\n"
      ]
    },
    {
      "cell_type": "markdown",
      "metadata": {
        "id": "dCA9iEGanpLs"
      },
      "source": [
        "## Sales per Alcohol type"
      ]
    },
    {
      "cell_type": "markdown",
      "metadata": {
        "id": "fiVhcxFgn_dw"
      },
      "source": [
        "#### Bourbon"
      ]
    },
    {
      "cell_type": "code",
      "execution_count": null,
      "metadata": {
        "id": "efFMec6Sn-9_"
      },
      "outputs": [],
      "source": [
        "# Filter data for Bourbon\n",
        "bourbon_data = data_yearly_alcohol[data_yearly_alcohol['alcohol_type'] == 'BOURBON']\n",
        "\n",
        "# Create the line plot\n",
        "fig = px.line(bourbon_data,\n",
        "              x='year',\n",
        "              y='sale_(dollars)',\n",
        "              title='Bourbon Sales Over Time',\n",
        "              template='iowa')\n",
        "\n",
        "# Update x-axis to display integer years\n",
        "fig.update_xaxes(type='category')\n",
        "\n",
        "fig.show()\n"
      ]
    },
    {
      "cell_type": "markdown",
      "metadata": {
        "id": "rr8WqmdCor5k"
      },
      "source": [
        "We can see a clear increase in sales over the past 4 years."
      ]
    },
    {
      "cell_type": "code",
      "execution_count": null,
      "metadata": {
        "id": "uEpLqfQM1mu-"
      },
      "outputs": [],
      "source": [
        "# Filter sales_growth for 'BOURBON'\n",
        "bourbon_sales_growth = sales_growth[sales_growth['alcohol_type'] == 'BOURBON']\n",
        "\n",
        "# Create the plot\n",
        "fig_bourbon_growth = px.line(bourbon_sales_growth,\n",
        "                             x='year',\n",
        "                             y='sales_growth',\n",
        "                             color='category_name',\n",
        "                             title='Bourbon Sales Growth by Category over the Years',\n",
        "                             template='iowa')\n",
        "fig_bourbon_growth.show()\n"
      ]
    },
    {
      "cell_type": "markdown",
      "metadata": {
        "id": "QNRbpZPhp2HY"
      },
      "source": [
        "- SINGLE BARREL BOURBON WHISKIES experienced significant growth, peaking in 2023 with around 69% growth but then saw a sharp decline to below zero in 2024, indicating a major drop in sales.\n",
        "\n",
        "- BOTTLED IN BOND BOURBON had steady growth, reaching its highest point in 2022 (37%) but slightly declined in 2023 and then dropped close to zero in 2024.\n",
        "\n",
        "- STRAIGHT BOURBON WHISKIES maintained modest and steady growth throughout the period, peaking slightly in 2023 before a minor decline in 2024, though still positive."
      ]
    },
    {
      "cell_type": "markdown",
      "metadata": {
        "id": "ne2IuGo4qBv7"
      },
      "source": [
        "The fluctuations show highly volatile categories within the bourbon.\n",
        "\n",
        "\n",
        "\n",
        "\n",
        "\n",
        "\n",
        "\n"
      ]
    },
    {
      "cell_type": "code",
      "execution_count": null,
      "metadata": {
        "id": "eej9r9Tt2jgi"
      },
      "outputs": [],
      "source": [
        "# Filter data for Bourbon categories\n",
        "bourbon_categories = sales_growth[sales_growth['alcohol_type'] == 'BOURBON']\n",
        "\n",
        "# Group by category_name and sum the sales\n",
        "bourbon_sales_by_category = bourbon_categories.groupby('category_name')['sale_(dollars)'].sum().reset_index()\n",
        "\n",
        "# Sort by sales in descending order\n",
        "bourbon_sales_by_category = bourbon_sales_by_category.sort_values('sale_(dollars)', ascending=False)\n",
        "\n",
        "# Create the bar plot\n",
        "fig = px.bar(bourbon_sales_by_category,\n",
        "             x='category_name',\n",
        "             y='sale_(dollars)',\n",
        "             title='Total Bourbon Sales by Category',\n",
        "             template='iowa')\n",
        "fig.update_xaxes(title_text='Bourbon Category')\n",
        "fig.update_yaxes(title_text='Total Sales ($)')\n",
        "fig.show()\n"
      ]
    },
    {
      "cell_type": "markdown",
      "metadata": {
        "id": "qz_HDy6VriIA"
      },
      "source": [
        "Bourbon sales peaked in 2023 but saw a sharp decline in 2024, especially in single barrel varieties. Despite growth fluctuations, Straight Bourbon Whiskies dominate total sales. The market remains steady, driven by traditional bourbon preferences."
      ]
    },
    {
      "cell_type": "markdown",
      "metadata": {
        "id": "eT6qASJrsJxJ"
      },
      "source": [
        "#### Gins"
      ]
    },
    {
      "cell_type": "code",
      "execution_count": null,
      "metadata": {
        "id": "WhPtssvSsGz1"
      },
      "outputs": [],
      "source": [
        "# Filter data for Gins\n",
        "gins_data = data_yearly_alcohol[data_yearly_alcohol['alcohol_type'] == 'GINS']\n",
        "\n",
        "# Create the line plot\n",
        "fig = px.line(gins_data,\n",
        "              x='year',\n",
        "              y='sale_(dollars)',\n",
        "              title='Gins Sales Over Time',\n",
        "              template='iowa')\n",
        "\n",
        "# Update x-axis to display integer years\n",
        "fig.update_xaxes(type='category')\n",
        "\n",
        "fig.show()\n"
      ]
    },
    {
      "cell_type": "code",
      "execution_count": null,
      "metadata": {
        "id": "UjBSIY4Z20yP"
      },
      "outputs": [],
      "source": [
        "# Filter sales_growth for 'GINS'\n",
        "gins_sales_growth = sales_growth[sales_growth['alcohol_type'] == 'GINS']\n",
        "\n",
        "# Create the plot\n",
        "fig_gins_growth = px.line(gins_sales_growth,\n",
        "                             x='year',\n",
        "                             y='sales_growth',\n",
        "                             color='category_name',\n",
        "                             title='Gins Sales Growth by Category over the Years',\n",
        "                             template='iowa')\n",
        "fig_gins_growth.show()\n"
      ]
    },
    {
      "cell_type": "code",
      "execution_count": null,
      "metadata": {
        "id": "deQw3PqPszxv"
      },
      "outputs": [],
      "source": [
        "# Check if data exists for Imported Gins in 2023 and 2024\n",
        "imported_gins_2023_2024 = data_yearly_category[\n",
        "    (data_yearly_category['category_name'] == 'IMPORTED GINS') &\n",
        "    (data_yearly_category['year'].isin([2023, 2024]))\n",
        "]\n",
        "\n",
        "if not imported_gins_2023_2024.empty:\n",
        "    print(\"Data available for Imported Gins in 2023 and 2024:\")\n",
        "    print(imported_gins_2023_2024[['year', 'sale_(dollars)']])\n",
        "else:\n",
        "    print(\"No data found for Imported Gins in 2023 and 2024.\")\n"
      ]
    },
    {
      "cell_type": "markdown",
      "metadata": {
        "id": "-3pN7U9dtAxg"
      },
      "source": [
        "Since it had a bad performance in 2022 (decreasing sales by 50%), they stopped buying this category."
      ]
    },
    {
      "cell_type": "code",
      "execution_count": null,
      "metadata": {
        "id": "d49PwBOi3VxJ"
      },
      "outputs": [],
      "source": [
        "# Filter data for Gins categories\n",
        "gins_categories = sales_growth[sales_growth['alcohol_type'] == 'GINS']\n",
        "\n",
        "# Group by category_name and sum the sales\n",
        "gins_sales_by_category = gins_categories.groupby('category_name')['sale_(dollars)'].sum().reset_index()\n",
        "\n",
        "# Sort by sales in descending order\n",
        "gins_sales_by_category = gins_sales_by_category.sort_values('sale_(dollars)', ascending=False)\n",
        "\n",
        "# Create the bar plot\n",
        "fig = px.bar(gins_sales_by_category,\n",
        "             x='category_name',\n",
        "             y='sale_(dollars)',\n",
        "             title='Total Gins Sales by Category',\n",
        "             template='iowa')\n",
        "fig.update_xaxes(title_text='Gins Category')\n",
        "fig.update_yaxes(title_text='Total Sales ($)')\n",
        "fig.show()\n"
      ]
    },
    {
      "cell_type": "markdown",
      "metadata": {
        "id": "pnlD-YZD6A6D"
      },
      "source": [
        "Gin experienced peak growth in 2022 but has since declined. Total sales remain strong, driven mainly by dry gins. Fluctuations suggest evolving consumer preferences, though overall demand stays stable."
      ]
    },
    {
      "cell_type": "markdown",
      "metadata": {
        "id": "7Vkw74GEvXzB"
      },
      "source": [
        "#### Others\n"
      ]
    },
    {
      "cell_type": "code",
      "execution_count": null,
      "metadata": {
        "id": "UeXda7NZvpeB"
      },
      "outputs": [],
      "source": [
        "# Filter data for Others\n",
        "others_data = data_yearly_alcohol[data_yearly_alcohol['alcohol_type'] == 'OTHERS']\n",
        "\n",
        "# Create the line plot\n",
        "fig = px.line(others_data,\n",
        "              x='year',\n",
        "              y='sale_(dollars)',\n",
        "              title='Others Sales Over Time',\n",
        "              template='iowa')\n",
        "\n",
        "# Update x-axis to display integer years\n",
        "fig.update_xaxes(type='category')\n",
        "\n",
        "fig.show()\n"
      ]
    },
    {
      "cell_type": "code",
      "execution_count": null,
      "metadata": {
        "id": "Yh4hxUg03jNo"
      },
      "outputs": [],
      "source": [
        "# Filter sales_growth for 'OTHERS'\n",
        "others_sales_growth = sales_growth[sales_growth['alcohol_type'] == 'OTHERS']\n",
        "\n",
        "# Create the plot\n",
        "fig_others_growth = px.line(others_sales_growth,\n",
        "                             x='year',\n",
        "                             y='sales_growth',\n",
        "                             color='category_name',\n",
        "                             title='Others Sales Growth by Category over the Years',\n",
        "                             template='iowa')\n",
        "fig_others_growth.show()\n"
      ]
    },
    {
      "cell_type": "code",
      "execution_count": null,
      "metadata": {
        "id": "SLx_lvYF31sK"
      },
      "outputs": [],
      "source": [
        "# Filter data for Others categories\n",
        "others_categories = sales_growth[sales_growth['alcohol_type'] == 'OTHERS']\n",
        "# Group by category_name and sum the sales\n",
        "others_sales_by_category = others_categories.groupby('category_name')['sale_(dollars)'].sum().reset_index()\n",
        "# Sort by sales in descending order\n",
        "others_sales_by_category = others_sales_by_category.sort_values('sale_(dollars)', ascending=False)\n",
        "# Create the bar plot\n",
        "fig = px.bar(others_sales_by_category,\n",
        "             x='category_name',\n",
        "             y='sale_(dollars)',\n",
        "             title='Total Others Sales by Category',\n",
        "             template='iowa')\n",
        "fig.update_xaxes(title_text='', tickangle=45, tickfont=dict(size=10)) # Rotate x-axis labels\n",
        "fig.update_yaxes(title_text='Total Sales ($)')\n",
        "fig.show()\n"
      ]
    },
    {
      "cell_type": "markdown",
      "metadata": {
        "id": "W5IOX0s76o2C"
      },
      "source": [
        "Sales in the \"Others\" alcohol category show volatility, with sharp peaks and dips across years. Despite fluctuating growth, Temporary & Specialty Packages and Cocktails/RTD dominate total sales."
      ]
    },
    {
      "cell_type": "markdown",
      "metadata": {
        "id": "C3pR9A8xvkrB"
      },
      "source": [
        "#### Whiskies"
      ]
    },
    {
      "cell_type": "code",
      "execution_count": null,
      "metadata": {
        "id": "_vTRln1bvyT6"
      },
      "outputs": [],
      "source": [
        "# Filter data for Whiskies\n",
        "whiskies_data = data_yearly_alcohol[data_yearly_alcohol['alcohol_type'] == 'WHISKIES']\n",
        "\n",
        "# Create the line plot\n",
        "fig = px.line(whiskies_data,\n",
        "              x='year',\n",
        "              y='sale_(dollars)',\n",
        "              title='Whiskies Sales Over Time',\n",
        "              template='iowa')\n",
        "\n",
        "# Update x-axis to display integer years\n",
        "fig.update_xaxes(type='category')\n",
        "\n",
        "fig.show()\n"
      ]
    },
    {
      "cell_type": "code",
      "execution_count": null,
      "metadata": {
        "id": "nZeEoYV84Jnd"
      },
      "outputs": [],
      "source": [
        "# Filter sales_growth for 'WHISKIES'\n",
        "whiskies_sales_growth = sales_growth[sales_growth['alcohol_type'] == 'WHISKIES']\n",
        "\n",
        "# Create the plot\n",
        "fig_whiskies_growth = px.line(whiskies_sales_growth,\n",
        "                             x='year',\n",
        "                             y='sales_growth',\n",
        "                             color='category_name',\n",
        "                             title='Whiskies Sales Growth by Category over the Years',\n",
        "                             template='iowa')\n",
        "fig_whiskies_growth.show()\n"
      ]
    },
    {
      "cell_type": "code",
      "execution_count": null,
      "metadata": {
        "id": "bG07LSLW5ein"
      },
      "outputs": [],
      "source": [
        "# Check if data exists for Imported Whiskies in 2023 and 2024\n",
        "imported_whiskies_2023_2024 = data_yearly_category[\n",
        "    (data_yearly_category['category_name'] == 'IMPORTED WHISKIES') &\n",
        "    (data_yearly_category['year'].isin([2023, 2024]))\n",
        "]\n",
        "\n",
        "if not imported_whiskies_2023_2024.empty:\n",
        "    print(\"Data available for Imported Whiskies in 2023 and 2024:\")\n",
        "    print(imported_whiskies_2023_2024[['year', 'sale_(dollars)']])\n",
        "else:\n",
        "    print(\"No data found for Imported Whiskies in 2023 and 2024.\")\n"
      ]
    },
    {
      "cell_type": "code",
      "execution_count": null,
      "metadata": {
        "id": "qA0FjYAl4Q8M"
      },
      "outputs": [],
      "source": [
        "# Filter data for Whiskies categories\n",
        "whiskies_categories = sales_growth[sales_growth['alcohol_type'] == 'WHISKIES']\n",
        "\n",
        "# Group by category_name and sum the sales\n",
        "whiskies_sales_by_category = whiskies_categories.groupby('category_name')['sale_(dollars)'].sum().reset_index()\n",
        "\n",
        "# Sort by sales in descending order\n",
        "whiskies_sales_by_category = whiskies_sales_by_category.sort_values('sale_(dollars)', ascending=False)\n",
        "\n",
        "# Create the bar plot\n",
        "fig = px.bar(whiskies_sales_by_category,\n",
        "             x='category_name',\n",
        "             y='sale_(dollars)',\n",
        "             title='Total Whiskies Sales by Category',\n",
        "             template='iowa')\n",
        "fig.update_xaxes(title_text='', tickangle=45, tickfont=dict(size=10)) # Rotate x-axis labels\n",
        "fig.update_yaxes(title_text='Total Sales ($)')\n",
        "fig.show()\n"
      ]
    },
    {
      "cell_type": "markdown",
      "metadata": {
        "id": "Rn3f9esK621V"
      },
      "source": [
        "Whisky sales show overall market stability despite category-specific fluctuations. Canadian Whiskies dominate total sales, maintaining a strong market lead. While some types saw minor growth shifts, consumer preference remains largely consistent."
      ]
    },
    {
      "cell_type": "markdown",
      "metadata": {
        "id": "9xEtvUDr8NJA"
      },
      "source": [
        "**Sales per Alcohol Type Takeaways**\n",
        "\n",
        "The overall sales fluctuations often stem from categories with volatile growth but minimal market share, which can disproportionately affect sales trends without significantly impacting total revenue. In the graphs:\n",
        "\n",
        "- Gin: The large spike in flavored gin sales caused notable growth, but since its total market share is low, it had limited impact on overall revenue.\n",
        "- Others: Temporary & Specialty Packages show extreme volatility yet hold a dominant share, directly influencing total sales.\n",
        "- Whiskies: Imported Whiskies experienced major declines, but since Canadian Whiskies dominate total sales, the impact was cushioned.\n",
        "- Bourbon: Single Barrel Bourbons showed sharp growth and decline, but the market is led by Straight Bourbon Whiskies, stabilizing overall sales.\n",
        "\n",
        "Large fluctuations in minor categories create spikes in growth rates but often don’t alter total sales trends unless the volatile category holds significant market share"
      ]
    },
    {
      "cell_type": "code",
      "execution_count": null,
      "metadata": {
        "id": "d53jfe7tkX3a"
      },
      "outputs": [],
      "source": [
        "## we could analyze the less fluctuations categories, since less fluctuations means more consistent, and less short-time spikes = markets success"
      ]
    },
    {
      "cell_type": "markdown",
      "metadata": {
        "id": "Su3d4Jz32dgm"
      },
      "source": [
        "## Low Fluctuating Categories"
      ]
    },
    {
      "cell_type": "code",
      "execution_count": null,
      "metadata": {
        "id": "0SJuZEo_-cvp"
      },
      "outputs": [],
      "source": [
        "# Threshold for low fluctuation\n",
        "low_threshold = 5\n",
        "# Identify categories with absolute sales growth less than the low threshold\n",
        "low_fluctuating_categories = sales_growth[(sales_growth['abs_sales_growth'] < low_threshold) & (sales_growth['abs_sales_growth'] > 0)]\n",
        "print(\"\\nCategories with absolute sales growth less than\", low_threshold, \"%:\")\n",
        "low_fluctuating_categories\n"
      ]
    },
    {
      "cell_type": "code",
      "execution_count": null,
      "metadata": {
        "id": "oX8mTYsM7h1R"
      },
      "outputs": [],
      "source": [
        "#Example: Grouping by alcohol type and counting categories\n",
        "category_counts_low_fluctuating = low_fluctuating_categories.groupby('alcohol_type')['category_name'].nunique()\n",
        "print(\"\\nNumber of low fluctuating categories per alcohol type:\")\n",
        "category_counts_low_fluctuating"
      ]
    },
    {
      "cell_type": "code",
      "execution_count": null,
      "metadata": {
        "id": "HJmw55788G6x"
      },
      "outputs": [],
      "source": [
        "# Calculate the average fluctuation percentage per alcohol type\n",
        "average_fluctuation = low_fluctuating_categories.groupby('alcohol_type')['abs_sales_growth'].mean()\n",
        "\n",
        "# Create a DataFrame from the category counts\n",
        "category_counts_low_fluctuating = low_fluctuating_categories.groupby('alcohol_type')['category_name'].nunique().reset_index()\n",
        "\n",
        "# Merge the average fluctuation with the category counts DataFrame\n",
        "category_counts_low_fluctuating = pd.merge(category_counts_low_fluctuating, average_fluctuation, on='alcohol_type')\n",
        "\n",
        "# Rename columns for clarity\n",
        "category_counts_low_fluctuating = category_counts_low_fluctuating.rename(columns={\n",
        "    'category_name': 'nunique_categories',\n",
        "    'abs_sales_growth': 'average_fluctuation_percentage'\n",
        "})\n",
        "\n",
        "# Sort the DataFrame by 'average_fluctuation_percentage' in ascending order\n",
        "category_counts_low_fluctuating = category_counts_low_fluctuating.sort_values(by='average_fluctuation_percentage', ascending=True)\n",
        "\n",
        "print(\"\\nNumber of low fluctuating categories and average fluctuation percentage per alcohol type (ascending order):\")\n",
        "category_counts_low_fluctuating\n"
      ]
    },
    {
      "cell_type": "markdown",
      "source": [
        "We are going to analyze the alcohol types with the least fluctuation to see what’s going on within each category. We are picking:\n",
        "\n",
        "- Tequila\n",
        "- Vodka\n",
        "- Rum\n",
        "- Liqueurs\n",
        "\n",
        "We are skipping: Others, Whiskies, and Gins because we have already analyzed them, and Schnapps because it has only two categories."
      ],
      "metadata": {
        "id": "0YJeSuizAOc0"
      }
    },
    {
      "cell_type": "markdown",
      "source": [
        "### Tequila"
      ],
      "metadata": {
        "id": "qT80_01d_vAS"
      }
    },
    {
      "cell_type": "code",
      "source": [
        "# Filter data for Tequila\n",
        "tequila_data = data_yearly_alcohol[data_yearly_alcohol['alcohol_type'] == 'TEQUILA']\n",
        "\n",
        "# Create the line plot\n",
        "fig = px.line(tequila_data,\n",
        "              x='year',\n",
        "              y='sale_(dollars)',\n",
        "              title='Tequila Sales Over Time',\n",
        "              template='iowa')\n",
        "\n",
        "# Update x-axis to display integer years\n",
        "fig.update_xaxes(type='category')\n",
        "\n",
        "fig.show()\n"
      ],
      "metadata": {
        "id": "QT9oQvM5BANp"
      },
      "execution_count": null,
      "outputs": []
    },
    {
      "cell_type": "markdown",
      "source": [
        "Tequila sales have shown a steady upward trend from 2021 to 2024, indicating continuous growth in revenue over time."
      ],
      "metadata": {
        "id": "6B_TmBHub7Ku"
      }
    },
    {
      "cell_type": "code",
      "source": [
        "# Filter sales_growth for 'TEQUILA'\n",
        "tequila_sales_growth = sales_growth[sales_growth['alcohol_type'] == 'TEQUILA']\n",
        "\n",
        "# Create the plot\n",
        "fig_tequila_growth = px.line(tequila_sales_growth,\n",
        "                             x='year',\n",
        "                             y='sales_growth',\n",
        "                             color='category_name',\n",
        "                             title='Tequila Sales Growth by Category over the Years',\n",
        "                             template='iowa')\n",
        "fig_tequila_growth.show()\n"
      ],
      "metadata": {
        "id": "OEWrfxssBHuZ"
      },
      "execution_count": null,
      "outputs": []
    },
    {
      "cell_type": "markdown",
      "source": [
        "Sales growth for 100% Agave Tequila increased steadily until 2023 before declining in 2024, while Mixto Tequila showed a smaller growth peak in 2023 but declined more sharply in 2024."
      ],
      "metadata": {
        "id": "VPFfrSBscfmZ"
      }
    },
    {
      "cell_type": "code",
      "source": [
        "# Filter data for Tequila categories\n",
        "tequila_categories = sales_growth[sales_growth['alcohol_type'] == 'TEQUILA']\n",
        "\n",
        "# Group by category_name and sum the sales\n",
        "tequila_sales_by_category = tequila_categories.groupby('category_name')['sale_(dollars)'].sum().reset_index()\n",
        "\n",
        "# Sort by sales in descending order\n",
        "tequila_sales_by_category = tequila_sales_by_category.sort_values('sale_(dollars)', ascending=False)\n",
        "\n",
        "# Create the bar plot\n",
        "fig = px.bar(tequila_sales_by_category,\n",
        "             x='category_name',\n",
        "             y='sale_(dollars)',\n",
        "             title='Total Tequila Sales by Category',\n",
        "             template='iowa')\n",
        "fig.update_xaxes(title_text='Tequila Category')\n",
        "fig.update_yaxes(title_text='Total Sales ($)')\n",
        "fig.show()\n"
      ],
      "metadata": {
        "id": "IJg-ozpnBO1l"
      },
      "execution_count": null,
      "outputs": []
    },
    {
      "cell_type": "markdown",
      "source": [
        "100% Agave Tequila accounts for the majority of total tequila sales, significantly surpassing Mixto Tequila, indicating a higher market share and demand for the premium category."
      ],
      "metadata": {
        "id": "6Ch_WxuBcqRf"
      }
    },
    {
      "cell_type": "markdown",
      "source": [
        "### Vodkas"
      ],
      "metadata": {
        "id": "wJUfzgy1_0L5"
      }
    },
    {
      "cell_type": "code",
      "source": [
        "# Filter data for Vodka\n",
        "vodka_data = data_yearly_alcohol[data_yearly_alcohol['alcohol_type'] == 'VODKAS']\n",
        "\n",
        "# Create the line plot\n",
        "fig = px.line(vodka_data,\n",
        "              x='year',\n",
        "              y='sale_(dollars)',\n",
        "              title='Vodkas Sales Over Time',\n",
        "              template='iowa')\n",
        "\n",
        "# Update x-axis to display integer years\n",
        "fig.update_xaxes(type='category')\n",
        "\n",
        "fig.show()\n"
      ],
      "metadata": {
        "id": "1ahBGWQyCLrg"
      },
      "execution_count": null,
      "outputs": []
    },
    {
      "cell_type": "markdown",
      "source": [
        "Vodka sales declined slightly from 2021 to 2022, experienced an increase in 2023, and then saw a slight decrease in 2024, indicating moderate fluctuations in demand over the period."
      ],
      "metadata": {
        "id": "LkVLWnzDcylQ"
      }
    },
    {
      "cell_type": "code",
      "source": [
        "# Filter sales_growth for 'VODKAS'\n",
        "vodka_sales_growth = sales_growth[sales_growth['alcohol_type'] == 'VODKAS']\n",
        "\n",
        "# Create the plot\n",
        "fig_vodka_growth = px.line(vodka_sales_growth,\n",
        "                             x='year',\n",
        "                             y='sales_growth',\n",
        "                             color='category_name',\n",
        "                             title='Vodka Sales Growth by Category over the Years',\n",
        "                             template='iowa')\n",
        "fig_vodka_growth.show()\n"
      ],
      "metadata": {
        "id": "lmddy6mPdNxt"
      },
      "execution_count": null,
      "outputs": []
    },
    {
      "cell_type": "markdown",
      "source": [
        "American Vodkas and American Flavored Vodkas showed positive growth from 2022 to 2023 before declining in 2024, while Imported Vodkas and Imported Flavored Vodkas experienced a drop in 2022, a partial recovery in 2023, and continued decline in 2024."
      ],
      "metadata": {
        "id": "e51NRjKadi5R"
      }
    },
    {
      "cell_type": "code",
      "source": [
        "# Filter data for Vodka categories\n",
        "vodka_categories = sales_growth[sales_growth['alcohol_type'] == 'VODKAS']\n",
        "\n",
        "# Group by category_name and sum the sales\n",
        "vodka_sales_by_category = vodka_categories.groupby('category_name')['sale_(dollars)'].sum().reset_index()\n",
        "\n",
        "# Sort by sales in descending order\n",
        "vodka_sales_by_category = vodka_sales_by_category.sort_values('sale_(dollars)', ascending=False)\n",
        "\n",
        "# Create the bar plot\n",
        "fig = px.bar(vodka_sales_by_category,\n",
        "             x='category_name',\n",
        "             y='sale_(dollars)',\n",
        "             title='Total Vodka Sales by Category',\n",
        "             template='iowa')\n",
        "fig.update_xaxes(title_text='Vodka Category')\n",
        "fig.update_yaxes(title_text='Total Sales ($)')\n",
        "fig.show()\n"
      ],
      "metadata": {
        "id": "RMKpfBz_LrEn"
      },
      "execution_count": null,
      "outputs": []
    },
    {
      "cell_type": "markdown",
      "source": [
        "American Vodkas account for the largest share of total vodka sales, significantly outpacing American Flavored Vodka, Imported Vodkas, and Imported Flavored Vodka, which have comparatively lower sales."
      ],
      "metadata": {
        "id": "5FAVlh3qduKZ"
      }
    },
    {
      "cell_type": "markdown",
      "source": [
        "### Rum"
      ],
      "metadata": {
        "id": "XGcgrlK__7UK"
      }
    },
    {
      "cell_type": "code",
      "source": [
        "# Filter data for Rum\n",
        "rum_data = data_yearly_alcohol[data_yearly_alcohol['alcohol_type'] == 'RUM']\n",
        "\n",
        "# Create the line plot\n",
        "fig = px.line(rum_data,\n",
        "              x='year',\n",
        "              y='sale_(dollars)',\n",
        "              title='Rum Sales Over Time',\n",
        "              template='iowa')\n",
        "\n",
        "# Update x-axis to display integer years\n",
        "fig.update_xaxes(type='category')\n",
        "\n",
        "fig.show()\n"
      ],
      "metadata": {
        "id": "2e4cyfTWQwi8"
      },
      "execution_count": null,
      "outputs": []
    },
    {
      "cell_type": "markdown",
      "source": [
        "Rum sales showed a declining trend from 2021 to 2022, experienced a temporary increase in 2023, but declined again in 2024, indicating overall fluctuations with a downward tendency."
      ],
      "metadata": {
        "id": "JBsr3i8pd2QY"
      }
    },
    {
      "cell_type": "code",
      "source": [
        "# Filter sales_growth for 'RUM'\n",
        "rum_sales_growth = sales_growth[sales_growth['alcohol_type'] == 'RUM']\n",
        "\n",
        "# Create the plot\n",
        "fig_rum_growth = px.line(rum_sales_growth,\n",
        "                             x='year',\n",
        "                             y='sales_growth',\n",
        "                             color='category_name',\n",
        "                             title='Rum Sales Growth by Category over the Years',\n",
        "                             template='iowa')\n",
        "fig_rum_growth.show()\n"
      ],
      "metadata": {
        "id": "Hxo8FaXhREKM"
      },
      "execution_count": null,
      "outputs": []
    },
    {
      "cell_type": "markdown",
      "source": [
        "All rum categories experienced a decline in 2022, followed by growth in 2023, with Spiced Rum showing the highest peak; however, most categories saw a decline again in 2024, with Flavored Rum experiencing the steepest drop."
      ],
      "metadata": {
        "id": "QEXWa8VReGUg"
      }
    },
    {
      "cell_type": "code",
      "source": [
        "# Filter data for Rum categories\n",
        "rum_categories = sales_growth[sales_growth['alcohol_type'] == 'RUM']\n",
        "\n",
        "# Group by category_name and sum the sales\n",
        "rum_sales_by_category = rum_categories.groupby('category_name')['sale_(dollars)'].sum().reset_index()\n",
        "\n",
        "# Sort by sales in descending order\n",
        "rum_sales_by_category = rum_sales_by_category.sort_values('sale_(dollars)', ascending=False)\n",
        "\n",
        "# Create the bar plot\n",
        "fig = px.bar(rum_sales_by_category,\n",
        "             x='category_name',\n",
        "             y='sale_(dollars)',\n",
        "             title='Total Rum Sales by Category',\n",
        "             template='iowa')\n",
        "fig.update_xaxes(title_text='Rum Category')\n",
        "fig.update_yaxes(title_text='Total Sales ($)')\n",
        "fig.show()\n"
      ],
      "metadata": {
        "id": "4wYYrjCbRLqY"
      },
      "execution_count": null,
      "outputs": []
    },
    {
      "cell_type": "markdown",
      "source": [
        "Spiced Rum has the highest total sales among all rum categories, followed by Flavored Rum and White Rum, while Gold Rum and Aged Dark Rum contribute only a small portion of total sales."
      ],
      "metadata": {
        "id": "Ddc158uPeQia"
      }
    },
    {
      "cell_type": "markdown",
      "source": [
        "### Liqueurs"
      ],
      "metadata": {
        "id": "a0q9FyNXAIxz"
      }
    },
    {
      "cell_type": "code",
      "source": [
        "# Filter data for Liqueurs\n",
        "liqueurs_data = data_yearly_alcohol[data_yearly_alcohol['alcohol_type'] == 'LIQUEURS']\n",
        "\n",
        "# Create the line plot\n",
        "fig = px.line(liqueurs_data,\n",
        "              x='year',\n",
        "              y='sale_(dollars)',\n",
        "              title='Liqueurs Sales Over Time',\n",
        "              template='iowa')\n",
        "\n",
        "# Update x-axis to display integer years\n",
        "fig.update_xaxes(type='category')\n",
        "\n",
        "fig.show()\n",
        "\n"
      ],
      "metadata": {
        "id": "uaf4TYb-_-Az"
      },
      "execution_count": null,
      "outputs": []
    },
    {
      "cell_type": "markdown",
      "source": [
        "Liqueur sales increased steadily from 2021 to 2023, reaching a peak before experiencing a decline in 2024, indicating a recent downward shift in sales performance."
      ],
      "metadata": {
        "id": "3OQFY6breaIf"
      }
    },
    {
      "cell_type": "code",
      "source": [
        "# Filter sales_growth for 'LIQUEURS'\n",
        "liqueurs_sales_growth = sales_growth[sales_growth['alcohol_type'] == 'LIQUEURS']\n",
        "\n",
        "# Create the plot\n",
        "fig_liqueurs_growth = px.line(liqueurs_sales_growth,\n",
        "                             x='year',\n",
        "                             y='sales_growth',\n",
        "                             color='category_name',\n",
        "                             title='Liqueurs Sales Growth by Category over the Years',\n",
        "                             template='iowa')\n",
        "fig_liqueurs_growth.show()\n"
      ],
      "metadata": {
        "id": "iUA65Q8Qexzk"
      },
      "execution_count": null,
      "outputs": []
    },
    {
      "cell_type": "markdown",
      "source": [
        "Different liqueur categories exhibited varying trends, with Imported Cordials & Liqueurs and Whiskey Liqueur showing initial growth before declining in 2024, while Cream Liqueurs had a more volatile pattern, experiencing a sharp drop in 2024. Coffee Liqueurs maintained relatively stable growth over time."
      ],
      "metadata": {
        "id": "Ai4cm5SHfEDU"
      }
    },
    {
      "cell_type": "code",
      "source": [
        "# Filter data for Liqueurs categories\n",
        "liqueurs_categories = sales_growth[sales_growth['alcohol_type'] == 'LIQUEURS']\n",
        "\n",
        "# Group by category_name and sum the sales\n",
        "liqueurs_sales_by_category = liqueurs_categories.groupby('category_name')['sale_(dollars)'].sum().reset_index()\n",
        "\n",
        "# Sort by sales in descending order\n",
        "liqueurs_sales_by_category = liqueurs_sales_by_category.sort_values('sale_(dollars)', ascending=False)\n",
        "\n",
        "# Create the bar plot\n",
        "fig = px.bar(liqueurs_sales_by_category,\n",
        "             x='category_name',\n",
        "             y='sale_(dollars)',\n",
        "             title='Total Liqueurs Sales by Category',\n",
        "             template='iowa')\n",
        "fig.update_xaxes(title_text='Liqueurs Category')\n",
        "fig.update_yaxes(title_text='Total Sales ($)')\n",
        "fig.show()"
      ],
      "metadata": {
        "id": "t4SKMRk7SB-b"
      },
      "execution_count": null,
      "outputs": []
    },
    {
      "cell_type": "markdown",
      "source": [
        "Whiskey Liqueur has the highest total sales among all liqueur categories, followed by Imported Cordials & Liqueurs and Cream Liqueurs, while Coffee Liqueurs have the lowest total sales."
      ],
      "metadata": {
        "id": "BHA_KBmKfPZo"
      }
    },
    {
      "cell_type": "markdown",
      "source": [
        "## Overview of high + low fluctuating categories"
      ],
      "metadata": {
        "id": "BcZB6bYjTa73"
      }
    },
    {
      "cell_type": "code",
      "source": [
        "# Create a dictionary to store data for the DataFrame\n",
        "data = {'year': [], 'alcohol_type': [], 'avg_percentage_growth': []}\n",
        "\n",
        "alcohol_types = ['BOURBON', 'GINS', 'OTHERS', 'WHISKIES', 'TEQUILA', 'VODKAS', 'RUM', 'LIQUEURS']\n",
        "\n",
        "# Calculate average growth for each year and alcohol type\n",
        "for year in sales_growth['year'].unique():\n",
        "    for alcohol in alcohol_types:\n",
        "        subset = sales_growth[(sales_growth['year'] == year) & (sales_growth['alcohol_type'] == alcohol)]\n",
        "        if not subset.empty:\n",
        "          avg_growth = subset['sales_growth'].mean()\n",
        "          data['year'].append(year)\n",
        "          data['alcohol_type'].append(alcohol)\n",
        "          data['avg_percentage_growth'].append(avg_growth)\n",
        "        else:\n",
        "          # Handle cases where there's no data for a specific year and alcohol type\n",
        "          data['year'].append(year)\n",
        "          data['alcohol_type'].append(alcohol)\n",
        "          data['avg_percentage_growth'].append(0) # or np.nan, depending on how you want to represent missing data\n",
        "\n",
        "df = pd.DataFrame(data)\n",
        "\n",
        "fig, ax = plt.subplots(figsize=(10, 5.2), layout='constrained')\n",
        "df_sorted = df.sort_values('year', ascending=True)\n",
        "for i, (series_name, series) in enumerate(df_sorted.groupby('alcohol_type')):\n",
        "  _plot_series(series, series_name, i)\n",
        "  fig.legend(title='alcohol_type', bbox_to_anchor=(1, 1), loc='upper left')\n",
        "sns.despine(fig=fig, ax=ax)\n",
        "plt.xlabel('year')\n",
        "_ = plt.ylabel('avg_percentage_growth')\n",
        "ax.set_xticks(df['year'].unique().astype(int)) # set x-axis ticks to integer years\n",
        "_ = plt.xticks(rotation=45, ha='right') # rotate x-axis labels for better readability\n"
      ],
      "metadata": {
        "id": "FM_-x0zTUwCe"
      },
      "execution_count": null,
      "outputs": []
    },
    {
      "cell_type": "code",
      "source": [
        "# Create a dictionary to store data for the DataFrame\n",
        "data = {'year': [], 'alcohol_type': [], 'avg_percentage_growth': []}\n",
        "\n",
        "alcohol_types = ['BOURBON', 'GINS', 'OTHERS', 'WHISKIES', 'TEQUILA', 'VODKAS', 'RUM', 'LIQUEURS']\n",
        "\n",
        "# Calculate average growth for each year and alcohol type\n",
        "for year in sales_growth['year'].unique():\n",
        "    for alcohol in alcohol_types:\n",
        "        subset = sales_growth[(sales_growth['year'] == year) & (sales_growth['alcohol_type'] == alcohol)]\n",
        "        if not subset.empty:\n",
        "          avg_growth = subset['sales_growth'].mean()\n",
        "          data['year'].append(year)\n",
        "          data['alcohol_type'].append(alcohol)\n",
        "          data['avg_percentage_growth'].append(avg_growth)\n",
        "        else:\n",
        "          # Handle cases where there's no data for a specific year and alcohol type\n",
        "          data['year'].append(year)\n",
        "          data['alcohol_type'].append(alcohol)\n",
        "          data['avg_percentage_growth'].append(0) # or np.nan, depending on how you want to represent missing data\n",
        "\n",
        "df = pd.DataFrame(data)\n",
        "\n",
        "import matplotlib.pyplot as plt\n",
        "import seaborn as sns\n",
        "\n",
        "# Define the _plot_series function\n",
        "def _plot_series(series, series_name, i):\n",
        "  \"\"\"Plots a single series with a unique color.\"\"\"\n",
        "  ax.plot(series['year'], series['avg_percentage_growth'], label=series_name, color=f\"C{i}\")\n",
        "\n",
        "\n",
        "fig, ax = plt.subplots(figsize=(10, 5.2), layout='constrained')\n",
        "df_sorted = df.sort_values('year', ascending=True)\n",
        "for i, (series_name, series) in enumerate(df_sorted.groupby('alcohol_type')):\n",
        "  _plot_series(series, series_name, i)  # Call the defined _plot_series function\n",
        "  fig.legend(title='alcohol_type', bbox_to_anchor=(1, 1), loc='upper left')\n",
        "sns.despine(fig=fig, ax=ax)\n",
        "plt.xlabel('year')\n",
        "_ = plt.ylabel('avg_percentage_growth')\n",
        "ax.set_xticks(df['year'].unique().astype(int)) # set x-axis ticks to integer years\n",
        "_ = plt.xticks(rotation=45, ha='right') # rotate x-axis labels for better readability"
      ],
      "metadata": {
        "id": "hR2yEwh1OseB"
      },
      "execution_count": null,
      "outputs": []
    },
    {
      "cell_type": "markdown",
      "source": [
        "- **Tequila Shows Consistent Growth:** Tequila has exhibited steady growth from 2021 to 2023, peaking in 2023 before a slight decline in 2024. Despite the dip, it remains one of the strongest performers.\n",
        "\n",
        "- **Volatile \"Others\" Category:** The \"Others\" category experienced extreme fluctuations, with a sharp peak in 2022, a major drop in 2023, and a rebound in 2024. This suggests an unpredictable market segment.\n",
        "\n",
        "- **Bourbon, Vodka, and Whiskies with steady demand:** These categories show moderate and consistent growth, making them relatively safer investment choices compared to more volatile categories.\n",
        "\n",
        "- **Rum is Declining:** Rum saw negative growth in 2022 and appears to be struggling to recover. This suggests lower demand and a potential risk for investment.\n",
        "\n",
        "- **Liqueurs have shown minimal growth:** with a relatively flat trend, indicating a stable but low-growth market."
      ],
      "metadata": {
        "id": "8JWp0JcXWxTS"
      }
    },
    {
      "cell_type": "code",
      "source": [
        "# For this plot we are discarting RUM, since it has a negative growth\n",
        "\n",
        "alcohol_types = ['BOURBON', 'GINS', 'OTHERS', 'WHISKIES', 'TEQUILA', 'VODKAS', 'LIQUEURS']\n",
        "fig = px.line()\n",
        "\n",
        "for alcohol_type in alcohol_types:\n",
        "  subset = data_yearly_alcohol[data_yearly_alcohol['alcohol_type'] == alcohol_type]\n",
        "  fig.add_scatter(x=subset['year'], y=subset['sale_(dollars)'], name=alcohol_type)\n",
        "\n",
        "fig.update_layout(title='Alcohol Sales Over Time', template='iowa', xaxis_title='Year', yaxis_title='Sales (Dollars)')\n",
        "fig.update_xaxes(type='category')\n",
        "fig.show()\n"
      ],
      "metadata": {
        "id": "F_SQC_cnSNjn"
      },
      "execution_count": null,
      "outputs": []
    },
    {
      "cell_type": "markdown",
      "source": [
        "- **Whiskies Lead in Sales but Are Stabilizing:** Whiskies maintain the highest revenue, though their sales slightly fluctuate, indicating market saturation or slowing growth.\n",
        "\n",
        "- **Vodka Remains Strong with Steady Growth:** Vodka has consistent sales and a slight upward trend, making it a reliable investment option.\n",
        "\n",
        "- **Tequila Shows Significant Growth:** Tequila's sales are increasing steadily, reinforcing its strong growth potential seen in the previous graph.\n",
        "\n",
        "- **Bourbon is Slowly Gaining Market Share:** Sales of bourbon are gradually increasing, suggesting a stable but growing consumer interest.\n",
        "\n",
        "- **Liqueurs Are Flat, Indicating Low Demand:** Liqueurs show almost no sales growth, reinforcing that this category is not a high-priority investment.\n",
        "\n",
        "- **Gins Have Slow and Steady Growth:** While gin sales are increasing slightly, the rate is slow, making it a less aggressive investment option.\n",
        "\n",
        "- **\"Others\" Show a Fluctuating Trend:** The \"Others\" category had some decline but rebounded in 2024, suggesting an unstable but potentially opportunistic market segment."
      ],
      "metadata": {
        "id": "KhrvHn3xY3lZ"
      }
    },
    {
      "cell_type": "markdown",
      "source": [
        "**Takeaways:**\n",
        "\n",
        "**Best choices:** Tequila and Vodka (strong and consistent growth).\n",
        "\n",
        "\n",
        "**Promising choices:** Whiskies and Bourbon (high sales with steady demand).\n",
        "\n",
        "\n",
        "**Risky but worth monitoring:** \"Others\" (fluctuations may indicate emerging trends).\n",
        "\n",
        "**Least attractive:** Liqueurs (flat sales with no significant growth)."
      ],
      "metadata": {
        "id": "R0WjfSO_ZgBb"
      }
    },
    {
      "cell_type": "markdown",
      "source": [
        "## Projections"
      ],
      "metadata": {
        "id": "XkwBLOwMguGF"
      }
    },
    {
      "cell_type": "code",
      "source": [
        "import pandas as pd\n",
        "import numpy as np\n",
        "from prophet import Prophet\n",
        "from sklearn.metrics import mean_absolute_error, mean_squared_error\n",
        "import matplotlib.pyplot as plt"
      ],
      "metadata": {
        "id": "JJpRA6VLSsTC"
      },
      "execution_count": null,
      "outputs": []
    },
    {
      "cell_type": "markdown",
      "source": [
        "### Tequila"
      ],
      "metadata": {
        "id": "swT-HMlORwGM"
      }
    },
    {
      "cell_type": "code",
      "source": [
        "\n",
        "# -------------------------------\n",
        "# 1. Data Preparation (Monthly)\n",
        "# -------------------------------\n",
        "# Filter the dataset for TEQUILA (assuming an 'alcohol_type' column exists)\n",
        "tequila_df = data_post_covid[data_post_covid['alcohol_type'] == 'TEQUILA'].copy()\n",
        "\n",
        "# Ensure the date column is in datetime format\n",
        "tequila_df['date'] = pd.to_datetime(tequila_df['date'])\n",
        "\n",
        "# Aggregate monthly sales using the 'sale_(dollars)' column\n",
        "monthly_sales = tequila_df.groupby(pd.Grouper(key='date', freq='M'))['sale_(dollars)'].sum().reset_index()\n",
        "\n",
        "# Rename columns for Prophet: 'ds' for the date and 'y' for the target variable\n",
        "monthly_sales.rename(columns={'date': 'ds', 'sale_(dollars)': 'y'}, inplace=True)\n",
        "monthly_sales.sort_values('ds', inplace=True)\n",
        "\n",
        "# -------------------------------\n",
        "# 2. Train-Test Split\n",
        "# -------------------------------\n",
        "# Use data before 2023 as training data and data from 2023 onward as test data.\n",
        "train = monthly_sales[monthly_sales['ds'] < '2023-01-01']\n",
        "test = monthly_sales[monthly_sales['ds'] >= '2023-01-01']\n",
        "\n",
        "# -------------------------------\n",
        "# 3. Modeling & Forecasting on Test Set (Monthly)\n",
        "# -------------------------------\n",
        "# Fit the Prophet model on the training set\n",
        "model = Prophet()\n",
        "model.fit(train)\n",
        "\n",
        "# Create a future dataframe covering the test period. The number of periods equals the number of months in the test set.\n",
        "future = model.make_future_dataframe(periods=len(test), freq='M')\n",
        "forecast = model.predict(future)\n",
        "\n",
        "# Extract forecasted values corresponding to the test period\n",
        "forecast_test = forecast[forecast['ds'].isin(test['ds'])].copy()\n",
        "\n",
        "# -------------------------------\n",
        "# 4. Evaluation Metrics\n",
        "# -------------------------------\n",
        "def mape(y_true, y_pred):\n",
        "    return np.mean(np.abs((y_true - y_pred) / y_true)) * 100\n",
        "\n",
        "mape_val = mape(test['y'].values, forecast_test['yhat'].values)\n",
        "mae_val = mean_absolute_error(test['y'], forecast_test['yhat'])\n",
        "rmse_val = np.sqrt(mean_squared_error(test['y'], forecast_test['yhat']))\n",
        "\n",
        "print(\"Evaluation Metrics on Monthly Test Data:\")\n",
        "print(f\"MAPE: {mape_val:.2f}%\")\n",
        "print(f\"MAE: {mae_val:.2f}\")\n",
        "print(f\"RMSE: {rmse_val:.2f}\")\n",
        "\n",
        "# -------------------------------\n",
        "# 5. Forecasting the Next Year (Monthly) and Plotting\n",
        "# -------------------------------\n",
        "# Re-fit Prophet on the full monthly dataset\n",
        "model_full = Prophet()\n",
        "model_full.fit(monthly_sales)\n",
        "\n",
        "# Forecast for the next 12 months\n",
        "future_full = model_full.make_future_dataframe(periods=12, freq='M')\n",
        "forecast_full = model_full.predict(future_full)\n",
        "\n",
        "# Plot the forecast for the next year\n",
        "fig1 = model_full.plot(forecast_full)\n",
        "ax = fig1.gca()\n",
        "\n",
        "# Mark the present day as the last observed month in the historical data\n",
        "last_observed_date = monthly_sales['ds'].max()\n",
        "ax.axvline(x=last_observed_date, color='red', linestyle='--', label='Present Day')\n",
        "\n",
        "# Add legend and labels\n",
        "ax.legend()\n",
        "plt.title('TEQUILA Monthly Sales Forecast for Next Year')\n",
        "plt.xlabel('Date')\n",
        "plt.ylabel('Sale (dollars)')\n",
        "plt.show()\n",
        "\n",
        "# Optionally, plot forecast components (trend, seasonality, etc.)\n",
        "fig2 = model_full.plot_components(forecast_full)\n",
        "plt.show()\n"
      ],
      "metadata": {
        "id": "9Xoz338pPnyM"
      },
      "execution_count": null,
      "outputs": []
    },
    {
      "cell_type": "markdown",
      "source": [
        "MAPE: 13.15%"
      ],
      "metadata": {
        "id": "eW7Qh2seXF6-"
      }
    },
    {
      "cell_type": "code",
      "source": [
        "import pandas as pd\n",
        "import numpy as np\n",
        "from prophet import Prophet\n",
        "from sklearn.metrics import mean_absolute_error, mean_squared_error\n",
        "import matplotlib.pyplot as plt\n",
        "\n",
        "# -------------------------------\n",
        "# 1. Data Preparation (Monthly)\n",
        "# -------------------------------\n",
        "# Filter for TEQUILA (assuming an 'alcohol_type' column exists)\n",
        "tequila_df = data_post_covid[data_post_covid['alcohol_type'] == 'TEQUILA'].copy()\n",
        "\n",
        "# Convert the date column to datetime\n",
        "tequila_df['date'] = pd.to_datetime(tequila_df['date'])\n",
        "\n",
        "# Aggregate monthly sales using the 'sale_(dollars)' column\n",
        "monthly_sales = tequila_df.groupby(pd.Grouper(key='date', freq='M'))['sale_(dollars)'].sum().reset_index()\n",
        "\n",
        "# Rename columns for Prophet: 'ds' for the date and 'y' for the target variable\n",
        "monthly_sales.rename(columns={'date': 'ds', 'sale_(dollars)': 'y'}, inplace=True)\n",
        "monthly_sales.sort_values('ds', inplace=True)\n",
        "\n",
        "# -------------------------------\n",
        "# 2. Train-Test Split\n",
        "# -------------------------------\n",
        "# Use data before 2023 as training data and data from 2023 onward as test data.\n",
        "train = monthly_sales[monthly_sales['ds'] < '2023-01-01']\n",
        "test = monthly_sales[monthly_sales['ds'] >= '2023-01-01']\n",
        "\n",
        "# -------------------------------\n",
        "# 3. Modeling & Forecasting on Test Set (Monthly with US Holidays)\n",
        "# -------------------------------\n",
        "# Initialize the Prophet model and add US holidays\n",
        "model = Prophet()\n",
        "model.add_country_holidays(country_name='US')\n",
        "\n",
        "# Fit the model on the training set\n",
        "model.fit(train)\n",
        "\n",
        "# Create a future dataframe covering the test period\n",
        "future = model.make_future_dataframe(periods=len(test), freq='M')\n",
        "forecast = model.predict(future)\n",
        "\n",
        "# Extract forecasted values corresponding to the test period\n",
        "forecast_test = forecast[forecast['ds'].isin(test['ds'])].copy()\n",
        "\n",
        "# -------------------------------\n",
        "# 4. Evaluation Metrics\n",
        "# -------------------------------\n",
        "def mape(y_true, y_pred):\n",
        "    return np.mean(np.abs((y_true - y_pred) / y_true)) * 100\n",
        "\n",
        "mape_val = mape(test['y'].values, forecast_test['yhat'].values)\n",
        "mae_val = mean_absolute_error(test['y'], forecast_test['yhat'])\n",
        "rmse_val = np.sqrt(mean_squared_error(test['y'], forecast_test['yhat']))\n",
        "\n",
        "print(\"Evaluation Metrics on Monthly Test Data with US Holidays:\")\n",
        "print(f\"MAPE: {mape_val:.2f}%\")\n",
        "print(f\"MAE: {mae_val:.2f}\")\n",
        "print(f\"RMSE: {rmse_val:.2f}\")\n",
        "\n",
        "# -------------------------------\n",
        "# 5. Forecasting the Next Year (Monthly) and Plotting\n",
        "# -------------------------------\n",
        "# Re-fit Prophet on the full monthly dataset with US holidays\n",
        "model_full = Prophet()\n",
        "model_full.add_country_holidays(country_name='US')\n",
        "model_full.fit(monthly_sales)\n",
        "\n",
        "# Forecast for the next 12 months\n",
        "future_full = model_full.make_future_dataframe(periods=12, freq='M')\n",
        "forecast_full = model_full.predict(future_full)\n",
        "\n",
        "# Plot the forecast for the next year\n",
        "fig1 = model_full.plot(forecast_full)\n",
        "ax = fig1.gca()\n",
        "\n",
        "# Mark the present day as the last observed month in the historical data\n",
        "last_observed_date = monthly_sales['ds'].max()\n",
        "ax.axvline(x=last_observed_date, color='red', linestyle='--', label='Present Day')\n",
        "\n",
        "# Add legend and labels\n",
        "ax.legend()\n",
        "plt.title('TEQUILA Monthly Sales Forecast for Next Year (With US Holidays)')\n",
        "plt.xlabel('Date')\n",
        "plt.ylabel('Sale (dollars)')\n",
        "plt.show()\n",
        "\n",
        "# Optionally, plot forecast components (trend, seasonality, holiday effects, etc.)\n",
        "fig2 = model_full.plot_components(forecast_full)\n",
        "plt.show()\n",
        "\n",
        "# -------------------------------\n",
        "# 6. Inspecting the Holidays DataFrame\n",
        "# -------------------------------\n",
        "# After fitting, you can also inspect the holidays that Prophet added\n",
        "# by looking at the 'train_holiday_names' in the model.\n",
        "print(\"Holidays added by Prophet for US:\")\n",
        "print(model_full.train_holiday_names)\n"
      ],
      "metadata": {
        "id": "ddB4QChTS19S"
      },
      "execution_count": null,
      "outputs": []
    },
    {
      "cell_type": "markdown",
      "source": [
        "Including US holidays -  MAPE: 13.25%"
      ],
      "metadata": {
        "id": "g8LHxxwgXLSz"
      }
    },
    {
      "cell_type": "code",
      "source": [
        "# -------------------------------\n",
        "# 1. Data Preparation (Monthly)\n",
        "# -------------------------------\n",
        "# Filter the dataset for TEQUILA (assuming 'alcohol_type' column)\n",
        "tequila_df = data_post_covid[data_post_covid['alcohol_type'] == 'TEQUILA'].copy()\n",
        "\n",
        "# Convert the date column to datetime\n",
        "tequila_df['date'] = pd.to_datetime(tequila_df['date'])\n",
        "\n",
        "# Aggregate monthly sales using the 'sale_(dollars)' column\n",
        "monthly_sales = (\n",
        "    tequila_df\n",
        "    .groupby(pd.Grouper(key='date', freq='M'))['sale_(dollars)']\n",
        "    .sum()\n",
        "    .reset_index()\n",
        ")\n",
        "\n",
        "# Rename columns for Prophet: 'ds' for the date and 'y' for the target variable\n",
        "monthly_sales.rename(columns={'date': 'ds', 'sale_(dollars)': 'y'}, inplace=True)\n",
        "monthly_sales.sort_values('ds', inplace=True)\n",
        "\n",
        "# (Optional) Filter out rows where y <= 0 if you have non-positive values\n",
        "# monthly_sales = monthly_sales[monthly_sales['y'] > 0]\n",
        "\n",
        "# -------------------------------\n",
        "# 2. Apply Log Transform\n",
        "# -------------------------------\n",
        "# We'll keep an original copy for later evaluation\n",
        "monthly_sales['y_orig'] = monthly_sales['y'].values\n",
        "\n",
        "# Use np.log1p to handle zeros gracefully (log(1 + y))\n",
        "monthly_sales['y'] = np.log1p(monthly_sales['y_orig'])\n",
        "\n",
        "# -------------------------------\n",
        "# 3. Train-Test Split\n",
        "# -------------------------------\n",
        "# Example: Use data before 2023 as training, 2023+ as test\n",
        "train = monthly_sales[monthly_sales['ds'] < '2023-01-01']\n",
        "test = monthly_sales[monthly_sales['ds'] >= '2023-01-01']\n",
        "\n",
        "# -------------------------------\n",
        "# 4. Modeling & Forecasting on Test Set (Monthly with US Holidays, Log Scale)\n",
        "# -------------------------------\n",
        "model = Prophet()\n",
        "model.add_country_holidays(country_name='US')\n",
        "model.fit(train)\n",
        "\n",
        "# Create a future dataframe covering the test period\n",
        "future = model.make_future_dataframe(periods=len(test), freq='M')\n",
        "forecast = model.predict(future)\n",
        "\n",
        "# Invert the log transform for forecasted values\n",
        "# forecast['yhat'] is in log scale, so we exponentiate (minus 1) to get back to original scale\n",
        "forecast['yhat_backtransformed'] = np.expm1(forecast['yhat'])\n",
        "forecast['yhat_lower_backtransformed'] = np.expm1(forecast['yhat_lower'])\n",
        "forecast['yhat_upper_backtransformed'] = np.expm1(forecast['yhat_upper'])\n",
        "\n",
        "# -------------------------------\n",
        "# 5. Evaluation on Test Set (Original Scale)\n",
        "# -------------------------------\n",
        "# Merge forecast with test set on ds\n",
        "forecast_test = forecast[forecast['ds'].isin(test['ds'])].copy()\n",
        "test_eval = pd.merge(\n",
        "    test[['ds', 'y_orig']],\n",
        "    forecast_test[['ds', 'yhat_backtransformed']],\n",
        "    on='ds'\n",
        ")\n",
        "\n",
        "def mape(y_true, y_pred):\n",
        "    return np.mean(np.abs((y_true - y_pred) / y_true)) * 100\n",
        "\n",
        "mape_val = mape(test_eval['y_orig'], test_eval['yhat_backtransformed'])\n",
        "mae_val = mean_absolute_error(test_eval['y_orig'], test_eval['yhat_backtransformed'])\n",
        "rmse_val = np.sqrt(mean_squared_error(test_eval['y_orig'], test_eval['yhat_backtransformed']))\n",
        "\n",
        "print(\"Evaluation Metrics on Monthly Test Data (Log Transform + US Holidays):\")\n",
        "print(f\"MAPE: {mape_val:.2f}%\")\n",
        "print(f\"MAE: {mae_val:.2f}\")\n",
        "print(f\"RMSE: {rmse_val:.2f}\")\n",
        "\n",
        "# -------------------------------\n",
        "# 6. Full Model & Future Forecast (Next 12 Months)\n",
        "# -------------------------------\n",
        "# Re-fit on the full dataset (all dates) in log scale\n",
        "model_full = Prophet()\n",
        "model_full.add_country_holidays(country_name='US')\n",
        "model_full.fit(monthly_sales)\n",
        "\n",
        "# Make a future dataframe for the next 12 months\n",
        "future_full = model_full.make_future_dataframe(periods=12, freq='M')\n",
        "forecast_full = model_full.predict(future_full)\n",
        "\n",
        "# Backtransform forecasted values\n",
        "forecast_full['yhat_backtransformed'] = np.expm1(forecast_full['yhat'])\n",
        "forecast_full['yhat_lower_backtransformed'] = np.expm1(forecast_full['yhat_lower'])\n",
        "forecast_full['yhat_upper_backtransformed'] = np.expm1(forecast_full['yhat_upper'])\n",
        "\n",
        "# -------------------------------\n",
        "# 7. Plotting Forecast in Original Scale\n",
        "# -------------------------------\n",
        "fig, ax = plt.subplots(figsize=(10,6))\n",
        "\n",
        "# Plot the historical data (original scale)\n",
        "ax.plot(\n",
        "    monthly_sales['ds'],\n",
        "    monthly_sales['y_orig'],\n",
        "    'k.',\n",
        "    label='Observed data points'\n",
        ")\n",
        "\n",
        "# Plot the forecast (backtransformed)\n",
        "ax.plot(\n",
        "    forecast_full['ds'],\n",
        "    forecast_full['yhat_backtransformed'],\n",
        "    label='Forecast (Backtransformed)',\n",
        "    color='blue'\n",
        ")\n",
        "\n",
        "# Plot uncertainty intervals (backtransformed)\n",
        "ax.fill_between(\n",
        "    forecast_full['ds'],\n",
        "    forecast_full['yhat_lower_backtransformed'],\n",
        "    forecast_full['yhat_upper_backtransformed'],\n",
        "    alpha=0.2,\n",
        "    label='Uncertainty interval',\n",
        "    color='skyblue'\n",
        ")\n",
        "\n",
        "# Mark the present day (last observed month in the historical data)\n",
        "last_observed_date = monthly_sales['ds'].max()\n",
        "ax.axvline(x=last_observed_date, color='red', linestyle='--', label='Present Day')\n",
        "\n",
        "# Customize labels\n",
        "ax.set_title('TEQUILA Monthly Sales Forecast (Log Transform + US Holidays)')\n",
        "ax.set_xlabel('Date')\n",
        "ax.set_ylabel('Sale (dollars)')\n",
        "ax.legend()\n",
        "\n",
        "plt.show()\n",
        "\n",
        "# Optionally, you can still look at the log-scale components\n",
        "fig2 = model_full.plot_components(forecast_full)\n",
        "plt.show()\n"
      ],
      "metadata": {
        "id": "hQFNkCZtUFl_"
      },
      "execution_count": null,
      "outputs": []
    },
    {
      "cell_type": "markdown",
      "source": [
        "With the log to stabilize the variance - MAPE: 10.55%"
      ],
      "metadata": {
        "id": "si4qdaMsXXA_"
      }
    },
    {
      "cell_type": "markdown",
      "source": [
        "We also tried starting at 2022 and MAPE incresed to: 29.01%. So for the rest of the categories we'll include US holidays and the log."
      ],
      "metadata": {
        "id": "1DUOeR-EXhxk"
      }
    },
    {
      "cell_type": "markdown",
      "source": [
        "### Bourbon"
      ],
      "metadata": {
        "id": "snMlutqnVFtb"
      }
    },
    {
      "cell_type": "code",
      "source": [
        "\n",
        "# Filter the dataset for BOURBON\n",
        "bourbon_df = data_post_covid[data_post_covid['alcohol_type'] == 'BOURBON'].copy()\n",
        "\n",
        "# Convert the date column to datetime\n",
        "bourbon_df['date'] = pd.to_datetime(bourbon_df['date'])\n",
        "\n",
        "# Aggregate monthly sales\n",
        "monthly_sales = bourbon_df.groupby(pd.Grouper(key='date', freq='M'))['sale_(dollars)'].sum().reset_index()\n",
        "\n",
        "# Rename columns for Prophet\n",
        "monthly_sales.rename(columns={'date': 'ds', 'sale_(dollars)': 'y'}, inplace=True)\n",
        "monthly_sales.sort_values('ds', inplace=True)\n",
        "\n",
        "# Apply log transform\n",
        "monthly_sales['y_orig'] = monthly_sales['y'].values\n",
        "monthly_sales['y'] = np.log1p(monthly_sales['y_orig'])\n",
        "\n",
        "# Train-test split\n",
        "train = monthly_sales[monthly_sales['ds'] < '2023-01-01']\n",
        "test = monthly_sales[monthly_sales['ds'] >= '2023-01-01']\n",
        "\n",
        "# Modeling and forecasting with US holidays and log transform\n",
        "model = Prophet()\n",
        "model.add_country_holidays(country_name='US')\n",
        "model.fit(train)\n",
        "\n",
        "future = model.make_future_dataframe(periods=len(test), freq='M')\n",
        "forecast = model.predict(future)\n",
        "\n",
        "forecast['yhat_backtransformed'] = np.expm1(forecast['yhat'])\n",
        "forecast['yhat_lower_backtransformed'] = np.expm1(forecast['yhat_lower'])\n",
        "forecast['yhat_upper_backtransformed'] = np.expm1(forecast['yhat_upper'])\n",
        "\n",
        "# Evaluation\n",
        "forecast_test = forecast[forecast['ds'].isin(test['ds'])].copy()\n",
        "test_eval = pd.merge(test[['ds', 'y_orig']], forecast_test[['ds', 'yhat_backtransformed']], on='ds')\n",
        "\n",
        "mape_val = mape(test_eval['y_orig'], test_eval['yhat_backtransformed'])\n",
        "mae_val = mean_absolute_error(test_eval['y_orig'], test_eval['yhat_backtransformed'])\n",
        "rmse_val = np.sqrt(mean_squared_error(test_eval['y_orig'], test_eval['yhat_backtransformed']))\n",
        "\n",
        "print(\"Bourbon Evaluation Metrics:\")\n",
        "print(f\"MAPE: {mape_val:.2f}%\")\n",
        "print(f\"MAE: {mae_val:.2f}\")\n",
        "print(f\"RMSE: {rmse_val:.2f}\")\n",
        "\n",
        "# Full model and future forecast\n",
        "model_full = Prophet()\n",
        "model_full.add_country_holidays(country_name='US')\n",
        "model_full.fit(monthly_sales)\n",
        "\n",
        "future_full = model_full.make_future_dataframe(periods=12, freq='M')\n",
        "forecast_full = model_full.predict(future_full)\n",
        "\n",
        "forecast_full['yhat_backtransformed'] = np.expm1(forecast_full['yhat'])\n",
        "forecast_full['yhat_lower_backtransformed'] = np.expm1(forecast_full['yhat_lower'])\n",
        "forecast_full['yhat_upper_backtransformed'] = np.expm1(forecast_full['yhat_upper'])\n",
        "\n",
        "# Plotting\n",
        "fig, ax = plt.subplots(figsize=(10, 6))\n",
        "ax.plot(monthly_sales['ds'], monthly_sales['y_orig'], 'k.', label='Observed data points')\n",
        "ax.plot(forecast_full['ds'], forecast_full['yhat_backtransformed'], label='Forecast', color='blue')\n",
        "ax.fill_between(forecast_full['ds'], forecast_full['yhat_lower_backtransformed'], forecast_full['yhat_upper_backtransformed'], alpha=0.2, label='Uncertainty interval', color='skyblue')\n",
        "last_observed_date = monthly_sales['ds'].max()\n",
        "ax.axvline(x=last_observed_date, color='red', linestyle='--', label='Present Day')\n",
        "ax.set_title('Bourbon Monthly Sales Forecast')\n",
        "ax.set_xlabel('Date')\n",
        "ax.set_ylabel('Sale (dollars)')\n",
        "ax.legend()\n",
        "plt.show()\n",
        "\n",
        "fig2 = model_full.plot_components(forecast_full)\n",
        "plt.show()\n"
      ],
      "metadata": {
        "id": "4WP05kEmVNl3"
      },
      "execution_count": null,
      "outputs": []
    },
    {
      "cell_type": "markdown",
      "source": [
        "### Whiskies"
      ],
      "metadata": {
        "id": "h9K7wAwMVrlK"
      }
    },
    {
      "cell_type": "code",
      "source": [
        "# Filter the dataset for WHISKIES\n",
        "whiskies_df = data_post_covid[data_post_covid['alcohol_type'] == 'WHISKIES'].copy()\n",
        "\n",
        "# Convert the date column to datetime\n",
        "whiskies_df['date'] = pd.to_datetime(whiskies_df['date'])\n",
        "\n",
        "# Aggregate monthly sales\n",
        "monthly_sales = whiskies_df.groupby(pd.Grouper(key='date', freq='M'))['sale_(dollars)'].sum().reset_index()\n",
        "\n",
        "# Rename columns for Prophet\n",
        "monthly_sales.rename(columns={'date': 'ds', 'sale_(dollars)': 'y'}, inplace=True)\n",
        "monthly_sales.sort_values('ds', inplace=True)\n",
        "\n",
        "# Apply log transform\n",
        "monthly_sales['y_orig'] = monthly_sales['y'].values\n",
        "monthly_sales['y'] = np.log1p(monthly_sales['y_orig'])\n",
        "\n",
        "# Train-test split\n",
        "train = monthly_sales[monthly_sales['ds'] < '2023-01-01']\n",
        "test = monthly_sales[monthly_sales['ds'] >= '2023-01-01']\n",
        "\n",
        "# Modeling and forecasting with US holidays and log transform\n",
        "model = Prophet()\n",
        "model.add_country_holidays(country_name='US')\n",
        "model.fit(train)\n",
        "\n",
        "future = model.make_future_dataframe(periods=len(test), freq='M')\n",
        "forecast = model.predict(future)\n",
        "\n",
        "forecast['yhat_backtransformed'] = np.expm1(forecast['yhat'])\n",
        "forecast['yhat_lower_backtransformed'] = np.expm1(forecast['yhat_lower'])\n",
        "forecast['yhat_upper_backtransformed'] = np.expm1(forecast['yhat_upper'])\n",
        "\n",
        "# Evaluation\n",
        "forecast_test = forecast[forecast['ds'].isin(test['ds'])].copy()\n",
        "test_eval = pd.merge(test[['ds', 'y_orig']], forecast_test[['ds', 'yhat_backtransformed']], on='ds')\n",
        "\n",
        "mape_val = mape(test_eval['y_orig'], test_eval['yhat_backtransformed'])\n",
        "mae_val = mean_absolute_error(test_eval['y_orig'], test_eval['yhat_backtransformed'])\n",
        "rmse_val = np.sqrt(mean_squared_error(test_eval['y_orig'], test_eval['yhat_backtransformed']))\n",
        "\n",
        "print(\"Whiskies Evaluation Metrics:\")\n",
        "print(f\"MAPE: {mape_val:.2f}%\")\n",
        "print(f\"MAE: {mae_val:.2f}\")\n",
        "print(f\"RMSE: {rmse_val:.2f}\")\n",
        "\n",
        "# Full model and future forecast\n",
        "model_full = Prophet()\n",
        "model_full.add_country_holidays(country_name='US')\n",
        "model_full.fit(monthly_sales)\n",
        "\n",
        "future_full = model_full.make_future_dataframe(periods=12, freq='M')\n",
        "forecast_full = model_full.predict(future_full)\n",
        "\n",
        "forecast_full['yhat_backtransformed'] = np.expm1(forecast_full['yhat'])\n",
        "forecast_full['yhat_lower_backtransformed'] = np.expm1(forecast_full['yhat_lower'])\n",
        "forecast_full['yhat_upper_backtransformed'] = np.expm1(forecast_full['yhat_upper'])\n",
        "\n",
        "# Plotting\n",
        "fig, ax = plt.subplots(figsize=(10, 6))\n",
        "ax.plot(monthly_sales['ds'], monthly_sales['y_orig'], 'k.', label='Observed data points')\n",
        "ax.plot(forecast_full['ds'], forecast_full['yhat_backtransformed'], label='Forecast', color='blue')\n",
        "ax.fill_between(forecast_full['ds'], forecast_full['yhat_lower_backtransformed'], forecast_full['yhat_upper_backtransformed'], alpha=0.2, label='Uncertainty interval', color='skyblue')\n",
        "last_observed_date = monthly_sales['ds'].max()\n",
        "ax.axvline(x=last_observed_date, color='red', linestyle='--', label='Present Day')\n",
        "ax.set_title('Whiskies Monthly Sales Forecast')\n",
        "ax.set_xlabel('Date')\n",
        "ax.set_ylabel('Sale (dollars)')\n",
        "ax.legend()\n",
        "plt.show()\n",
        "\n",
        "fig2 = model_full.plot_components(forecast_full)\n",
        "plt.show()\n"
      ],
      "metadata": {
        "id": "Parph7lbV50H"
      },
      "execution_count": null,
      "outputs": []
    },
    {
      "cell_type": "markdown",
      "source": [
        "### Liqueurs"
      ],
      "metadata": {
        "id": "Lf0NZRBVWirS"
      }
    },
    {
      "cell_type": "code",
      "source": [
        "# Filter the dataset for LIQUEURS\n",
        "liqueurs_df = data_post_covid[data_post_covid['alcohol_type'] == 'LIQUEURS'].copy()\n",
        "\n",
        "# Convert the date column to datetime\n",
        "liqueurs_df['date'] = pd.to_datetime(liqueurs_df['date'])\n",
        "\n",
        "# Aggregate monthly sales\n",
        "monthly_sales = liqueurs_df.groupby(pd.Grouper(key='date', freq='M'))['sale_(dollars)'].sum().reset_index()\n",
        "\n",
        "# Rename columns for Prophet\n",
        "monthly_sales.rename(columns={'date': 'ds', 'sale_(dollars)': 'y'}, inplace=True)\n",
        "monthly_sales.sort_values('ds', inplace=True)\n",
        "\n",
        "# Apply log transform\n",
        "monthly_sales['y_orig'] = monthly_sales['y'].values\n",
        "monthly_sales['y'] = np.log1p(monthly_sales['y_orig'])\n",
        "\n",
        "# Train-test split\n",
        "train = monthly_sales[monthly_sales['ds'] < '2023-01-01']\n",
        "test = monthly_sales[monthly_sales['ds'] >= '2023-01-01']\n",
        "\n",
        "# Modeling and forecasting with US holidays and log transform\n",
        "model = Prophet()\n",
        "model.add_country_holidays(country_name='US')\n",
        "model.fit(train)\n",
        "\n",
        "future = model.make_future_dataframe(periods=len(test), freq='M')\n",
        "forecast = model.predict(future)\n",
        "\n",
        "forecast['yhat_backtransformed'] = np.expm1(forecast['yhat'])\n",
        "forecast['yhat_lower_backtransformed'] = np.expm1(forecast['yhat_lower'])\n",
        "forecast['yhat_upper_backtransformed'] = np.expm1(forecast['yhat_upper'])\n",
        "\n",
        "# Evaluation\n",
        "forecast_test = forecast[forecast['ds'].isin(test['ds'])].copy()\n",
        "test_eval = pd.merge(test[['ds', 'y_orig']], forecast_test[['ds', 'yhat_backtransformed']], on='ds')\n",
        "\n",
        "mape_val = mape(test_eval['y_orig'], test_eval['yhat_backtransformed'])\n",
        "mae_val = mean_absolute_error(test_eval['y_orig'], test_eval['yhat_backtransformed'])\n",
        "rmse_val = np.sqrt(mean_squared_error(test_eval['y_orig'], test_eval['yhat_backtransformed']))\n",
        "\n",
        "print(\"Liqueurs Evaluation Metrics:\")\n",
        "print(f\"MAPE: {mape_val:.2f}%\")\n",
        "print(f\"MAE: {mae_val:.2f}\")\n",
        "print(f\"RMSE: {rmse_val:.2f}\")\n",
        "\n",
        "# Full model and future forecast\n",
        "model_full = Prophet()\n",
        "model_full.add_country_holidays(country_name='US')\n",
        "model_full.fit(monthly_sales)\n",
        "\n",
        "future_full = model_full.make_future_dataframe(periods=12, freq='M')\n",
        "forecast_full = model_full.predict(future_full)\n",
        "\n",
        "forecast_full['yhat_backtransformed'] = np.expm1(forecast_full['yhat'])\n",
        "forecast_full['yhat_lower_backtransformed'] = np.expm1(forecast_full['yhat_lower'])\n",
        "forecast_full['yhat_upper_backtransformed'] = np.expm1(forecast_full['yhat_upper'])\n",
        "\n",
        "# Plotting\n",
        "fig, ax = plt.subplots(figsize=(10, 6))\n",
        "ax.plot(monthly_sales['ds'], monthly_sales['y_orig'], 'k.', label='Observed data points')\n",
        "ax.plot(forecast_full['ds'], forecast_full['yhat_backtransformed'], label='Forecast', color='blue')\n",
        "ax.fill_between(forecast_full['ds'], forecast_full['yhat_lower_backtransformed'], forecast_full['yhat_upper_backtransformed'], alpha=0.2, label='Uncertainty interval', color='skyblue')\n",
        "last_observed_date = monthly_sales['ds'].max()\n",
        "ax.axvline(x=last_observed_date, color='red', linestyle='--', label='Present Day')\n",
        "ax.set_title('Liqueurs Monthly Sales Forecast')\n",
        "ax.set_xlabel('Date')\n",
        "ax.set_ylabel('Sale (dollars)')\n",
        "ax.legend()\n",
        "plt.show()\n",
        "\n",
        "fig2 = model_full.plot_components(forecast_full)\n",
        "plt.show()\n"
      ],
      "metadata": {
        "id": "K9kS_DOZWBk0"
      },
      "execution_count": null,
      "outputs": []
    },
    {
      "cell_type": "markdown",
      "source": [
        "### Vodkas"
      ],
      "metadata": {
        "id": "rLZz8sdYWnz-"
      }
    },
    {
      "cell_type": "code",
      "source": [
        "# Filter the dataset for VODKAS\n",
        "vodkas_df = data_post_covid[data_post_covid['alcohol_type'] == 'VODKAS'].copy()\n",
        "\n",
        "# Convert the date column to datetime\n",
        "vodkas_df['date'] = pd.to_datetime(vodkas_df['date'])\n",
        "\n",
        "# Aggregate monthly sales\n",
        "monthly_sales = vodkas_df.groupby(pd.Grouper(key='date', freq='M'))['sale_(dollars)'].sum().reset_index()\n",
        "\n",
        "# Rename columns for Prophet\n",
        "monthly_sales.rename(columns={'date': 'ds', 'sale_(dollars)': 'y'}, inplace=True)\n",
        "monthly_sales.sort_values('ds', inplace=True)\n",
        "\n",
        "# Apply log transform\n",
        "monthly_sales['y_orig'] = monthly_sales['y'].values\n",
        "monthly_sales['y'] = np.log1p(monthly_sales['y_orig'])\n",
        "\n",
        "# Train-test split\n",
        "train = monthly_sales[monthly_sales['ds'] < '2023-01-01']\n",
        "test = monthly_sales[monthly_sales['ds'] >= '2023-01-01']\n",
        "\n",
        "# Modeling and forecasting with US holidays and log transform\n",
        "model = Prophet()\n",
        "model.add_country_holidays(country_name='US')\n",
        "model.fit(train)\n",
        "\n",
        "future = model.make_future_dataframe(periods=len(test), freq='M')\n",
        "forecast = model.predict(future)\n",
        "\n",
        "forecast['yhat_backtransformed'] = np.expm1(forecast['yhat'])\n",
        "forecast['yhat_lower_backtransformed'] = np.expm1(forecast['yhat_lower'])\n",
        "forecast['yhat_upper_backtransformed'] = np.expm1(forecast['yhat_upper'])\n",
        "\n",
        "# Evaluation\n",
        "forecast_test = forecast[forecast['ds'].isin(test['ds'])].copy()\n",
        "test_eval = pd.merge(test[['ds', 'y_orig']], forecast_test[['ds', 'yhat_backtransformed']], on='ds')\n",
        "\n",
        "mape_val = mape(test_eval['y_orig'], test_eval['yhat_backtransformed'])\n",
        "mae_val = mean_absolute_error(test_eval['y_orig'], test_eval['yhat_backtransformed'])\n",
        "rmse_val = np.sqrt(mean_squared_error(test_eval['y_orig'], test_eval['yhat_backtransformed']))\n",
        "\n",
        "print(\"Vodka Evaluation Metrics:\")\n",
        "print(f\"MAPE: {mape_val:.2f}%\")\n",
        "print(f\"MAE: {mae_val:.2f}\")\n",
        "print(f\"RMSE: {rmse_val:.2f}\")\n",
        "\n",
        "# Full model and future forecast\n",
        "model_full = Prophet()\n",
        "model_full.add_country_holidays(country_name='US')\n",
        "model_full.fit(monthly_sales)\n",
        "\n",
        "future_full = model_full.make_future_dataframe(periods=12, freq='M')\n",
        "forecast_full = model_full.predict(future_full)\n",
        "\n",
        "forecast_full['yhat_backtransformed'] = np.expm1(forecast_full['yhat'])\n",
        "forecast_full['yhat_lower_backtransformed'] = np.expm1(forecast_full['yhat_lower'])\n",
        "forecast_full['yhat_upper_backtransformed'] = np.expm1(forecast_full['yhat_upper'])\n",
        "\n",
        "# Plotting\n",
        "fig, ax = plt.subplots(figsize=(10, 6))\n",
        "ax.plot(monthly_sales['ds'], monthly_sales['y_orig'], 'k.', label='Observed data points')\n",
        "ax.plot(forecast_full['ds'], forecast_full['yhat_backtransformed'], label='Forecast', color='blue')\n",
        "ax.fill_between(forecast_full['ds'], forecast_full['yhat_lower_backtransformed'], forecast_full['yhat_upper_backtransformed'], alpha=0.2, label='Uncertainty interval', color='skyblue')\n",
        "last_observed_date = monthly_sales['ds'].max()\n",
        "ax.axvline(x=last_observed_date, color='red', linestyle='--', label='Present Day')\n",
        "ax.set_title('Vodka Monthly Sales Forecast')\n",
        "ax.set_xlabel('Date')\n",
        "ax.set_ylabel('Sale (dollars)')\n",
        "ax.legend()\n",
        "plt.show()\n",
        "\n",
        "fig2 = model_full.plot_components(forecast_full)\n",
        "plt.show()\n"
      ],
      "metadata": {
        "id": "EUyYni6CWdva"
      },
      "execution_count": null,
      "outputs": []
    }
  ],
  "metadata": {
    "accelerator": "GPU",
    "colab": {
      "gpuType": "L4",
      "machine_shape": "hm",
      "provenance": [],
      "toc_visible": true,
      "include_colab_link": true
    },
    "kernelspec": {
      "display_name": "Python 3",
      "name": "python3"
    },
    "language_info": {
      "codemirror_mode": {
        "name": "ipython",
        "version": 3
      },
      "file_extension": ".py",
      "mimetype": "text/x-python",
      "name": "python",
      "nbconvert_exporter": "python",
      "pygments_lexer": "ipython3",
      "version": "3.11.7"
    }
  },
  "nbformat": 4,
  "nbformat_minor": 0
}