{
 "cells": [
  {
   "cell_type": "markdown",
   "metadata": {},
   "source": [
    "#### AI for Retail & Consumer Goods | Group Project | MBD April 2024\n",
    "\n",
    "Group Members: Maud Lecerf | Cristina Mosquera | Christopher Stephan"
   ]
  },
  {
   "cell_type": "markdown",
   "metadata": {},
   "source": [
    "# Imports & Color Palette"
   ]
  },
  {
   "cell_type": "code",
   "execution_count": 1,
   "metadata": {},
   "outputs": [],
   "source": [
    "import pandas as pd\n",
    "import numpy as np\n",
    "import plotly.express as px\n",
    "import plotly.io as pio\n",
    "import json\n",
    "import numpy as np\n",
    "from scipy import stats\n"
   ]
  },
  {
   "cell_type": "code",
   "execution_count": 2,
   "metadata": {},
   "outputs": [],
   "source": [
    "#adjust the display settings to be able to better understand our data\n",
    "pd.set_option('display.max_columns', None)  # Show all columns\n",
    "pd.set_option('display.max_rows', None)  # Show all rows (if needed)"
   ]
  },
  {
   "cell_type": "code",
   "execution_count": 3,
   "metadata": {},
   "outputs": [],
   "source": [
    "import warnings\n",
    "warnings.filterwarnings(\"ignore\", category=FutureWarning)\n",
    "warnings.filterwarnings(\"ignore\", category=pd.errors.SettingWithCopyWarning)\n",
    "warnings.filterwarnings(\"ignore\", category=DeprecationWarning)"
   ]
  },
  {
   "cell_type": "code",
   "execution_count": 4,
   "metadata": {},
   "outputs": [],
   "source": [
    "# Custom Theme\n",
    "iowa = {\n",
    "    \"layout\": {\n",
    "        \"colorway\": [\"#4c3624\", \"#ff0651\", \"#ff7e06\", \"#74B36B\", \"#628395\",\n",
    "                     \"#996C48\", \"#FF5C8D\", \"#FF9633\", \"#8CC084\", \"#84A0AE\",\n",
    "                     \"#B78B66\", \"#FF85A9\", \"#FFB570\", \"#A7CEA1\", \"#A9BCC7\"], \n",
    "        \"plot_bgcolor\": \"white\",\n",
    "        \"paper_bgcolor\": \"white\",\n",
    "        \"font\": {\"color\": \"black\"},\n",
    "        \"xaxis\": {\"gridcolor\": \"lightgray\"},\n",
    "        \"yaxis\": {\"gridcolor\": \"lightgray\"},\n",
    "    }\n",
    "}\n",
    "\n",
    "# Register themes\n",
    "pio.templates[\"iowa\"] = iowa"
   ]
  },
  {
   "cell_type": "code",
   "execution_count": 5,
   "metadata": {},
   "outputs": [
    {
     "name": "stderr",
     "output_type": "stream",
     "text": [
      "/var/folders/_8/hcj6x_gn51q577lb1lp9x6h40000gn/T/ipykernel_33941/2445467723.py:2: DtypeWarning: Columns (6) have mixed types. Specify dtype option on import or set low_memory=False.\n",
      "  daclean = pd.read_csv(\"/Users/christopherstephan/Documents/IE/Term 3/Consumer Goods/project/Iowa_Liquor_Sales_Cleaned.csv\") #Christopher\n"
     ]
    }
   ],
   "source": [
    "#daclean = pd.read_csv(\"G:\\\\Drive partagés\\\\RCG\\\\Iowa_Liquor_Sales_Cleaned.csv\") #Maud\n",
    "daclean = pd.read_csv(\"/Users/christopherstephan/Documents/IE/Term 3/Consumer Goods/project/Iowa_Liquor_Sales_Cleaned.csv\") #Christopher"
   ]
  },
  {
   "cell_type": "markdown",
   "metadata": {},
   "source": [
    "# Data Overview "
   ]
  },
  {
   "cell_type": "code",
   "execution_count": 6,
   "metadata": {},
   "outputs": [
    {
     "data": {
      "text/html": [
       "<div>\n",
       "<style scoped>\n",
       "    .dataframe tbody tr th:only-of-type {\n",
       "        vertical-align: middle;\n",
       "    }\n",
       "\n",
       "    .dataframe tbody tr th {\n",
       "        vertical-align: top;\n",
       "    }\n",
       "\n",
       "    .dataframe thead th {\n",
       "        text-align: right;\n",
       "    }\n",
       "</style>\n",
       "<table border=\"1\" class=\"dataframe\">\n",
       "  <thead>\n",
       "    <tr style=\"text-align: right;\">\n",
       "      <th></th>\n",
       "      <th>invoice_item_number</th>\n",
       "      <th>date</th>\n",
       "      <th>store_number</th>\n",
       "      <th>store_name</th>\n",
       "      <th>address</th>\n",
       "      <th>city</th>\n",
       "      <th>zip_code</th>\n",
       "      <th>store_location</th>\n",
       "      <th>county_number</th>\n",
       "      <th>county</th>\n",
       "      <th>category</th>\n",
       "      <th>category_name</th>\n",
       "      <th>vendor_number</th>\n",
       "      <th>vendor_name</th>\n",
       "      <th>item_number</th>\n",
       "      <th>item_description</th>\n",
       "      <th>pack</th>\n",
       "      <th>bottle_volume_(ml)</th>\n",
       "      <th>state_bottle_cost</th>\n",
       "      <th>state_bottle_retail</th>\n",
       "      <th>bottles_sold</th>\n",
       "      <th>sale_(dollars)</th>\n",
       "      <th>volume_sold_(liters)</th>\n",
       "      <th>volume_sold_(gallons)</th>\n",
       "    </tr>\n",
       "  </thead>\n",
       "  <tbody>\n",
       "    <tr>\n",
       "      <th>0</th>\n",
       "      <td>INV-10004700134</td>\n",
       "      <td>2018-01-25</td>\n",
       "      <td>4988</td>\n",
       "      <td>HAPPY'S WINE &amp; SPIRITS</td>\n",
       "      <td>5925 UNIVERSITY AVE</td>\n",
       "      <td>CEDAR FALLS</td>\n",
       "      <td>50613.0</td>\n",
       "      <td>POINT (-92.429331 42.512766)</td>\n",
       "      <td>7.0</td>\n",
       "      <td>BLACK HAWK</td>\n",
       "      <td>1011200.0</td>\n",
       "      <td>STRAIGHT BOURBON WHISKIES</td>\n",
       "      <td>65.0</td>\n",
       "      <td>JIM BEAM BRANDS</td>\n",
       "      <td>19112</td>\n",
       "      <td>JIM BEAM DEVIL'S CUT</td>\n",
       "      <td>12</td>\n",
       "      <td>750</td>\n",
       "      <td>15.07</td>\n",
       "      <td>22.61</td>\n",
       "      <td>2</td>\n",
       "      <td>45.22</td>\n",
       "      <td>1.50</td>\n",
       "      <td>0.40</td>\n",
       "    </tr>\n",
       "    <tr>\n",
       "      <th>1</th>\n",
       "      <td>INV-10009800080</td>\n",
       "      <td>2018-01-25</td>\n",
       "      <td>2582</td>\n",
       "      <td>HY-VEE #2 FOOD STORE / MASON CITY</td>\n",
       "      <td>551 S ILLINOIS AVE</td>\n",
       "      <td>MASON CITY</td>\n",
       "      <td>50401.0</td>\n",
       "      <td>POINT (-93.17114 43.14623)</td>\n",
       "      <td>17.0</td>\n",
       "      <td>CERRO GORDO</td>\n",
       "      <td>1011400.0</td>\n",
       "      <td>TENNESSEE WHISKIES</td>\n",
       "      <td>85.0</td>\n",
       "      <td>BROWN FORMAN CORP.</td>\n",
       "      <td>26585</td>\n",
       "      <td>GENTLEMAN JACK</td>\n",
       "      <td>12</td>\n",
       "      <td>375</td>\n",
       "      <td>8.50</td>\n",
       "      <td>12.75</td>\n",
       "      <td>3</td>\n",
       "      <td>36.00</td>\n",
       "      <td>1.12</td>\n",
       "      <td>0.30</td>\n",
       "    </tr>\n",
       "    <tr>\n",
       "      <th>2</th>\n",
       "      <td>INV-10020300040</td>\n",
       "      <td>2018-01-25</td>\n",
       "      <td>4696</td>\n",
       "      <td>QUIK TRIP #517 / WEST DES MOINES</td>\n",
       "      <td>1451 22ND ST</td>\n",
       "      <td>WEST DES MOINES</td>\n",
       "      <td>50266.0</td>\n",
       "      <td>POINT (-93.735967 41.59527)</td>\n",
       "      <td>77.0</td>\n",
       "      <td>POLK</td>\n",
       "      <td>1031100.0</td>\n",
       "      <td>AMERICAN VODKAS</td>\n",
       "      <td>205.0</td>\n",
       "      <td>E &amp; J GALLO WINERY</td>\n",
       "      <td>36968</td>\n",
       "      <td>NEW AMSTERDAM VODKA</td>\n",
       "      <td>24</td>\n",
       "      <td>375</td>\n",
       "      <td>3.50</td>\n",
       "      <td>5.25</td>\n",
       "      <td>10</td>\n",
       "      <td>52.50</td>\n",
       "      <td>3.75</td>\n",
       "      <td>0.99</td>\n",
       "    </tr>\n",
       "    <tr>\n",
       "      <th>3</th>\n",
       "      <td>INV-10084700039</td>\n",
       "      <td>2018-01-30</td>\n",
       "      <td>5060</td>\n",
       "      <td>L&amp;M MIGHTY SHOP</td>\n",
       "      <td>504, E BURLINGTON ST</td>\n",
       "      <td>IOWA CITY</td>\n",
       "      <td>52240.0</td>\n",
       "      <td>POINT (-91.52843 41.657818)</td>\n",
       "      <td>52.0</td>\n",
       "      <td>JOHNSON</td>\n",
       "      <td>1031100.0</td>\n",
       "      <td>AMERICAN VODKAS</td>\n",
       "      <td>259.0</td>\n",
       "      <td>HEAVEN HILL BRANDS</td>\n",
       "      <td>35416</td>\n",
       "      <td>BURNETT'S VODKA 80 PRF</td>\n",
       "      <td>12</td>\n",
       "      <td>750</td>\n",
       "      <td>4.48</td>\n",
       "      <td>6.72</td>\n",
       "      <td>2</td>\n",
       "      <td>13.44</td>\n",
       "      <td>1.50</td>\n",
       "      <td>0.40</td>\n",
       "    </tr>\n",
       "    <tr>\n",
       "      <th>4</th>\n",
       "      <td>INV-10023000115</td>\n",
       "      <td>2018-01-25</td>\n",
       "      <td>2561</td>\n",
       "      <td>HY-VEE FOOD STORE / FLEUR / DSM</td>\n",
       "      <td>4605 FLEUR DRIVE</td>\n",
       "      <td>DES MOINES</td>\n",
       "      <td>50321.0</td>\n",
       "      <td>POINT (-93.64494300000001 41.542748)</td>\n",
       "      <td>77.0</td>\n",
       "      <td>POLK</td>\n",
       "      <td>1062400.0</td>\n",
       "      <td>SPICED RUM</td>\n",
       "      <td>259.0</td>\n",
       "      <td>HEAVEN HILL BRANDS</td>\n",
       "      <td>43028</td>\n",
       "      <td>ADMIRAL NELSON SPICED RUM</td>\n",
       "      <td>6</td>\n",
       "      <td>1750</td>\n",
       "      <td>11.55</td>\n",
       "      <td>17.33</td>\n",
       "      <td>6</td>\n",
       "      <td>103.98</td>\n",
       "      <td>10.50</td>\n",
       "      <td>2.77</td>\n",
       "    </tr>\n",
       "  </tbody>\n",
       "</table>\n",
       "</div>"
      ],
      "text/plain": [
       "  invoice_item_number        date  store_number  \\\n",
       "0     INV-10004700134  2018-01-25          4988   \n",
       "1     INV-10009800080  2018-01-25          2582   \n",
       "2     INV-10020300040  2018-01-25          4696   \n",
       "3     INV-10084700039  2018-01-30          5060   \n",
       "4     INV-10023000115  2018-01-25          2561   \n",
       "\n",
       "                          store_name               address             city  \\\n",
       "0             HAPPY'S WINE & SPIRITS   5925 UNIVERSITY AVE      CEDAR FALLS   \n",
       "1  HY-VEE #2 FOOD STORE / MASON CITY    551 S ILLINOIS AVE       MASON CITY   \n",
       "2   QUIK TRIP #517 / WEST DES MOINES          1451 22ND ST  WEST DES MOINES   \n",
       "3                    L&M MIGHTY SHOP  504, E BURLINGTON ST        IOWA CITY   \n",
       "4    HY-VEE FOOD STORE / FLEUR / DSM      4605 FLEUR DRIVE       DES MOINES   \n",
       "\n",
       "  zip_code                        store_location  county_number       county  \\\n",
       "0  50613.0          POINT (-92.429331 42.512766)            7.0   BLACK HAWK   \n",
       "1  50401.0            POINT (-93.17114 43.14623)           17.0  CERRO GORDO   \n",
       "2  50266.0           POINT (-93.735967 41.59527)           77.0         POLK   \n",
       "3  52240.0           POINT (-91.52843 41.657818)           52.0      JOHNSON   \n",
       "4  50321.0  POINT (-93.64494300000001 41.542748)           77.0         POLK   \n",
       "\n",
       "    category              category_name  vendor_number         vendor_name  \\\n",
       "0  1011200.0  STRAIGHT BOURBON WHISKIES           65.0     JIM BEAM BRANDS   \n",
       "1  1011400.0         TENNESSEE WHISKIES           85.0  BROWN FORMAN CORP.   \n",
       "2  1031100.0            AMERICAN VODKAS          205.0  E & J GALLO WINERY   \n",
       "3  1031100.0            AMERICAN VODKAS          259.0  HEAVEN HILL BRANDS   \n",
       "4  1062400.0                 SPICED RUM          259.0  HEAVEN HILL BRANDS   \n",
       "\n",
       "   item_number           item_description  pack  bottle_volume_(ml)  \\\n",
       "0        19112       JIM BEAM DEVIL'S CUT    12                 750   \n",
       "1        26585             GENTLEMAN JACK    12                 375   \n",
       "2        36968        NEW AMSTERDAM VODKA    24                 375   \n",
       "3        35416     BURNETT'S VODKA 80 PRF    12                 750   \n",
       "4        43028  ADMIRAL NELSON SPICED RUM     6                1750   \n",
       "\n",
       "   state_bottle_cost  state_bottle_retail  bottles_sold  sale_(dollars)  \\\n",
       "0              15.07                22.61             2           45.22   \n",
       "1               8.50                12.75             3           36.00   \n",
       "2               3.50                 5.25            10           52.50   \n",
       "3               4.48                 6.72             2           13.44   \n",
       "4              11.55                17.33             6          103.98   \n",
       "\n",
       "   volume_sold_(liters)  volume_sold_(gallons)  \n",
       "0                  1.50                   0.40  \n",
       "1                  1.12                   0.30  \n",
       "2                  3.75                   0.99  \n",
       "3                  1.50                   0.40  \n",
       "4                 10.50                   2.77  "
      ]
     },
     "execution_count": 6,
     "metadata": {},
     "output_type": "execute_result"
    }
   ],
   "source": [
    "daclean.head()"
   ]
  },
  {
   "cell_type": "code",
   "execution_count": 7,
   "metadata": {},
   "outputs": [],
   "source": [
    "#separating the columns into numerical and categorical as it my be helpful later on \n",
    "numerical_cols = ['pack', 'bottle_volume_(ml)', 'state_bottle_cost', 'state_bottle_retail', 'bottles_sold', 'sale_(dollars)',\n",
    "                  'volume_sold_(liters)', 'volume_sold_(gallons)' ]\n",
    "categorical_cols = ['invoice_item_number', 'date', 'store_number', 'store_name', 'address',\n",
    "       'city', 'zip_code', 'store_location', 'county_number', 'county',\n",
    "       'category', 'category_name', 'vendor_number', 'vendor_name',\n",
    "       'item_number', 'item_description' ]"
   ]
  },
  {
   "cell_type": "code",
   "execution_count": 8,
   "metadata": {},
   "outputs": [
    {
     "data": {
      "text/html": [
       "<div>\n",
       "<style scoped>\n",
       "    .dataframe tbody tr th:only-of-type {\n",
       "        vertical-align: middle;\n",
       "    }\n",
       "\n",
       "    .dataframe tbody tr th {\n",
       "        vertical-align: top;\n",
       "    }\n",
       "\n",
       "    .dataframe thead th {\n",
       "        text-align: right;\n",
       "    }\n",
       "</style>\n",
       "<table border=\"1\" class=\"dataframe\">\n",
       "  <thead>\n",
       "    <tr style=\"text-align: right;\">\n",
       "      <th></th>\n",
       "      <th>pack</th>\n",
       "      <th>bottle_volume_(ml)</th>\n",
       "      <th>state_bottle_cost</th>\n",
       "      <th>state_bottle_retail</th>\n",
       "      <th>bottles_sold</th>\n",
       "      <th>sale_(dollars)</th>\n",
       "      <th>volume_sold_(liters)</th>\n",
       "      <th>volume_sold_(gallons)</th>\n",
       "    </tr>\n",
       "  </thead>\n",
       "  <tbody>\n",
       "    <tr>\n",
       "      <th>count</th>\n",
       "      <td>3.058234e+07</td>\n",
       "      <td>3.058234e+07</td>\n",
       "      <td>3.058234e+07</td>\n",
       "      <td>3.058234e+07</td>\n",
       "      <td>3.058234e+07</td>\n",
       "      <td>3.058234e+07</td>\n",
       "      <td>3.058234e+07</td>\n",
       "      <td>3.058234e+07</td>\n",
       "    </tr>\n",
       "    <tr>\n",
       "      <th>mean</th>\n",
       "      <td>1.210438e+01</td>\n",
       "      <td>8.726989e+02</td>\n",
       "      <td>1.086413e+01</td>\n",
       "      <td>1.630589e+01</td>\n",
       "      <td>1.089868e+01</td>\n",
       "      <td>1.467221e+02</td>\n",
       "      <td>9.146873e+00</td>\n",
       "      <td>2.413419e+00</td>\n",
       "    </tr>\n",
       "    <tr>\n",
       "      <th>std</th>\n",
       "      <td>7.799180e+00</td>\n",
       "      <td>6.213941e+02</td>\n",
       "      <td>1.343733e+01</td>\n",
       "      <td>2.015471e+01</td>\n",
       "      <td>3.071160e+01</td>\n",
       "      <td>5.179222e+02</td>\n",
       "      <td>3.644239e+01</td>\n",
       "      <td>9.627174e+00</td>\n",
       "    </tr>\n",
       "    <tr>\n",
       "      <th>min</th>\n",
       "      <td>1.000000e+00</td>\n",
       "      <td>0.000000e+00</td>\n",
       "      <td>0.000000e+00</td>\n",
       "      <td>0.000000e+00</td>\n",
       "      <td>-7.680000e+02</td>\n",
       "      <td>-9.720000e+03</td>\n",
       "      <td>-1.344000e+03</td>\n",
       "      <td>-3.550400e+02</td>\n",
       "    </tr>\n",
       "    <tr>\n",
       "      <th>25%</th>\n",
       "      <td>6.000000e+00</td>\n",
       "      <td>7.500000e+02</td>\n",
       "      <td>5.750000e+00</td>\n",
       "      <td>8.630000e+00</td>\n",
       "      <td>3.000000e+00</td>\n",
       "      <td>3.600000e+01</td>\n",
       "      <td>1.500000e+00</td>\n",
       "      <td>4.000000e-01</td>\n",
       "    </tr>\n",
       "    <tr>\n",
       "      <th>50%</th>\n",
       "      <td>1.200000e+01</td>\n",
       "      <td>7.500000e+02</td>\n",
       "      <td>8.500000e+00</td>\n",
       "      <td>1.275000e+01</td>\n",
       "      <td>6.000000e+00</td>\n",
       "      <td>7.800000e+01</td>\n",
       "      <td>4.800000e+00</td>\n",
       "      <td>1.260000e+00</td>\n",
       "    </tr>\n",
       "    <tr>\n",
       "      <th>75%</th>\n",
       "      <td>1.200000e+01</td>\n",
       "      <td>1.000000e+03</td>\n",
       "      <td>1.300000e+01</td>\n",
       "      <td>1.950000e+01</td>\n",
       "      <td>1.200000e+01</td>\n",
       "      <td>1.510800e+02</td>\n",
       "      <td>1.050000e+01</td>\n",
       "      <td>2.770000e+00</td>\n",
       "    </tr>\n",
       "    <tr>\n",
       "      <th>max</th>\n",
       "      <td>3.360000e+02</td>\n",
       "      <td>3.780000e+05</td>\n",
       "      <td>2.498902e+04</td>\n",
       "      <td>3.748353e+04</td>\n",
       "      <td>1.500000e+04</td>\n",
       "      <td>2.795573e+05</td>\n",
       "      <td>1.500000e+04</td>\n",
       "      <td>3.962580e+03</td>\n",
       "    </tr>\n",
       "  </tbody>\n",
       "</table>\n",
       "</div>"
      ],
      "text/plain": [
       "               pack  bottle_volume_(ml)  state_bottle_cost  \\\n",
       "count  3.058234e+07        3.058234e+07       3.058234e+07   \n",
       "mean   1.210438e+01        8.726989e+02       1.086413e+01   \n",
       "std    7.799180e+00        6.213941e+02       1.343733e+01   \n",
       "min    1.000000e+00        0.000000e+00       0.000000e+00   \n",
       "25%    6.000000e+00        7.500000e+02       5.750000e+00   \n",
       "50%    1.200000e+01        7.500000e+02       8.500000e+00   \n",
       "75%    1.200000e+01        1.000000e+03       1.300000e+01   \n",
       "max    3.360000e+02        3.780000e+05       2.498902e+04   \n",
       "\n",
       "       state_bottle_retail  bottles_sold  sale_(dollars)  \\\n",
       "count         3.058234e+07  3.058234e+07    3.058234e+07   \n",
       "mean          1.630589e+01  1.089868e+01    1.467221e+02   \n",
       "std           2.015471e+01  3.071160e+01    5.179222e+02   \n",
       "min           0.000000e+00 -7.680000e+02   -9.720000e+03   \n",
       "25%           8.630000e+00  3.000000e+00    3.600000e+01   \n",
       "50%           1.275000e+01  6.000000e+00    7.800000e+01   \n",
       "75%           1.950000e+01  1.200000e+01    1.510800e+02   \n",
       "max           3.748353e+04  1.500000e+04    2.795573e+05   \n",
       "\n",
       "       volume_sold_(liters)  volume_sold_(gallons)  \n",
       "count          3.058234e+07           3.058234e+07  \n",
       "mean           9.146873e+00           2.413419e+00  \n",
       "std            3.644239e+01           9.627174e+00  \n",
       "min           -1.344000e+03          -3.550400e+02  \n",
       "25%            1.500000e+00           4.000000e-01  \n",
       "50%            4.800000e+00           1.260000e+00  \n",
       "75%            1.050000e+01           2.770000e+00  \n",
       "max            1.500000e+04           3.962580e+03  "
      ]
     },
     "execution_count": 8,
     "metadata": {},
     "output_type": "execute_result"
    }
   ],
   "source": [
    "daclean[numerical_cols].describe()"
   ]
  },
  {
   "cell_type": "markdown",
   "metadata": {},
   "source": [
    "### Unique Values "
   ]
  },
  {
   "cell_type": "code",
   "execution_count": 9,
   "metadata": {},
   "outputs": [
    {
     "data": {
      "text/plain": [
       "invoice_item_number      30582345\n",
       "date                         3415\n",
       "store_number                 3179\n",
       "store_name                   3367\n",
       "address                      3150\n",
       "city                          497\n",
       "zip_code                     1468\n",
       "store_location              11127\n",
       "county_number                  99\n",
       "county                         99\n",
       "category                      111\n",
       "category_name                 103\n",
       "vendor_number                 505\n",
       "vendor_name                   624\n",
       "item_number                 14197\n",
       "item_description            13133\n",
       "pack                           28\n",
       "bottle_volume_(ml)             58\n",
       "state_bottle_cost            3718\n",
       "state_bottle_retail          4200\n",
       "bottles_sold                  769\n",
       "sale_(dollars)              35552\n",
       "volume_sold_(liters)         1747\n",
       "volume_sold_(gallons)        2062\n",
       "dtype: int64"
      ]
     },
     "execution_count": 9,
     "metadata": {},
     "output_type": "execute_result"
    }
   ],
   "source": [
    "daclean.nunique()"
   ]
  },
  {
   "cell_type": "code",
   "execution_count": 10,
   "metadata": {},
   "outputs": [
    {
     "data": {
      "text/plain": [
       "array([ 12,  24,   6,   1,  10,  48,   5,  44,   4,   8,   3,  15,  18,\n",
       "        20,   9, 336,  16,   2, 288,  30,  60, 160, 120, 312,  32,   7,\n",
       "        96,  28])"
      ]
     },
     "execution_count": 10,
     "metadata": {},
     "output_type": "execute_result"
    }
   ],
   "source": [
    "daclean['pack'].unique()"
   ]
  },
  {
   "cell_type": "code",
   "execution_count": 11,
   "metadata": {},
   "outputs": [
    {
     "data": {
      "text/plain": [
       "array([   750,    375,   1750,   1000,    200,    500,   3000,    600,\n",
       "          100,    300,    800,     50,   1200,   1950,   2400,    900,\n",
       "         6000,    400,   1800,    850,   2250,     20,   1850,    603,\n",
       "         1500,   3600,    301,    150,    950,   4800,    250,   1125,\n",
       "          502,   2550,   2000,   4500,      0, 140000,   1508,     12,\n",
       "         3500,   1420,     25,     15, 180000,    700,   5250,    175,\n",
       "         7580, 225000, 189000,   9000,   3900,    425,   2125,    355,\n",
       "       378000,  31500])"
      ]
     },
     "execution_count": 11,
     "metadata": {},
     "output_type": "execute_result"
    }
   ],
   "source": [
    "daclean['bottle_volume_(ml)'].unique()"
   ]
  },
  {
   "cell_type": "code",
   "execution_count": 12,
   "metadata": {},
   "outputs": [
    {
     "data": {
      "text/plain": [
       "array(['STRAIGHT BOURBON WHISKIES', 'TENNESSEE WHISKIES',\n",
       "       'AMERICAN VODKAS', 'SPICED RUM', 'IMPORTED CORDIALS & LIQUEURS',\n",
       "       'WHISKEY LIQUEUR', 'CANADIAN WHISKIES', 'IMPORTED SCHNAPPS',\n",
       "       'BLENDED WHISKIES', '100% AGAVE TEQUILA',\n",
       "       'IMPORTED FLAVORED VODKA', 'AMERICAN SCHNAPPS', 'WHITE RUM',\n",
       "       'AMERICAN CORDIALS & LIQUEURS', 'IRISH WHISKIES',\n",
       "       'AMERICAN BRANDIES', 'MIXTO TEQUILA', 'STRAIGHT RYE WHISKIES',\n",
       "       'AMERICAN FLAVORED VODKA', 'IMPORTED VODKAS', 'CREAM LIQUEURS',\n",
       "       'IMPORTED BRANDIES', 'TRIPLE SEC', 'COCKTAILS/RTD',\n",
       "       'SCOTCH WHISKIES', 'AMERICAN DRY GINS', 'SINGLE MALT SCOTCH',\n",
       "       'COFFEE LIQUEURS', 'FLAVORED RUM', 'IMPORTED DRY GINS',\n",
       "       'AGED DARK RUM', 'SPECIAL ORDER ITEMS',\n",
       "       'IMPORTED DISTILLED SPIRITS SPECIALTY',\n",
       "       'SINGLE BARREL BOURBON WHISKIES', 'GOLD RUM',\n",
       "       'NEUTRAL GRAIN SPIRITS FLAVORED',\n",
       "       'AMERICAN DISTILLED SPIRITS SPECIALTY',\n",
       "       'TEMPORARY & SPECIALTY PACKAGES', 'FLAVORED GIN',\n",
       "       'BOTTLED IN BOND BOURBON', 'NEUTRAL GRAIN SPIRITS', 'MEZCAL',\n",
       "       'CORN WHISKIES', 'TEQUILA', 'IOWA DISTILLERIES', 'VODKA FLAVORED',\n",
       "       'AMERICAN SLOE GINS', 'VODKA 80 PROOF',\n",
       "       'PUERTO RICO & VIRGIN ISLANDS RUM', 'AMERICAN COCKTAILS',\n",
       "       'PEACH SCHNAPPS', 'AMERICAN AMARETTO', 'IMPORTED GRAPE BRANDIES',\n",
       "       'PEPPERMINT SCHNAPPS', 'RASPBERRY SCHNAPPS',\n",
       "       'DECANTERS & SPECIALTY PACKAGES',\n",
       "       'MISC. IMPORTED CORDIALS & LIQUEURS', 'APPLE SCHNAPPS',\n",
       "       'AMERICAN ALCOHOL', 'AMERICAN GRAPE BRANDIES',\n",
       "       'STRAWBERRY SCHNAPPS', '100 PROOF VODKA', 'IMPORTED VODKA - MISC',\n",
       "       'BUTTERSCOTCH SCHNAPPS', 'BLACKBERRY BRANDIES',\n",
       "       'MISC. AMERICAN CORDIALS & LIQUEURS', 'APRICOT BRANDIES',\n",
       "       'MISCELLANEOUS SCHNAPPS', 'IMPORTED AMARETTO',\n",
       "       'DISTILLED SPIRITS SPECIALTY', 'OTHER PROOF VODKA',\n",
       "       'GREEN CREME DE MENTHE', 'ROOT BEER SCHNAPPS', 'LOW PROOF VODKA',\n",
       "       'WATERMELON SCHNAPPS', 'JAMAICA RUM', 'CINNAMON SCHNAPPS',\n",
       "       'DARK CREME DE CACAO', 'WHITE CREME DE MENTHE',\n",
       "       'TROPICAL FRUIT SCHNAPPS', 'PEACH BRANDIES', 'CHERRY BRANDIES',\n",
       "       'BARBADOS RUM', 'FLAVORED GINS', 'MISCELLANEOUS  BRANDIES',\n",
       "       'GRAPE SCHNAPPS', 'WHITE CREME DE CACAO', 'CREME DE ALMOND',\n",
       "       'SPEARMINT SCHNAPPS', 'ROCK & RYE', 'ANISETTE',\n",
       "       'AMARETTO - IMPORTED', 'HIGH PROOF BEER - AMERICAN',\n",
       "       'IMPORTED VODKA - CHERRY', 'SCHNAPPS - IMPORTED',\n",
       "       'JAPANESE WHISKY', 'IOWA DISTILLERY WHISKIES', 'IMPORTED GINS',\n",
       "       'DELISTED ITEMS', 'DELISTED / SPECIAL ORDER ITEMS',\n",
       "       'IMPORTED WHISKIES', 'AMERICAN WHISKIES', 'HOLIDAY VAP'],\n",
       "      dtype=object)"
      ]
     },
     "execution_count": 12,
     "metadata": {},
     "output_type": "execute_result"
    }
   ],
   "source": [
    "daclean['category_name'].unique()"
   ]
  },
  {
   "cell_type": "code",
   "execution_count": 13,
   "metadata": {},
   "outputs": [
    {
     "data": {
      "text/plain": [
       "array(['BLACK HAWK', 'CERRO GORDO', 'POLK', 'JOHNSON', 'PALO ALTO',\n",
       "       'DALLAS', 'UNION', 'DICKINSON', 'WEBSTER', 'ALLAMAKEE', 'WOODBURY',\n",
       "       'POWESHIEK', 'BOONE', 'WAPELLO', 'SCOTT', 'MUSCATINE', 'BUCHANAN',\n",
       "       'DELAWARE', 'PLYMOUTH', 'MARSHALL', 'JASPER', 'LINN', 'BENTON',\n",
       "       'STORY', 'BREMER', 'MONROE', 'SAC', 'WRIGHT', 'POTTAWATTAMIE',\n",
       "       'FREMONT', 'JONES', 'CEDAR', 'LYON', 'CHEROKEE', 'WAYNE',\n",
       "       'CLAYTON', 'CLAY', 'BUENA VISTA', 'MARION', \"O'BRIEN\", 'GRUNDY',\n",
       "       'DUBUQUE', 'PAGE', 'OSCEOLA', 'ADAIR', 'HUMBOLDT', 'SIOUX', 'IOWA',\n",
       "       'MONONA', 'LEE', 'WINNESHIEK', 'WINNEBAGO', 'KOSSUTH', 'FAYETTE',\n",
       "       'CLINTON', 'CASS', 'WASHINGTON', 'VAN BUREN', 'KEOKUK', 'FLOYD',\n",
       "       'MILLS', 'DES MOINES', 'LOUISA', 'HARRISON', 'GUTHRIE', 'IDA',\n",
       "       'HARDIN', 'MAHASKA', 'SHELBY', 'HAMILTON', 'JACKSON', 'CHICKASAW',\n",
       "       'CARROLL', 'FRANKLIN', 'WARREN', 'MONTGOMERY', 'APPANOOSE',\n",
       "       'WORTH', 'ADAMS', 'CALHOUN', 'BUTLER', 'EMMET', 'LUCAS',\n",
       "       'POCAHONTAS', 'JEFFERSON', 'MITCHELL', 'HENRY', 'MADISON', 'DAVIS',\n",
       "       'GREENE', 'TAMA', 'CLARKE', 'CRAWFORD', 'HOWARD', 'HANCOCK',\n",
       "       'AUDUBON', 'TAYLOR', 'RINGGOLD', 'DECATUR'], dtype=object)"
      ]
     },
     "execution_count": 13,
     "metadata": {},
     "output_type": "execute_result"
    }
   ],
   "source": [
    "daclean['county'].unique()"
   ]
  },
  {
   "cell_type": "markdown",
   "metadata": {},
   "source": [
    "## Regrouping the original categories into alcohol types"
   ]
  },
  {
   "cell_type": "code",
   "execution_count": 14,
   "metadata": {},
   "outputs": [],
   "source": [
    "# Define mapping of keywords to subcategories\n",
    "category_mapping = {\n",
    "    'RUM': 'RUM',\n",
    "    'VODKA': 'VODKAS',\n",
    "    'VODKAS': 'VODKAS',\n",
    "    'SCHNAPPS': 'SCHNAPPS',\n",
    "    'BRANDIES': 'BRANDIES',\n",
    "    'WHISKIES': 'WHISKIES',\n",
    "    'SCOTCH': 'WHISKIES',\n",
    "    'GINS': 'GINS',\n",
    "    'GIN': 'GINS',\n",
    "    'MEZCAL': 'MEZCAL',\n",
    "    'TEQUILA': 'TEQUILA',\n",
    "    'BOURBON': 'BOURBON',\n",
    "    'LIQUEURS': 'LIQUEURS',\n",
    "    'LIQUEUR':'LIQUEURS',\n",
    "    'AMARETTO': 'AMARETTO',\n",
    "    'CREME': 'CREME',\n",
    "    'SPIRITS': 'SPIRITS'\n",
    "}\n",
    "\n",
    "# Create a new column and assign \"OTHERS\" by default\n",
    "daclean['alcohol_type'] = 'OTHERS'\n",
    "\n",
    "# Loop through mapping and assign subcategories\n",
    "for keyword, alcohol_type in category_mapping.items():\n",
    "    daclean.loc[daclean['category_name'].str.contains(keyword, case=False, na=False, regex=True), 'alcohol_type'] = alcohol_type\n",
    "\n"
   ]
  },
  {
   "cell_type": "code",
   "execution_count": 15,
   "metadata": {},
   "outputs": [
    {
     "data": {
      "text/plain": [
       "alcohol_type\n",
       "VODKAS      7634838\n",
       "WHISKIES    6373174\n",
       "LIQUEURS    3651763\n",
       "RUM         2849276\n",
       "BOURBON     2082509\n",
       "TEQUILA     1626111\n",
       "SCHNAPPS    1517338\n",
       "OTHERS      1508274\n",
       "BRANDIES    1500535\n",
       "GINS        1374444\n",
       "SPIRITS      354978\n",
       "AMARETTO      65967\n",
       "CREME         26684\n",
       "MEZCAL        16454\n",
       "Name: count, dtype: int64"
      ]
     },
     "execution_count": 15,
     "metadata": {},
     "output_type": "execute_result"
    }
   ],
   "source": [
    "daclean['alcohol_type'].value_counts()"
   ]
  },
  {
   "cell_type": "code",
   "execution_count": 16,
   "metadata": {},
   "outputs": [
    {
     "data": {
      "text/plain": [
       "array(['TRIPLE SEC', 'COCKTAILS/RTD', 'SPECIAL ORDER ITEMS',\n",
       "       'TEMPORARY & SPECIALTY PACKAGES', 'IOWA DISTILLERIES',\n",
       "       'AMERICAN COCKTAILS', 'DECANTERS & SPECIALTY PACKAGES',\n",
       "       'AMERICAN ALCOHOL', 'ROCK & RYE', 'ANISETTE',\n",
       "       'HIGH PROOF BEER - AMERICAN', 'JAPANESE WHISKY', 'DELISTED ITEMS',\n",
       "       'DELISTED / SPECIAL ORDER ITEMS', 'HOLIDAY VAP'], dtype=object)"
      ]
     },
     "execution_count": 16,
     "metadata": {},
     "output_type": "execute_result"
    }
   ],
   "source": [
    "daclean[daclean['alcohol_type'] == 'OTHERS']['category_name'].unique()"
   ]
  },
  {
   "cell_type": "code",
   "execution_count": 17,
   "metadata": {},
   "outputs": [
    {
     "data": {
      "text/plain": [
       "invoice_item_number       object\n",
       "date                      object\n",
       "store_number               int64\n",
       "store_name                object\n",
       "address                   object\n",
       "city                      object\n",
       "zip_code                  object\n",
       "store_location            object\n",
       "county_number            float64\n",
       "county                    object\n",
       "category                 float64\n",
       "category_name             object\n",
       "vendor_number            float64\n",
       "vendor_name               object\n",
       "item_number                int64\n",
       "item_description          object\n",
       "pack                       int64\n",
       "bottle_volume_(ml)         int64\n",
       "state_bottle_cost        float64\n",
       "state_bottle_retail      float64\n",
       "bottles_sold               int64\n",
       "sale_(dollars)           float64\n",
       "volume_sold_(liters)     float64\n",
       "volume_sold_(gallons)    float64\n",
       "alcohol_type              object\n",
       "dtype: object"
      ]
     },
     "execution_count": 17,
     "metadata": {},
     "output_type": "execute_result"
    }
   ],
   "source": [
    "daclean.dtypes"
   ]
  },
  {
   "cell_type": "markdown",
   "metadata": {},
   "source": [
    "## Time-based analysis "
   ]
  },
  {
   "cell_type": "code",
   "execution_count": 18,
   "metadata": {},
   "outputs": [],
   "source": [
    "daclean['date'] = pd.to_datetime(daclean['date'])"
   ]
  },
  {
   "cell_type": "code",
   "execution_count": 19,
   "metadata": {},
   "outputs": [],
   "source": [
    "data_dt = daclean.copy()"
   ]
  },
  {
   "cell_type": "code",
   "execution_count": 20,
   "metadata": {},
   "outputs": [],
   "source": [
    "#removing all columns that are repetition of another column or columns from which we won't be able to extract any insights\n",
    "data_dt = data_dt.drop(columns=['county_number', 'vendor_number', 'store_number', 'invoice_item_number'])"
   ]
  },
  {
   "cell_type": "code",
   "execution_count": 21,
   "metadata": {},
   "outputs": [],
   "source": [
    "data_dt['year'] = data_dt['date'].dt.year\n",
    "data_dt['month'] = data_dt['date'].dt.month\n",
    "data_dt['day'] = data_dt['date'].dt.day\n",
    "data_dt['day_of_week'] = data_dt['date'].dt.day_name()"
   ]
  },
  {
   "cell_type": "code",
   "execution_count": 22,
   "metadata": {},
   "outputs": [],
   "source": [
    "#columns that we can aggregate by date to further our analysis \n",
    "agg_columns = ['state_bottle_cost', 'state_bottle_retail', 'bottles_sold', \n",
    "               'sale_(dollars)', 'volume_sold_(liters)', 'volume_sold_(gallons)']"
   ]
  },
  {
   "cell_type": "code",
   "execution_count": 23,
   "metadata": {},
   "outputs": [],
   "source": [
    "# Group by date\n",
    "grouped_by_date = data_dt.groupby('date')[agg_columns].sum().reset_index()\n",
    "grouped_by_date.set_index('date', inplace=True)\n",
    "\n",
    "# Group by year\n",
    "grouped_by_year = data_dt.groupby('year')[agg_columns].sum().reset_index()\n",
    "\n",
    "# Group by month\n",
    "grouped_by_month = data_dt.groupby('month')[agg_columns].sum().reset_index()\n",
    "\n",
    "# Group by day\n",
    "grouped_by_day = data_dt.groupby('day')[agg_columns].sum().reset_index()\n",
    "\n",
    "# Group by day of the week\n",
    "grouped_by_weekday = data_dt.groupby('day_of_week')[agg_columns].sum().reset_index()"
   ]
  },
  {
   "cell_type": "markdown",
   "metadata": {},
   "source": [
    "### SubCategory Alcohol Type"
   ]
  },
  {
   "cell_type": "code",
   "execution_count": 24,
   "metadata": {},
   "outputs": [],
   "source": [
    "# Group by date and alcohol_type\n",
    "grouped_by_date_subcat = data_dt.groupby(['date', 'alcohol_type'])[agg_columns].sum().reset_index()\n",
    "grouped_by_date_subcat.set_index('date', inplace=True)\n",
    "\n",
    "# Group by year and alcohol_type\n",
    "grouped_by_year_subcat = data_dt.groupby(['year', 'alcohol_type'])[agg_columns].sum().reset_index()\n",
    "\n",
    "# Group by month and alcohol_type\n",
    "grouped_by_month_subcat = data_dt.groupby(['month', 'alcohol_type'])[agg_columns].sum().reset_index()\n",
    "\n",
    "# Group by day and alcohol_type\n",
    "grouped_by_day_subcat = data_dt.groupby(['day', 'alcohol_type'])[agg_columns].sum().reset_index()\n",
    "\n",
    "# Group by day of the week and alcohol_type\n",
    "grouped_by_weekday_subcat = data_dt.groupby(['day_of_week', 'alcohol_type'])[agg_columns].sum().reset_index()"
   ]
  },
  {
   "cell_type": "code",
   "execution_count": null,
   "metadata": {},
   "outputs": [],
   "source": [
    "px.line(grouped_by_date, y='bottles_sold', template= 'iowa', title= 'Bottles sold through time')"
   ]
  },
  {
   "cell_type": "code",
   "execution_count": null,
   "metadata": {},
   "outputs": [],
   "source": [
    "px.bar(grouped_by_year_subcat, x= 'year', y='bottles_sold', color='alcohol_type', template = 'iowa', \n",
    "       title = 'Bottles Sold every year by Alcohol Type')"
   ]
  },
  {
   "cell_type": "code",
   "execution_count": 27,
   "metadata": {},
   "outputs": [
    {
     "data": {
      "application/vnd.plotly.v1+json": {
       "config": {
        "plotlyServerURL": "https://plot.ly"
       },
       "data": [
        {
         "hovertemplate": "alcohol_type=AMARETTO<br>year=%{x}<br>bottles_sold=%{y}<extra></extra>",
         "legendgroup": "AMARETTO",
         "line": {
          "color": "#4c3624",
          "dash": "solid"
         },
         "marker": {
          "symbol": "circle"
         },
         "mode": "lines",
         "name": "AMARETTO",
         "orientation": "v",
         "showlegend": true,
         "type": "scatter",
         "x": [
          2012,
          2013,
          2014,
          2015,
          2016
         ],
         "xaxis": "x",
         "y": [
          134312,
          121450,
          114320,
          108236,
          54741
         ],
         "yaxis": "y"
        },
        {
         "hovertemplate": "alcohol_type=BOURBON<br>year=%{x}<br>bottles_sold=%{y}<extra></extra>",
         "legendgroup": "BOURBON",
         "line": {
          "color": "#ff0651",
          "dash": "solid"
         },
         "marker": {
          "symbol": "circle"
         },
         "mode": "lines",
         "name": "BOURBON",
         "orientation": "v",
         "showlegend": true,
         "type": "scatter",
         "x": [
          2012,
          2013,
          2014,
          2015,
          2016,
          2017,
          2018,
          2019,
          2020,
          2021,
          2022,
          2023,
          2024
         ],
         "xaxis": "x",
         "y": [
          760997,
          798250,
          869250,
          937446,
          923383,
          1028558,
          1179579,
          1311960,
          1576795,
          1742865,
          1714201,
          1809473,
          1824041
         ],
         "yaxis": "y"
        },
        {
         "hovertemplate": "alcohol_type=BRANDIES<br>year=%{x}<br>bottles_sold=%{y}<extra></extra>",
         "legendgroup": "BRANDIES",
         "line": {
          "color": "#ff7e06",
          "dash": "solid"
         },
         "marker": {
          "symbol": "circle"
         },
         "mode": "lines",
         "name": "BRANDIES",
         "orientation": "v",
         "showlegend": true,
         "type": "scatter",
         "x": [
          2012,
          2013,
          2014,
          2015,
          2016,
          2017,
          2018,
          2019,
          2020,
          2021,
          2022,
          2023,
          2024
         ],
         "xaxis": "x",
         "y": [
          1018554,
          1042669,
          1073745,
          1194542,
          1171860,
          1339604,
          1395574,
          1453113,
          1650214,
          1555900,
          1295501,
          1200369,
          1115008
         ],
         "yaxis": "y"
        },
        {
         "hovertemplate": "alcohol_type=CREME<br>year=%{x}<br>bottles_sold=%{y}<extra></extra>",
         "legendgroup": "CREME",
         "line": {
          "color": "#74B36B",
          "dash": "solid"
         },
         "marker": {
          "symbol": "circle"
         },
         "mode": "lines",
         "name": "CREME",
         "orientation": "v",
         "showlegend": true,
         "type": "scatter",
         "x": [
          2012,
          2013,
          2014,
          2015,
          2016
         ],
         "xaxis": "x",
         "y": [
          32884,
          27898,
          26576,
          29894,
          13090
         ],
         "yaxis": "y"
        },
        {
         "hovertemplate": "alcohol_type=GINS<br>year=%{x}<br>bottles_sold=%{y}<extra></extra>",
         "legendgroup": "GINS",
         "line": {
          "color": "#628395",
          "dash": "solid"
         },
         "marker": {
          "symbol": "circle"
         },
         "mode": "lines",
         "name": "GINS",
         "orientation": "v",
         "showlegend": true,
         "type": "scatter",
         "x": [
          2012,
          2013,
          2014,
          2015,
          2016,
          2017,
          2018,
          2019,
          2020,
          2021,
          2022,
          2023,
          2024
         ],
         "xaxis": "x",
         "y": [
          1584527,
          1516125,
          1472523,
          1414243,
          1082448,
          647087,
          668236,
          669055,
          677292,
          688088,
          596377,
          604740,
          595660
         ],
         "yaxis": "y"
        },
        {
         "hovertemplate": "alcohol_type=LIQUEURS<br>year=%{x}<br>bottles_sold=%{y}<extra></extra>",
         "legendgroup": "LIQUEURS",
         "line": {
          "color": "#996C48",
          "dash": "solid"
         },
         "marker": {
          "symbol": "circle"
         },
         "mode": "lines",
         "name": "LIQUEURS",
         "orientation": "v",
         "showlegend": true,
         "type": "scatter",
         "x": [
          2012,
          2013,
          2014,
          2015,
          2016,
          2017,
          2018,
          2019,
          2020,
          2021,
          2022,
          2023,
          2024
         ],
         "xaxis": "x",
         "y": [
          1812265,
          1822474,
          1989162,
          2072272,
          2296700,
          2930067,
          3494301,
          4130264,
          5025969,
          5508279,
          5687114,
          5882978,
          5985583
         ],
         "yaxis": "y"
        },
        {
         "hovertemplate": "alcohol_type=OTHERS<br>year=%{x}<br>bottles_sold=%{y}<extra></extra>",
         "legendgroup": "OTHERS",
         "line": {
          "color": "#FF5C8D",
          "dash": "solid"
         },
         "marker": {
          "symbol": "circle"
         },
         "mode": "lines",
         "name": "OTHERS",
         "orientation": "v",
         "showlegend": true,
         "type": "scatter",
         "x": [
          2012,
          2013,
          2014,
          2015,
          2016,
          2017,
          2018,
          2019,
          2020,
          2021,
          2022,
          2023,
          2024
         ],
         "xaxis": "x",
         "y": [
          895335,
          783007,
          812833,
          787192,
          765802,
          894494,
          1018917,
          1188136,
          1574710,
          1547919,
          1516495,
          1296667,
          1589770
         ],
         "yaxis": "y"
        },
        {
         "hovertemplate": "alcohol_type=RUM<br>year=%{x}<br>bottles_sold=%{y}<extra></extra>",
         "legendgroup": "RUM",
         "line": {
          "color": "#FF9633",
          "dash": "solid"
         },
         "marker": {
          "symbol": "circle"
         },
         "mode": "lines",
         "name": "RUM",
         "orientation": "v",
         "showlegend": true,
         "type": "scatter",
         "x": [
          2012,
          2013,
          2014,
          2015,
          2016,
          2017,
          2018,
          2019,
          2020,
          2021,
          2022,
          2023,
          2024
         ],
         "xaxis": "x",
         "y": [
          1918620,
          1877393,
          1877313,
          1936315,
          2102800,
          2612057,
          2695842,
          2661690,
          2755816,
          2876552,
          2617558,
          2614821,
          2415911
         ],
         "yaxis": "y"
        },
        {
         "hovertemplate": "alcohol_type=SCHNAPPS<br>year=%{x}<br>bottles_sold=%{y}<extra></extra>",
         "legendgroup": "SCHNAPPS",
         "line": {
          "color": "#8CC084",
          "dash": "solid"
         },
         "marker": {
          "symbol": "circle"
         },
         "mode": "lines",
         "name": "SCHNAPPS",
         "orientation": "v",
         "showlegend": true,
         "type": "scatter",
         "x": [
          2012,
          2013,
          2014,
          2015,
          2016,
          2017,
          2018,
          2019,
          2020,
          2021,
          2022,
          2023,
          2024
         ],
         "xaxis": "x",
         "y": [
          964190,
          865647,
          820091,
          827512,
          843289,
          818975,
          873647,
          958969,
          1024999,
          1183747,
          1168188,
          1303502,
          1391745
         ],
         "yaxis": "y"
        },
        {
         "hovertemplate": "alcohol_type=SPIRITS<br>year=%{x}<br>bottles_sold=%{y}<extra></extra>",
         "legendgroup": "SPIRITS",
         "line": {
          "color": "#84A0AE",
          "dash": "solid"
         },
         "marker": {
          "symbol": "circle"
         },
         "mode": "lines",
         "name": "SPIRITS",
         "orientation": "v",
         "showlegend": true,
         "type": "scatter",
         "x": [
          2012,
          2013,
          2014,
          2015,
          2016,
          2017,
          2018,
          2019,
          2020,
          2021,
          2022,
          2023,
          2024
         ],
         "xaxis": "x",
         "y": [
          148158,
          215124,
          176889,
          167641,
          195612,
          227568,
          250391,
          279477,
          386786,
          495728,
          576161,
          684122,
          679411
         ],
         "yaxis": "y"
        },
        {
         "hovertemplate": "alcohol_type=TEQUILA<br>year=%{x}<br>bottles_sold=%{y}<extra></extra>",
         "legendgroup": "TEQUILA",
         "line": {
          "color": "#B78B66",
          "dash": "solid"
         },
         "marker": {
          "symbol": "circle"
         },
         "mode": "lines",
         "name": "TEQUILA",
         "orientation": "v",
         "showlegend": true,
         "type": "scatter",
         "x": [
          2012,
          2013,
          2014,
          2015,
          2016,
          2017,
          2018,
          2019,
          2020,
          2021,
          2022,
          2023,
          2024
         ],
         "xaxis": "x",
         "y": [
          833114,
          811228,
          860675,
          919767,
          928586,
          994516,
          1087567,
          1175169,
          1403198,
          1616833,
          1703739,
          1911964,
          1972159
         ],
         "yaxis": "y"
        },
        {
         "hovertemplate": "alcohol_type=VODKAS<br>year=%{x}<br>bottles_sold=%{y}<extra></extra>",
         "legendgroup": "VODKAS",
         "line": {
          "color": "#FF85A9",
          "dash": "solid"
         },
         "marker": {
          "symbol": "circle"
         },
         "mode": "lines",
         "name": "VODKAS",
         "orientation": "v",
         "showlegend": true,
         "type": "scatter",
         "x": [
          2012,
          2013,
          2014,
          2015,
          2016,
          2017,
          2018,
          2019,
          2020,
          2021,
          2022,
          2023,
          2024
         ],
         "xaxis": "x",
         "y": [
          5540156,
          5699720,
          6080357,
          6476639,
          6592011,
          7204617,
          7666390,
          7777236,
          8118389,
          8270436,
          8229267,
          8527908,
          8530078
         ],
         "yaxis": "y"
        },
        {
         "hovertemplate": "alcohol_type=WHISKIES<br>year=%{x}<br>bottles_sold=%{y}<extra></extra>",
         "legendgroup": "WHISKIES",
         "line": {
          "color": "#FFB570",
          "dash": "solid"
         },
         "marker": {
          "symbol": "circle"
         },
         "mode": "lines",
         "name": "WHISKIES",
         "orientation": "v",
         "showlegend": true,
         "type": "scatter",
         "x": [
          2012,
          2013,
          2014,
          2015,
          2016,
          2017,
          2018,
          2019,
          2020,
          2021,
          2022,
          2023,
          2024
         ],
         "xaxis": "x",
         "y": [
          4247712,
          4330092,
          4475504,
          4681072,
          4598961,
          4789201,
          5048319,
          5166010,
          5627412,
          5701689,
          5290891,
          5404781,
          5270055
         ],
         "yaxis": "y"
        },
        {
         "hovertemplate": "alcohol_type=MEZCAL<br>year=%{x}<br>bottles_sold=%{y}<extra></extra>",
         "legendgroup": "MEZCAL",
         "line": {
          "color": "#A7CEA1",
          "dash": "solid"
         },
         "marker": {
          "symbol": "circle"
         },
         "mode": "lines",
         "name": "MEZCAL",
         "orientation": "v",
         "showlegend": true,
         "type": "scatter",
         "x": [
          2016,
          2017,
          2018,
          2019,
          2020,
          2021,
          2022,
          2023,
          2024
         ],
         "xaxis": "x",
         "y": [
          768,
          3334,
          4173,
          5680,
          9020,
          13233,
          15390,
          15550,
          14477
         ],
         "yaxis": "y"
        }
       ],
       "layout": {
        "legend": {
         "title": {
          "text": "alcohol_type"
         },
         "tracegroupgap": 0
        },
        "template": {
         "layout": {
          "colorway": [
           "#4c3624",
           "#ff0651",
           "#ff7e06",
           "#74B36B",
           "#628395",
           "#996C48",
           "#FF5C8D",
           "#FF9633",
           "#8CC084",
           "#84A0AE",
           "#B78B66",
           "#FF85A9",
           "#FFB570",
           "#A7CEA1",
           "#A9BCC7"
          ],
          "font": {
           "color": "black"
          },
          "paper_bgcolor": "white",
          "plot_bgcolor": "white",
          "xaxis": {
           "gridcolor": "lightgray"
          },
          "yaxis": {
           "gridcolor": "lightgray"
          }
         }
        },
        "title": {
         "text": "Bottles Sold every year by Alcohol Type"
        },
        "xaxis": {
         "anchor": "y",
         "domain": [
          0,
          1
         ],
         "title": {
          "text": "year"
         }
        },
        "yaxis": {
         "anchor": "x",
         "domain": [
          0,
          1
         ],
         "title": {
          "text": "bottles_sold"
         }
        }
       }
      }
     },
     "metadata": {},
     "output_type": "display_data"
    }
   ],
   "source": [
    "px.line(grouped_by_year_subcat, x= 'year', y='bottles_sold', color='alcohol_type', template = 'iowa', \n",
    "       title = 'Bottles Sold every year by Alcohol Type')"
   ]
  },
  {
   "cell_type": "code",
   "execution_count": 28,
   "metadata": {},
   "outputs": [
    {
     "data": {
      "application/vnd.plotly.v1+json": {
       "config": {
        "plotlyServerURL": "https://plot.ly"
       },
       "data": [
        {
         "alignmentgroup": "True",
         "hovertemplate": "alcohol_type=AMARETTO<br>year=%{x}<br>volume_sold_(liters)=%{y}<extra></extra>",
         "legendgroup": "AMARETTO",
         "marker": {
          "color": "#4c3624",
          "pattern": {
           "shape": ""
          }
         },
         "name": "AMARETTO",
         "offsetgroup": "AMARETTO",
         "orientation": "v",
         "showlegend": true,
         "textposition": "auto",
         "type": "bar",
         "x": [
          2012,
          2013,
          2014,
          2015,
          2016
         ],
         "xaxis": "x",
         "y": [
          119323.66,
          108864.02,
          102099.4,
          97008.92,
          50760.27
         ],
         "yaxis": "y"
        },
        {
         "alignmentgroup": "True",
         "hovertemplate": "alcohol_type=BOURBON<br>year=%{x}<br>volume_sold_(liters)=%{y}<extra></extra>",
         "legendgroup": "BOURBON",
         "marker": {
          "color": "#ff0651",
          "pattern": {
           "shape": ""
          }
         },
         "name": "BOURBON",
         "offsetgroup": "BOURBON",
         "orientation": "v",
         "showlegend": true,
         "textposition": "auto",
         "type": "bar",
         "x": [
          2012,
          2013,
          2014,
          2015,
          2016,
          2017,
          2018,
          2019,
          2020,
          2021,
          2022,
          2023,
          2024
         ],
         "xaxis": "x",
         "y": [
          746018.75,
          762578.43,
          819180.95,
          856307.96,
          842753.89,
          916600.73,
          1035160.28,
          1091567.93,
          1296027.39,
          1387522.45,
          1368936.16,
          1434999.04,
          1461189.95
         ],
         "yaxis": "y"
        },
        {
         "alignmentgroup": "True",
         "hovertemplate": "alcohol_type=BRANDIES<br>year=%{x}<br>volume_sold_(liters)=%{y}<extra></extra>",
         "legendgroup": "BRANDIES",
         "marker": {
          "color": "#ff7e06",
          "pattern": {
           "shape": ""
          }
         },
         "name": "BRANDIES",
         "offsetgroup": "BRANDIES",
         "orientation": "v",
         "showlegend": true,
         "textposition": "auto",
         "type": "bar",
         "x": [
          2012,
          2013,
          2014,
          2015,
          2016,
          2017,
          2018,
          2019,
          2020,
          2021,
          2022,
          2023,
          2024
         ],
         "xaxis": "x",
         "y": [
          545401.47,
          555191.4,
          565202.66,
          597213.62,
          587422.23,
          643755.89,
          677515.64,
          698031.13,
          798346.25,
          747893.55,
          645185.01,
          590307.98,
          555263.49
         ],
         "yaxis": "y"
        },
        {
         "alignmentgroup": "True",
         "hovertemplate": "alcohol_type=CREME<br>year=%{x}<br>volume_sold_(liters)=%{y}<extra></extra>",
         "legendgroup": "CREME",
         "marker": {
          "color": "#74B36B",
          "pattern": {
           "shape": ""
          }
         },
         "name": "CREME",
         "offsetgroup": "CREME",
         "orientation": "v",
         "showlegend": true,
         "textposition": "auto",
         "type": "bar",
         "x": [
          2012,
          2013,
          2014,
          2015,
          2016
         ],
         "xaxis": "x",
         "y": [
          24681,
          20907,
          19953,
          22390.5,
          9835.5
         ],
         "yaxis": "y"
        },
        {
         "alignmentgroup": "True",
         "hovertemplate": "alcohol_type=GINS<br>year=%{x}<br>volume_sold_(liters)=%{y}<extra></extra>",
         "legendgroup": "GINS",
         "marker": {
          "color": "#628395",
          "pattern": {
           "shape": ""
          }
         },
         "name": "GINS",
         "offsetgroup": "GINS",
         "orientation": "v",
         "showlegend": true,
         "textposition": "auto",
         "type": "bar",
         "x": [
          2012,
          2013,
          2014,
          2015,
          2016,
          2017,
          2018,
          2019,
          2020,
          2021,
          2022,
          2023,
          2024
         ],
         "xaxis": "x",
         "y": [
          1504572.54,
          1438885.54,
          1414963.74,
          1355519.89,
          1018714.59,
          547602.21,
          553379.87,
          553814.14,
          559098.52,
          584394.29,
          529532.81,
          523641.44,
          506830.37
         ],
         "yaxis": "y"
        },
        {
         "alignmentgroup": "True",
         "hovertemplate": "alcohol_type=LIQUEURS<br>year=%{x}<br>volume_sold_(liters)=%{y}<extra></extra>",
         "legendgroup": "LIQUEURS",
         "marker": {
          "color": "#996C48",
          "pattern": {
           "shape": ""
          }
         },
         "name": "LIQUEURS",
         "offsetgroup": "LIQUEURS",
         "orientation": "v",
         "showlegend": true,
         "textposition": "auto",
         "type": "bar",
         "x": [
          2012,
          2013,
          2014,
          2015,
          2016,
          2017,
          2018,
          2019,
          2020,
          2021,
          2022,
          2023,
          2024
         ],
         "xaxis": "x",
         "y": [
          1460665.29,
          1495764.41,
          1655660.77,
          1667059.22,
          1661255.16,
          1848294.01,
          1989186.18,
          2001120.42,
          2084542.8,
          2242278.1,
          2161224.35,
          2117832.91,
          2001161.12
         ],
         "yaxis": "y"
        },
        {
         "alignmentgroup": "True",
         "hovertemplate": "alcohol_type=OTHERS<br>year=%{x}<br>volume_sold_(liters)=%{y}<extra></extra>",
         "legendgroup": "OTHERS",
         "marker": {
          "color": "#FF5C8D",
          "pattern": {
           "shape": ""
          }
         },
         "name": "OTHERS",
         "offsetgroup": "OTHERS",
         "orientation": "v",
         "showlegend": true,
         "textposition": "auto",
         "type": "bar",
         "x": [
          2012,
          2013,
          2014,
          2015,
          2016,
          2017,
          2018,
          2019,
          2020,
          2021,
          2022,
          2023,
          2024
         ],
         "xaxis": "x",
         "y": [
          1110501.46,
          945180.44,
          985196.81,
          970536.77,
          977879.74,
          1140838.22,
          1278803.62,
          1463103.5,
          1945066.72,
          1779188.78,
          1696092.87,
          1512655.85,
          1695918.1
         ],
         "yaxis": "y"
        },
        {
         "alignmentgroup": "True",
         "hovertemplate": "alcohol_type=RUM<br>year=%{x}<br>volume_sold_(liters)=%{y}<extra></extra>",
         "legendgroup": "RUM",
         "marker": {
          "color": "#FF9633",
          "pattern": {
           "shape": ""
          }
         },
         "name": "RUM",
         "offsetgroup": "RUM",
         "orientation": "v",
         "showlegend": true,
         "textposition": "auto",
         "type": "bar",
         "x": [
          2012,
          2013,
          2014,
          2015,
          2016,
          2017,
          2018,
          2019,
          2020,
          2021,
          2022,
          2023,
          2024
         ],
         "xaxis": "x",
         "y": [
          1829002.95,
          1793478.18,
          1792405.51,
          1858754.73,
          2058492.94,
          2611220.17,
          2685890.88,
          2614532.03,
          2746827.53,
          2819322.52,
          2546934.33,
          2584873.7,
          2386968.1
         ],
         "yaxis": "y"
        },
        {
         "alignmentgroup": "True",
         "hovertemplate": "alcohol_type=SCHNAPPS<br>year=%{x}<br>volume_sold_(liters)=%{y}<extra></extra>",
         "legendgroup": "SCHNAPPS",
         "marker": {
          "color": "#8CC084",
          "pattern": {
           "shape": ""
          }
         },
         "name": "SCHNAPPS",
         "offsetgroup": "SCHNAPPS",
         "orientation": "v",
         "showlegend": true,
         "textposition": "auto",
         "type": "bar",
         "x": [
          2012,
          2013,
          2014,
          2015,
          2016,
          2017,
          2018,
          2019,
          2020,
          2021,
          2022,
          2023,
          2024
         ],
         "xaxis": "x",
         "y": [
          885151,
          787288.05,
          743011.16,
          741457.22,
          748011.38,
          737392.9,
          771701.54,
          769789.1,
          754706.76,
          875188,
          801009.92,
          775874.15,
          739155.68
         ],
         "yaxis": "y"
        },
        {
         "alignmentgroup": "True",
         "hovertemplate": "alcohol_type=SPIRITS<br>year=%{x}<br>volume_sold_(liters)=%{y}<extra></extra>",
         "legendgroup": "SPIRITS",
         "marker": {
          "color": "#84A0AE",
          "pattern": {
           "shape": ""
          }
         },
         "name": "SPIRITS",
         "offsetgroup": "SPIRITS",
         "orientation": "v",
         "showlegend": true,
         "textposition": "auto",
         "type": "bar",
         "x": [
          2012,
          2013,
          2014,
          2015,
          2016,
          2017,
          2018,
          2019,
          2020,
          2021,
          2022,
          2023,
          2024
         ],
         "xaxis": "x",
         "y": [
          137592.54,
          184096.12,
          161163.91,
          154941.72,
          181684.6,
          207197.91,
          229216.32,
          252930.08,
          330848.59,
          418076.24,
          447774.83,
          508977.35,
          500119.4
         ],
         "yaxis": "y"
        },
        {
         "alignmentgroup": "True",
         "hovertemplate": "alcohol_type=TEQUILA<br>year=%{x}<br>volume_sold_(liters)=%{y}<extra></extra>",
         "legendgroup": "TEQUILA",
         "marker": {
          "color": "#B78B66",
          "pattern": {
           "shape": ""
          }
         },
         "name": "TEQUILA",
         "offsetgroup": "TEQUILA",
         "orientation": "v",
         "showlegend": true,
         "textposition": "auto",
         "type": "bar",
         "x": [
          2012,
          2013,
          2014,
          2015,
          2016,
          2017,
          2018,
          2019,
          2020,
          2021,
          2022,
          2023,
          2024
         ],
         "xaxis": "x",
         "y": [
          695980.22,
          675577.57,
          707114.34,
          748459.07,
          749386.08,
          796880.85,
          865320.36,
          926690.69,
          1059357.6,
          1257134.36,
          1275403.24,
          1378429.54,
          1388541.32
         ],
         "yaxis": "y"
        },
        {
         "alignmentgroup": "True",
         "hovertemplate": "alcohol_type=VODKAS<br>year=%{x}<br>volume_sold_(liters)=%{y}<extra></extra>",
         "legendgroup": "VODKAS",
         "marker": {
          "color": "#FF85A9",
          "pattern": {
           "shape": ""
          }
         },
         "name": "VODKAS",
         "offsetgroup": "VODKAS",
         "orientation": "v",
         "showlegend": true,
         "textposition": "auto",
         "type": "bar",
         "x": [
          2012,
          2013,
          2014,
          2015,
          2016,
          2017,
          2018,
          2019,
          2020,
          2021,
          2022,
          2023,
          2024
         ],
         "xaxis": "x",
         "y": [
          5370358.22,
          5451257.58,
          5720374.05,
          5966398.32,
          6083394.98,
          6555197.28,
          6942491.16,
          7043764.51,
          7466101.68,
          7492451.41,
          7246432.05,
          7459786.16,
          7394631.46
         ],
         "yaxis": "y"
        },
        {
         "alignmentgroup": "True",
         "hovertemplate": "alcohol_type=WHISKIES<br>year=%{x}<br>volume_sold_(liters)=%{y}<extra></extra>",
         "legendgroup": "WHISKIES",
         "marker": {
          "color": "#FFB570",
          "pattern": {
           "shape": ""
          }
         },
         "name": "WHISKIES",
         "offsetgroup": "WHISKIES",
         "orientation": "v",
         "showlegend": true,
         "textposition": "auto",
         "type": "bar",
         "x": [
          2012,
          2013,
          2014,
          2015,
          2016,
          2017,
          2018,
          2019,
          2020,
          2021,
          2022,
          2023,
          2024
         ],
         "xaxis": "x",
         "y": [
          4298534.02,
          4333149.48,
          4454182.28,
          4562023.2,
          4473942.29,
          4633373.97,
          4813286.99,
          4828127.95,
          5157393.84,
          5138826.46,
          4819440.45,
          4824739.39,
          4664797.65
         ],
         "yaxis": "y"
        },
        {
         "alignmentgroup": "True",
         "hovertemplate": "alcohol_type=MEZCAL<br>year=%{x}<br>volume_sold_(liters)=%{y}<extra></extra>",
         "legendgroup": "MEZCAL",
         "marker": {
          "color": "#A7CEA1",
          "pattern": {
           "shape": ""
          }
         },
         "name": "MEZCAL",
         "offsetgroup": "MEZCAL",
         "orientation": "v",
         "showlegend": true,
         "textposition": "auto",
         "type": "bar",
         "x": [
          2016,
          2017,
          2018,
          2019,
          2020,
          2021,
          2022,
          2023,
          2024
         ],
         "xaxis": "x",
         "y": [
          572.1,
          2500.5,
          3129.75,
          4260,
          7104.75,
          9976.5,
          11542.2,
          11673.15,
          10928.6
         ],
         "yaxis": "y"
        }
       ],
       "layout": {
        "barmode": "relative",
        "legend": {
         "title": {
          "text": "alcohol_type"
         },
         "tracegroupgap": 0
        },
        "template": {
         "layout": {
          "colorway": [
           "#4c3624",
           "#ff0651",
           "#ff7e06",
           "#74B36B",
           "#628395",
           "#996C48",
           "#FF5C8D",
           "#FF9633",
           "#8CC084",
           "#84A0AE",
           "#B78B66",
           "#FF85A9",
           "#FFB570",
           "#A7CEA1",
           "#A9BCC7"
          ],
          "font": {
           "color": "black"
          },
          "paper_bgcolor": "white",
          "plot_bgcolor": "white",
          "xaxis": {
           "gridcolor": "lightgray"
          },
          "yaxis": {
           "gridcolor": "lightgray"
          }
         }
        },
        "title": {
         "text": "Volume Sold every year by Alcohol Type (in liters)"
        },
        "xaxis": {
         "anchor": "y",
         "domain": [
          0,
          1
         ],
         "title": {
          "text": "year"
         }
        },
        "yaxis": {
         "anchor": "x",
         "domain": [
          0,
          1
         ],
         "title": {
          "text": "volume_sold_(liters)"
         }
        }
       }
      }
     },
     "metadata": {},
     "output_type": "display_data"
    }
   ],
   "source": [
    "px.bar(grouped_by_year_subcat, x= 'year', y='volume_sold_(liters)', color='alcohol_type', template = 'iowa', \n",
    "       title = 'Volume Sold every year by Alcohol Type (in liters)')"
   ]
  },
  {
   "cell_type": "code",
   "execution_count": 29,
   "metadata": {},
   "outputs": [
    {
     "data": {
      "application/vnd.plotly.v1+json": {
       "config": {
        "plotlyServerURL": "https://plot.ly"
       },
       "data": [
        {
         "hovertemplate": "alcohol_type=AMARETTO<br>year=%{x}<br>volume_sold_(liters)=%{y}<extra></extra>",
         "legendgroup": "AMARETTO",
         "line": {
          "color": "#4c3624",
          "dash": "solid"
         },
         "marker": {
          "symbol": "circle"
         },
         "mode": "lines",
         "name": "AMARETTO",
         "orientation": "v",
         "showlegend": true,
         "type": "scatter",
         "x": [
          2012,
          2013,
          2014,
          2015,
          2016
         ],
         "xaxis": "x",
         "y": [
          119323.66,
          108864.02,
          102099.4,
          97008.92,
          50760.27
         ],
         "yaxis": "y"
        },
        {
         "hovertemplate": "alcohol_type=BOURBON<br>year=%{x}<br>volume_sold_(liters)=%{y}<extra></extra>",
         "legendgroup": "BOURBON",
         "line": {
          "color": "#ff0651",
          "dash": "solid"
         },
         "marker": {
          "symbol": "circle"
         },
         "mode": "lines",
         "name": "BOURBON",
         "orientation": "v",
         "showlegend": true,
         "type": "scatter",
         "x": [
          2012,
          2013,
          2014,
          2015,
          2016,
          2017,
          2018,
          2019,
          2020,
          2021,
          2022,
          2023,
          2024
         ],
         "xaxis": "x",
         "y": [
          746018.75,
          762578.43,
          819180.95,
          856307.96,
          842753.89,
          916600.73,
          1035160.28,
          1091567.93,
          1296027.39,
          1387522.45,
          1368936.16,
          1434999.04,
          1461189.95
         ],
         "yaxis": "y"
        },
        {
         "hovertemplate": "alcohol_type=BRANDIES<br>year=%{x}<br>volume_sold_(liters)=%{y}<extra></extra>",
         "legendgroup": "BRANDIES",
         "line": {
          "color": "#ff7e06",
          "dash": "solid"
         },
         "marker": {
          "symbol": "circle"
         },
         "mode": "lines",
         "name": "BRANDIES",
         "orientation": "v",
         "showlegend": true,
         "type": "scatter",
         "x": [
          2012,
          2013,
          2014,
          2015,
          2016,
          2017,
          2018,
          2019,
          2020,
          2021,
          2022,
          2023,
          2024
         ],
         "xaxis": "x",
         "y": [
          545401.47,
          555191.4,
          565202.66,
          597213.62,
          587422.23,
          643755.89,
          677515.64,
          698031.13,
          798346.25,
          747893.55,
          645185.01,
          590307.98,
          555263.49
         ],
         "yaxis": "y"
        },
        {
         "hovertemplate": "alcohol_type=CREME<br>year=%{x}<br>volume_sold_(liters)=%{y}<extra></extra>",
         "legendgroup": "CREME",
         "line": {
          "color": "#74B36B",
          "dash": "solid"
         },
         "marker": {
          "symbol": "circle"
         },
         "mode": "lines",
         "name": "CREME",
         "orientation": "v",
         "showlegend": true,
         "type": "scatter",
         "x": [
          2012,
          2013,
          2014,
          2015,
          2016
         ],
         "xaxis": "x",
         "y": [
          24681,
          20907,
          19953,
          22390.5,
          9835.5
         ],
         "yaxis": "y"
        },
        {
         "hovertemplate": "alcohol_type=GINS<br>year=%{x}<br>volume_sold_(liters)=%{y}<extra></extra>",
         "legendgroup": "GINS",
         "line": {
          "color": "#628395",
          "dash": "solid"
         },
         "marker": {
          "symbol": "circle"
         },
         "mode": "lines",
         "name": "GINS",
         "orientation": "v",
         "showlegend": true,
         "type": "scatter",
         "x": [
          2012,
          2013,
          2014,
          2015,
          2016,
          2017,
          2018,
          2019,
          2020,
          2021,
          2022,
          2023,
          2024
         ],
         "xaxis": "x",
         "y": [
          1504572.54,
          1438885.54,
          1414963.74,
          1355519.89,
          1018714.59,
          547602.21,
          553379.87,
          553814.14,
          559098.52,
          584394.29,
          529532.81,
          523641.44,
          506830.37
         ],
         "yaxis": "y"
        },
        {
         "hovertemplate": "alcohol_type=LIQUEURS<br>year=%{x}<br>volume_sold_(liters)=%{y}<extra></extra>",
         "legendgroup": "LIQUEURS",
         "line": {
          "color": "#996C48",
          "dash": "solid"
         },
         "marker": {
          "symbol": "circle"
         },
         "mode": "lines",
         "name": "LIQUEURS",
         "orientation": "v",
         "showlegend": true,
         "type": "scatter",
         "x": [
          2012,
          2013,
          2014,
          2015,
          2016,
          2017,
          2018,
          2019,
          2020,
          2021,
          2022,
          2023,
          2024
         ],
         "xaxis": "x",
         "y": [
          1460665.29,
          1495764.41,
          1655660.77,
          1667059.22,
          1661255.16,
          1848294.01,
          1989186.18,
          2001120.42,
          2084542.8,
          2242278.1,
          2161224.35,
          2117832.91,
          2001161.12
         ],
         "yaxis": "y"
        },
        {
         "hovertemplate": "alcohol_type=OTHERS<br>year=%{x}<br>volume_sold_(liters)=%{y}<extra></extra>",
         "legendgroup": "OTHERS",
         "line": {
          "color": "#FF5C8D",
          "dash": "solid"
         },
         "marker": {
          "symbol": "circle"
         },
         "mode": "lines",
         "name": "OTHERS",
         "orientation": "v",
         "showlegend": true,
         "type": "scatter",
         "x": [
          2012,
          2013,
          2014,
          2015,
          2016,
          2017,
          2018,
          2019,
          2020,
          2021,
          2022,
          2023,
          2024
         ],
         "xaxis": "x",
         "y": [
          1110501.46,
          945180.44,
          985196.81,
          970536.77,
          977879.74,
          1140838.22,
          1278803.62,
          1463103.5,
          1945066.72,
          1779188.78,
          1696092.87,
          1512655.85,
          1695918.1
         ],
         "yaxis": "y"
        },
        {
         "hovertemplate": "alcohol_type=RUM<br>year=%{x}<br>volume_sold_(liters)=%{y}<extra></extra>",
         "legendgroup": "RUM",
         "line": {
          "color": "#FF9633",
          "dash": "solid"
         },
         "marker": {
          "symbol": "circle"
         },
         "mode": "lines",
         "name": "RUM",
         "orientation": "v",
         "showlegend": true,
         "type": "scatter",
         "x": [
          2012,
          2013,
          2014,
          2015,
          2016,
          2017,
          2018,
          2019,
          2020,
          2021,
          2022,
          2023,
          2024
         ],
         "xaxis": "x",
         "y": [
          1829002.95,
          1793478.18,
          1792405.51,
          1858754.73,
          2058492.94,
          2611220.17,
          2685890.88,
          2614532.03,
          2746827.53,
          2819322.52,
          2546934.33,
          2584873.7,
          2386968.1
         ],
         "yaxis": "y"
        },
        {
         "hovertemplate": "alcohol_type=SCHNAPPS<br>year=%{x}<br>volume_sold_(liters)=%{y}<extra></extra>",
         "legendgroup": "SCHNAPPS",
         "line": {
          "color": "#8CC084",
          "dash": "solid"
         },
         "marker": {
          "symbol": "circle"
         },
         "mode": "lines",
         "name": "SCHNAPPS",
         "orientation": "v",
         "showlegend": true,
         "type": "scatter",
         "x": [
          2012,
          2013,
          2014,
          2015,
          2016,
          2017,
          2018,
          2019,
          2020,
          2021,
          2022,
          2023,
          2024
         ],
         "xaxis": "x",
         "y": [
          885151,
          787288.05,
          743011.16,
          741457.22,
          748011.38,
          737392.9,
          771701.54,
          769789.1,
          754706.76,
          875188,
          801009.92,
          775874.15,
          739155.68
         ],
         "yaxis": "y"
        },
        {
         "hovertemplate": "alcohol_type=SPIRITS<br>year=%{x}<br>volume_sold_(liters)=%{y}<extra></extra>",
         "legendgroup": "SPIRITS",
         "line": {
          "color": "#84A0AE",
          "dash": "solid"
         },
         "marker": {
          "symbol": "circle"
         },
         "mode": "lines",
         "name": "SPIRITS",
         "orientation": "v",
         "showlegend": true,
         "type": "scatter",
         "x": [
          2012,
          2013,
          2014,
          2015,
          2016,
          2017,
          2018,
          2019,
          2020,
          2021,
          2022,
          2023,
          2024
         ],
         "xaxis": "x",
         "y": [
          137592.54,
          184096.12,
          161163.91,
          154941.72,
          181684.6,
          207197.91,
          229216.32,
          252930.08,
          330848.59,
          418076.24,
          447774.83,
          508977.35,
          500119.4
         ],
         "yaxis": "y"
        },
        {
         "hovertemplate": "alcohol_type=TEQUILA<br>year=%{x}<br>volume_sold_(liters)=%{y}<extra></extra>",
         "legendgroup": "TEQUILA",
         "line": {
          "color": "#B78B66",
          "dash": "solid"
         },
         "marker": {
          "symbol": "circle"
         },
         "mode": "lines",
         "name": "TEQUILA",
         "orientation": "v",
         "showlegend": true,
         "type": "scatter",
         "x": [
          2012,
          2013,
          2014,
          2015,
          2016,
          2017,
          2018,
          2019,
          2020,
          2021,
          2022,
          2023,
          2024
         ],
         "xaxis": "x",
         "y": [
          695980.22,
          675577.57,
          707114.34,
          748459.07,
          749386.08,
          796880.85,
          865320.36,
          926690.69,
          1059357.6,
          1257134.36,
          1275403.24,
          1378429.54,
          1388541.32
         ],
         "yaxis": "y"
        },
        {
         "hovertemplate": "alcohol_type=VODKAS<br>year=%{x}<br>volume_sold_(liters)=%{y}<extra></extra>",
         "legendgroup": "VODKAS",
         "line": {
          "color": "#FF85A9",
          "dash": "solid"
         },
         "marker": {
          "symbol": "circle"
         },
         "mode": "lines",
         "name": "VODKAS",
         "orientation": "v",
         "showlegend": true,
         "type": "scatter",
         "x": [
          2012,
          2013,
          2014,
          2015,
          2016,
          2017,
          2018,
          2019,
          2020,
          2021,
          2022,
          2023,
          2024
         ],
         "xaxis": "x",
         "y": [
          5370358.22,
          5451257.58,
          5720374.05,
          5966398.32,
          6083394.98,
          6555197.28,
          6942491.16,
          7043764.51,
          7466101.68,
          7492451.41,
          7246432.05,
          7459786.16,
          7394631.46
         ],
         "yaxis": "y"
        },
        {
         "hovertemplate": "alcohol_type=WHISKIES<br>year=%{x}<br>volume_sold_(liters)=%{y}<extra></extra>",
         "legendgroup": "WHISKIES",
         "line": {
          "color": "#FFB570",
          "dash": "solid"
         },
         "marker": {
          "symbol": "circle"
         },
         "mode": "lines",
         "name": "WHISKIES",
         "orientation": "v",
         "showlegend": true,
         "type": "scatter",
         "x": [
          2012,
          2013,
          2014,
          2015,
          2016,
          2017,
          2018,
          2019,
          2020,
          2021,
          2022,
          2023,
          2024
         ],
         "xaxis": "x",
         "y": [
          4298534.02,
          4333149.48,
          4454182.28,
          4562023.2,
          4473942.29,
          4633373.97,
          4813286.99,
          4828127.95,
          5157393.84,
          5138826.46,
          4819440.45,
          4824739.39,
          4664797.65
         ],
         "yaxis": "y"
        },
        {
         "hovertemplate": "alcohol_type=MEZCAL<br>year=%{x}<br>volume_sold_(liters)=%{y}<extra></extra>",
         "legendgroup": "MEZCAL",
         "line": {
          "color": "#A7CEA1",
          "dash": "solid"
         },
         "marker": {
          "symbol": "circle"
         },
         "mode": "lines",
         "name": "MEZCAL",
         "orientation": "v",
         "showlegend": true,
         "type": "scatter",
         "x": [
          2016,
          2017,
          2018,
          2019,
          2020,
          2021,
          2022,
          2023,
          2024
         ],
         "xaxis": "x",
         "y": [
          572.1,
          2500.5,
          3129.75,
          4260,
          7104.75,
          9976.5,
          11542.2,
          11673.15,
          10928.6
         ],
         "yaxis": "y"
        }
       ],
       "layout": {
        "legend": {
         "title": {
          "text": "alcohol_type"
         },
         "tracegroupgap": 0
        },
        "template": {
         "layout": {
          "colorway": [
           "#4c3624",
           "#ff0651",
           "#ff7e06",
           "#74B36B",
           "#628395",
           "#996C48",
           "#FF5C8D",
           "#FF9633",
           "#8CC084",
           "#84A0AE",
           "#B78B66",
           "#FF85A9",
           "#FFB570",
           "#A7CEA1",
           "#A9BCC7"
          ],
          "font": {
           "color": "black"
          },
          "paper_bgcolor": "white",
          "plot_bgcolor": "white",
          "xaxis": {
           "gridcolor": "lightgray"
          },
          "yaxis": {
           "gridcolor": "lightgray"
          }
         }
        },
        "title": {
         "text": "Volume Sold every year by Alcohol Type (in liters)"
        },
        "xaxis": {
         "anchor": "y",
         "domain": [
          0,
          1
         ],
         "title": {
          "text": "year"
         }
        },
        "yaxis": {
         "anchor": "x",
         "domain": [
          0,
          1
         ],
         "title": {
          "text": "volume_sold_(liters)"
         }
        }
       }
      }
     },
     "metadata": {},
     "output_type": "display_data"
    }
   ],
   "source": [
    "px.line(grouped_by_year_subcat, x= 'year', y='volume_sold_(liters)', color='alcohol_type', template = 'iowa', \n",
    "       title = 'Volume Sold every year by Alcohol Type (in liters)')"
   ]
  },
  {
   "cell_type": "code",
   "execution_count": null,
   "metadata": {},
   "outputs": [],
   "source": [
    "px.bar(grouped_by_year_subcat, x= 'year', y='sale_(dollars)', color='alcohol_type', template = 'iowa', \n",
    "       title = 'Sales Amount (dollars) every year by Alcohol Type')"
   ]
  },
  {
   "cell_type": "code",
   "execution_count": null,
   "metadata": {},
   "outputs": [],
   "source": [
    "px.line(grouped_by_year_subcat, x= 'year', y='sale_(dollars)', color='alcohol_type', template = 'iowa', \n",
    "       title = 'Sales Amount (dollars) every year by Alcohol Type')"
   ]
  },
  {
   "cell_type": "markdown",
   "metadata": {},
   "source": [
    "TO DO: (possibly)\n",
    "- look deeper into the alcohol sales per category\n",
    "- look at sales by county \n",
    "- other ideas ????"
   ]
  },
  {
   "cell_type": "code",
   "execution_count": 32,
   "metadata": {},
   "outputs": [
    {
     "data": {
      "application/vnd.plotly.v1+json": {
       "config": {
        "plotlyServerURL": "https://plot.ly"
       },
       "data": [
        {
         "hovertemplate": "alcohol_type=LIQUEURS<br>year=%{x}<br>bottle_volume_(ml)=%{y}<extra></extra>",
         "legendgroup": "LIQUEURS",
         "line": {
          "color": "#4c3624",
          "dash": "solid"
         },
         "marker": {
          "symbol": "circle"
         },
         "mode": "markers+lines",
         "name": "LIQUEURS",
         "orientation": "v",
         "showlegend": true,
         "type": "scatter",
         "x": [
          2012,
          2013,
          2014,
          2015,
          2016,
          2017,
          2018,
          2019,
          2020,
          2021,
          2022,
          2023,
          2024
         ],
         "xaxis": "x",
         "y": [
          801.0734058181018,
          821.2315075379245,
          845.634925929385,
          888.9620918708644,
          911.0790759738616,
          901.8374398251091,
          901.906222016258,
          791.2094138383285,
          612.7823148624483,
          596.0674203542684,
          560.0296850876263,
          524.352247428491,
          501.2261957549096
         ],
         "yaxis": "y"
        },
        {
         "hovertemplate": "alcohol_type=VODKAS<br>year=%{x}<br>bottle_volume_(ml)=%{y}<extra></extra>",
         "legendgroup": "VODKAS",
         "line": {
          "color": "#ff0651",
          "dash": "solid"
         },
         "marker": {
          "symbol": "circle"
         },
         "mode": "markers+lines",
         "name": "VODKAS",
         "orientation": "v",
         "showlegend": true,
         "type": "scatter",
         "x": [
          2012,
          2013,
          2014,
          2015,
          2016,
          2017,
          2018,
          2019,
          2020,
          2021,
          2022,
          2023,
          2024
         ],
         "xaxis": "x",
         "y": [
          972.1398260302481,
          960.1334304825976,
          955.9124852145559,
          946.3137657011023,
          959.1515166777237,
          938.0506454732057,
          932.046006930189,
          913.372995579476,
          902.5358095325109,
          879.2585110309095,
          859.145031189068,
          859.8835732665361,
          858.7713794691314
         ],
         "yaxis": "y"
        },
        {
         "hovertemplate": "alcohol_type=WHISKIES<br>year=%{x}<br>bottle_volume_(ml)=%{y}<extra></extra>",
         "legendgroup": "WHISKIES",
         "line": {
          "color": "#ff7e06",
          "dash": "solid"
         },
         "marker": {
          "symbol": "circle"
         },
         "mode": "markers+lines",
         "name": "WHISKIES",
         "orientation": "v",
         "showlegend": true,
         "type": "scatter",
         "x": [
          2012,
          2013,
          2014,
          2015,
          2016,
          2017,
          2018,
          2019,
          2020,
          2021,
          2022,
          2023,
          2024
         ],
         "xaxis": "x",
         "y": [
          981.7467870788469,
          972.1106494804342,
          962.0425604580047,
          942.8637416840925,
          932.4327763647875,
          921.343447165612,
          914.6468423563706,
          887.2380288311493,
          856.0849442362478,
          853.3722474773066,
          874.6117907168689,
          855.4635903145639,
          858.6046609046699
         ],
         "yaxis": "y"
        }
       ],
       "layout": {
        "legend": {
         "title": {
          "text": "alcohol_type"
         },
         "tracegroupgap": 0
        },
        "template": {
         "layout": {
          "colorway": [
           "#4c3624",
           "#ff0651",
           "#ff7e06",
           "#74B36B",
           "#628395",
           "#996C48",
           "#FF5C8D",
           "#FF9633",
           "#8CC084",
           "#84A0AE",
           "#B78B66",
           "#FF85A9",
           "#FFB570",
           "#A7CEA1",
           "#A9BCC7"
          ],
          "font": {
           "color": "black"
          },
          "paper_bgcolor": "white",
          "plot_bgcolor": "white",
          "xaxis": {
           "gridcolor": "lightgray"
          },
          "yaxis": {
           "gridcolor": "lightgray"
          }
         }
        },
        "title": {
         "text": "Average Bottle Volume Over Time (Liqueurs, Vodkas, Whiskeys)"
        },
        "xaxis": {
         "anchor": "y",
         "domain": [
          0,
          1
         ],
         "title": {
          "text": "year"
         }
        },
        "yaxis": {
         "anchor": "x",
         "domain": [
          0,
          1
         ],
         "title": {
          "text": "bottle_volume_(ml)"
         }
        }
       }
      }
     },
     "metadata": {},
     "output_type": "display_data"
    }
   ],
   "source": [
    "# Filter data for selected alcohol types\n",
    "selected_types = [\"LIQUEURS\", \"VODKAS\", \"WHISKIES\"]\n",
    "filtered_df = data_dt[data_dt[\"alcohol_type\"].isin(selected_types)]\n",
    "\n",
    "# Calculate the average bottle volume per year for each type\n",
    "avg_bottle_volume = filtered_df.groupby([\"year\", \"alcohol_type\"], as_index=False)[\"bottle_volume_(ml)\"].mean()\n",
    "\n",
    "# Plot the trend of average bottle size over time\n",
    "fig = px.line(avg_bottle_volume, x=\"year\", y=\"bottle_volume_(ml)\", color=\"alcohol_type\",\n",
    "              title=\"Average Bottle Volume Over Time (Liqueurs, Vodkas, Whiskeys)\", \n",
    "              template=\"iowa\", markers=True)\n",
    "\n",
    "fig.show()"
   ]
  },
  {
   "cell_type": "markdown",
   "metadata": {},
   "source": [
    "This confirms the suspicion that although liqueurs are selling a lot more over time, their size is actually decreasing, which might incentivise people to purchase these bottles. "
   ]
  },
  {
   "cell_type": "code",
   "execution_count": 45,
   "metadata": {},
   "outputs": [],
   "source": [
    "# Create a copy to avoid modifying the original df\n",
    "profit_analysis = grouped_by_year_subcat.copy()\n",
    "\n",
    "# Compute profit metrics in the copied dataframe\n",
    "profit_analysis[\"profit_per_bottle\"] = profit_analysis[\"state_bottle_retail\"] - profit_analysis[\"state_bottle_cost\"]\n",
    "profit_analysis[\"total_profit\"] = profit_analysis[\"profit_per_bottle\"] * profit_analysis[\"bottles_sold\"]"
   ]
  },
  {
   "cell_type": "code",
   "execution_count": 59,
   "metadata": {},
   "outputs": [
    {
     "name": "stdout",
     "output_type": "stream",
     "text": [
      "📊 All-Time Profit Increase (%)\n",
      "alcohol_type\n",
      "LIQUEURS    611.78\n",
      "VODKAS       79.18\n",
      "WHISKIES    108.62\n",
      "dtype: float64\n",
      "\n",
      "📊 Profit Increase (2021-Present) (%)\n",
      "alcohol_type\n",
      "LIQUEURS    31.40\n",
      "VODKAS       2.18\n",
      "WHISKIES    -2.74\n",
      "dtype: float64\n"
     ]
    }
   ],
   "source": [
    "# Filter for the three alcohol types\n",
    "profit_analysis = profit_analysis[profit_analysis[\"alcohol_type\"].isin([\"WHISKIES\", \"VODKAS\", \"LIQUEURS\"])]\n",
    "\n",
    "# Get profit for first and latest recorded year\n",
    "profit_by_year = profit_analysis.groupby([\"year\", \"alcohol_type\"])[\"total_profit\"].sum().unstack()\n",
    "\n",
    "# Compute percentage increase\n",
    "profit_change_all_time = ((profit_by_year.iloc[-1] - profit_by_year.iloc[0]) / profit_by_year.iloc[0]) * 100\n",
    "profit_change_recent = ((profit_by_year.loc[profit_by_year.index.max()] - profit_by_year.loc[2021]) / profit_by_year.loc[2021]) * 100\n",
    "\n",
    "# Display results\n",
    "print(\"📊 All-Time Profit Increase (%)\")\n",
    "print(profit_change_all_time.round(2))\n",
    "\n",
    "print(\"\\n📊 Profit Increase (2021-Present) (%)\")\n",
    "print(profit_change_recent.round(2))"
   ]
  },
  {
   "cell_type": "code",
   "execution_count": null,
   "metadata": {},
   "outputs": [],
   "source": [
    "# Profit trend using the copied df\n",
    "px.line(profit_analysis, x=\"year\", y=\"total_profit\", color=\"alcohol_type\", template=\"iowa\", \n",
    "        title=\"Total Profit Over Time by Alcohol Type\")"
   ]
  },
  {
   "cell_type": "code",
   "execution_count": 61,
   "metadata": {},
   "outputs": [
    {
     "data": {
      "application/vnd.plotly.v1+json": {
       "config": {
        "plotlyServerURL": "https://plot.ly"
       },
       "data": [
        {
         "hovertemplate": "alcohol_type=AMARETTO<br>year=%{x}<br>state_bottle_retail=%{y}<extra></extra>",
         "legendgroup": "AMARETTO",
         "line": {
          "color": "#4c3624",
          "dash": "solid"
         },
         "marker": {
          "symbol": "circle"
         },
         "mode": "lines",
         "name": "AMARETTO",
         "orientation": "v",
         "showlegend": true,
         "type": "scatter",
         "x": [
          2012,
          2013,
          2014,
          2015,
          2016
         ],
         "xaxis": "x",
         "y": [
          147954.27,
          145340.16999999998,
          141731.76,
          130940.70999999999,
          50623.61
         ],
         "yaxis": "y"
        },
        {
         "hovertemplate": "alcohol_type=BOURBON<br>year=%{x}<br>state_bottle_retail=%{y}<extra></extra>",
         "legendgroup": "BOURBON",
         "line": {
          "color": "#ff0651",
          "dash": "solid"
         },
         "marker": {
          "symbol": "circle"
         },
         "mode": "lines",
         "name": "BOURBON",
         "orientation": "v",
         "showlegend": true,
         "type": "scatter",
         "x": [
          2012,
          2013,
          2014,
          2015,
          2016,
          2017,
          2018,
          2019,
          2020,
          2021,
          2022,
          2023,
          2024
         ],
         "xaxis": "x",
         "y": [
          1772282.8699999999,
          1931912.91,
          2149092.67,
          2361742.96,
          2395296.19,
          2631863.47,
          2909535.97,
          3008909.03,
          3834407.6,
          4332073.5,
          4809685.3,
          5582961.71,
          6179099.59
         ],
         "yaxis": "y"
        },
        {
         "hovertemplate": "alcohol_type=BRANDIES<br>year=%{x}<br>state_bottle_retail=%{y}<extra></extra>",
         "legendgroup": "BRANDIES",
         "line": {
          "color": "#ff7e06",
          "dash": "solid"
         },
         "marker": {
          "symbol": "circle"
         },
         "mode": "lines",
         "name": "BRANDIES",
         "orientation": "v",
         "showlegend": true,
         "type": "scatter",
         "x": [
          2012,
          2013,
          2014,
          2015,
          2016,
          2017,
          2018,
          2019,
          2020,
          2021,
          2022,
          2023,
          2024
         ],
         "xaxis": "x",
         "y": [
          1213183.66,
          1283048.99,
          1325506.27,
          1511929.76,
          1545094.56,
          1682460.95,
          1767967.79,
          1904177.31,
          2132330.37,
          2041229.41,
          1928827.85,
          1732487.93,
          1598353.03
         ],
         "yaxis": "y"
        },
        {
         "hovertemplate": "alcohol_type=CREME<br>year=%{x}<br>state_bottle_retail=%{y}<extra></extra>",
         "legendgroup": "CREME",
         "line": {
          "color": "#74B36B",
          "dash": "solid"
         },
         "marker": {
          "symbol": "circle"
         },
         "mode": "lines",
         "name": "CREME",
         "orientation": "v",
         "showlegend": true,
         "type": "scatter",
         "x": [
          2012,
          2013,
          2014,
          2015,
          2016
         ],
         "xaxis": "x",
         "y": [
          46619.18,
          39806.28,
          37586.409999999996,
          39281.47,
          19524.82
         ],
         "yaxis": "y"
        },
        {
         "hovertemplate": "alcohol_type=GINS<br>year=%{x}<br>state_bottle_retail=%{y}<extra></extra>",
         "legendgroup": "GINS",
         "line": {
          "color": "#628395",
          "dash": "solid"
         },
         "marker": {
          "symbol": "circle"
         },
         "mode": "lines",
         "name": "GINS",
         "orientation": "v",
         "showlegend": true,
         "type": "scatter",
         "x": [
          2012,
          2013,
          2014,
          2015,
          2016,
          2017,
          2018,
          2019,
          2020,
          2021,
          2022,
          2023,
          2024
         ],
         "xaxis": "x",
         "y": [
          2046921.52,
          1995841.06,
          2023669.1199999999,
          2009986.38,
          1615013.86,
          1039373.19,
          1071783.02,
          1074987.05,
          1198238.23,
          1206777.02,
          1114490.73,
          1157482.51,
          1155966.3
         ],
         "yaxis": "y"
        },
        {
         "hovertemplate": "alcohol_type=LIQUEURS<br>year=%{x}<br>state_bottle_retail=%{y}<extra></extra>",
         "legendgroup": "LIQUEURS",
         "line": {
          "color": "#996C48",
          "dash": "solid"
         },
         "marker": {
          "symbol": "circle"
         },
         "mode": "lines",
         "name": "LIQUEURS",
         "orientation": "v",
         "showlegend": true,
         "type": "scatter",
         "x": [
          2012,
          2013,
          2014,
          2015,
          2016,
          2017,
          2018,
          2019,
          2020,
          2021,
          2022,
          2023,
          2024
         ],
         "xaxis": "x",
         "y": [
          3397617.53,
          3655534.1999999997,
          3861825.44,
          4166562.86,
          4164828.56,
          4601042.88,
          4927317.17,
          4983881.65,
          5764690.21,
          6077050.04,
          6478380.49,
          7242902.13,
          7349408.08
         ],
         "yaxis": "y"
        },
        {
         "hovertemplate": "alcohol_type=OTHERS<br>year=%{x}<br>state_bottle_retail=%{y}<extra></extra>",
         "legendgroup": "OTHERS",
         "line": {
          "color": "#FF5C8D",
          "dash": "solid"
         },
         "marker": {
          "symbol": "circle"
         },
         "mode": "lines",
         "name": "OTHERS",
         "orientation": "v",
         "showlegend": true,
         "type": "scatter",
         "x": [
          2012,
          2013,
          2014,
          2015,
          2016,
          2017,
          2018,
          2019,
          2020,
          2021,
          2022,
          2023,
          2024
         ],
         "xaxis": "x",
         "y": [
          1036231.54,
          965064.9500000001,
          1021735.43,
          943725.3200000001,
          972129.73,
          1223618.17,
          1467325.99,
          1738445.8699999999,
          2445092.19,
          2994535.55,
          4289840.03,
          4003312.64,
          4612854.13
         ],
         "yaxis": "y"
        },
        {
         "hovertemplate": "alcohol_type=RUM<br>year=%{x}<br>state_bottle_retail=%{y}<extra></extra>",
         "legendgroup": "RUM",
         "line": {
          "color": "#FF9633",
          "dash": "solid"
         },
         "marker": {
          "symbol": "circle"
         },
         "mode": "lines",
         "name": "RUM",
         "orientation": "v",
         "showlegend": true,
         "type": "scatter",
         "x": [
          2012,
          2013,
          2014,
          2015,
          2016,
          2017,
          2018,
          2019,
          2020,
          2021,
          2022,
          2023,
          2024
         ],
         "xaxis": "x",
         "y": [
          2384175.59,
          2381443.31,
          2430705.15,
          2543705.66,
          2824960.85,
          3375251.94,
          3401769.68,
          3339632.84,
          3549522.25,
          3442268.26,
          3207958.87,
          3180630.79,
          2961420.78
         ],
         "yaxis": "y"
        },
        {
         "hovertemplate": "alcohol_type=SCHNAPPS<br>year=%{x}<br>state_bottle_retail=%{y}<extra></extra>",
         "legendgroup": "SCHNAPPS",
         "line": {
          "color": "#8CC084",
          "dash": "solid"
         },
         "marker": {
          "symbol": "circle"
         },
         "mode": "lines",
         "name": "SCHNAPPS",
         "orientation": "v",
         "showlegend": true,
         "type": "scatter",
         "x": [
          2012,
          2013,
          2014,
          2015,
          2016,
          2017,
          2018,
          2019,
          2020,
          2021,
          2022,
          2023,
          2024
         ],
         "xaxis": "x",
         "y": [
          1459918.51,
          1308418.06,
          1248717.44,
          1221137.39,
          1311533.67,
          1260535.45,
          1295899.96,
          1303156.87,
          1403465.11,
          1418376.66,
          1368550.61,
          2559989.94,
          3391281.36
         ],
         "yaxis": "y"
        },
        {
         "hovertemplate": "alcohol_type=SPIRITS<br>year=%{x}<br>state_bottle_retail=%{y}<extra></extra>",
         "legendgroup": "SPIRITS",
         "line": {
          "color": "#84A0AE",
          "dash": "solid"
         },
         "marker": {
          "symbol": "circle"
         },
         "mode": "lines",
         "name": "SPIRITS",
         "orientation": "v",
         "showlegend": true,
         "type": "scatter",
         "x": [
          2012,
          2013,
          2014,
          2015,
          2016,
          2017,
          2018,
          2019,
          2020,
          2021,
          2022,
          2023,
          2024
         ],
         "xaxis": "x",
         "y": [
          100351.59,
          299904.67,
          206431.28,
          181429.45,
          167896.91,
          192437.59,
          215939.7,
          242623.36000000002,
          469965.25,
          656404,
          926702.27,
          1122935.42,
          961057.13
         ],
         "yaxis": "y"
        },
        {
         "hovertemplate": "alcohol_type=TEQUILA<br>year=%{x}<br>state_bottle_retail=%{y}<extra></extra>",
         "legendgroup": "TEQUILA",
         "line": {
          "color": "#B78B66",
          "dash": "solid"
         },
         "marker": {
          "symbol": "circle"
         },
         "mode": "lines",
         "name": "TEQUILA",
         "orientation": "v",
         "showlegend": true,
         "type": "scatter",
         "x": [
          2012,
          2013,
          2014,
          2015,
          2016,
          2017,
          2018,
          2019,
          2020,
          2021,
          2022,
          2023,
          2024
         ],
         "xaxis": "x",
         "y": [
          1743621.93,
          1716480.1,
          1852191.56,
          2035590.24,
          2049264.52,
          2300931.96,
          2439076.93,
          2592422.77,
          3157458.2,
          3628414.17,
          4467743.63,
          5556419.56,
          5834364.7
         ],
         "yaxis": "y"
        },
        {
         "hovertemplate": "alcohol_type=VODKAS<br>year=%{x}<br>state_bottle_retail=%{y}<extra></extra>",
         "legendgroup": "VODKAS",
         "line": {
          "color": "#FF85A9",
          "dash": "solid"
         },
         "marker": {
          "symbol": "circle"
         },
         "mode": "lines",
         "name": "VODKAS",
         "orientation": "v",
         "showlegend": true,
         "type": "scatter",
         "x": [
          2012,
          2013,
          2014,
          2015,
          2016,
          2017,
          2018,
          2019,
          2020,
          2021,
          2022,
          2023,
          2024
         ],
         "xaxis": "x",
         "y": [
          6301108.45,
          6312234.39,
          6451350.21,
          6823936.38,
          7090888.96,
          7045544.03,
          7226515.96,
          7140745.66,
          7589713.96,
          7459352.14,
          7303323.85,
          7700075.32,
          7390839.17
         ],
         "yaxis": "y"
        },
        {
         "hovertemplate": "alcohol_type=WHISKIES<br>year=%{x}<br>state_bottle_retail=%{y}<extra></extra>",
         "legendgroup": "WHISKIES",
         "line": {
          "color": "#FFB570",
          "dash": "solid"
         },
         "marker": {
          "symbol": "circle"
         },
         "mode": "lines",
         "name": "WHISKIES",
         "orientation": "v",
         "showlegend": true,
         "type": "scatter",
         "x": [
          2012,
          2013,
          2014,
          2015,
          2016,
          2017,
          2018,
          2019,
          2020,
          2021,
          2022,
          2023,
          2024
         ],
         "xaxis": "x",
         "y": [
          6979139.29,
          7032553.01,
          7501697.94,
          8168629.31,
          8290755.68,
          8631943.8,
          9192302.06,
          9452468.84,
          10950213.68,
          11198343.4,
          10864313,
          12103760.86,
          11781567.35
         ],
         "yaxis": "y"
        },
        {
         "hovertemplate": "alcohol_type=MEZCAL<br>year=%{x}<br>state_bottle_retail=%{y}<extra></extra>",
         "legendgroup": "MEZCAL",
         "line": {
          "color": "#A7CEA1",
          "dash": "solid"
         },
         "marker": {
          "symbol": "circle"
         },
         "mode": "lines",
         "name": "MEZCAL",
         "orientation": "v",
         "showlegend": true,
         "type": "scatter",
         "x": [
          2016,
          2017,
          2018,
          2019,
          2020,
          2021,
          2022,
          2023,
          2024
         ],
         "xaxis": "x",
         "y": [
          5024.85,
          19492.43,
          26149.04,
          41825.6,
          59861.27,
          77742.37,
          102878.64,
          107983.09,
          95195.75
         ],
         "yaxis": "y"
        }
       ],
       "layout": {
        "legend": {
         "title": {
          "text": "alcohol_type"
         },
         "tracegroupgap": 0
        },
        "template": {
         "layout": {
          "colorway": [
           "#4c3624",
           "#ff0651",
           "#ff7e06",
           "#74B36B",
           "#628395",
           "#996C48",
           "#FF5C8D",
           "#FF9633",
           "#8CC084",
           "#84A0AE",
           "#B78B66",
           "#FF85A9",
           "#FFB570",
           "#A7CEA1",
           "#A9BCC7"
          ],
          "font": {
           "color": "black"
          },
          "paper_bgcolor": "white",
          "plot_bgcolor": "white",
          "xaxis": {
           "gridcolor": "lightgray"
          },
          "yaxis": {
           "gridcolor": "lightgray"
          }
         }
        },
        "title": {
         "text": "State Retail Price Per Bottle Over Time"
        },
        "xaxis": {
         "anchor": "y",
         "domain": [
          0,
          1
         ],
         "title": {
          "text": "year"
         }
        },
        "yaxis": {
         "anchor": "x",
         "domain": [
          0,
          1
         ],
         "title": {
          "text": "state_bottle_retail"
         }
        }
       }
      }
     },
     "metadata": {},
     "output_type": "display_data"
    }
   ],
   "source": [
    "# Price trend per bottle\n",
    "px.line(grouped_by_year_subcat, x=\"year\", y=\"state_bottle_retail\", color=\"alcohol_type\", template=\"iowa\", \n",
    "        title=\"State Retail Price Per Bottle Over Time\")"
   ]
  },
  {
   "cell_type": "code",
   "execution_count": null,
   "metadata": {},
   "outputs": [],
   "source": [
    "fig = px.bar(grouped_by_month_subcat[grouped_by_month_subcat[\"alcohol_type\"].isin([\"WHISKIES\", \"VODKAS\", \"LIQUEURS\"])], \n",
    "             x=\"month\", y=\"bottles_sold\", color=\"alcohol_type\", \n",
    "             barmode=\"group\", template=\"iowa\",\n",
    "             title=\"Seasonal Trends: Bottles Sold by Month (Whiskies, Vodkas, Liqueurs)\")\n",
    "fig.show()"
   ]
  },
  {
   "cell_type": "code",
   "execution_count": 63,
   "metadata": {},
   "outputs": [
    {
     "data": {
      "application/vnd.plotly.v1+json": {
       "config": {
        "plotlyServerURL": "https://plot.ly"
       },
       "data": [
        {
         "alignmentgroup": "True",
         "hovertemplate": "alcohol_type=%{x}<br>sale_(dollars)=%{y}<extra></extra>",
         "legendgroup": "",
         "marker": {
          "color": "#4c3624",
          "pattern": {
           "shape": ""
          }
         },
         "name": "",
         "offsetgroup": "",
         "orientation": "v",
         "showlegend": false,
         "textposition": "auto",
         "texttemplate": "%{y}",
         "type": "bar",
         "x": [
          "WHISKIES",
          "VODKAS",
          "LIQUEURS",
          "RUM",
          "BOURBON",
          "TEQUILA",
          "OTHERS",
          "BRANDIES",
          "GINS",
          "SCHNAPPS",
          "SPIRITS",
          "AMARETTO",
          "MEZCAL"
         ],
         "xaxis": "x",
         "y": [
          1091423015.07,
          1026324412.2,
          526218249.95,
          446903093.47,
          330699065.38,
          321477604.98,
          198134899.04,
          191957433.74,
          148377579.99,
          146153736.75,
          51308225.43,
          4637457.2299999995,
          2595912.7
         ],
         "yaxis": "y"
        }
       ],
       "layout": {
        "barmode": "relative",
        "legend": {
         "tracegroupgap": 0
        },
        "template": {
         "layout": {
          "colorway": [
           "#4c3624",
           "#ff0651",
           "#ff7e06",
           "#74B36B",
           "#628395",
           "#996C48",
           "#FF5C8D",
           "#FF9633",
           "#8CC084",
           "#84A0AE",
           "#B78B66",
           "#FF85A9",
           "#FFB570",
           "#A7CEA1",
           "#A9BCC7"
          ],
          "font": {
           "color": "black"
          },
          "paper_bgcolor": "white",
          "plot_bgcolor": "white",
          "xaxis": {
           "gridcolor": "lightgray"
          },
          "yaxis": {
           "gridcolor": "lightgray"
          }
         }
        },
        "title": {
         "text": "Top 13 Alcohol Types by Total Sales (All-Time)"
        },
        "xaxis": {
         "anchor": "y",
         "domain": [
          0,
          1
         ],
         "title": {
          "text": "alcohol_type"
         }
        },
        "yaxis": {
         "anchor": "x",
         "domain": [
          0,
          1
         ],
         "title": {
          "text": "sale_(dollars)"
         }
        }
       }
      }
     },
     "metadata": {},
     "output_type": "display_data"
    }
   ],
   "source": [
    "# Aggregate total sales per alcohol type and select the top 13 (All-Time)\n",
    "top_alcohol_type = data_dt.groupby(\"alcohol_type\")[\"sale_(dollars)\"].sum().nlargest(13).reset_index()\n",
    "\n",
    "# Bar chart showing the top 13 counties by total sales (All-Time)\n",
    "px.bar(top_alcohol_type, x=\"alcohol_type\", y=\"sale_(dollars)\", template=\"iowa\", \n",
    "       title=\"Top 13 Alcohol Types by Total Sales (All-Time)\", text_auto=True)"
   ]
  },
  {
   "cell_type": "code",
   "execution_count": 64,
   "metadata": {},
   "outputs": [
    {
     "data": {
      "application/vnd.plotly.v1+json": {
       "config": {
        "plotlyServerURL": "https://plot.ly"
       },
       "data": [
        {
         "alignmentgroup": "True",
         "hovertemplate": "alcohol_type=%{x}<br>sale_(dollars)=%{y}<extra></extra>",
         "legendgroup": "",
         "marker": {
          "color": "#4c3624",
          "pattern": {
           "shape": ""
          }
         },
         "name": "",
         "offsetgroup": "",
         "orientation": "v",
         "showlegend": false,
         "textposition": "auto",
         "texttemplate": "%{y}",
         "type": "bar",
         "x": [
          "WHISKIES",
          "VODKAS",
          "LIQUEURS",
          "TEQUILA",
          "BOURBON",
          "RUM",
          "OTHERS",
          "BRANDIES",
          "SCHNAPPS",
          "GINS",
          "SPIRITS",
          "MEZCAL"
         ],
         "xaxis": "x",
         "y": [
          402300468.1,
          373609242.52,
          210294268.81,
          162007026.93,
          160401182.51,
          155115718.48,
          93038991.35,
          69400209.62,
          52804805.39,
          38371789.98,
          30266467.02,
          1931247.83
         ],
         "yaxis": "y"
        }
       ],
       "layout": {
        "barmode": "relative",
        "legend": {
         "tracegroupgap": 0
        },
        "template": {
         "layout": {
          "colorway": [
           "#4c3624",
           "#ff0651",
           "#ff7e06",
           "#74B36B",
           "#628395",
           "#996C48",
           "#FF5C8D",
           "#FF9633",
           "#8CC084",
           "#84A0AE",
           "#B78B66",
           "#FF85A9",
           "#FFB570",
           "#A7CEA1",
           "#A9BCC7"
          ],
          "font": {
           "color": "black"
          },
          "paper_bgcolor": "white",
          "plot_bgcolor": "white",
          "xaxis": {
           "gridcolor": "lightgray"
          },
          "yaxis": {
           "gridcolor": "lightgray"
          }
         }
        },
        "title": {
         "text": "Top 13 Alcohol Type by Total Sales (2021 - Present)"
        },
        "xaxis": {
         "anchor": "y",
         "domain": [
          0,
          1
         ],
         "title": {
          "text": "alcohol_type"
         }
        },
        "yaxis": {
         "anchor": "x",
         "domain": [
          0,
          1
         ],
         "title": {
          "text": "sale_(dollars)"
         }
        }
       }
      }
     },
     "metadata": {},
     "output_type": "display_data"
    }
   ],
   "source": [
    "# Filter data for 2021 onwards\n",
    "data_2021_present = data_dt[data_dt[\"year\"] >= 2021]\n",
    "\n",
    "# Aggregate total sales per alcohol type (2021 - Present) and select the top 13\n",
    "top_alcohol_type_2021 = data_2021_present.groupby(\"alcohol_type\")[\"sale_(dollars)\"].sum().nlargest(13).reset_index()\n",
    "\n",
    "# Bar chart showing the top 13 counties by total sales (2021 - Present)\n",
    "px.bar(top_alcohol_type_2021, x=\"alcohol_type\", y=\"sale_(dollars)\", template=\"iowa\", \n",
    "       title=\"Top 13 Alcohol Type by Total Sales (2021 - Present)\", text_auto=True)"
   ]
  },
  {
   "cell_type": "code",
   "execution_count": 25,
   "metadata": {},
   "outputs": [
    {
     "data": {
      "application/vnd.plotly.v1+json": {
       "config": {
        "plotlyServerURL": "https://plot.ly"
       },
       "data": [
        {
         "alignmentgroup": "True",
         "hovertemplate": "alcohol_type=%{x}<br>% in Sales Growth=%{y}<extra></extra>",
         "legendgroup": "",
         "marker": {
          "color": "#4c3624",
          "pattern": {
           "shape": ""
          }
         },
         "name": "",
         "offsetgroup": "",
         "orientation": "v",
         "showlegend": false,
         "textposition": "auto",
         "texttemplate": "%{y}",
         "type": "bar",
         "x": [
          "SPIRITS",
          "BOURBON",
          "TEQUILA",
          "OTHERS",
          "LIQUEURS",
          "VODKAS",
          "BRANDIES",
          "WHISKIES",
          "RUM",
          "SCHNAPPS",
          "GINS"
         ],
         "xaxis": "x",
         "y": [
          500.57059661638937,
          266.9494546934242,
          237.61707085581995,
          188.2091361023852,
          72.07392406063066,
          61.54765415464761,
          58.72184715348951,
          56.73638657513496,
          35.177919905816154,
          20.908721297485403,
          -41.12424558887072
         ],
         "yaxis": "y"
        }
       ],
       "layout": {
        "barmode": "relative",
        "legend": {
         "tracegroupgap": 0
        },
        "template": {
         "layout": {
          "colorway": [
           "#4c3624",
           "#ff0651",
           "#ff7e06",
           "#74B36B",
           "#628395",
           "#996C48",
           "#FF5C8D",
           "#FF9633",
           "#8CC084",
           "#84A0AE",
           "#B78B66",
           "#FF85A9",
           "#FFB570",
           "#A7CEA1",
           "#A9BCC7"
          ],
          "font": {
           "color": "black"
          },
          "paper_bgcolor": "white",
          "plot_bgcolor": "white",
          "xaxis": {
           "gridcolor": "lightgray"
          },
          "yaxis": {
           "gridcolor": "lightgray"
          }
         }
        },
        "title": {
         "text": "Top 13 Alcohol Types with Fastest Sales Growth (%)"
        },
        "xaxis": {
         "anchor": "y",
         "domain": [
          0,
          1
         ],
         "title": {
          "text": "alcohol_type"
         }
        },
        "yaxis": {
         "anchor": "x",
         "domain": [
          0,
          1
         ],
         "title": {
          "text": "% in Sales Growth"
         }
        }
       }
      }
     },
     "metadata": {},
     "output_type": "display_data"
    }
   ],
   "source": [
    "# Compute total sales by alcohol_type and year\n",
    "alcohol_type_sales_growth = data_dt.groupby([\"year\", \"alcohol_type\"])[\"sale_(dollars)\"].sum().unstack()\n",
    "\n",
    "# Calculate percentage growth from the first to the latest recorded year\n",
    "alcohol_type_growth_rate = ((alcohol_type_sales_growth.iloc[-1] - alcohol_type_sales_growth.iloc[0]) / alcohol_type_sales_growth.iloc[0]) * 100\n",
    "\n",
    "# Select the top 13 fastest-growing alcohol types\n",
    "alcohol_type_growth_rate = alcohol_type_growth_rate.dropna().nlargest(13).reset_index()\n",
    "\n",
    "# Rename columns for clarity\n",
    "alcohol_type_growth_rate.columns = [\"alcohol_type\", \"% in Sales Growth\"]\n",
    "\n",
    "# Bar chart showing alcohol types with the highest all-time sales growth %\n",
    "px.bar(alcohol_type_growth_rate, x=\"alcohol_type\", y=\"% in Sales Growth\", template=\"iowa\", \n",
    "       title=\"Top 13 Alcohol Types with Fastest Sales Growth (%)\", text_auto=True)"
   ]
  },
  {
   "cell_type": "code",
   "execution_count": 26,
   "metadata": {},
   "outputs": [
    {
     "data": {
      "text/html": [
       "<div>\n",
       "<style scoped>\n",
       "    .dataframe tbody tr th:only-of-type {\n",
       "        vertical-align: middle;\n",
       "    }\n",
       "\n",
       "    .dataframe tbody tr th {\n",
       "        vertical-align: top;\n",
       "    }\n",
       "\n",
       "    .dataframe thead th {\n",
       "        text-align: right;\n",
       "    }\n",
       "</style>\n",
       "<table border=\"1\" class=\"dataframe\">\n",
       "  <thead>\n",
       "    <tr style=\"text-align: right;\">\n",
       "      <th>alcohol_type</th>\n",
       "      <th>AMARETTO</th>\n",
       "      <th>BOURBON</th>\n",
       "      <th>BRANDIES</th>\n",
       "      <th>CREME</th>\n",
       "      <th>GINS</th>\n",
       "      <th>LIQUEURS</th>\n",
       "      <th>MEZCAL</th>\n",
       "      <th>OTHERS</th>\n",
       "      <th>RUM</th>\n",
       "      <th>SCHNAPPS</th>\n",
       "      <th>SPIRITS</th>\n",
       "      <th>TEQUILA</th>\n",
       "      <th>VODKAS</th>\n",
       "      <th>WHISKIES</th>\n",
       "    </tr>\n",
       "    <tr>\n",
       "      <th>year</th>\n",
       "      <th></th>\n",
       "      <th></th>\n",
       "      <th></th>\n",
       "      <th></th>\n",
       "      <th></th>\n",
       "      <th></th>\n",
       "      <th></th>\n",
       "      <th></th>\n",
       "      <th></th>\n",
       "      <th></th>\n",
       "      <th></th>\n",
       "      <th></th>\n",
       "      <th></th>\n",
       "      <th></th>\n",
       "    </tr>\n",
       "  </thead>\n",
       "  <tbody>\n",
       "    <tr>\n",
       "      <th>2012</th>\n",
       "      <td>1156873.35</td>\n",
       "      <td>11910699.94</td>\n",
       "      <td>8921637.37</td>\n",
       "      <td>213443.84</td>\n",
       "      <td>16436110.92</td>\n",
       "      <td>30710729.10</td>\n",
       "      <td>NaN</td>\n",
       "      <td>9350747.66</td>\n",
       "      <td>27219302.01</td>\n",
       "      <td>11270528.63</td>\n",
       "      <td>1332578.88</td>\n",
       "      <td>13556656.47</td>\n",
       "      <td>58520672.03</td>\n",
       "      <td>6.420808e+07</td>\n",
       "    </tr>\n",
       "    <tr>\n",
       "      <th>2013</th>\n",
       "      <td>1086594.12</td>\n",
       "      <td>13020608.26</td>\n",
       "      <td>9686786.77</td>\n",
       "      <td>193160.42</td>\n",
       "      <td>15984525.17</td>\n",
       "      <td>30641506.70</td>\n",
       "      <td>NaN</td>\n",
       "      <td>8898259.10</td>\n",
       "      <td>27195008.20</td>\n",
       "      <td>10154741.50</td>\n",
       "      <td>2503939.17</td>\n",
       "      <td>13430580.21</td>\n",
       "      <td>60193852.53</td>\n",
       "      <td>6.476511e+07</td>\n",
       "    </tr>\n",
       "    <tr>\n",
       "      <th>2014</th>\n",
       "      <td>1031868.31</td>\n",
       "      <td>14832336.35</td>\n",
       "      <td>10246769.52</td>\n",
       "      <td>185325.67</td>\n",
       "      <td>16306936.56</td>\n",
       "      <td>32841365.41</td>\n",
       "      <td>NaN</td>\n",
       "      <td>9169410.42</td>\n",
       "      <td>27588075.47</td>\n",
       "      <td>9642844.09</td>\n",
       "      <td>1812849.73</td>\n",
       "      <td>14440938.65</td>\n",
       "      <td>64116674.90</td>\n",
       "      <td>6.806267e+07</td>\n",
       "    </tr>\n",
       "    <tr>\n",
       "      <th>2015</th>\n",
       "      <td>970813.69</td>\n",
       "      <td>16530429.96</td>\n",
       "      <td>11782749.13</td>\n",
       "      <td>210489.66</td>\n",
       "      <td>15921437.73</td>\n",
       "      <td>32862934.71</td>\n",
       "      <td>NaN</td>\n",
       "      <td>8715022.28</td>\n",
       "      <td>28667990.61</td>\n",
       "      <td>9666083.40</td>\n",
       "      <td>1663084.45</td>\n",
       "      <td>15815580.44</td>\n",
       "      <td>68122115.83</td>\n",
       "      <td>7.298407e+07</td>\n",
       "    </tr>\n",
       "    <tr>\n",
       "      <th>2016</th>\n",
       "      <td>391307.76</td>\n",
       "      <td>16841524.67</td>\n",
       "      <td>12206196.78</td>\n",
       "      <td>92339.40</td>\n",
       "      <td>12469943.92</td>\n",
       "      <td>32100093.78</td>\n",
       "      <td>20399.73</td>\n",
       "      <td>8152415.65</td>\n",
       "      <td>30637380.89</td>\n",
       "      <td>10131583.08</td>\n",
       "      <td>1852224.26</td>\n",
       "      <td>16143200.55</td>\n",
       "      <td>70387747.87</td>\n",
       "      <td>7.382678e+07</td>\n",
       "    </tr>\n",
       "    <tr>\n",
       "      <th>2017</th>\n",
       "      <td>NaN</td>\n",
       "      <td>18910688.75</td>\n",
       "      <td>14453897.87</td>\n",
       "      <td>NaN</td>\n",
       "      <td>7720575.97</td>\n",
       "      <td>34580421.67</td>\n",
       "      <td>85476.81</td>\n",
       "      <td>10808526.61</td>\n",
       "      <td>36634346.54</td>\n",
       "      <td>9908253.29</td>\n",
       "      <td>2158408.79</td>\n",
       "      <td>17696333.24</td>\n",
       "      <td>76631167.41</td>\n",
       "      <td>7.790508e+07</td>\n",
       "    </tr>\n",
       "    <tr>\n",
       "      <th>2018</th>\n",
       "      <td>NaN</td>\n",
       "      <td>22136469.75</td>\n",
       "      <td>16001585.39</td>\n",
       "      <td>NaN</td>\n",
       "      <td>8036213.82</td>\n",
       "      <td>37119986.48</td>\n",
       "      <td>113997.01</td>\n",
       "      <td>12900520.72</td>\n",
       "      <td>37594895.76</td>\n",
       "      <td>10504190.01</td>\n",
       "      <td>2429978.25</td>\n",
       "      <td>19911112.87</td>\n",
       "      <td>82704991.38</td>\n",
       "      <td>8.385726e+07</td>\n",
       "    </tr>\n",
       "    <tr>\n",
       "      <th>2019</th>\n",
       "      <td>NaN</td>\n",
       "      <td>24635642.53</td>\n",
       "      <td>17140725.69</td>\n",
       "      <td>NaN</td>\n",
       "      <td>8290587.47</td>\n",
       "      <td>39301004.30</td>\n",
       "      <td>167404.53</td>\n",
       "      <td>16300179.54</td>\n",
       "      <td>36903396.56</td>\n",
       "      <td>10837130.08</td>\n",
       "      <td>2815460.73</td>\n",
       "      <td>21744463.51</td>\n",
       "      <td>83049319.23</td>\n",
       "      <td>8.709463e+07</td>\n",
       "    </tr>\n",
       "    <tr>\n",
       "      <th>2020</th>\n",
       "      <td>NaN</td>\n",
       "      <td>31479482.66</td>\n",
       "      <td>22116875.60</td>\n",
       "      <td>NaN</td>\n",
       "      <td>8839458.45</td>\n",
       "      <td>45765938.99</td>\n",
       "      <td>277386.79</td>\n",
       "      <td>20800825.71</td>\n",
       "      <td>39346978.95</td>\n",
       "      <td>11233577.28</td>\n",
       "      <td>4473234.15</td>\n",
       "      <td>26731712.11</td>\n",
       "      <td>88988628.50</td>\n",
       "      <td>9.641886e+07</td>\n",
       "    </tr>\n",
       "    <tr>\n",
       "      <th>2021</th>\n",
       "      <td>NaN</td>\n",
       "      <td>36256343.17</td>\n",
       "      <td>21211232.16</td>\n",
       "      <td>NaN</td>\n",
       "      <td>9737478.35</td>\n",
       "      <td>51151377.45</td>\n",
       "      <td>430544.76</td>\n",
       "      <td>21231995.88</td>\n",
       "      <td>41074845.85</td>\n",
       "      <td>13198252.02</td>\n",
       "      <td>5937036.04</td>\n",
       "      <td>34583419.74</td>\n",
       "      <td>92302813.51</td>\n",
       "      <td>1.009528e+08</td>\n",
       "    </tr>\n",
       "    <tr>\n",
       "      <th>2022</th>\n",
       "      <td>NaN</td>\n",
       "      <td>38245142.38</td>\n",
       "      <td>18143175.21</td>\n",
       "      <td>NaN</td>\n",
       "      <td>9257973.80</td>\n",
       "      <td>52249573.14</td>\n",
       "      <td>506772.90</td>\n",
       "      <td>25245263.88</td>\n",
       "      <td>37803426.38</td>\n",
       "      <td>12556047.22</td>\n",
       "      <td>7349828.26</td>\n",
       "      <td>38011773.81</td>\n",
       "      <td>91013327.45</td>\n",
       "      <td>9.797141e+07</td>\n",
       "    </tr>\n",
       "    <tr>\n",
       "      <th>2023</th>\n",
       "      <td>NaN</td>\n",
       "      <td>42193448.48</td>\n",
       "      <td>15885214.62</td>\n",
       "      <td>NaN</td>\n",
       "      <td>9699453.53</td>\n",
       "      <td>54048161.55</td>\n",
       "      <td>527681.49</td>\n",
       "      <td>19612022.54</td>\n",
       "      <td>39442959.98</td>\n",
       "      <td>13423454.10</td>\n",
       "      <td>8976525.79</td>\n",
       "      <td>43642246.90</td>\n",
       "      <td>95754328.70</td>\n",
       "      <td>1.027388e+08</td>\n",
       "    </tr>\n",
       "    <tr>\n",
       "      <th>2024</th>\n",
       "      <td>NaN</td>\n",
       "      <td>43706248.48</td>\n",
       "      <td>14160587.63</td>\n",
       "      <td>NaN</td>\n",
       "      <td>9676884.30</td>\n",
       "      <td>52845156.67</td>\n",
       "      <td>466248.68</td>\n",
       "      <td>26949709.05</td>\n",
       "      <td>36794486.27</td>\n",
       "      <td>13627052.05</td>\n",
       "      <td>8003076.93</td>\n",
       "      <td>45769586.48</td>\n",
       "      <td>94538772.86</td>\n",
       "      <td>1.006374e+08</td>\n",
       "    </tr>\n",
       "  </tbody>\n",
       "</table>\n",
       "</div>"
      ],
      "text/plain": [
       "alcohol_type    AMARETTO      BOURBON     BRANDIES      CREME         GINS  \\\n",
       "year                                                                         \n",
       "2012          1156873.35  11910699.94   8921637.37  213443.84  16436110.92   \n",
       "2013          1086594.12  13020608.26   9686786.77  193160.42  15984525.17   \n",
       "2014          1031868.31  14832336.35  10246769.52  185325.67  16306936.56   \n",
       "2015           970813.69  16530429.96  11782749.13  210489.66  15921437.73   \n",
       "2016           391307.76  16841524.67  12206196.78   92339.40  12469943.92   \n",
       "2017                 NaN  18910688.75  14453897.87        NaN   7720575.97   \n",
       "2018                 NaN  22136469.75  16001585.39        NaN   8036213.82   \n",
       "2019                 NaN  24635642.53  17140725.69        NaN   8290587.47   \n",
       "2020                 NaN  31479482.66  22116875.60        NaN   8839458.45   \n",
       "2021                 NaN  36256343.17  21211232.16        NaN   9737478.35   \n",
       "2022                 NaN  38245142.38  18143175.21        NaN   9257973.80   \n",
       "2023                 NaN  42193448.48  15885214.62        NaN   9699453.53   \n",
       "2024                 NaN  43706248.48  14160587.63        NaN   9676884.30   \n",
       "\n",
       "alcohol_type     LIQUEURS     MEZCAL       OTHERS          RUM     SCHNAPPS  \\\n",
       "year                                                                          \n",
       "2012          30710729.10        NaN   9350747.66  27219302.01  11270528.63   \n",
       "2013          30641506.70        NaN   8898259.10  27195008.20  10154741.50   \n",
       "2014          32841365.41        NaN   9169410.42  27588075.47   9642844.09   \n",
       "2015          32862934.71        NaN   8715022.28  28667990.61   9666083.40   \n",
       "2016          32100093.78   20399.73   8152415.65  30637380.89  10131583.08   \n",
       "2017          34580421.67   85476.81  10808526.61  36634346.54   9908253.29   \n",
       "2018          37119986.48  113997.01  12900520.72  37594895.76  10504190.01   \n",
       "2019          39301004.30  167404.53  16300179.54  36903396.56  10837130.08   \n",
       "2020          45765938.99  277386.79  20800825.71  39346978.95  11233577.28   \n",
       "2021          51151377.45  430544.76  21231995.88  41074845.85  13198252.02   \n",
       "2022          52249573.14  506772.90  25245263.88  37803426.38  12556047.22   \n",
       "2023          54048161.55  527681.49  19612022.54  39442959.98  13423454.10   \n",
       "2024          52845156.67  466248.68  26949709.05  36794486.27  13627052.05   \n",
       "\n",
       "alcohol_type     SPIRITS      TEQUILA       VODKAS      WHISKIES  \n",
       "year                                                              \n",
       "2012          1332578.88  13556656.47  58520672.03  6.420808e+07  \n",
       "2013          2503939.17  13430580.21  60193852.53  6.476511e+07  \n",
       "2014          1812849.73  14440938.65  64116674.90  6.806267e+07  \n",
       "2015          1663084.45  15815580.44  68122115.83  7.298407e+07  \n",
       "2016          1852224.26  16143200.55  70387747.87  7.382678e+07  \n",
       "2017          2158408.79  17696333.24  76631167.41  7.790508e+07  \n",
       "2018          2429978.25  19911112.87  82704991.38  8.385726e+07  \n",
       "2019          2815460.73  21744463.51  83049319.23  8.709463e+07  \n",
       "2020          4473234.15  26731712.11  88988628.50  9.641886e+07  \n",
       "2021          5937036.04  34583419.74  92302813.51  1.009528e+08  \n",
       "2022          7349828.26  38011773.81  91013327.45  9.797141e+07  \n",
       "2023          8976525.79  43642246.90  95754328.70  1.027388e+08  \n",
       "2024          8003076.93  45769586.48  94538772.86  1.006374e+08  "
      ]
     },
     "execution_count": 26,
     "metadata": {},
     "output_type": "execute_result"
    }
   ],
   "source": [
    "alcohol_type_sales_growth.head(15)"
   ]
  },
  {
   "cell_type": "code",
   "execution_count": 27,
   "metadata": {},
   "outputs": [
    {
     "data": {
      "application/vnd.plotly.v1+json": {
       "config": {
        "plotlyServerURL": "https://plot.ly"
       },
       "data": [
        {
         "alignmentgroup": "True",
         "hovertemplate": "alcohol_type=%{x}<br>% in Sales Growth=%{y}<extra></extra>",
         "legendgroup": "",
         "marker": {
          "color": "#4c3624",
          "pattern": {
           "shape": ""
          }
         },
         "name": "",
         "offsetgroup": "",
         "orientation": "v",
         "showlegend": false,
         "textposition": "auto",
         "texttemplate": "%{y}",
         "type": "bar",
         "x": [
          "SPIRITS",
          "TEQUILA",
          "OTHERS",
          "BOURBON",
          "MEZCAL",
          "LIQUEURS",
          "SCHNAPPS",
          "VODKAS",
          "WHISKIES",
          "GINS",
          "RUM",
          "BRANDIES"
         ],
         "xaxis": "x",
         "y": [
          34.79919737863002,
          32.345461565392306,
          26.929701768574393,
          20.547867376112976,
          8.292731283037792,
          3.311307152296441,
          3.2489153059830813,
          2.4224173294108224,
          -0.31243941128247943,
          -0.6222766081939365,
          -10.420878012862946,
          -33.2401459604787
         ],
         "yaxis": "y"
        }
       ],
       "layout": {
        "barmode": "relative",
        "legend": {
         "tracegroupgap": 0
        },
        "template": {
         "layout": {
          "colorway": [
           "#4c3624",
           "#ff0651",
           "#ff7e06",
           "#74B36B",
           "#628395",
           "#996C48",
           "#FF5C8D",
           "#FF9633",
           "#8CC084",
           "#84A0AE",
           "#B78B66",
           "#FF85A9",
           "#FFB570",
           "#A7CEA1",
           "#A9BCC7"
          ],
          "font": {
           "color": "black"
          },
          "paper_bgcolor": "white",
          "plot_bgcolor": "white",
          "xaxis": {
           "gridcolor": "lightgray"
          },
          "yaxis": {
           "gridcolor": "lightgray"
          }
         }
        },
        "title": {
         "text": "Top 13 Alcohol Types with Fastest Sales Growth (2021 - Present)"
        },
        "xaxis": {
         "anchor": "y",
         "domain": [
          0,
          1
         ],
         "title": {
          "text": "alcohol_type"
         }
        },
        "yaxis": {
         "anchor": "x",
         "domain": [
          0,
          1
         ],
         "title": {
          "text": "% in Sales Growth"
         }
        }
       }
      }
     },
     "metadata": {},
     "output_type": "display_data"
    }
   ],
   "source": [
    "# Ensure 2021 data exists before filtering\n",
    "if 2021 in alcohol_type_sales_growth.index:\n",
    "    # Calculate percentage growth from 2021 to the latest recorded year\n",
    "    alcohol_type_growth_rate_2021 = ((alcohol_type_sales_growth.iloc[-1] - alcohol_type_sales_growth.loc[2021]) / alcohol_type_sales_growth.loc[2021]) * 100\n",
    "\n",
    "    # Select the top 13 fastest-growing alcohol types from 2021 onwards\n",
    "    alcohol_type_growth_rate_2021 = alcohol_type_growth_rate_2021.dropna().nlargest(13).reset_index()\n",
    "\n",
    "    # Rename columns for clarity\n",
    "    alcohol_type_growth_rate_2021.columns = [\"alcohol_type\", \"% in Sales Growth\"]\n",
    "\n",
    "    # Bar chart showing alcohol types with the highest sales growth since 2021\n",
    "    px.bar(alcohol_type_growth_rate_2021, x=\"alcohol_type\", y=\"% in Sales Growth\", template=\"iowa\", \n",
    "           title=\"Top 13 Alcohol Types with Fastest Sales Growth (2021 - Present)\", text_auto=True).show()\n",
    "else:\n",
    "    print(\"⚠️ No sales data available for 2021.\")"
   ]
  },
  {
   "cell_type": "code",
   "execution_count": 30,
   "metadata": {},
   "outputs": [
    {
     "data": {
      "application/vnd.plotly.v1+json": {
       "config": {
        "plotlyServerURL": "https://plot.ly"
       },
       "data": [
        {
         "alignmentgroup": "True",
         "hovertemplate": "alcohol_type=%{x}<br>Average % in Sales Growth per Year=%{y}<extra></extra>",
         "legendgroup": "",
         "marker": {
          "color": "#4c3624",
          "pattern": {
           "shape": ""
          }
         },
         "name": "",
         "offsetgroup": "",
         "orientation": "v",
         "showlegend": false,
         "textposition": "auto",
         "texttemplate": "%{y}",
         "type": "bar",
         "x": [
          "SPIRITS",
          "OTHERS",
          "TEQUILA",
          "BOURBON",
          "MEZCAL",
          "SCHNAPPS",
          "LIQUEURS",
          "VODKAS",
          "WHISKIES",
          "GINS",
          "RUM",
          "BRANDIES"
         ],
         "xaxis": "x",
         "y": [
          11.694775936683266,
          11.334052023326313,
          9.866743069543174,
          6.464817835932735,
          3.396283233594511,
          1.1863935212806116,
          1.1211510851534712,
          0.8475529610358948,
          -0.044181512911511955,
          -0.12945400652215996,
          -3.447409433695814,
          -12.588781175800717
         ],
         "yaxis": "y"
        }
       ],
       "layout": {
        "barmode": "relative",
        "legend": {
         "tracegroupgap": 0
        },
        "template": {
         "layout": {
          "colorway": [
           "#4c3624",
           "#ff0651",
           "#ff7e06",
           "#74B36B",
           "#628395",
           "#996C48",
           "#FF5C8D",
           "#FF9633",
           "#8CC084",
           "#84A0AE",
           "#B78B66",
           "#FF85A9",
           "#FFB570",
           "#A7CEA1",
           "#A9BCC7"
          ],
          "font": {
           "color": "black"
          },
          "paper_bgcolor": "white",
          "plot_bgcolor": "white",
          "xaxis": {
           "gridcolor": "lightgray"
          },
          "yaxis": {
           "gridcolor": "lightgray"
          }
         }
        },
        "title": {
         "text": "Top 13 Alcohol Types with Fastest Average Annual Sales Growth (Since 2021)"
        },
        "xaxis": {
         "anchor": "y",
         "domain": [
          0,
          1
         ],
         "title": {
          "text": "alcohol_type"
         }
        },
        "yaxis": {
         "anchor": "x",
         "domain": [
          0,
          1
         ],
         "title": {
          "text": "Average % in Sales Growth per Year"
         }
        }
       }
      }
     },
     "metadata": {},
     "output_type": "display_data"
    }
   ],
   "source": [
    "import pandas as pd\n",
    "import plotly.express as px\n",
    "\n",
    "# --- Assuming you loaded your DataFrame like this ---\n",
    "# df = pd.read_csv('your_file.csv', index_col=0)  # If from CSV\n",
    "\n",
    "# For testing, use the DataFrame already available as 'alcohol_type_sales_growth'\n",
    "df = alcohol_type_sales_growth.copy()\n",
    "\n",
    "# Ensure year index is integer (in case it's loaded as string)\n",
    "df.index = df.index.astype(int)\n",
    "\n",
    "# ✅ Filter from 2021 onwards (latest years only)\n",
    "df_since_2021 = df.loc[2021:]\n",
    "\n",
    "# ✅ Drop alcohol types (columns) that are fully empty (NaN) since 2021\n",
    "df_since_2021 = df_since_2021.dropna(axis=1, how='all')\n",
    "\n",
    "# ✅ Compute year-over-year percentage growth\n",
    "yoy_growth = df_since_2021.pct_change() * 100  # Percent growth\n",
    "\n",
    "# ✅ Drop first year (NaN after pct_change)\n",
    "yoy_growth = yoy_growth.dropna(how='all')\n",
    "\n",
    "# ✅ Handle any remaining partial NaNs (if a type missed only one year but has data otherwise)\n",
    "# Option 1: drop any alcohol types with NaNs in this period to keep clean data\n",
    "yoy_growth_clean = yoy_growth.dropna(axis=1, how='any')\n",
    "\n",
    "# ✅ Now, calculate the average percentage growth per alcohol type\n",
    "avg_yoy_growth = yoy_growth_clean.mean().sort_values(ascending=False)\n",
    "\n",
    "# ✅ Select top 13\n",
    "top_13_avg_growth = avg_yoy_growth.head(13).reset_index()\n",
    "\n",
    "# ✅ Rename columns for clarity\n",
    "top_13_avg_growth.columns = [\"alcohol_type\", \"Average % in Sales Growth per Year\"]\n",
    "\n",
    "# ✅ Plot\n",
    "fig = px.bar(\n",
    "    top_13_avg_growth,\n",
    "    x=\"alcohol_type\",\n",
    "    y=\"Average % in Sales Growth per Year\",\n",
    "    template=\"iowa\",\n",
    "    title=\"Top 13 Alcohol Types with Fastest Average Annual Sales Growth (Since 2021)\",\n",
    "    text_auto=True\n",
    ")\n",
    "fig.show()"
   ]
  },
  {
   "cell_type": "code",
   "execution_count": null,
   "metadata": {},
   "outputs": [],
   "source": [
    "# Ensure 2021 data exists before filtering\n",
    "if 2021 in alcohol_type_sales_growth.index:\n",
    "    # Calculate percentage growth from 2021 to the latest recorded year\n",
    "    alcohol_type_growth_rate_2021 = ((alcohol_type_sales_growth.iloc[-1] - alcohol_type_sales_growth.loc[2021]) / alcohol_type_sales_growth.loc[2021]) * 100\n",
    "\n",
    "    # Select the top 13 fastest-growing alcohol types from 2021 onwards\n",
    "    alcohol_type_growth_rate_2021 = alcohol_type_growth_rate_2021.dropna().nlargest(13).reset_index()\n",
    "\n",
    "    # Rename columns for clarity\n",
    "    alcohol_type_growth_rate_2021.columns = [\"alcohol_type\", \"% in Sales Growth\"]\n",
    "\n",
    "    # Bar chart showing alcohol types with the highest sales growth since 2021\n",
    "    px.bar(alcohol_type_growth_rate_2021, x=\"alcohol_type\", y=\"% in Sales Growth\", template=\"iowa\", \n",
    "           title=\"Top 13 Alcohol Types with Fastest Sales Growth (2021 - Present)\", text_auto=True).show()\n",
    "else:\n",
    "    print(\"⚠️ No sales data available for 2021.\")"
   ]
  },
  {
   "cell_type": "markdown",
   "metadata": {},
   "source": [
    "### County"
   ]
  },
  {
   "cell_type": "code",
   "execution_count": 68,
   "metadata": {},
   "outputs": [
    {
     "data": {
      "text/html": [
       "<div>\n",
       "<style scoped>\n",
       "    .dataframe tbody tr th:only-of-type {\n",
       "        vertical-align: middle;\n",
       "    }\n",
       "\n",
       "    .dataframe tbody tr th {\n",
       "        vertical-align: top;\n",
       "    }\n",
       "\n",
       "    .dataframe thead th {\n",
       "        text-align: right;\n",
       "    }\n",
       "</style>\n",
       "<table border=\"1\" class=\"dataframe\">\n",
       "  <thead>\n",
       "    <tr style=\"text-align: right;\">\n",
       "      <th></th>\n",
       "      <th>date</th>\n",
       "      <th>store_name</th>\n",
       "      <th>address</th>\n",
       "      <th>city</th>\n",
       "      <th>zip_code</th>\n",
       "      <th>store_location</th>\n",
       "      <th>county</th>\n",
       "      <th>category</th>\n",
       "      <th>category_name</th>\n",
       "      <th>vendor_name</th>\n",
       "      <th>item_number</th>\n",
       "      <th>item_description</th>\n",
       "      <th>pack</th>\n",
       "      <th>bottle_volume_(ml)</th>\n",
       "      <th>state_bottle_cost</th>\n",
       "      <th>state_bottle_retail</th>\n",
       "      <th>bottles_sold</th>\n",
       "      <th>sale_(dollars)</th>\n",
       "      <th>volume_sold_(liters)</th>\n",
       "      <th>volume_sold_(gallons)</th>\n",
       "      <th>alcohol_type</th>\n",
       "      <th>year</th>\n",
       "      <th>month</th>\n",
       "      <th>day</th>\n",
       "      <th>day_of_week</th>\n",
       "    </tr>\n",
       "  </thead>\n",
       "  <tbody>\n",
       "    <tr>\n",
       "      <th>0</th>\n",
       "      <td>2018-01-25</td>\n",
       "      <td>HAPPY'S WINE &amp; SPIRITS</td>\n",
       "      <td>5925 UNIVERSITY AVE</td>\n",
       "      <td>CEDAR FALLS</td>\n",
       "      <td>50613.0</td>\n",
       "      <td>POINT (-92.429331 42.512766)</td>\n",
       "      <td>BLACK HAWK</td>\n",
       "      <td>1011200.0</td>\n",
       "      <td>STRAIGHT BOURBON WHISKIES</td>\n",
       "      <td>JIM BEAM BRANDS</td>\n",
       "      <td>19112</td>\n",
       "      <td>JIM BEAM DEVIL'S CUT</td>\n",
       "      <td>12</td>\n",
       "      <td>750</td>\n",
       "      <td>15.07</td>\n",
       "      <td>22.61</td>\n",
       "      <td>2</td>\n",
       "      <td>45.22</td>\n",
       "      <td>1.50</td>\n",
       "      <td>0.40</td>\n",
       "      <td>BOURBON</td>\n",
       "      <td>2018</td>\n",
       "      <td>1</td>\n",
       "      <td>25</td>\n",
       "      <td>Thursday</td>\n",
       "    </tr>\n",
       "    <tr>\n",
       "      <th>1</th>\n",
       "      <td>2018-01-25</td>\n",
       "      <td>HY-VEE #2 FOOD STORE / MASON CITY</td>\n",
       "      <td>551 S ILLINOIS AVE</td>\n",
       "      <td>MASON CITY</td>\n",
       "      <td>50401.0</td>\n",
       "      <td>POINT (-93.17114 43.14623)</td>\n",
       "      <td>CERRO GORDO</td>\n",
       "      <td>1011400.0</td>\n",
       "      <td>TENNESSEE WHISKIES</td>\n",
       "      <td>BROWN FORMAN CORP.</td>\n",
       "      <td>26585</td>\n",
       "      <td>GENTLEMAN JACK</td>\n",
       "      <td>12</td>\n",
       "      <td>375</td>\n",
       "      <td>8.50</td>\n",
       "      <td>12.75</td>\n",
       "      <td>3</td>\n",
       "      <td>36.00</td>\n",
       "      <td>1.12</td>\n",
       "      <td>0.30</td>\n",
       "      <td>WHISKIES</td>\n",
       "      <td>2018</td>\n",
       "      <td>1</td>\n",
       "      <td>25</td>\n",
       "      <td>Thursday</td>\n",
       "    </tr>\n",
       "    <tr>\n",
       "      <th>2</th>\n",
       "      <td>2018-01-25</td>\n",
       "      <td>QUIK TRIP #517 / WEST DES MOINES</td>\n",
       "      <td>1451 22ND ST</td>\n",
       "      <td>WEST DES MOINES</td>\n",
       "      <td>50266.0</td>\n",
       "      <td>POINT (-93.735967 41.59527)</td>\n",
       "      <td>POLK</td>\n",
       "      <td>1031100.0</td>\n",
       "      <td>AMERICAN VODKAS</td>\n",
       "      <td>E &amp; J GALLO WINERY</td>\n",
       "      <td>36968</td>\n",
       "      <td>NEW AMSTERDAM VODKA</td>\n",
       "      <td>24</td>\n",
       "      <td>375</td>\n",
       "      <td>3.50</td>\n",
       "      <td>5.25</td>\n",
       "      <td>10</td>\n",
       "      <td>52.50</td>\n",
       "      <td>3.75</td>\n",
       "      <td>0.99</td>\n",
       "      <td>VODKAS</td>\n",
       "      <td>2018</td>\n",
       "      <td>1</td>\n",
       "      <td>25</td>\n",
       "      <td>Thursday</td>\n",
       "    </tr>\n",
       "    <tr>\n",
       "      <th>3</th>\n",
       "      <td>2018-01-30</td>\n",
       "      <td>L&amp;M MIGHTY SHOP</td>\n",
       "      <td>504, E BURLINGTON ST</td>\n",
       "      <td>IOWA CITY</td>\n",
       "      <td>52240.0</td>\n",
       "      <td>POINT (-91.52843 41.657818)</td>\n",
       "      <td>JOHNSON</td>\n",
       "      <td>1031100.0</td>\n",
       "      <td>AMERICAN VODKAS</td>\n",
       "      <td>HEAVEN HILL BRANDS</td>\n",
       "      <td>35416</td>\n",
       "      <td>BURNETT'S VODKA 80 PRF</td>\n",
       "      <td>12</td>\n",
       "      <td>750</td>\n",
       "      <td>4.48</td>\n",
       "      <td>6.72</td>\n",
       "      <td>2</td>\n",
       "      <td>13.44</td>\n",
       "      <td>1.50</td>\n",
       "      <td>0.40</td>\n",
       "      <td>VODKAS</td>\n",
       "      <td>2018</td>\n",
       "      <td>1</td>\n",
       "      <td>30</td>\n",
       "      <td>Tuesday</td>\n",
       "    </tr>\n",
       "    <tr>\n",
       "      <th>4</th>\n",
       "      <td>2018-01-25</td>\n",
       "      <td>HY-VEE FOOD STORE / FLEUR / DSM</td>\n",
       "      <td>4605 FLEUR DRIVE</td>\n",
       "      <td>DES MOINES</td>\n",
       "      <td>50321.0</td>\n",
       "      <td>POINT (-93.64494300000001 41.542748)</td>\n",
       "      <td>POLK</td>\n",
       "      <td>1062400.0</td>\n",
       "      <td>SPICED RUM</td>\n",
       "      <td>HEAVEN HILL BRANDS</td>\n",
       "      <td>43028</td>\n",
       "      <td>ADMIRAL NELSON SPICED RUM</td>\n",
       "      <td>6</td>\n",
       "      <td>1750</td>\n",
       "      <td>11.55</td>\n",
       "      <td>17.33</td>\n",
       "      <td>6</td>\n",
       "      <td>103.98</td>\n",
       "      <td>10.50</td>\n",
       "      <td>2.77</td>\n",
       "      <td>RUM</td>\n",
       "      <td>2018</td>\n",
       "      <td>1</td>\n",
       "      <td>25</td>\n",
       "      <td>Thursday</td>\n",
       "    </tr>\n",
       "  </tbody>\n",
       "</table>\n",
       "</div>"
      ],
      "text/plain": [
       "        date                         store_name               address  \\\n",
       "0 2018-01-25             HAPPY'S WINE & SPIRITS   5925 UNIVERSITY AVE   \n",
       "1 2018-01-25  HY-VEE #2 FOOD STORE / MASON CITY    551 S ILLINOIS AVE   \n",
       "2 2018-01-25   QUIK TRIP #517 / WEST DES MOINES          1451 22ND ST   \n",
       "3 2018-01-30                    L&M MIGHTY SHOP  504, E BURLINGTON ST   \n",
       "4 2018-01-25    HY-VEE FOOD STORE / FLEUR / DSM      4605 FLEUR DRIVE   \n",
       "\n",
       "              city zip_code                        store_location  \\\n",
       "0      CEDAR FALLS  50613.0          POINT (-92.429331 42.512766)   \n",
       "1       MASON CITY  50401.0            POINT (-93.17114 43.14623)   \n",
       "2  WEST DES MOINES  50266.0           POINT (-93.735967 41.59527)   \n",
       "3        IOWA CITY  52240.0           POINT (-91.52843 41.657818)   \n",
       "4       DES MOINES  50321.0  POINT (-93.64494300000001 41.542748)   \n",
       "\n",
       "        county   category              category_name         vendor_name  \\\n",
       "0   BLACK HAWK  1011200.0  STRAIGHT BOURBON WHISKIES     JIM BEAM BRANDS   \n",
       "1  CERRO GORDO  1011400.0         TENNESSEE WHISKIES  BROWN FORMAN CORP.   \n",
       "2         POLK  1031100.0            AMERICAN VODKAS  E & J GALLO WINERY   \n",
       "3      JOHNSON  1031100.0            AMERICAN VODKAS  HEAVEN HILL BRANDS   \n",
       "4         POLK  1062400.0                 SPICED RUM  HEAVEN HILL BRANDS   \n",
       "\n",
       "   item_number           item_description  pack  bottle_volume_(ml)  \\\n",
       "0        19112       JIM BEAM DEVIL'S CUT    12                 750   \n",
       "1        26585             GENTLEMAN JACK    12                 375   \n",
       "2        36968        NEW AMSTERDAM VODKA    24                 375   \n",
       "3        35416     BURNETT'S VODKA 80 PRF    12                 750   \n",
       "4        43028  ADMIRAL NELSON SPICED RUM     6                1750   \n",
       "\n",
       "   state_bottle_cost  state_bottle_retail  bottles_sold  sale_(dollars)  \\\n",
       "0              15.07                22.61             2           45.22   \n",
       "1               8.50                12.75             3           36.00   \n",
       "2               3.50                 5.25            10           52.50   \n",
       "3               4.48                 6.72             2           13.44   \n",
       "4              11.55                17.33             6          103.98   \n",
       "\n",
       "   volume_sold_(liters)  volume_sold_(gallons) alcohol_type  year  month  day  \\\n",
       "0                  1.50                   0.40      BOURBON  2018      1   25   \n",
       "1                  1.12                   0.30     WHISKIES  2018      1   25   \n",
       "2                  3.75                   0.99       VODKAS  2018      1   25   \n",
       "3                  1.50                   0.40       VODKAS  2018      1   30   \n",
       "4                 10.50                   2.77          RUM  2018      1   25   \n",
       "\n",
       "  day_of_week  \n",
       "0    Thursday  \n",
       "1    Thursday  \n",
       "2    Thursday  \n",
       "3     Tuesday  \n",
       "4    Thursday  "
      ]
     },
     "execution_count": 68,
     "metadata": {},
     "output_type": "execute_result"
    }
   ],
   "source": [
    "data_dt.head()"
   ]
  },
  {
   "cell_type": "code",
   "execution_count": null,
   "metadata": {},
   "outputs": [],
   "source": [
    "data_dt.dtypes"
   ]
  },
  {
   "cell_type": "code",
   "execution_count": null,
   "metadata": {},
   "outputs": [],
   "source": [
    "# Aggregate total sales per county and select the top 10 (All-Time)\n",
    "top_counties = data_dt.groupby(\"county\")[\"sale_(dollars)\"].sum().nlargest(10).reset_index()\n",
    "\n",
    "# Bar chart showing the top 10 counties by total sales (All-Time)\n",
    "px.bar(top_counties, x=\"county\", y=\"sale_(dollars)\", template=\"iowa\", \n",
    "       title=\"Top 10 Counties by Total Sales (All-Time)\", text_auto=True)\n"
   ]
  },
  {
   "cell_type": "code",
   "execution_count": null,
   "metadata": {},
   "outputs": [],
   "source": [
    "# Filter data for 2021 onwards\n",
    "data_2021_present = data_dt[data_dt[\"year\"] >= 2021]\n",
    "\n",
    "# Aggregate total sales per county (2021 - Present) and select the top 10\n",
    "top_counties_2021 = data_2021_present.groupby(\"county\")[\"sale_(dollars)\"].sum().nlargest(10).reset_index()\n",
    "\n",
    "# Bar chart showing the top 10 counties by total sales (2021 - Present)\n",
    "px.bar(top_counties_2021, x=\"county\", y=\"sale_(dollars)\", template=\"iowa\", \n",
    "       title=\"Top 10 Counties by Total Sales (2021 - Present)\", text_auto=True)"
   ]
  },
  {
   "cell_type": "code",
   "execution_count": null,
   "metadata": {},
   "outputs": [],
   "source": [
    "# Create a copy and calculate total profit for each county\n",
    "county_profit = data_dt.copy()\n",
    "county_profit[\"profit\"] = (county_profit[\"state_bottle_retail\"] - county_profit[\"state_bottle_cost\"]) * county_profit[\"bottles_sold\"]\n",
    "county_profit = county_profit.groupby(\"county\")[\"profit\"].sum().reset_index()\n",
    "\n",
    "# Bar chart showing the top 10 most profitable counties\n",
    "px.bar(county_profit.nlargest(10, \"profit\"), x=\"county\", y=\"profit\", template=\"iowa\", \n",
    "       title=\"Top 10 Most Profitable Counties\", text_auto=True)"
   ]
  },
  {
   "cell_type": "code",
   "execution_count": 73,
   "metadata": {},
   "outputs": [
    {
     "data": {
      "application/vnd.plotly.v1+json": {
       "config": {
        "plotlyServerURL": "https://plot.ly"
       },
       "data": [
        {
         "hovertemplate": "county=BLACK HAWK<br>year=%{x}<br>sale_(dollars)=%{y}<extra></extra>",
         "legendgroup": "BLACK HAWK",
         "line": {
          "color": "#4c3624",
          "dash": "solid"
         },
         "marker": {
          "symbol": "circle"
         },
         "mode": "markers+lines",
         "name": "BLACK HAWK",
         "orientation": "v",
         "showlegend": true,
         "type": "scatter",
         "x": [
          2012,
          2013,
          2014,
          2015,
          2016,
          2017,
          2018,
          2019,
          2020,
          2021,
          2022,
          2023,
          2024
         ],
         "xaxis": "x",
         "y": [
          15213601.2,
          15104895.53,
          15822784.35,
          16040753.31,
          16430581.6,
          17189542.09,
          18728231.45,
          19385065.6,
          21467192.67,
          23562357.61,
          22484158.45,
          22611550.56,
          22766244.13
         ],
         "yaxis": "y"
        },
        {
         "hovertemplate": "county=DALLAS<br>year=%{x}<br>sale_(dollars)=%{y}<extra></extra>",
         "legendgroup": "DALLAS",
         "line": {
          "color": "#ff0651",
          "dash": "solid"
         },
         "marker": {
          "symbol": "circle"
         },
         "mode": "markers+lines",
         "name": "DALLAS",
         "orientation": "v",
         "showlegend": true,
         "type": "scatter",
         "x": [
          2012,
          2013,
          2014,
          2015,
          2016,
          2017,
          2018,
          2019,
          2020,
          2021,
          2022,
          2023,
          2024
         ],
         "xaxis": "x",
         "y": [
          4150888.35,
          4734516.59,
          5823091.96,
          5559848.14,
          5881804.18,
          6675334.77,
          6686988.1,
          7471641.96,
          10148807.91,
          11530168.58,
          12992381.99,
          13962029.23,
          14360591.99
         ],
         "yaxis": "y"
        },
        {
         "hovertemplate": "county=DUBUQUE<br>year=%{x}<br>sale_(dollars)=%{y}<extra></extra>",
         "legendgroup": "DUBUQUE",
         "line": {
          "color": "#ff7e06",
          "dash": "solid"
         },
         "marker": {
          "symbol": "circle"
         },
         "mode": "markers+lines",
         "name": "DUBUQUE",
         "orientation": "v",
         "showlegend": true,
         "type": "scatter",
         "x": [
          2012,
          2013,
          2014,
          2015,
          2016,
          2017,
          2018,
          2019,
          2020,
          2021,
          2022,
          2023,
          2024
         ],
         "xaxis": "x",
         "y": [
          8006572.21,
          7849890.32,
          8142847.26,
          8704893.6,
          8603101.59,
          9558581.53,
          10699469.38,
          10325460.92,
          11371897.8,
          12376611.21,
          11878676.09,
          12164074.37,
          12294887.42
         ],
         "yaxis": "y"
        },
        {
         "hovertemplate": "county=JOHNSON<br>year=%{x}<br>sale_(dollars)=%{y}<extra></extra>",
         "legendgroup": "JOHNSON",
         "line": {
          "color": "#74B36B",
          "dash": "solid"
         },
         "marker": {
          "symbol": "circle"
         },
         "mode": "markers+lines",
         "name": "JOHNSON",
         "orientation": "v",
         "showlegend": true,
         "type": "scatter",
         "x": [
          2012,
          2013,
          2014,
          2015,
          2016,
          2017,
          2018,
          2019,
          2020,
          2021,
          2022,
          2023,
          2024
         ],
         "xaxis": "x",
         "y": [
          15021623.02,
          15256630.02,
          16644831.85,
          17657120.71,
          17276051.36,
          19168579.46,
          19962532.52,
          19926345.12,
          22720101.89,
          24735207.78,
          24752492.46,
          25557426.65,
          25041595.64
         ],
         "yaxis": "y"
        },
        {
         "hovertemplate": "county=LINN<br>year=%{x}<br>sale_(dollars)=%{y}<extra></extra>",
         "legendgroup": "LINN",
         "line": {
          "color": "#628395",
          "dash": "solid"
         },
         "marker": {
          "symbol": "circle"
         },
         "mode": "markers+lines",
         "name": "LINN",
         "orientation": "v",
         "showlegend": true,
         "type": "scatter",
         "x": [
          2012,
          2013,
          2014,
          2015,
          2016,
          2017,
          2018,
          2019,
          2020,
          2021,
          2022,
          2023,
          2024
         ],
         "xaxis": "x",
         "y": [
          22708616.79,
          23215169.37,
          23563727,
          24969479.74,
          24886613.55,
          27250314.29,
          29275618.47,
          29878178.68,
          34015315.2,
          36729242.03,
          36039443.13,
          37577369.71,
          37539964.1
         ],
         "yaxis": "y"
        },
        {
         "hovertemplate": "county=POLK<br>year=%{x}<br>sale_(dollars)=%{y}<extra></extra>",
         "legendgroup": "POLK",
         "line": {
          "color": "#996C48",
          "dash": "solid"
         },
         "marker": {
          "symbol": "circle"
         },
         "mode": "markers+lines",
         "name": "POLK",
         "orientation": "v",
         "showlegend": true,
         "type": "scatter",
         "x": [
          2012,
          2013,
          2014,
          2015,
          2016,
          2017,
          2018,
          2019,
          2020,
          2021,
          2022,
          2023,
          2024
         ],
         "xaxis": "x",
         "y": [
          55118940.75,
          55982739.65,
          59387912.34,
          63618562.3,
          65339467.63,
          70373434.44,
          78184410.1,
          82772509.88,
          89296264.34,
          99027372.44,
          100630597.05,
          105572104.48,
          103222276.94
         ],
         "yaxis": "y"
        },
        {
         "hovertemplate": "county=POTTAWATTAMIE<br>year=%{x}<br>sale_(dollars)=%{y}<extra></extra>",
         "legendgroup": "POTTAWATTAMIE",
         "line": {
          "color": "#FF5C8D",
          "dash": "solid"
         },
         "marker": {
          "symbol": "circle"
         },
         "mode": "markers+lines",
         "name": "POTTAWATTAMIE",
         "orientation": "v",
         "showlegend": true,
         "type": "scatter",
         "x": [
          2012,
          2013,
          2014,
          2015,
          2016,
          2017,
          2018,
          2019,
          2020,
          2021,
          2022,
          2023,
          2024
         ],
         "xaxis": "x",
         "y": [
          9095184.4,
          9136901.33,
          9665208.33,
          10047879.98,
          9970587.03,
          10932771.47,
          11745336.86,
          12537419.48,
          14172526.87,
          15758410.41,
          15574304.67,
          16271323.82,
          16341182.68
         ],
         "yaxis": "y"
        },
        {
         "hovertemplate": "county=SCOTT<br>year=%{x}<br>sale_(dollars)=%{y}<extra></extra>",
         "legendgroup": "SCOTT",
         "line": {
          "color": "#FF9633",
          "dash": "solid"
         },
         "marker": {
          "symbol": "circle"
         },
         "mode": "markers+lines",
         "name": "SCOTT",
         "orientation": "v",
         "showlegend": true,
         "type": "scatter",
         "x": [
          2012,
          2013,
          2014,
          2015,
          2016,
          2017,
          2018,
          2019,
          2020,
          2021,
          2022,
          2023,
          2024
         ],
         "xaxis": "x",
         "y": [
          18449815.56,
          18378692.13,
          19529062.1,
          20403449.74,
          20487891.85,
          21931682.42,
          24169009.77,
          25031056.09,
          29354577.38,
          30367939.13,
          27283973.42,
          28112046.11,
          28532582.6
         ],
         "yaxis": "y"
        },
        {
         "hovertemplate": "county=STORY<br>year=%{x}<br>sale_(dollars)=%{y}<extra></extra>",
         "legendgroup": "STORY",
         "line": {
          "color": "#8CC084",
          "dash": "solid"
         },
         "marker": {
          "symbol": "circle"
         },
         "mode": "markers+lines",
         "name": "STORY",
         "orientation": "v",
         "showlegend": true,
         "type": "scatter",
         "x": [
          2012,
          2013,
          2014,
          2015,
          2016,
          2017,
          2018,
          2019,
          2020,
          2021,
          2022,
          2023,
          2024
         ],
         "xaxis": "x",
         "y": [
          8027157.09,
          7907943.03,
          8386556.19,
          8551228.75,
          8801756.25,
          9241655.28,
          9831105.52,
          10125453.73,
          12308686.65,
          13131031.83,
          12738293.64,
          12319876.22,
          12127145.53
         ],
         "yaxis": "y"
        },
        {
         "hovertemplate": "county=WOODBURY<br>year=%{x}<br>sale_(dollars)=%{y}<extra></extra>",
         "legendgroup": "WOODBURY",
         "line": {
          "color": "#84A0AE",
          "dash": "solid"
         },
         "marker": {
          "symbol": "circle"
         },
         "mode": "markers+lines",
         "name": "WOODBURY",
         "orientation": "v",
         "showlegend": true,
         "type": "scatter",
         "x": [
          2012,
          2013,
          2014,
          2015,
          2016,
          2017,
          2018,
          2019,
          2020,
          2021,
          2022,
          2023,
          2024
         ],
         "xaxis": "x",
         "y": [
          8498374.78,
          8715998.91,
          9253389.46,
          10108281.28,
          9779405.93,
          10894416.36,
          11466762.22,
          12474523.28,
          13237379.04,
          14593632.42,
          14524712.69,
          15367559.45,
          15708926.15
         ],
         "yaxis": "y"
        }
       ],
       "layout": {
        "legend": {
         "title": {
          "text": "county"
         },
         "tracegroupgap": 0
        },
        "template": {
         "layout": {
          "colorway": [
           "#4c3624",
           "#ff0651",
           "#ff7e06",
           "#74B36B",
           "#628395",
           "#996C48",
           "#FF5C8D",
           "#FF9633",
           "#8CC084",
           "#84A0AE",
           "#B78B66",
           "#FF85A9",
           "#FFB570",
           "#A7CEA1",
           "#A9BCC7"
          ],
          "font": {
           "color": "black"
          },
          "paper_bgcolor": "white",
          "plot_bgcolor": "white",
          "xaxis": {
           "gridcolor": "lightgray"
          },
          "yaxis": {
           "gridcolor": "lightgray"
          }
         }
        },
        "title": {
         "text": "Sales Trends Over Time for Top 10 Counties"
        },
        "xaxis": {
         "anchor": "y",
         "domain": [
          0,
          1
         ],
         "title": {
          "text": "year"
         }
        },
        "yaxis": {
         "anchor": "x",
         "domain": [
          0,
          1
         ],
         "title": {
          "text": "sale_(dollars)"
         }
        }
       }
      }
     },
     "metadata": {},
     "output_type": "display_data"
    }
   ],
   "source": [
    "# Get the top 10 counties from previous analysis\n",
    "top_counties_list = top_counties[\"county\"].tolist()\n",
    "\n",
    "# Filter dataset for only the top 10 counties and aggregate sales by year\n",
    "county_sales_trend = data_dt[data_dt[\"county\"].isin(top_counties_list)]\n",
    "county_sales_trend = county_sales_trend.groupby([\"year\", \"county\"], as_index=False)[\"sale_(dollars)\"].sum()\n",
    "\n",
    "# Line plot showing sales trends over time for top counties\n",
    "px.line(county_sales_trend, x=\"year\", y=\"sale_(dollars)\", color=\"county\", template=\"iowa\", \n",
    "        title=\"Sales Trends Over Time for Top 10 Counties\", markers=True)"
   ]
  },
  {
   "cell_type": "code",
   "execution_count": null,
   "metadata": {},
   "outputs": [],
   "source": [
    "# Filter dataset for only those top 10 counties\n",
    "county_alcohol_top10 = data_dt[data_dt[\"county\"].isin(top_counties_list)]\n",
    "county_alcohol_top10 = county_alcohol_top10.groupby([\"county\", \"alcohol_type\"])[\"sale_(dollars)\"].sum().reset_index()\n",
    "\n",
    "# Grouped bar chart comparing alcohol preferences in the top 10 counties\n",
    "px.bar(county_alcohol_top10, x=\"county\", y=\"sale_(dollars)\", color=\"alcohol_type\", template=\"iowa\", \n",
    "       title=\"Alcohol Type Preferences in Top 10 Counties\", barmode=\"group\")"
   ]
  },
  {
   "cell_type": "code",
   "execution_count": null,
   "metadata": {},
   "outputs": [],
   "source": [
    "# Compute total sales by county and year\n",
    "county_sales_growth = data_dt.groupby([\"year\", \"county\"])[\"sale_(dollars)\"].sum().unstack()\n",
    "\n",
    "# Calculate percentage growth from the first to the latest recorded year\n",
    "county_growth_rate = ((county_sales_growth.iloc[-1] - county_sales_growth.iloc[0]) / county_sales_growth.iloc[0]) * 100\n",
    "\n",
    "# Select the top 10 fastest-growing counties\n",
    "county_growth_rate = county_growth_rate.dropna().nlargest(10).reset_index()\n",
    "\n",
    "# Rename columns for clarity\n",
    "county_growth_rate.columns = [\"county\", \"% in Sales Growth\"]\n",
    "\n",
    "# Bar chart showing counties with the highest all-time sales growth %\n",
    "px.bar(county_growth_rate, x=\"county\", y=\"% in Sales Growth\", template=\"iowa\", \n",
    "       title=\"Top 10 Counties with Fastest Sales Growth (%)\", text_auto=True)"
   ]
  },
  {
   "cell_type": "code",
   "execution_count": null,
   "metadata": {},
   "outputs": [],
   "source": [
    "# Ensure 2021 data exists before filtering\n",
    "if 2021 in county_sales_growth.index:\n",
    "    # Calculate percentage growth from 2021 to the latest recorded year\n",
    "    county_growth_rate_2021 = ((county_sales_growth.iloc[-1] - county_sales_growth.loc[2021]) / county_sales_growth.loc[2021]) * 100\n",
    "\n",
    "    # Select the top 10 fastest-growing counties from 2021 onwards\n",
    "    county_growth_rate_2021 = county_growth_rate_2021.dropna().nlargest(10).reset_index()\n",
    "\n",
    "    # Rename columns for clarity\n",
    "    county_growth_rate_2021.columns = [\"county\", \"% in Sales Growth\"]\n",
    "\n",
    "    # Bar chart showing counties with the highest sales growth since 2021\n",
    "    px.bar(county_growth_rate_2021, x=\"county\", y=\"% in Sales Growth\", template=\"iowa\", \n",
    "           title=\"Top 10 Counties with Fastest Sales Growth (2021 - Present)\", text_auto=True).show()\n",
    "else:\n",
    "    print(\"⚠️ No sales data available for 2021.\")"
   ]
  },
  {
   "cell_type": "code",
   "execution_count": 77,
   "metadata": {},
   "outputs": [],
   "source": [
    "import plotly.express as px\n",
    "import json\n",
    "import requests\n",
    "\n",
    "# Download the Iowa GeoJSON file correctly\n",
    "geojson_url = \"https://raw.githubusercontent.com/plotly/datasets/master/geojson-counties-fips.json\"\n",
    "response = requests.get(geojson_url)\n",
    "counties_geojson = response.json()  # Convert response into JSON format"
   ]
  },
  {
   "cell_type": "code",
   "execution_count": null,
   "metadata": {},
   "outputs": [],
   "source": [
    "# Ensure county names match Iowa's official FIPS codes\n",
    "iowa_fips = {\n",
    "    \"Adair\": \"19001\", \"Adams\": \"19003\", \"Allamakee\": \"19005\", \"Appanoose\": \"19007\",\n",
    "    \"Audubon\": \"19009\", \"Benton\": \"19011\", \"Black Hawk\": \"19013\", \"Boone\": \"19015\",\n",
    "    \"Bremer\": \"19017\", \"Buchanan\": \"19019\", \"Buena Vista\": \"19021\", \"Butler\": \"19023\",\n",
    "    \"Calhoun\": \"19025\", \"Carroll\": \"19027\", \"Cass\": \"19029\", \"Cedar\": \"19031\",\n",
    "    \"Cerro Gordo\": \"19033\", \"Cherokee\": \"19035\", \"Chickasaw\": \"19037\", \"Clarke\": \"19039\",\n",
    "    \"Clay\": \"19041\", \"Clayton\": \"19043\", \"Clinton\": \"19045\", \"Crawford\": \"19047\",\n",
    "    \"Dallas\": \"19049\", \"Davis\": \"19051\", \"Decatur\": \"19053\", \"Delaware\": \"19055\",\n",
    "    \"Des Moines\": \"19057\", \"Dickinson\": \"19059\", \"Dubuque\": \"19061\", \"Emmet\": \"19063\",\n",
    "    \"Fayette\": \"19065\", \"Floyd\": \"19067\", \"Franklin\": \"19069\", \"Fremont\": \"19071\",\n",
    "    \"Greene\": \"19073\", \"Grundy\": \"19075\", \"Guthrie\": \"19077\", \"Hamilton\": \"19079\",\n",
    "    \"Hancock\": \"19081\", \"Hardin\": \"19083\", \"Harrison\": \"19085\", \"Henry\": \"19087\",\n",
    "    \"Howard\": \"19089\", \"Humboldt\": \"19091\", \"Ida\": \"19093\", \"Iowa\": \"19095\",\n",
    "    \"Jackson\": \"19097\", \"Jasper\": \"19099\", \"Jefferson\": \"19101\", \"Johnson\": \"19103\",\n",
    "    \"Jones\": \"19105\", \"Keokuk\": \"19107\", \"Kossuth\": \"19109\", \"Lee\": \"19111\",\n",
    "    \"Linn\": \"19113\", \"Louisa\": \"19115\", \"Lucas\": \"19117\", \"Lyon\": \"19119\",\n",
    "    \"Madison\": \"19121\", \"Mahaska\": \"19123\", \"Marion\": \"19125\", \"Marshall\": \"19127\",\n",
    "    \"Mills\": \"19129\", \"Mitchell\": \"19131\", \"Monona\": \"19133\", \"Monroe\": \"19135\",\n",
    "    \"Montgomery\": \"19137\", \"Muscatine\": \"19139\", \"O'Brien\": \"19141\", \"Osceola\": \"19143\",\n",
    "    \"Page\": \"19145\", \"Palo Alto\": \"19147\", \"Plymouth\": \"19149\", \"Pocahontas\": \"19151\",\n",
    "    \"Polk\": \"19153\", \"Pottawattamie\": \"19155\", \"Poweshiek\": \"19157\", \"Ringgold\": \"19159\",\n",
    "    \"Sac\": \"19161\", \"Scott\": \"19163\", \"Shelby\": \"19165\", \"Sioux\": \"19167\",\n",
    "    \"Story\": \"19169\", \"Tama\": \"19171\", \"Taylor\": \"19173\", \"Union\": \"19175\",\n",
    "    \"Van Buren\": \"19177\", \"Wapello\": \"19179\", \"Warren\": \"19181\", \"Washington\": \"19183\",\n",
    "    \"Wayne\": \"19185\", \"Webster\": \"19187\", \"Winnebago\": \"19189\", \"Winneshiek\": \"19191\",\n",
    "    \"Woodbury\": \"19193\", \"Worth\": \"19195\", \"Wright\": \"19197\"\n",
    "}\n",
    "\n",
    "# Convert county names in dataset to match title case\n",
    "data_dt[\"county\"] = data_dt[\"county\"].str.title()\n",
    "\n",
    "# Aggregate sales by county\n",
    "county_sales_map = data_dt.groupby(\"county\")[\"sale_(dollars)\"].sum().reset_index()\n",
    "\n",
    "# Map counties to FIPS codes\n",
    "county_sales_map[\"fips\"] = county_sales_map[\"county\"].map(iowa_fips)\n",
    "\n",
    "# Drop missing FIPS codes (if any)\n",
    "county_sales_map = county_sales_map.dropna()\n",
    "\n",
    "# Create a choropleth map with county names in the hover tooltip\n",
    "fig = px.choropleth(\n",
    "    county_sales_map,\n",
    "    geojson=counties_geojson,\n",
    "    locations=\"fips\",\n",
    "    color=\"sale_(dollars)\",\n",
    "    title=\"Total Sales by County in Iowa\",\n",
    "    color_continuous_scale=\"blues\",\n",
    "    template=\"iowa\",\n",
    "    hover_name=\"county\",  # Display county names instead of FIPS codes\n",
    "    hover_data={\"fips\": False, \"sale_(dollars)\": True}  # Hides FIPS, keeps sales\n",
    ")\n",
    "\n",
    "# Fit the map bounds to Iowa\n",
    "fig.update_geos(fitbounds=\"locations\", visible=False)\n",
    "\n",
    "# Show the map\n",
    "fig.show()"
   ]
  },
  {
   "cell_type": "code",
   "execution_count": null,
   "metadata": {},
   "outputs": [],
   "source": [
    "# Convert county names in dataset to match title case\n",
    "data_dt[\"county\"] = data_dt[\"county\"].str.title()\n",
    "\n",
    "# Filter data for 2021 and later\n",
    "data_2021_present = data_dt[data_dt[\"year\"] >= 2021]\n",
    "\n",
    "# Aggregate sales by county (2021-Present)\n",
    "county_sales_map = data_2021_present.groupby(\"county\")[\"sale_(dollars)\"].sum().reset_index()\n",
    "\n",
    "# Map counties to FIPS codes\n",
    "county_sales_map[\"fips\"] = county_sales_map[\"county\"].map(iowa_fips)\n",
    "\n",
    "# Drop missing FIPS codes (if any)\n",
    "county_sales_map = county_sales_map.dropna()\n",
    "\n",
    "# Create the heatmap with county names in the hover tooltip\n",
    "fig = px.choropleth(\n",
    "    county_sales_map,\n",
    "    geojson=counties_geojson,\n",
    "    locations=\"fips\",\n",
    "    color=\"sale_(dollars)\",\n",
    "    title=\"Total Sales by County in Iowa (2021-Present)\",\n",
    "    color_continuous_scale=\"blues\",\n",
    "    template=\"iowa\",\n",
    "    hover_name=\"county\",  # Display county names instead of FIPS codes\n",
    "    hover_data={\"fips\": False, \"sale_(dollars)\": True}  # Hides FIPS, keeps sales data\n",
    ")\n",
    "\n",
    "# Fit the map bounds to Iowa\n",
    "fig.update_geos(fitbounds=\"locations\", visible=False)\n",
    "\n",
    "# Show the map\n",
    "fig.show()"
   ]
  },
  {
   "cell_type": "markdown",
   "metadata": {},
   "source": [
    "Biggest student cities are actually johnson, story, blackhawk, Linn, polk"
   ]
  },
  {
   "cell_type": "markdown",
   "metadata": {},
   "source": [
    "### State Regulations"
   ]
  },
  {
   "cell_type": "code",
   "execution_count": null,
   "metadata": {},
   "outputs": [],
   "source": [
    "data_dt.head()"
   ]
  },
  {
   "cell_type": "code",
   "execution_count": 81,
   "metadata": {},
   "outputs": [
    {
     "name": "stdout",
     "output_type": "stream",
     "text": [
      "🔹 Maximum Markup: 2712.50%\n",
      "🔹 Minimum Markup: -92.14%\n"
     ]
    }
   ],
   "source": [
    "# Create a copy of the dataset\n",
    "markup_analysis = data_dt.copy()\n",
    "\n",
    "# Calculate the markup percentage\n",
    "markup_analysis[\"markup_percentage\"] = ((markup_analysis[\"state_bottle_retail\"] - markup_analysis[\"state_bottle_cost\"]) / markup_analysis[\"state_bottle_cost\"]) * 100\n",
    "\n",
    "# Find the max and min markup percentage\n",
    "max_markup = markup_analysis[\"markup_percentage\"].max()\n",
    "min_markup = markup_analysis[\"markup_percentage\"].min()\n",
    "\n",
    "print(f\"🔹 Maximum Markup: {max_markup:.2f}%\")\n",
    "print(f\"🔹 Minimum Markup: {min_markup:.2f}%\")"
   ]
  },
  {
   "cell_type": "code",
   "execution_count": 82,
   "metadata": {},
   "outputs": [
    {
     "name": "stdout",
     "output_type": "stream",
     "text": [
      "🔹 Rows with markup between -100% and 100%: 30578184\n",
      "🔹 Total rows: 30582345\n",
      "🔹 Percentage within range: 99.99%\n"
     ]
    }
   ],
   "source": [
    "# Count how many rows have markup_percentage between -100% and 100%\n",
    "valid_markup_count = ((markup_analysis[\"markup_percentage\"] >= -100) & \n",
    "                      (markup_analysis[\"markup_percentage\"] <= 100)).sum()\n",
    "\n",
    "# Total number of rows\n",
    "total_rows = len(markup_analysis)\n",
    "\n",
    "# Percentage of rows within the valid range\n",
    "valid_percentage = (valid_markup_count / total_rows) * 100\n",
    "\n",
    "print(f\"🔹 Rows with markup between -100% and 100%: {valid_markup_count}\")\n",
    "print(f\"🔹 Total rows: {total_rows}\")\n",
    "print(f\"🔹 Percentage within range: {valid_percentage:.2f}%\")"
   ]
  },
  {
   "cell_type": "code",
   "execution_count": 83,
   "metadata": {},
   "outputs": [],
   "source": [
    "# Create a filtered copy where markup is within -100% to 100%\n",
    "valid_markup_data = markup_analysis[(markup_analysis[\"markup_percentage\"] >= 48) & \n",
    "                                    (markup_analysis[\"markup_percentage\"] <= 52)]"
   ]
  },
  {
   "cell_type": "code",
   "execution_count": 84,
   "metadata": {},
   "outputs": [
    {
     "name": "stdout",
     "output_type": "stream",
     "text": [
      "🔹 Mode of markup percentage: 50.00%\n",
      "🔹 Median of markup percentage: 50.00%\n",
      "🔹 Mean of markup percentage: 50.03%\n"
     ]
    }
   ],
   "source": [
    "# Calculate mode, median, and mean\n",
    "mode_value = stats.mode(valid_markup_data[\"markup_percentage\"], keepdims=True)[0][0]\n",
    "median_value = np.median(valid_markup_data[\"markup_percentage\"])\n",
    "mean_value = np.mean(valid_markup_data[\"markup_percentage\"])\n",
    "\n",
    "# Print the results\n",
    "print(f\"🔹 Mode of markup percentage: {mode_value:.2f}%\")\n",
    "print(f\"🔹 Median of markup percentage: {median_value:.2f}%\")\n",
    "print(f\"🔹 Mean of markup percentage: {mean_value:.2f}%\")"
   ]
  },
  {
   "cell_type": "code",
   "execution_count": null,
   "metadata": {},
   "outputs": [],
   "source": [
    "# Get the 10 highest and lowest markup items (within valid range)\n",
    "top_profitable = valid_markup_data.nlargest(10, \"markup_percentage\")[[\"item_description\", \"markup_percentage\"]].copy()\n",
    "low_profitable = valid_markup_data.nsmallest(10, \"markup_percentage\")[[\"item_description\", \"markup_percentage\"]].copy()\n",
    "\n",
    "print(\"🔹 Top 10 Most Profitable Items (Filtered):\")\n",
    "print(top_profitable)\n",
    "\n",
    "print(\"\\n🔹 Top 10 Least Profitable Items (Filtered):\")\n",
    "print(low_profitable)\n"
   ]
  },
  {
   "cell_type": "code",
   "execution_count": null,
   "metadata": {},
   "outputs": [],
   "source": [
    "# Calculate average markup percentage per alcohol category (valid range only)\n",
    "category_markup = valid_markup_data.groupby(\"alcohol_type\")[\"markup_percentage\"].mean().reset_index()\n",
    "\n",
    "# Create a bar chart to compare markups across alcohol types\n",
    "fig = px.bar(category_markup, x=\"alcohol_type\", y=\"markup_percentage\", template=\"iowa\",\n",
    "             title=\"Average Markup Percentage by Alcohol Type (Filtered)\")\n",
    "fig.show()\n"
   ]
  },
  {
   "cell_type": "code",
   "execution_count": 76,
   "metadata": {},
   "outputs": [],
   "source": [
    "#TO DO LIST\n",
    "\n",
    "# Expand on the regional differences. In boarder counties, which alcohols and why? In student counties, which alcohols and why? \n",
    "# Explore how the sizes of the bottles affect sales. For example liqueurs reduced in size a lot, so maybe people want small bottles. Is it specific to counties too? \n",
    "# What about prices? alcohol can be cheap, medium, expensive, luxury. (this can be classified as a percentage, or from online sources). What are people buying? what price and in what counties? \n",
    "\n",
    "#These analyses should eventually be concentrated to post covid/2021 data. either here or on a seperate notebook "
   ]
  }
 ],
 "metadata": {
  "kernelspec": {
   "display_name": "pda2",
   "language": "python",
   "name": "pda2"
  },
  "language_info": {
   "codemirror_mode": {
    "name": "ipython",
    "version": 3
   },
   "file_extension": ".py",
   "mimetype": "text/x-python",
   "name": "python",
   "nbconvert_exporter": "python",
   "pygments_lexer": "ipython3",
   "version": "3.11.8"
  }
 },
 "nbformat": 4,
 "nbformat_minor": 2
}
