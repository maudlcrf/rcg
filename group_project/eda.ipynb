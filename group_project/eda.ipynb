{
 "cells": [
  {
   "cell_type": "markdown",
   "metadata": {},
   "source": [
    "#### AI for Retail & Consumer Goods | Group Project | MBD April 2024\n",
    "\n",
    "Group Members: Maud Lecerf | Cristina Mosquera | Christopher Stephan"
   ]
  },
  {
   "cell_type": "markdown",
   "metadata": {},
   "source": [
    "# Data Cleaning"
   ]
  },
  {
   "cell_type": "code",
   "execution_count": null,
   "metadata": {},
   "outputs": [],
   "source": [
    "import pandas as pd\n",
    "import numpy as np\n",
    "import plotly.express as px"
   ]
  },
  {
   "cell_type": "code",
   "execution_count": 2,
   "metadata": {},
   "outputs": [
    {
     "name": "stderr",
     "output_type": "stream",
     "text": [
      "C:\\Users\\ginny\\AppData\\Local\\Temp\\ipykernel_23280\\2207171519.py:1: DtypeWarning: Columns (6) have mixed types. Specify dtype option on import or set low_memory=False.\n",
      "  daclean = pd.read_csv(\"G:\\\\Mon Drive\\\\RCG\\\\Iowa_Liquor_Sales_Cleaned.csv\")\n"
     ]
    }
   ],
   "source": [
    "daclean = pd.read_csv(\"G:\\\\Mon Drive\\\\RCG\\\\Iowa_Liquor_Sales_Cleaned.csv\")\n",
    "data_post_covid = pd.read_csv(\"G:\\\\Mon Drive\\\\RCG\\\\Iowa_Liquor_Sales_Post_Covid.csv\")\n",
    "\n",
    "#data = pd.read_csv(\"/Users/christopherstephan/Documents/IE/Term 3/Consumer Goods/project/Iowa_Liquor_Sales_DEC24.csv\") #Chris"
   ]
  },
  {
   "cell_type": "code",
   "execution_count": 3,
   "metadata": {},
   "outputs": [
    {
     "data": {
      "text/html": [
       "<div>\n",
       "<style scoped>\n",
       "    .dataframe tbody tr th:only-of-type {\n",
       "        vertical-align: middle;\n",
       "    }\n",
       "\n",
       "    .dataframe tbody tr th {\n",
       "        vertical-align: top;\n",
       "    }\n",
       "\n",
       "    .dataframe thead th {\n",
       "        text-align: right;\n",
       "    }\n",
       "</style>\n",
       "<table border=\"1\" class=\"dataframe\">\n",
       "  <thead>\n",
       "    <tr style=\"text-align: right;\">\n",
       "      <th></th>\n",
       "      <th>invoice_item_number</th>\n",
       "      <th>date</th>\n",
       "      <th>store_number</th>\n",
       "      <th>store_name</th>\n",
       "      <th>address</th>\n",
       "      <th>city</th>\n",
       "      <th>zip_code</th>\n",
       "      <th>store_location</th>\n",
       "      <th>county_number</th>\n",
       "      <th>county</th>\n",
       "      <th>...</th>\n",
       "      <th>item_number</th>\n",
       "      <th>item_description</th>\n",
       "      <th>pack</th>\n",
       "      <th>bottle_volume_(ml)</th>\n",
       "      <th>state_bottle_cost</th>\n",
       "      <th>state_bottle_retail</th>\n",
       "      <th>bottles_sold</th>\n",
       "      <th>sale_(dollars)</th>\n",
       "      <th>volume_sold_(liters)</th>\n",
       "      <th>volume_sold_(gallons)</th>\n",
       "    </tr>\n",
       "  </thead>\n",
       "  <tbody>\n",
       "    <tr>\n",
       "      <th>0</th>\n",
       "      <td>S03408100057</td>\n",
       "      <td>2012-01-03</td>\n",
       "      <td>3162</td>\n",
       "      <td>NASH FINCH / WHOLESALE FOOD</td>\n",
       "      <td>807 GRANDVIEW</td>\n",
       "      <td>MUSCATINE</td>\n",
       "      <td>52761</td>\n",
       "      <td>POINT (-91.06411300000002 41.408437)</td>\n",
       "      <td>70.0</td>\n",
       "      <td>MUSCATINE</td>\n",
       "      <td>...</td>\n",
       "      <td>43127</td>\n",
       "      <td>BACARDI SUPERIOR RUM</td>\n",
       "      <td>12</td>\n",
       "      <td>1000</td>\n",
       "      <td>9.43</td>\n",
       "      <td>14.14</td>\n",
       "      <td>4</td>\n",
       "      <td>56.56</td>\n",
       "      <td>4.00</td>\n",
       "      <td>1.06</td>\n",
       "    </tr>\n",
       "    <tr>\n",
       "      <th>1</th>\n",
       "      <td>S03408800027</td>\n",
       "      <td>2012-01-03</td>\n",
       "      <td>2959</td>\n",
       "      <td>DAHL'S / MERLE HAY</td>\n",
       "      <td>4343 MERLE HAY ROAD</td>\n",
       "      <td>DES MOINES</td>\n",
       "      <td>50310</td>\n",
       "      <td>POINT (-93.697647 41.63740800000001)</td>\n",
       "      <td>77.0</td>\n",
       "      <td>POLK</td>\n",
       "      <td>...</td>\n",
       "      <td>36188</td>\n",
       "      <td>GORDON'S VODKA 80 PRF - PET</td>\n",
       "      <td>6</td>\n",
       "      <td>1750</td>\n",
       "      <td>9.68</td>\n",
       "      <td>14.52</td>\n",
       "      <td>6</td>\n",
       "      <td>87.12</td>\n",
       "      <td>10.50</td>\n",
       "      <td>2.77</td>\n",
       "    </tr>\n",
       "    <tr>\n",
       "      <th>2</th>\n",
       "      <td>S03382600002</td>\n",
       "      <td>2012-01-03</td>\n",
       "      <td>4317</td>\n",
       "      <td>FAREWAY STORES #941 / GREENFIELD</td>\n",
       "      <td>212 SW KENT</td>\n",
       "      <td>GREENFIELD</td>\n",
       "      <td>50849</td>\n",
       "      <td>POINT (-94.462719 41.303167)</td>\n",
       "      <td>1.0</td>\n",
       "      <td>ADAIR</td>\n",
       "      <td>...</td>\n",
       "      <td>11296</td>\n",
       "      <td>CROWN ROYAL</td>\n",
       "      <td>12</td>\n",
       "      <td>750</td>\n",
       "      <td>14.25</td>\n",
       "      <td>21.37</td>\n",
       "      <td>12</td>\n",
       "      <td>256.44</td>\n",
       "      <td>9.00</td>\n",
       "      <td>2.38</td>\n",
       "    </tr>\n",
       "    <tr>\n",
       "      <th>3</th>\n",
       "      <td>S03411200041</td>\n",
       "      <td>2012-01-03</td>\n",
       "      <td>2587</td>\n",
       "      <td>HY-VEE FOOD STORE / JOHNSTON</td>\n",
       "      <td>5750 MERLE HAY ROAD</td>\n",
       "      <td>JOHNSTON</td>\n",
       "      <td>50131</td>\n",
       "      <td>POINT (-93.697731 41.665172)</td>\n",
       "      <td>77.0</td>\n",
       "      <td>POLK</td>\n",
       "      <td>...</td>\n",
       "      <td>89786</td>\n",
       "      <td>SAUZA GOLD</td>\n",
       "      <td>12</td>\n",
       "      <td>750</td>\n",
       "      <td>8.40</td>\n",
       "      <td>12.59</td>\n",
       "      <td>1</td>\n",
       "      <td>12.59</td>\n",
       "      <td>0.75</td>\n",
       "      <td>0.20</td>\n",
       "    </tr>\n",
       "    <tr>\n",
       "      <th>4</th>\n",
       "      <td>S03410100024</td>\n",
       "      <td>2012-01-03</td>\n",
       "      <td>3962</td>\n",
       "      <td>DURANT STREET COUNTRY STOP</td>\n",
       "      <td>618 DURANT ST</td>\n",
       "      <td>HARLAN</td>\n",
       "      <td>51537</td>\n",
       "      <td>POINT (-95.318597 41.656803)</td>\n",
       "      <td>83.0</td>\n",
       "      <td>SHELBY</td>\n",
       "      <td>...</td>\n",
       "      <td>65061</td>\n",
       "      <td>GOLDSCHLAGER CINNAMON SCHNAPPS MINI</td>\n",
       "      <td>10</td>\n",
       "      <td>600</td>\n",
       "      <td>13.73</td>\n",
       "      <td>20.60</td>\n",
       "      <td>1</td>\n",
       "      <td>20.60</td>\n",
       "      <td>0.60</td>\n",
       "      <td>0.16</td>\n",
       "    </tr>\n",
       "  </tbody>\n",
       "</table>\n",
       "<p>5 rows × 24 columns</p>\n",
       "</div>"
      ],
      "text/plain": [
       "  invoice_item_number        date  store_number  \\\n",
       "0        S03408100057  2012-01-03          3162   \n",
       "1        S03408800027  2012-01-03          2959   \n",
       "2        S03382600002  2012-01-03          4317   \n",
       "3        S03411200041  2012-01-03          2587   \n",
       "4        S03410100024  2012-01-03          3962   \n",
       "\n",
       "                         store_name              address        city zip_code  \\\n",
       "0       NASH FINCH / WHOLESALE FOOD        807 GRANDVIEW   MUSCATINE    52761   \n",
       "1                DAHL'S / MERLE HAY  4343 MERLE HAY ROAD  DES MOINES    50310   \n",
       "2  FAREWAY STORES #941 / GREENFIELD          212 SW KENT  GREENFIELD    50849   \n",
       "3      HY-VEE FOOD STORE / JOHNSTON  5750 MERLE HAY ROAD    JOHNSTON    50131   \n",
       "4        DURANT STREET COUNTRY STOP        618 DURANT ST      HARLAN    51537   \n",
       "\n",
       "                         store_location  county_number     county  ...  \\\n",
       "0  POINT (-91.06411300000002 41.408437)           70.0  MUSCATINE  ...   \n",
       "1  POINT (-93.697647 41.63740800000001)           77.0       POLK  ...   \n",
       "2          POINT (-94.462719 41.303167)            1.0      ADAIR  ...   \n",
       "3          POINT (-93.697731 41.665172)           77.0       POLK  ...   \n",
       "4          POINT (-95.318597 41.656803)           83.0     SHELBY  ...   \n",
       "\n",
       "   item_number                     item_description  pack bottle_volume_(ml)  \\\n",
       "0        43127                 BACARDI SUPERIOR RUM    12               1000   \n",
       "1        36188          GORDON'S VODKA 80 PRF - PET     6               1750   \n",
       "2        11296                          CROWN ROYAL    12                750   \n",
       "3        89786                           SAUZA GOLD    12                750   \n",
       "4        65061  GOLDSCHLAGER CINNAMON SCHNAPPS MINI    10                600   \n",
       "\n",
       "   state_bottle_cost state_bottle_retail  bottles_sold  sale_(dollars)  \\\n",
       "0               9.43               14.14             4           56.56   \n",
       "1               9.68               14.52             6           87.12   \n",
       "2              14.25               21.37            12          256.44   \n",
       "3               8.40               12.59             1           12.59   \n",
       "4              13.73               20.60             1           20.60   \n",
       "\n",
       "   volume_sold_(liters)  volume_sold_(gallons)  \n",
       "0                  4.00                   1.06  \n",
       "1                 10.50                   2.77  \n",
       "2                  9.00                   2.38  \n",
       "3                  0.75                   0.20  \n",
       "4                  0.60                   0.16  \n",
       "\n",
       "[5 rows x 24 columns]"
      ]
     },
     "execution_count": 3,
     "metadata": {},
     "output_type": "execute_result"
    }
   ],
   "source": [
    "daclean.head()"
   ]
  },
  {
   "cell_type": "code",
   "execution_count": 10,
   "metadata": {},
   "outputs": [],
   "source": [
    "numerical_cols = ['pack', 'bottle_volume_(ml)', 'state_bottle_cost', 'state_bottle_retail', 'bottles_sold', 'sale_(dollars)',\n",
    "                  'volume_sold_(liters)', 'volume_sold_(gallons)' ]\n",
    "categorical_cols = ['invoice_item_number', 'date', 'store_number', 'store_name', 'address',\n",
    "       'city', 'zip_code', 'store_location', 'county_number', 'county',\n",
    "       'category', 'category_name', 'vendor_number', 'vendor_name',\n",
    "       'item_number', 'item_description' ]"
   ]
  },
  {
   "cell_type": "code",
   "execution_count": 9,
   "metadata": {},
   "outputs": [
    {
     "data": {
      "text/plain": [
       "Index(['invoice_item_number', 'date', 'store_number', 'store_name', 'address',\n",
       "       'city', 'zip_code', 'store_location', 'county_number', 'county',\n",
       "       'category', 'category_name', 'vendor_number', 'vendor_name',\n",
       "       'item_number', 'item_description', 'pack', 'bottle_volume_(ml)',\n",
       "       'state_bottle_cost', 'state_bottle_retail', 'bottles_sold',\n",
       "       'sale_(dollars)', 'volume_sold_(liters)', 'volume_sold_(gallons)'],\n",
       "      dtype='object')"
      ]
     },
     "execution_count": 9,
     "metadata": {},
     "output_type": "execute_result"
    }
   ],
   "source": [
    "daclean.columns"
   ]
  },
  {
   "cell_type": "code",
   "execution_count": 8,
   "metadata": {},
   "outputs": [
    {
     "data": {
      "text/html": [
       "<div>\n",
       "<style scoped>\n",
       "    .dataframe tbody tr th:only-of-type {\n",
       "        vertical-align: middle;\n",
       "    }\n",
       "\n",
       "    .dataframe tbody tr th {\n",
       "        vertical-align: top;\n",
       "    }\n",
       "\n",
       "    .dataframe thead th {\n",
       "        text-align: right;\n",
       "    }\n",
       "</style>\n",
       "<table border=\"1\" class=\"dataframe\">\n",
       "  <thead>\n",
       "    <tr style=\"text-align: right;\">\n",
       "      <th></th>\n",
       "      <th>pack</th>\n",
       "      <th>bottle_volume_(ml)</th>\n",
       "      <th>state_bottle_cost</th>\n",
       "      <th>state_bottle_retail</th>\n",
       "      <th>bottles_sold</th>\n",
       "      <th>sale_(dollars)</th>\n",
       "      <th>volume_sold_(liters)</th>\n",
       "      <th>volume_sold_(gallons)</th>\n",
       "    </tr>\n",
       "  </thead>\n",
       "  <tbody>\n",
       "    <tr>\n",
       "      <th>count</th>\n",
       "      <td>2.969686e+07</td>\n",
       "      <td>2.969686e+07</td>\n",
       "      <td>2.969686e+07</td>\n",
       "      <td>2.969686e+07</td>\n",
       "      <td>2.969686e+07</td>\n",
       "      <td>2.969686e+07</td>\n",
       "      <td>2.969686e+07</td>\n",
       "      <td>2.969686e+07</td>\n",
       "    </tr>\n",
       "    <tr>\n",
       "      <th>mean</th>\n",
       "      <td>1.211928e+01</td>\n",
       "      <td>8.754152e+02</td>\n",
       "      <td>1.076429e+01</td>\n",
       "      <td>1.615636e+01</td>\n",
       "      <td>1.085935e+01</td>\n",
       "      <td>1.457653e+02</td>\n",
       "      <td>9.149051e+00</td>\n",
       "      <td>2.414079e+00</td>\n",
       "    </tr>\n",
       "    <tr>\n",
       "      <th>std</th>\n",
       "      <td>7.782577e+00</td>\n",
       "      <td>6.237240e+02</td>\n",
       "      <td>1.326406e+01</td>\n",
       "      <td>1.989482e+01</td>\n",
       "      <td>3.060839e+01</td>\n",
       "      <td>5.144071e+02</td>\n",
       "      <td>3.633208e+01</td>\n",
       "      <td>9.598031e+00</td>\n",
       "    </tr>\n",
       "    <tr>\n",
       "      <th>min</th>\n",
       "      <td>1.000000e+00</td>\n",
       "      <td>0.000000e+00</td>\n",
       "      <td>0.000000e+00</td>\n",
       "      <td>0.000000e+00</td>\n",
       "      <td>-7.680000e+02</td>\n",
       "      <td>-9.720000e+03</td>\n",
       "      <td>-1.344000e+03</td>\n",
       "      <td>-3.550400e+02</td>\n",
       "    </tr>\n",
       "    <tr>\n",
       "      <th>25%</th>\n",
       "      <td>6.000000e+00</td>\n",
       "      <td>7.500000e+02</td>\n",
       "      <td>5.740000e+00</td>\n",
       "      <td>8.610000e+00</td>\n",
       "      <td>3.000000e+00</td>\n",
       "      <td>3.597000e+01</td>\n",
       "      <td>1.500000e+00</td>\n",
       "      <td>4.000000e-01</td>\n",
       "    </tr>\n",
       "    <tr>\n",
       "      <th>50%</th>\n",
       "      <td>1.200000e+01</td>\n",
       "      <td>7.500000e+02</td>\n",
       "      <td>8.500000e+00</td>\n",
       "      <td>1.275000e+01</td>\n",
       "      <td>6.000000e+00</td>\n",
       "      <td>7.740000e+01</td>\n",
       "      <td>4.800000e+00</td>\n",
       "      <td>1.260000e+00</td>\n",
       "    </tr>\n",
       "    <tr>\n",
       "      <th>75%</th>\n",
       "      <td>1.200000e+01</td>\n",
       "      <td>1.000000e+03</td>\n",
       "      <td>1.300000e+01</td>\n",
       "      <td>1.950000e+01</td>\n",
       "      <td>1.200000e+01</td>\n",
       "      <td>1.493000e+02</td>\n",
       "      <td>1.050000e+01</td>\n",
       "      <td>2.770000e+00</td>\n",
       "    </tr>\n",
       "    <tr>\n",
       "      <th>max</th>\n",
       "      <td>3.360000e+02</td>\n",
       "      <td>3.780000e+05</td>\n",
       "      <td>2.498902e+04</td>\n",
       "      <td>3.748353e+04</td>\n",
       "      <td>1.500000e+04</td>\n",
       "      <td>2.795573e+05</td>\n",
       "      <td>1.500000e+04</td>\n",
       "      <td>3.962580e+03</td>\n",
       "    </tr>\n",
       "  </tbody>\n",
       "</table>\n",
       "</div>"
      ],
      "text/plain": [
       "               pack  bottle_volume_(ml)  state_bottle_cost  \\\n",
       "count  2.969686e+07        2.969686e+07       2.969686e+07   \n",
       "mean   1.211928e+01        8.754152e+02       1.076429e+01   \n",
       "std    7.782577e+00        6.237240e+02       1.326406e+01   \n",
       "min    1.000000e+00        0.000000e+00       0.000000e+00   \n",
       "25%    6.000000e+00        7.500000e+02       5.740000e+00   \n",
       "50%    1.200000e+01        7.500000e+02       8.500000e+00   \n",
       "75%    1.200000e+01        1.000000e+03       1.300000e+01   \n",
       "max    3.360000e+02        3.780000e+05       2.498902e+04   \n",
       "\n",
       "       state_bottle_retail  bottles_sold  sale_(dollars)  \\\n",
       "count         2.969686e+07  2.969686e+07    2.969686e+07   \n",
       "mean          1.615636e+01  1.085935e+01    1.457653e+02   \n",
       "std           1.989482e+01  3.060839e+01    5.144071e+02   \n",
       "min           0.000000e+00 -7.680000e+02   -9.720000e+03   \n",
       "25%           8.610000e+00  3.000000e+00    3.597000e+01   \n",
       "50%           1.275000e+01  6.000000e+00    7.740000e+01   \n",
       "75%           1.950000e+01  1.200000e+01    1.493000e+02   \n",
       "max           3.748353e+04  1.500000e+04    2.795573e+05   \n",
       "\n",
       "       volume_sold_(liters)  volume_sold_(gallons)  \n",
       "count          2.969686e+07           2.969686e+07  \n",
       "mean           9.149051e+00           2.414079e+00  \n",
       "std            3.633208e+01           9.598031e+00  \n",
       "min           -1.344000e+03          -3.550400e+02  \n",
       "25%            1.500000e+00           4.000000e-01  \n",
       "50%            4.800000e+00           1.260000e+00  \n",
       "75%            1.050000e+01           2.770000e+00  \n",
       "max            1.500000e+04           3.962580e+03  "
      ]
     },
     "execution_count": 8,
     "metadata": {},
     "output_type": "execute_result"
    }
   ],
   "source": [
    "daclean[numerical_cols].describe()"
   ]
  },
  {
   "cell_type": "code",
   "execution_count": 13,
   "metadata": {},
   "outputs": [
    {
     "data": {
      "text/plain": [
       "invoice_item_number      29696865\n",
       "date                         3310\n",
       "store_number                 3124\n",
       "store_name                   3315\n",
       "address                      3095\n",
       "city                          494\n",
       "zip_code                     1378\n",
       "store_location               9830\n",
       "county_number                  99\n",
       "county                         99\n",
       "category                      111\n",
       "category_name                 103\n",
       "vendor_number                 494\n",
       "vendor_name                   613\n",
       "item_number                 13766\n",
       "item_description            12717\n",
       "pack                           27\n",
       "bottle_volume_(ml)             58\n",
       "state_bottle_cost            3672\n",
       "state_bottle_retail          4149\n",
       "bottles_sold                  761\n",
       "sale_(dollars)              35082\n",
       "volume_sold_(liters)         1737\n",
       "volume_sold_(gallons)        2050\n",
       "dtype: int64"
      ]
     },
     "execution_count": 13,
     "metadata": {},
     "output_type": "execute_result"
    }
   ],
   "source": [
    "daclean.nunique()"
   ]
  },
  {
   "cell_type": "code",
   "execution_count": 20,
   "metadata": {},
   "outputs": [
    {
     "data": {
      "text/plain": [
       "array([ 12,   6,  10,  24,  48,   5,   8,   4,   1,   3,  20,   2,  60,\n",
       "       120,  30,  16,  18,   9,  32, 160, 288,  44,  96,  15, 336, 312,\n",
       "        28], dtype=int64)"
      ]
     },
     "execution_count": 20,
     "metadata": {},
     "output_type": "execute_result"
    }
   ],
   "source": [
    "daclean['pack'].unique()"
   ]
  },
  {
   "cell_type": "code",
   "execution_count": 21,
   "metadata": {},
   "outputs": [
    {
     "data": {
      "text/plain": [
       "array([  1000,   1750,    750,    600,    375,    500,    200,   1200,\n",
       "         2400,    800,    150,    100,    300,   3000,   2000,    250,\n",
       "          301,    502,     50,    603,     12,   1500,    900,    400,\n",
       "         1508,   4800,   7580,    850,   1125,      0, 140000,   1950,\n",
       "           15,   1850,    950,   2250,   4500,   2550,   3600,   6000,\n",
       "       180000, 225000, 189000,   9000,   3900,   3500, 378000,   1800,\n",
       "        31500,     20,    425,   2125,    355,   1420,     25,    175,\n",
       "         5250,    700], dtype=int64)"
      ]
     },
     "execution_count": 21,
     "metadata": {},
     "output_type": "execute_result"
    }
   ],
   "source": [
    "daclean['bottle_volume_(ml)'].unique()"
   ]
  },
  {
   "cell_type": "code",
   "execution_count": 23,
   "metadata": {},
   "outputs": [
    {
     "data": {
      "text/plain": [
       "array(['PUERTO RICO & VIRGIN ISLANDS RUM', 'VODKA 80 PROOF',\n",
       "       'CANADIAN WHISKIES', 'TEQUILA', 'IMPORTED SCHNAPPS',\n",
       "       'ROOT BEER SCHNAPPS', 'STRAIGHT BOURBON WHISKIES',\n",
       "       'AMERICAN GRAPE BRANDIES', 'IMPORTED VODKAS',\n",
       "       'BUTTERSCOTCH SCHNAPPS', 'MISC. IMPORTED CORDIALS & LIQUEURS',\n",
       "       'AMERICAN COCKTAILS', 'BLACKBERRY BRANDIES', 'TENNESSEE WHISKIES',\n",
       "       'WATERMELON SCHNAPPS', 'CREAM LIQUEURS', 'VODKA FLAVORED',\n",
       "       'IMPORTED VODKA - MISC', 'COFFEE LIQUEURS', 'BLENDED WHISKIES',\n",
       "       'STRAWBERRY SCHNAPPS', 'SPICED RUM', 'AMERICAN DRY GINS',\n",
       "       'PEPPERMINT SCHNAPPS', '100 PROOF VODKA', 'FLAVORED RUM',\n",
       "       'SCOTCH WHISKIES', 'PEACH SCHNAPPS', 'JAMAICA RUM',\n",
       "       'MISC. AMERICAN CORDIALS & LIQUEURS', 'AMERICAN AMARETTO',\n",
       "       'IRISH WHISKIES', 'SINGLE MALT SCOTCH', 'TRIPLE SEC',\n",
       "       'CINNAMON SCHNAPPS', 'IMPORTED GRAPE BRANDIES',\n",
       "       'MISCELLANEOUS SCHNAPPS', 'CHERRY BRANDIES', 'AMERICAN ALCOHOL',\n",
       "       'APPLE SCHNAPPS', 'WHISKEY LIQUEUR', 'WHITE CREME DE CACAO',\n",
       "       'STRAIGHT RYE WHISKIES', 'CREME DE ALMOND', 'IMPORTED DRY GINS',\n",
       "       'APRICOT BRANDIES', 'BOTTLED IN BOND BOURBON',\n",
       "       'GREEN CREME DE MENTHE', 'GRAPE SCHNAPPS', 'AMERICAN SLOE GINS',\n",
       "       'RASPBERRY SCHNAPPS', 'ANISETTE', 'FLAVORED GINS',\n",
       "       'DISTILLED SPIRITS SPECIALTY', 'TROPICAL FRUIT SCHNAPPS',\n",
       "       'ROCK & RYE', 'OTHER PROOF VODKA',\n",
       "       'DECANTERS & SPECIALTY PACKAGES', 'BARBADOS RUM', 'PEACH BRANDIES',\n",
       "       'IMPORTED AMARETTO', 'DARK CREME DE CACAO',\n",
       "       'MISCELLANEOUS  BRANDIES', 'SPEARMINT SCHNAPPS',\n",
       "       'SINGLE BARREL BOURBON WHISKIES', 'WHITE CREME DE MENTHE',\n",
       "       'LOW PROOF VODKA', 'IMPORTED VODKA - CHERRY',\n",
       "       'SCHNAPPS - IMPORTED', 'AMARETTO - IMPORTED',\n",
       "       'HIGH PROOF BEER - AMERICAN', 'JAPANESE WHISKY', 'CORN WHISKIES',\n",
       "       'AMERICAN FLAVORED VODKA', 'AMERICAN VODKAS', 'IMPORTED BRANDIES',\n",
       "       'AMERICAN SCHNAPPS', 'MIXTO TEQUILA',\n",
       "       'AMERICAN CORDIALS & LIQUEURS', 'IMPORTED CORDIALS & LIQUEURS',\n",
       "       'WHITE RUM', 'AMERICAN BRANDIES', 'COCKTAILS/RTD',\n",
       "       'IMPORTED DISTILLED SPIRITS SPECIALTY', '100% AGAVE TEQUILA',\n",
       "       'IMPORTED FLAVORED VODKA', 'NEUTRAL GRAIN SPIRITS', 'GOLD RUM',\n",
       "       'AMERICAN DISTILLED SPIRITS SPECIALTY', 'AGED DARK RUM',\n",
       "       'DELISTED ITEMS', 'NEUTRAL GRAIN SPIRITS FLAVORED',\n",
       "       'IOWA DISTILLERY WHISKIES', 'FLAVORED GIN', 'MEZCAL',\n",
       "       'SPECIAL ORDER ITEMS', 'IOWA DISTILLERIES',\n",
       "       'TEMPORARY & SPECIALTY PACKAGES', 'HOLIDAY VAP', 'IMPORTED GINS',\n",
       "       'DELISTED / SPECIAL ORDER ITEMS', 'IMPORTED WHISKIES',\n",
       "       'AMERICAN WHISKIES'], dtype=object)"
      ]
     },
     "execution_count": 23,
     "metadata": {},
     "output_type": "execute_result"
    }
   ],
   "source": [
    "daclean['category_name'].unique()"
   ]
  },
  {
   "cell_type": "code",
   "execution_count": 24,
   "metadata": {},
   "outputs": [
    {
     "data": {
      "text/plain": [
       "array(['MUSCATINE', 'POLK', 'ADAIR', 'SHELBY', 'LEE', 'POTTAWATTAMIE',\n",
       "       'DICKINSON', 'SCOTT', 'DES MOINES', 'JONES', 'VAN BUREN',\n",
       "       'MONTGOMERY', 'BREMER', 'DUBUQUE', 'WRIGHT', 'CLINTON', 'WAYNE',\n",
       "       'CERRO GORDO', 'CARROLL', 'WINNEBAGO', 'EMMET', 'JACKSON', 'PAGE',\n",
       "       'IOWA', 'DAVIS', 'BUTLER', 'WARREN', 'CASS', 'STORY', 'ADAMS',\n",
       "       'CLAY', 'FRANKLIN', 'TAYLOR', 'WASHINGTON', 'BLACK HAWK', 'HARDIN',\n",
       "       'FAYETTE', 'AUDUBON', 'LINN', 'GUTHRIE', 'GRUNDY', 'MARSHALL',\n",
       "       'MILLS', 'CLAYTON', 'JOHNSON', 'KOSSUTH', 'DELAWARE', 'HAMILTON',\n",
       "       'BENTON', \"O'BRIEN\", 'HENRY', 'WAPELLO', 'BUCHANAN', 'KEOKUK',\n",
       "       'LYON', 'CALHOUN', 'PALO ALTO', 'CRAWFORD', 'MARION', 'IDA',\n",
       "       'WEBSTER', 'OSCEOLA', 'WOODBURY', 'BUENA VISTA', 'POCAHONTAS',\n",
       "       'APPANOOSE', 'HARRISON', 'MAHASKA', 'HANCOCK', 'MONONA',\n",
       "       'JEFFERSON', 'SAC', 'MONROE', 'HUMBOLDT', 'UNION', 'TAMA',\n",
       "       'LOUISA', 'DECATUR', 'POWESHIEK', 'JASPER', 'DALLAS', 'SIOUX',\n",
       "       'CLARKE', 'CEDAR', 'FLOYD', 'WORTH', 'MITCHELL', 'ALLAMAKEE',\n",
       "       'BOONE', 'CHEROKEE', 'WINNESHIEK', 'LUCAS', 'PLYMOUTH',\n",
       "       'CHICKASAW', 'GREENE', 'HOWARD', 'MADISON', 'RINGGOLD', 'FREMONT'],\n",
       "      dtype=object)"
      ]
     },
     "execution_count": 24,
     "metadata": {},
     "output_type": "execute_result"
    }
   ],
   "source": [
    "daclean['county'].unique()"
   ]
  },
  {
   "cell_type": "code",
   "execution_count": 35,
   "metadata": {},
   "outputs": [],
   "source": [
    "# Define mapping of keywords to subcategories\n",
    "category_mapping = {\n",
    "    'RUM': 'RUM',\n",
    "    'VODKA': 'VODKAS',\n",
    "    'VODKAS': 'VODKAS',\n",
    "    'SCHNAPPS': 'SCHNAPPS',\n",
    "    'BRANDIES': 'BRANDIES',\n",
    "    'WHISKIES': 'WHISKIES',\n",
    "    'SCOTCH': 'WHISKIES',\n",
    "    'GINS': 'GINS',\n",
    "    'GIN': 'GINS',\n",
    "    'MEZCAL': 'MEZCAL',\n",
    "    'TEQUILA': 'TEQUILA',\n",
    "    'BOURBON': 'BOURBON',\n",
    "    'LIQUEURS': 'LIQUEURS',\n",
    "    'LIQUEUR':'LIQUEURS',\n",
    "    'AMARETTO': 'AMARETTO',\n",
    "    'CREME': 'CREME'\n",
    "}\n",
    "\n",
    "# Create a new column and assign \"OTHERS\" by default\n",
    "daclean['subcategory'] = 'OTHERS'\n",
    "\n",
    "# Loop through mapping and assign subcategories\n",
    "for keyword, subcategory in category_mapping.items():\n",
    "    daclean.loc[daclean['category_name'].str.contains(keyword, case=False, na=False, regex=True), 'subcategory'] = subcategory\n",
    "\n"
   ]
  },
  {
   "cell_type": "code",
   "execution_count": 36,
   "metadata": {},
   "outputs": [
    {
     "data": {
      "text/plain": [
       "subcategory\n",
       "VODKAS      7435198\n",
       "WHISKIES    6202828\n",
       "LIQUEURS    3531768\n",
       "RUM         2783913\n",
       "BOURBON     2005501\n",
       "OTHERS      1769648\n",
       "TEQUILA     1561181\n",
       "SCHNAPPS    1475144\n",
       "BRANDIES    1468884\n",
       "GINS        1354631\n",
       "AMARETTO      65967\n",
       "CREME         26684\n",
       "MEZCAL        15518\n",
       "Name: count, dtype: int64"
      ]
     },
     "execution_count": 36,
     "metadata": {},
     "output_type": "execute_result"
    }
   ],
   "source": [
    "daclean['subcategory'].value_counts()"
   ]
  },
  {
   "cell_type": "code",
   "execution_count": 37,
   "metadata": {},
   "outputs": [
    {
     "data": {
      "text/plain": [
       "array(['AMERICAN COCKTAILS', 'TRIPLE SEC', 'AMERICAN ALCOHOL', 'ANISETTE',\n",
       "       'DISTILLED SPIRITS SPECIALTY', 'ROCK & RYE',\n",
       "       'DECANTERS & SPECIALTY PACKAGES', 'HIGH PROOF BEER - AMERICAN',\n",
       "       'JAPANESE WHISKY', 'COCKTAILS/RTD',\n",
       "       'IMPORTED DISTILLED SPIRITS SPECIALTY', 'NEUTRAL GRAIN SPIRITS',\n",
       "       'AMERICAN DISTILLED SPIRITS SPECIALTY', 'DELISTED ITEMS',\n",
       "       'NEUTRAL GRAIN SPIRITS FLAVORED', 'SPECIAL ORDER ITEMS',\n",
       "       'IOWA DISTILLERIES', 'TEMPORARY & SPECIALTY PACKAGES',\n",
       "       'HOLIDAY VAP', 'DELISTED / SPECIAL ORDER ITEMS'], dtype=object)"
      ]
     },
     "execution_count": 37,
     "metadata": {},
     "output_type": "execute_result"
    }
   ],
   "source": [
    "daclean[daclean['subcategory'] == 'OTHERS']['category_name'].unique()"
   ]
  },
  {
   "cell_type": "markdown",
   "metadata": {},
   "source": []
  },
  {
   "cell_type": "code",
   "execution_count": null,
   "metadata": {},
   "outputs": [],
   "source": []
  },
  {
   "cell_type": "markdown",
   "metadata": {},
   "source": [
    "Maud: do some regex thingies to be able nto separate categories with the different alcohol types "
   ]
  }
 ],
 "metadata": {
  "kernelspec": {
   "display_name": "base",
   "language": "python",
   "name": "python3"
  },
  "language_info": {
   "codemirror_mode": {
    "name": "ipython",
    "version": 3
   },
   "file_extension": ".py",
   "mimetype": "text/x-python",
   "name": "python",
   "nbconvert_exporter": "python",
   "pygments_lexer": "ipython3",
   "version": "3.11.7"
  }
 },
 "nbformat": 4,
 "nbformat_minor": 2
}
