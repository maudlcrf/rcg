{
 "cells": [
  {
   "cell_type": "code",
   "execution_count": 2,
   "metadata": {},
   "outputs": [],
   "source": [
    "import pandas as pd"
   ]
  },
  {
   "cell_type": "code",
   "execution_count": 3,
   "metadata": {},
   "outputs": [
    {
     "name": "stderr",
     "output_type": "stream",
     "text": [
      "/var/folders/_8/hcj6x_gn51q577lb1lp9x6h40000gn/T/ipykernel_21197/2693737280.py:2: DtypeWarning: Columns (6,14) have mixed types. Specify dtype option on import or set low_memory=False.\n",
      "  data = pd.read_csv(\"/Users/christopherstephan/Documents/IE/Term 3/Consumer Goods/project/Iowa_Liquor_Sales_DEC24.csv\") #Chris\n"
     ]
    }
   ],
   "source": [
    "#data = pd.read_csv(\"C:\\\\Users\\\\ginny\\\\Desktop\\\\RCG\\\\Group Work\\\\Iowa_Liquor_Sales_SEP2024.csv\") #Maud\n",
    "\n",
    "data = pd.read_csv(\"/Users/christopherstephan/Documents/IE/Term 3/Consumer Goods/project/Iowa_Liquor_Sales_DEC24.csv\") #Chris\n",
    "\n",
    "#gdown.download('https://drive.google.com/uc?export=download&id=1Nvt1FeNTQPWFXKZHhWD3P4Ynmwt3xGCG', 'archivo.csv', quiet=False)\n",
    "#data = pd.read_csv('archivo.csv') #Cristina"
   ]
  }
 ],
 "metadata": {
  "kernelspec": {
   "display_name": "pda2",
   "language": "python",
   "name": "pda2"
  },
  "language_info": {
   "codemirror_mode": {
    "name": "ipython",
    "version": 3
   },
   "file_extension": ".py",
   "mimetype": "text/x-python",
   "name": "python",
   "nbconvert_exporter": "python",
   "pygments_lexer": "ipython3",
   "version": "3.11.8"
  }
 },
 "nbformat": 4,
 "nbformat_minor": 2
}
