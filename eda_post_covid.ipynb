{
  "cells": [
    {
      "cell_type": "markdown",
      "metadata": {
        "id": "view-in-github",
        "colab_type": "text"
      },
      "source": [
        "<a href=\"https://colab.research.google.com/github/maudlcrf/rcg/blob/main/eda_post_covid.ipynb\" target=\"_parent\"><img src=\"https://colab.research.google.com/assets/colab-badge.svg\" alt=\"Open In Colab\"/></a>"
      ]
    },
    {
      "cell_type": "markdown",
      "metadata": {
        "id": "wcKP94EiuQUR"
      },
      "source": [
        "#### AI for Retail & Consumer Goods | Group Project | MBD April 2024\n",
        "\n",
        "Group Members: Maud Lecerf | Cristina Mosquera | Christopher Stephan"
      ]
    },
    {
      "cell_type": "markdown",
      "metadata": {
        "id": "cfV1BYgAuQUS"
      },
      "source": [
        "# Imports & Color Palette"
      ]
    },
    {
      "cell_type": "code",
      "execution_count": 1,
      "metadata": {
        "id": "hDkJhlkNuQUS"
      },
      "outputs": [],
      "source": [
        "import pandas as pd\n",
        "import numpy as np\n",
        "import plotly.express as px\n",
        "import plotly.io as pio\n",
        "from google.colab import drive"
      ]
    },
    {
      "cell_type": "code",
      "execution_count": 2,
      "metadata": {
        "id": "mFHoQn1NuQUT"
      },
      "outputs": [],
      "source": [
        "import warnings\n",
        "warnings.filterwarnings(\"ignore\", category=FutureWarning)\n",
        "warnings.filterwarnings(\"ignore\", category=pd.errors.SettingWithCopyWarning)\n",
        "warnings.filterwarnings(\"ignore\", category=DeprecationWarning)"
      ]
    },
    {
      "cell_type": "code",
      "execution_count": 3,
      "metadata": {
        "id": "Hs_KGKHquQUT"
      },
      "outputs": [],
      "source": [
        "# Custom Theme\n",
        "iowa = {\n",
        "    \"layout\": {\n",
        "        \"colorway\": [\"#4c3624\", \"#ff0651\", \"#ff7e06\", \"#74B36B\", \"#628395\",\n",
        "                     \"#996C48\", \"#FF5C8D\", \"#FF9633\", \"#8CC084\", \"#84A0AE\",\n",
        "                     \"#B78B66\", \"#FF85A9\", \"#FFB570\", \"#A7CEA1\", \"#A9BCC7\"],\n",
        "        \"plot_bgcolor\": \"white\",\n",
        "        \"paper_bgcolor\": \"white\",\n",
        "        \"font\": {\"color\": \"black\"},\n",
        "        \"xaxis\": {\"gridcolor\": \"lightgray\"},\n",
        "        \"yaxis\": {\"gridcolor\": \"lightgray\"},\n",
        "    }\n",
        "}\n",
        "\n",
        "# Register themes\n",
        "pio.templates[\"iowa\"] = iowa"
      ]
    },
    {
      "cell_type": "code",
      "execution_count": 4,
      "metadata": {
        "id": "4a8QcmueuQUT",
        "outputId": "95ed8bf6-1df8-4663-cf28-544103df2042",
        "colab": {
          "base_uri": "https://localhost:8080/"
        }
      },
      "outputs": [
        {
          "output_type": "stream",
          "name": "stdout",
          "text": [
            "Mounted at /content/drive\n"
          ]
        }
      ],
      "source": [
        "#data_post_covid = pd.read_csv(\"G:\\\\Drive partagés\\\\RCG\\\\Iowa_Liquor_Sales_Post_Covid.csv\") #Maud\n",
        "\n",
        "drive.mount('/content/drive') #Cris\n",
        "data_post_covid = pd.read_csv(\"/content/drive/MyDrive/Iowa_Liquor_Sales_Post_Covid.csv\") #Cris"
      ]
    },
    {
      "cell_type": "markdown",
      "metadata": {
        "id": "ROz3Te0duQUU"
      },
      "source": [
        "## Splitting the data into alcohol types"
      ]
    },
    {
      "cell_type": "code",
      "execution_count": 5,
      "metadata": {
        "id": "12YWwl4RuQUU"
      },
      "outputs": [],
      "source": [
        "## Regrouping the original categories into alcohol types\n",
        "# Define mapping of keywords to subcategories\n",
        "category_mapping = {\n",
        "    'RUM': 'RUM',\n",
        "    'VODKA': 'VODKAS',\n",
        "    'VODKAS': 'VODKAS',\n",
        "    'SCHNAPPS': 'SCHNAPPS',\n",
        "    'BRANDIES': 'BRANDIES',\n",
        "    'WHISKIES': 'WHISKIES',\n",
        "    'SCOTCH': 'WHISKIES',\n",
        "    'GINS': 'GINS',\n",
        "    'GIN': 'GINS',\n",
        "    'MEZCAL': 'MEZCAL',\n",
        "    'TEQUILA': 'TEQUILA',\n",
        "    'BOURBON': 'BOURBON',\n",
        "    'LIQUEURS': 'LIQUEURS',\n",
        "    'LIQUEUR':'LIQUEURS',\n",
        "    'AMARETTO': 'AMARETTO',\n",
        "    'CREME': 'CREME'\n",
        "}\n",
        "\n",
        "# Create a new column and assign \"OTHERS\" by default\n",
        "data_post_covid['alcohol_type'] = 'OTHERS'\n",
        "\n",
        "# Loop through mapping and assign subcategories\n",
        "for keyword, alcohol_type in category_mapping.items():\n",
        "    data_post_covid.loc[data_post_covid['category_name'].str.contains(keyword, case=False, na=False, regex=True), 'alcohol_type'] = alcohol_type\n",
        "\n"
      ]
    },
    {
      "cell_type": "code",
      "execution_count": null,
      "metadata": {
        "id": "lmYQKcdeuQUU",
        "outputId": "8dfba786-21b1-4159-e3cc-fa58218d8964"
      },
      "outputs": [
        {
          "data": {
            "text/plain": [
              "invoice_item_number      10414198\n",
              "date                         1213\n",
              "store_number                 2445\n",
              "store_name                   2515\n",
              "address                      2531\n",
              "city                          477\n",
              "zip_code                      514\n",
              "store_location              10803\n",
              "county_number                  99\n",
              "county                         99\n",
              "category                       59\n",
              "category_name                  48\n",
              "vendor_number                 345\n",
              "vendor_name                   357\n",
              "item_number                  8278\n",
              "item_description             7554\n",
              "pack                           22\n",
              "bottle_volume_(ml)             26\n",
              "state_bottle_cost            2231\n",
              "state_bottle_retail          2235\n",
              "bottles_sold                  610\n",
              "sale_(dollars)              20487\n",
              "volume_sold_(liters)         1227\n",
              "volume_sold_(gallons)        1214\n",
              "alcohol_type                   11\n",
              "dtype: int64"
            ]
          },
          "execution_count": 26,
          "metadata": {},
          "output_type": "execute_result"
        }
      ],
      "source": [
        "data_post_covid.nunique()"
      ]
    },
    {
      "cell_type": "code",
      "execution_count": null,
      "metadata": {
        "id": "LEKD1BUQuQUU",
        "outputId": "b8510e4b-60d3-44a7-8374-dd64a4adca79"
      },
      "outputs": [
        {
          "data": {
            "text/plain": [
              "alcohol_type\n",
              "VODKAS      2481955\n",
              "WHISKIES    2093746\n",
              "LIQUEURS    1377236\n",
              "RUM          903040\n",
              "OTHERS       849708\n",
              "BOURBON      842461\n",
              "TEQUILA      686286\n",
              "SCHNAPPS     486618\n",
              "BRANDIES     421626\n",
              "GINS         260273\n",
              "MEZCAL        11249\n",
              "Name: count, dtype: int64"
            ]
          },
          "execution_count": 27,
          "metadata": {},
          "output_type": "execute_result"
        }
      ],
      "source": [
        "data_post_covid['alcohol_type'].value_counts()"
      ]
    },
    {
      "cell_type": "code",
      "source": [
        "data_post_covid['category_name'].value_counts()"
      ],
      "metadata": {
        "colab": {
          "base_uri": "https://localhost:8080/",
          "height": 1000
        },
        "id": "kjRTavVfyfB9",
        "outputId": "c18d94c0-a293-452e-f7a6-0bbcd9bbc6e6"
      },
      "execution_count": 6,
      "outputs": [
        {
          "output_type": "execute_result",
          "data": {
            "text/plain": [
              "category_name\n",
              "AMERICAN VODKAS                         1595428\n",
              "CANADIAN WHISKIES                        976635\n",
              "STRAIGHT BOURBON WHISKIES                787101\n",
              "WHISKEY LIQUEUR                          630916\n",
              "AMERICAN FLAVORED VODKA                  490908\n",
              "100% AGAVE TEQUILA                       461341\n",
              "SPICED RUM                               415297\n",
              "BLENDED WHISKIES                         389725\n",
              "AMERICAN SCHNAPPS                        341068\n",
              "COCKTAILS/RTD                            325416\n",
              "TENNESSEE WHISKIES                       301266\n",
              "TEMPORARY & SPECIALTY PACKAGES           261819\n",
              "AMERICAN CORDIALS & LIQUEURS             256954\n",
              "IMPORTED VODKAS                          253908\n",
              "AMERICAN BRANDIES                        244640\n",
              "IMPORTED CORDIALS & LIQUEURS             235781\n",
              "MIXTO TEQUILA                            224945\n",
              "FLAVORED RUM                             219630\n",
              "CREAM LIQUEURS                           205245\n",
              "WHITE RUM                                189165\n",
              "IMPORTED BRANDIES                        176986\n",
              "IMPORTED SCHNAPPS                        145550\n",
              "IMPORTED FLAVORED VODKA                  141711\n",
              "AMERICAN DRY GINS                        139870\n",
              "NEUTRAL GRAIN SPIRITS FLAVORED           130917\n",
              "SCOTCH WHISKIES                          130583\n",
              "IRISH WHISKIES                           129599\n",
              "IMPORTED DRY GINS                        102009\n",
              "STRAIGHT RYE WHISKIES                     87102\n",
              "SINGLE MALT SCOTCH                        72995\n",
              "COFFEE LIQUEURS                           48340\n",
              "GOLD RUM                                  46821\n",
              "AMERICAN DISTILLED SPIRITS SPECIALTY      39763\n",
              "TRIPLE SEC                                33666\n",
              "AGED DARK RUM                             32127\n",
              "BOTTLED IN BOND BOURBON                   30385\n",
              "IMPORTED DISTILLED SPIRITS SPECIALTY      25699\n",
              "SINGLE BARREL BOURBON WHISKIES            24975\n",
              "NEUTRAL GRAIN SPIRITS                     20391\n",
              "FLAVORED GIN                              15685\n",
              "SPECIAL ORDER ITEMS                       11808\n",
              "MEZCAL                                    11249\n",
              "CORN WHISKIES                              5828\n",
              "AMERICAN SLOE GINS                         2696\n",
              "DISTILLED SPIRITS SPECIALTY                 229\n",
              "IMPORTED GINS                                13\n",
              "IMPORTED WHISKIES                            12\n",
              "AMERICAN WHISKIES                             1\n",
              "Name: count, dtype: int64"
            ],
            "text/html": [
              "<div>\n",
              "<style scoped>\n",
              "    .dataframe tbody tr th:only-of-type {\n",
              "        vertical-align: middle;\n",
              "    }\n",
              "\n",
              "    .dataframe tbody tr th {\n",
              "        vertical-align: top;\n",
              "    }\n",
              "\n",
              "    .dataframe thead th {\n",
              "        text-align: right;\n",
              "    }\n",
              "</style>\n",
              "<table border=\"1\" class=\"dataframe\">\n",
              "  <thead>\n",
              "    <tr style=\"text-align: right;\">\n",
              "      <th></th>\n",
              "      <th>count</th>\n",
              "    </tr>\n",
              "    <tr>\n",
              "      <th>category_name</th>\n",
              "      <th></th>\n",
              "    </tr>\n",
              "  </thead>\n",
              "  <tbody>\n",
              "    <tr>\n",
              "      <th>AMERICAN VODKAS</th>\n",
              "      <td>1595428</td>\n",
              "    </tr>\n",
              "    <tr>\n",
              "      <th>CANADIAN WHISKIES</th>\n",
              "      <td>976635</td>\n",
              "    </tr>\n",
              "    <tr>\n",
              "      <th>STRAIGHT BOURBON WHISKIES</th>\n",
              "      <td>787101</td>\n",
              "    </tr>\n",
              "    <tr>\n",
              "      <th>WHISKEY LIQUEUR</th>\n",
              "      <td>630916</td>\n",
              "    </tr>\n",
              "    <tr>\n",
              "      <th>AMERICAN FLAVORED VODKA</th>\n",
              "      <td>490908</td>\n",
              "    </tr>\n",
              "    <tr>\n",
              "      <th>100% AGAVE TEQUILA</th>\n",
              "      <td>461341</td>\n",
              "    </tr>\n",
              "    <tr>\n",
              "      <th>SPICED RUM</th>\n",
              "      <td>415297</td>\n",
              "    </tr>\n",
              "    <tr>\n",
              "      <th>BLENDED WHISKIES</th>\n",
              "      <td>389725</td>\n",
              "    </tr>\n",
              "    <tr>\n",
              "      <th>AMERICAN SCHNAPPS</th>\n",
              "      <td>341068</td>\n",
              "    </tr>\n",
              "    <tr>\n",
              "      <th>COCKTAILS/RTD</th>\n",
              "      <td>325416</td>\n",
              "    </tr>\n",
              "    <tr>\n",
              "      <th>TENNESSEE WHISKIES</th>\n",
              "      <td>301266</td>\n",
              "    </tr>\n",
              "    <tr>\n",
              "      <th>TEMPORARY &amp; SPECIALTY PACKAGES</th>\n",
              "      <td>261819</td>\n",
              "    </tr>\n",
              "    <tr>\n",
              "      <th>AMERICAN CORDIALS &amp; LIQUEURS</th>\n",
              "      <td>256954</td>\n",
              "    </tr>\n",
              "    <tr>\n",
              "      <th>IMPORTED VODKAS</th>\n",
              "      <td>253908</td>\n",
              "    </tr>\n",
              "    <tr>\n",
              "      <th>AMERICAN BRANDIES</th>\n",
              "      <td>244640</td>\n",
              "    </tr>\n",
              "    <tr>\n",
              "      <th>IMPORTED CORDIALS &amp; LIQUEURS</th>\n",
              "      <td>235781</td>\n",
              "    </tr>\n",
              "    <tr>\n",
              "      <th>MIXTO TEQUILA</th>\n",
              "      <td>224945</td>\n",
              "    </tr>\n",
              "    <tr>\n",
              "      <th>FLAVORED RUM</th>\n",
              "      <td>219630</td>\n",
              "    </tr>\n",
              "    <tr>\n",
              "      <th>CREAM LIQUEURS</th>\n",
              "      <td>205245</td>\n",
              "    </tr>\n",
              "    <tr>\n",
              "      <th>WHITE RUM</th>\n",
              "      <td>189165</td>\n",
              "    </tr>\n",
              "    <tr>\n",
              "      <th>IMPORTED BRANDIES</th>\n",
              "      <td>176986</td>\n",
              "    </tr>\n",
              "    <tr>\n",
              "      <th>IMPORTED SCHNAPPS</th>\n",
              "      <td>145550</td>\n",
              "    </tr>\n",
              "    <tr>\n",
              "      <th>IMPORTED FLAVORED VODKA</th>\n",
              "      <td>141711</td>\n",
              "    </tr>\n",
              "    <tr>\n",
              "      <th>AMERICAN DRY GINS</th>\n",
              "      <td>139870</td>\n",
              "    </tr>\n",
              "    <tr>\n",
              "      <th>NEUTRAL GRAIN SPIRITS FLAVORED</th>\n",
              "      <td>130917</td>\n",
              "    </tr>\n",
              "    <tr>\n",
              "      <th>SCOTCH WHISKIES</th>\n",
              "      <td>130583</td>\n",
              "    </tr>\n",
              "    <tr>\n",
              "      <th>IRISH WHISKIES</th>\n",
              "      <td>129599</td>\n",
              "    </tr>\n",
              "    <tr>\n",
              "      <th>IMPORTED DRY GINS</th>\n",
              "      <td>102009</td>\n",
              "    </tr>\n",
              "    <tr>\n",
              "      <th>STRAIGHT RYE WHISKIES</th>\n",
              "      <td>87102</td>\n",
              "    </tr>\n",
              "    <tr>\n",
              "      <th>SINGLE MALT SCOTCH</th>\n",
              "      <td>72995</td>\n",
              "    </tr>\n",
              "    <tr>\n",
              "      <th>COFFEE LIQUEURS</th>\n",
              "      <td>48340</td>\n",
              "    </tr>\n",
              "    <tr>\n",
              "      <th>GOLD RUM</th>\n",
              "      <td>46821</td>\n",
              "    </tr>\n",
              "    <tr>\n",
              "      <th>AMERICAN DISTILLED SPIRITS SPECIALTY</th>\n",
              "      <td>39763</td>\n",
              "    </tr>\n",
              "    <tr>\n",
              "      <th>TRIPLE SEC</th>\n",
              "      <td>33666</td>\n",
              "    </tr>\n",
              "    <tr>\n",
              "      <th>AGED DARK RUM</th>\n",
              "      <td>32127</td>\n",
              "    </tr>\n",
              "    <tr>\n",
              "      <th>BOTTLED IN BOND BOURBON</th>\n",
              "      <td>30385</td>\n",
              "    </tr>\n",
              "    <tr>\n",
              "      <th>IMPORTED DISTILLED SPIRITS SPECIALTY</th>\n",
              "      <td>25699</td>\n",
              "    </tr>\n",
              "    <tr>\n",
              "      <th>SINGLE BARREL BOURBON WHISKIES</th>\n",
              "      <td>24975</td>\n",
              "    </tr>\n",
              "    <tr>\n",
              "      <th>NEUTRAL GRAIN SPIRITS</th>\n",
              "      <td>20391</td>\n",
              "    </tr>\n",
              "    <tr>\n",
              "      <th>FLAVORED GIN</th>\n",
              "      <td>15685</td>\n",
              "    </tr>\n",
              "    <tr>\n",
              "      <th>SPECIAL ORDER ITEMS</th>\n",
              "      <td>11808</td>\n",
              "    </tr>\n",
              "    <tr>\n",
              "      <th>MEZCAL</th>\n",
              "      <td>11249</td>\n",
              "    </tr>\n",
              "    <tr>\n",
              "      <th>CORN WHISKIES</th>\n",
              "      <td>5828</td>\n",
              "    </tr>\n",
              "    <tr>\n",
              "      <th>AMERICAN SLOE GINS</th>\n",
              "      <td>2696</td>\n",
              "    </tr>\n",
              "    <tr>\n",
              "      <th>DISTILLED SPIRITS SPECIALTY</th>\n",
              "      <td>229</td>\n",
              "    </tr>\n",
              "    <tr>\n",
              "      <th>IMPORTED GINS</th>\n",
              "      <td>13</td>\n",
              "    </tr>\n",
              "    <tr>\n",
              "      <th>IMPORTED WHISKIES</th>\n",
              "      <td>12</td>\n",
              "    </tr>\n",
              "    <tr>\n",
              "      <th>AMERICAN WHISKIES</th>\n",
              "      <td>1</td>\n",
              "    </tr>\n",
              "  </tbody>\n",
              "</table>\n",
              "</div><br><label><b>dtype:</b> int64</label>"
            ]
          },
          "metadata": {},
          "execution_count": 6
        }
      ]
    },
    {
      "cell_type": "code",
      "execution_count": 7,
      "metadata": {
        "id": "aeT_j_BquQUV"
      },
      "outputs": [],
      "source": [
        "#separating the columns into numerical and categorical as it my be helpful later on\n",
        "numerical_cols = ['pack', 'bottle_volume_(ml)', 'state_bottle_cost', 'state_bottle_retail', 'bottles_sold', 'sale_(dollars)',\n",
        "                  'volume_sold_(liters)', 'volume_sold_(gallons)' ]\n",
        "categorical_cols = ['invoice_item_number', 'date', 'store_number', 'store_name', 'address',\n",
        "       'city', 'zip_code', 'store_location', 'county_number', 'county',\n",
        "       'category', 'category_name', 'vendor_number', 'vendor_name',\n",
        "       'item_number', 'item_description' ]"
      ]
    },
    {
      "cell_type": "code",
      "execution_count": 8,
      "metadata": {
        "id": "HwVL583SuQUV"
      },
      "outputs": [],
      "source": [
        "data_post_covid['date'] = pd.to_datetime(data_post_covid['date'])\n",
        "\n",
        "# Create new columns\n",
        "data_post_covid['year'] = data_post_covid['date'].dt.year\n",
        "data_post_covid['month'] = data_post_covid['date'].dt.month\n",
        "data_post_covid['year_month'] = data_post_covid['date'].dt.to_period('M')\n",
        "data_post_covid['weekday'] = data_post_covid['date'].dt.weekday\n",
        "\n",
        "# Grouping data by alcohol\n",
        "data_yearly_alcohol = data_post_covid.groupby(['year', 'alcohol_type'])[numerical_cols].sum().reset_index()\n",
        "data_monthly_alcohol = data_post_covid.groupby(['year', 'month', 'alcohol_type'])[numerical_cols].sum().reset_index()\n",
        "data_year_month_alcohol = data_post_covid.groupby(['year_month', 'alcohol_type'])[numerical_cols].sum().reset_index()\n",
        "data_weekday_alcohol = data_post_covid.groupby(['weekday', 'alcohol_type'])[numerical_cols].sum().reset_index()"
      ]
    },
    {
      "cell_type": "code",
      "source": [
        "# Grouping data by category\n",
        "data_yearly_category = data_post_covid.groupby(['year', 'category_name'])[numerical_cols].sum().reset_index()\n",
        "data_monthly_category = data_post_covid.groupby(['year', 'month', 'category_name'])[numerical_cols].sum().reset_index()\n",
        "data_year_month_category = data_post_covid.groupby(['year_month', 'category_name'])[numerical_cols].sum().reset_index()\n",
        "data_weekday_category = data_post_covid.groupby(['weekday', 'category_name'])[numerical_cols].sum().reset_index()"
      ],
      "metadata": {
        "id": "tasRQ3yOyuTm"
      },
      "execution_count": 9,
      "outputs": []
    },
    {
      "cell_type": "code",
      "execution_count": null,
      "metadata": {
        "id": "UQySm9GuuQUV",
        "outputId": "da61f3fe-bfbe-4ea4-be03-e7d1a3e742ca"
      },
      "outputs": [
        {
          "data": {
            "application/vnd.plotly.v1+json": {
              "config": {
                "plotlyServerURL": "https://plot.ly"
              },
              "data": [
                {
                  "alignmentgroup": "True",
                  "hovertemplate": "alcohol_type=BOURBON<br>year=%{x}<br>volume_sold_(liters)=%{y}<extra></extra>",
                  "legendgroup": "BOURBON",
                  "marker": {
                    "color": "#4c3624",
                    "pattern": {
                      "shape": ""
                    }
                  },
                  "name": "BOURBON",
                  "offsetgroup": "BOURBON",
                  "orientation": "v",
                  "showlegend": true,
                  "textposition": "auto",
                  "type": "bar",
                  "x": [
                    2021,
                    2022,
                    2023,
                    2024
                  ],
                  "xaxis": "x",
                  "y": [
                    1387522.45,
                    1368936.16,
                    1434999.04,
                    1461189.95
                  ],
                  "yaxis": "y"
                },
                {
                  "alignmentgroup": "True",
                  "hovertemplate": "alcohol_type=BRANDIES<br>year=%{x}<br>volume_sold_(liters)=%{y}<extra></extra>",
                  "legendgroup": "BRANDIES",
                  "marker": {
                    "color": "#ff0651",
                    "pattern": {
                      "shape": ""
                    }
                  },
                  "name": "BRANDIES",
                  "offsetgroup": "BRANDIES",
                  "orientation": "v",
                  "showlegend": true,
                  "textposition": "auto",
                  "type": "bar",
                  "x": [
                    2021,
                    2022,
                    2023,
                    2024
                  ],
                  "xaxis": "x",
                  "y": [
                    747893.55,
                    645185.01,
                    590307.98,
                    555263.49
                  ],
                  "yaxis": "y"
                },
                {
                  "alignmentgroup": "True",
                  "hovertemplate": "alcohol_type=GINS<br>year=%{x}<br>volume_sold_(liters)=%{y}<extra></extra>",
                  "legendgroup": "GINS",
                  "marker": {
                    "color": "#ff7e06",
                    "pattern": {
                      "shape": ""
                    }
                  },
                  "name": "GINS",
                  "offsetgroup": "GINS",
                  "orientation": "v",
                  "showlegend": true,
                  "textposition": "auto",
                  "type": "bar",
                  "x": [
                    2021,
                    2022,
                    2023,
                    2024
                  ],
                  "xaxis": "x",
                  "y": [
                    584394.29,
                    529532.81,
                    523641.44,
                    506830.37
                  ],
                  "yaxis": "y"
                },
                {
                  "alignmentgroup": "True",
                  "hovertemplate": "alcohol_type=LIQUEURS<br>year=%{x}<br>volume_sold_(liters)=%{y}<extra></extra>",
                  "legendgroup": "LIQUEURS",
                  "marker": {
                    "color": "#74B36B",
                    "pattern": {
                      "shape": ""
                    }
                  },
                  "name": "LIQUEURS",
                  "offsetgroup": "LIQUEURS",
                  "orientation": "v",
                  "showlegend": true,
                  "textposition": "auto",
                  "type": "bar",
                  "x": [
                    2021,
                    2022,
                    2023,
                    2024
                  ],
                  "xaxis": "x",
                  "y": [
                    2242278.1,
                    2161224.35,
                    2117832.91,
                    2001161.12
                  ],
                  "yaxis": "y"
                },
                {
                  "alignmentgroup": "True",
                  "hovertemplate": "alcohol_type=MEZCAL<br>year=%{x}<br>volume_sold_(liters)=%{y}<extra></extra>",
                  "legendgroup": "MEZCAL",
                  "marker": {
                    "color": "#628395",
                    "pattern": {
                      "shape": ""
                    }
                  },
                  "name": "MEZCAL",
                  "offsetgroup": "MEZCAL",
                  "orientation": "v",
                  "showlegend": true,
                  "textposition": "auto",
                  "type": "bar",
                  "x": [
                    2021,
                    2022,
                    2023,
                    2024
                  ],
                  "xaxis": "x",
                  "y": [
                    9976.5,
                    11542.2,
                    11673.15,
                    10928.6
                  ],
                  "yaxis": "y"
                },
                {
                  "alignmentgroup": "True",
                  "hovertemplate": "alcohol_type=OTHERS<br>year=%{x}<br>volume_sold_(liters)=%{y}<extra></extra>",
                  "legendgroup": "OTHERS",
                  "marker": {
                    "color": "#996C48",
                    "pattern": {
                      "shape": ""
                    }
                  },
                  "name": "OTHERS",
                  "offsetgroup": "OTHERS",
                  "orientation": "v",
                  "showlegend": true,
                  "textposition": "auto",
                  "type": "bar",
                  "x": [
                    2021,
                    2022,
                    2023,
                    2024
                  ],
                  "xaxis": "x",
                  "y": [
                    2197265.02,
                    2143867.7,
                    2021633.2,
                    2196037.5
                  ],
                  "yaxis": "y"
                },
                {
                  "alignmentgroup": "True",
                  "hovertemplate": "alcohol_type=RUM<br>year=%{x}<br>volume_sold_(liters)=%{y}<extra></extra>",
                  "legendgroup": "RUM",
                  "marker": {
                    "color": "#FF5C8D",
                    "pattern": {
                      "shape": ""
                    }
                  },
                  "name": "RUM",
                  "offsetgroup": "RUM",
                  "orientation": "v",
                  "showlegend": true,
                  "textposition": "auto",
                  "type": "bar",
                  "x": [
                    2021,
                    2022,
                    2023,
                    2024
                  ],
                  "xaxis": "x",
                  "y": [
                    2819322.52,
                    2546934.33,
                    2584873.7,
                    2386968.1
                  ],
                  "yaxis": "y"
                },
                {
                  "alignmentgroup": "True",
                  "hovertemplate": "alcohol_type=SCHNAPPS<br>year=%{x}<br>volume_sold_(liters)=%{y}<extra></extra>",
                  "legendgroup": "SCHNAPPS",
                  "marker": {
                    "color": "#FF9633",
                    "pattern": {
                      "shape": ""
                    }
                  },
                  "name": "SCHNAPPS",
                  "offsetgroup": "SCHNAPPS",
                  "orientation": "v",
                  "showlegend": true,
                  "textposition": "auto",
                  "type": "bar",
                  "x": [
                    2021,
                    2022,
                    2023,
                    2024
                  ],
                  "xaxis": "x",
                  "y": [
                    875188,
                    801009.92,
                    775874.15,
                    739155.68
                  ],
                  "yaxis": "y"
                },
                {
                  "alignmentgroup": "True",
                  "hovertemplate": "alcohol_type=TEQUILA<br>year=%{x}<br>volume_sold_(liters)=%{y}<extra></extra>",
                  "legendgroup": "TEQUILA",
                  "marker": {
                    "color": "#8CC084",
                    "pattern": {
                      "shape": ""
                    }
                  },
                  "name": "TEQUILA",
                  "offsetgroup": "TEQUILA",
                  "orientation": "v",
                  "showlegend": true,
                  "textposition": "auto",
                  "type": "bar",
                  "x": [
                    2021,
                    2022,
                    2023,
                    2024
                  ],
                  "xaxis": "x",
                  "y": [
                    1257134.36,
                    1275403.24,
                    1378429.54,
                    1388541.32
                  ],
                  "yaxis": "y"
                },
                {
                  "alignmentgroup": "True",
                  "hovertemplate": "alcohol_type=VODKAS<br>year=%{x}<br>volume_sold_(liters)=%{y}<extra></extra>",
                  "legendgroup": "VODKAS",
                  "marker": {
                    "color": "#84A0AE",
                    "pattern": {
                      "shape": ""
                    }
                  },
                  "name": "VODKAS",
                  "offsetgroup": "VODKAS",
                  "orientation": "v",
                  "showlegend": true,
                  "textposition": "auto",
                  "type": "bar",
                  "x": [
                    2021,
                    2022,
                    2023,
                    2024
                  ],
                  "xaxis": "x",
                  "y": [
                    7492451.41,
                    7246432.05,
                    7459786.16,
                    7394631.46
                  ],
                  "yaxis": "y"
                },
                {
                  "alignmentgroup": "True",
                  "hovertemplate": "alcohol_type=WHISKIES<br>year=%{x}<br>volume_sold_(liters)=%{y}<extra></extra>",
                  "legendgroup": "WHISKIES",
                  "marker": {
                    "color": "#B78B66",
                    "pattern": {
                      "shape": ""
                    }
                  },
                  "name": "WHISKIES",
                  "offsetgroup": "WHISKIES",
                  "orientation": "v",
                  "showlegend": true,
                  "textposition": "auto",
                  "type": "bar",
                  "x": [
                    2021,
                    2022,
                    2023,
                    2024
                  ],
                  "xaxis": "x",
                  "y": [
                    5138826.46,
                    4819440.45,
                    4824739.39,
                    4664797.65
                  ],
                  "yaxis": "y"
                }
              ],
              "layout": {
                "barmode": "relative",
                "legend": {
                  "title": {
                    "text": "alcohol_type"
                  },
                  "tracegroupgap": 0
                },
                "margin": {
                  "t": 60
                },
                "template": {
                  "layout": {
                    "colorway": [
                      "#4c3624",
                      "#ff0651",
                      "#ff7e06",
                      "#74B36B",
                      "#628395",
                      "#996C48",
                      "#FF5C8D",
                      "#FF9633",
                      "#8CC084",
                      "#84A0AE",
                      "#B78B66",
                      "#FF85A9",
                      "#FFB570",
                      "#A7CEA1",
                      "#A9BCC7"
                    ],
                    "font": {
                      "color": "black"
                    },
                    "paper_bgcolor": "white",
                    "plot_bgcolor": "white",
                    "xaxis": {
                      "gridcolor": "lightgray"
                    },
                    "yaxis": {
                      "gridcolor": "lightgray"
                    }
                  }
                },
                "xaxis": {
                  "anchor": "y",
                  "domain": [
                    0,
                    1
                  ],
                  "title": {
                    "text": "year"
                  }
                },
                "yaxis": {
                  "anchor": "x",
                  "domain": [
                    0,
                    1
                  ],
                  "title": {
                    "text": "volume_sold_(liters)"
                  }
                }
              }
            }
          },
          "metadata": {},
          "output_type": "display_data"
        }
      ],
      "source": [
        "px.bar(data_yearly, x='year', y='volume_sold_(liters)', color= 'alcohol_type', template = iowa)"
      ]
    },
    {
      "cell_type": "code",
      "execution_count": null,
      "metadata": {
        "id": "F_Shc1pguQUV",
        "outputId": "e3889574-c10b-4fb3-9a30-ff64d6c3d280"
      },
      "outputs": [
        {
          "data": {
            "application/vnd.plotly.v1+json": {
              "config": {
                "plotlyServerURL": "https://plot.ly"
              },
              "data": [
                {
                  "hovertemplate": "alcohol_type=BOURBON<br>year=%{x}<br>volume_sold_(liters)=%{y}<extra></extra>",
                  "legendgroup": "BOURBON",
                  "line": {
                    "color": "#4c3624",
                    "dash": "solid"
                  },
                  "marker": {
                    "symbol": "circle"
                  },
                  "mode": "lines",
                  "name": "BOURBON",
                  "orientation": "v",
                  "showlegend": true,
                  "type": "scatter",
                  "x": [
                    2021,
                    2022,
                    2023,
                    2024
                  ],
                  "xaxis": "x",
                  "y": [
                    1387522.45,
                    1368936.16,
                    1434999.04,
                    1461189.95
                  ],
                  "yaxis": "y"
                },
                {
                  "hovertemplate": "alcohol_type=BRANDIES<br>year=%{x}<br>volume_sold_(liters)=%{y}<extra></extra>",
                  "legendgroup": "BRANDIES",
                  "line": {
                    "color": "#ff0651",
                    "dash": "solid"
                  },
                  "marker": {
                    "symbol": "circle"
                  },
                  "mode": "lines",
                  "name": "BRANDIES",
                  "orientation": "v",
                  "showlegend": true,
                  "type": "scatter",
                  "x": [
                    2021,
                    2022,
                    2023,
                    2024
                  ],
                  "xaxis": "x",
                  "y": [
                    747893.55,
                    645185.01,
                    590307.98,
                    555263.49
                  ],
                  "yaxis": "y"
                },
                {
                  "hovertemplate": "alcohol_type=GINS<br>year=%{x}<br>volume_sold_(liters)=%{y}<extra></extra>",
                  "legendgroup": "GINS",
                  "line": {
                    "color": "#ff7e06",
                    "dash": "solid"
                  },
                  "marker": {
                    "symbol": "circle"
                  },
                  "mode": "lines",
                  "name": "GINS",
                  "orientation": "v",
                  "showlegend": true,
                  "type": "scatter",
                  "x": [
                    2021,
                    2022,
                    2023,
                    2024
                  ],
                  "xaxis": "x",
                  "y": [
                    584394.29,
                    529532.81,
                    523641.44,
                    506830.37
                  ],
                  "yaxis": "y"
                },
                {
                  "hovertemplate": "alcohol_type=LIQUEURS<br>year=%{x}<br>volume_sold_(liters)=%{y}<extra></extra>",
                  "legendgroup": "LIQUEURS",
                  "line": {
                    "color": "#74B36B",
                    "dash": "solid"
                  },
                  "marker": {
                    "symbol": "circle"
                  },
                  "mode": "lines",
                  "name": "LIQUEURS",
                  "orientation": "v",
                  "showlegend": true,
                  "type": "scatter",
                  "x": [
                    2021,
                    2022,
                    2023,
                    2024
                  ],
                  "xaxis": "x",
                  "y": [
                    2242278.1,
                    2161224.35,
                    2117832.91,
                    2001161.12
                  ],
                  "yaxis": "y"
                },
                {
                  "hovertemplate": "alcohol_type=MEZCAL<br>year=%{x}<br>volume_sold_(liters)=%{y}<extra></extra>",
                  "legendgroup": "MEZCAL",
                  "line": {
                    "color": "#628395",
                    "dash": "solid"
                  },
                  "marker": {
                    "symbol": "circle"
                  },
                  "mode": "lines",
                  "name": "MEZCAL",
                  "orientation": "v",
                  "showlegend": true,
                  "type": "scatter",
                  "x": [
                    2021,
                    2022,
                    2023,
                    2024
                  ],
                  "xaxis": "x",
                  "y": [
                    9976.5,
                    11542.2,
                    11673.15,
                    10928.6
                  ],
                  "yaxis": "y"
                },
                {
                  "hovertemplate": "alcohol_type=OTHERS<br>year=%{x}<br>volume_sold_(liters)=%{y}<extra></extra>",
                  "legendgroup": "OTHERS",
                  "line": {
                    "color": "#996C48",
                    "dash": "solid"
                  },
                  "marker": {
                    "symbol": "circle"
                  },
                  "mode": "lines",
                  "name": "OTHERS",
                  "orientation": "v",
                  "showlegend": true,
                  "type": "scatter",
                  "x": [
                    2021,
                    2022,
                    2023,
                    2024
                  ],
                  "xaxis": "x",
                  "y": [
                    2197265.02,
                    2143867.7,
                    2021633.2,
                    2196037.5
                  ],
                  "yaxis": "y"
                },
                {
                  "hovertemplate": "alcohol_type=RUM<br>year=%{x}<br>volume_sold_(liters)=%{y}<extra></extra>",
                  "legendgroup": "RUM",
                  "line": {
                    "color": "#FF5C8D",
                    "dash": "solid"
                  },
                  "marker": {
                    "symbol": "circle"
                  },
                  "mode": "lines",
                  "name": "RUM",
                  "orientation": "v",
                  "showlegend": true,
                  "type": "scatter",
                  "x": [
                    2021,
                    2022,
                    2023,
                    2024
                  ],
                  "xaxis": "x",
                  "y": [
                    2819322.52,
                    2546934.33,
                    2584873.7,
                    2386968.1
                  ],
                  "yaxis": "y"
                },
                {
                  "hovertemplate": "alcohol_type=SCHNAPPS<br>year=%{x}<br>volume_sold_(liters)=%{y}<extra></extra>",
                  "legendgroup": "SCHNAPPS",
                  "line": {
                    "color": "#FF9633",
                    "dash": "solid"
                  },
                  "marker": {
                    "symbol": "circle"
                  },
                  "mode": "lines",
                  "name": "SCHNAPPS",
                  "orientation": "v",
                  "showlegend": true,
                  "type": "scatter",
                  "x": [
                    2021,
                    2022,
                    2023,
                    2024
                  ],
                  "xaxis": "x",
                  "y": [
                    875188,
                    801009.92,
                    775874.15,
                    739155.68
                  ],
                  "yaxis": "y"
                },
                {
                  "hovertemplate": "alcohol_type=TEQUILA<br>year=%{x}<br>volume_sold_(liters)=%{y}<extra></extra>",
                  "legendgroup": "TEQUILA",
                  "line": {
                    "color": "#8CC084",
                    "dash": "solid"
                  },
                  "marker": {
                    "symbol": "circle"
                  },
                  "mode": "lines",
                  "name": "TEQUILA",
                  "orientation": "v",
                  "showlegend": true,
                  "type": "scatter",
                  "x": [
                    2021,
                    2022,
                    2023,
                    2024
                  ],
                  "xaxis": "x",
                  "y": [
                    1257134.36,
                    1275403.24,
                    1378429.54,
                    1388541.32
                  ],
                  "yaxis": "y"
                },
                {
                  "hovertemplate": "alcohol_type=VODKAS<br>year=%{x}<br>volume_sold_(liters)=%{y}<extra></extra>",
                  "legendgroup": "VODKAS",
                  "line": {
                    "color": "#84A0AE",
                    "dash": "solid"
                  },
                  "marker": {
                    "symbol": "circle"
                  },
                  "mode": "lines",
                  "name": "VODKAS",
                  "orientation": "v",
                  "showlegend": true,
                  "type": "scatter",
                  "x": [
                    2021,
                    2022,
                    2023,
                    2024
                  ],
                  "xaxis": "x",
                  "y": [
                    7492451.41,
                    7246432.05,
                    7459786.16,
                    7394631.46
                  ],
                  "yaxis": "y"
                },
                {
                  "hovertemplate": "alcohol_type=WHISKIES<br>year=%{x}<br>volume_sold_(liters)=%{y}<extra></extra>",
                  "legendgroup": "WHISKIES",
                  "line": {
                    "color": "#B78B66",
                    "dash": "solid"
                  },
                  "marker": {
                    "symbol": "circle"
                  },
                  "mode": "lines",
                  "name": "WHISKIES",
                  "orientation": "v",
                  "showlegend": true,
                  "type": "scatter",
                  "x": [
                    2021,
                    2022,
                    2023,
                    2024
                  ],
                  "xaxis": "x",
                  "y": [
                    5138826.46,
                    4819440.45,
                    4824739.39,
                    4664797.65
                  ],
                  "yaxis": "y"
                }
              ],
              "layout": {
                "legend": {
                  "title": {
                    "text": "alcohol_type"
                  },
                  "tracegroupgap": 0
                },
                "margin": {
                  "t": 60
                },
                "template": {
                  "layout": {
                    "colorway": [
                      "#4c3624",
                      "#ff0651",
                      "#ff7e06",
                      "#74B36B",
                      "#628395",
                      "#996C48",
                      "#FF5C8D",
                      "#FF9633",
                      "#8CC084",
                      "#84A0AE",
                      "#B78B66",
                      "#FF85A9",
                      "#FFB570",
                      "#A7CEA1",
                      "#A9BCC7"
                    ],
                    "font": {
                      "color": "black"
                    },
                    "paper_bgcolor": "white",
                    "plot_bgcolor": "white",
                    "xaxis": {
                      "gridcolor": "lightgray"
                    },
                    "yaxis": {
                      "gridcolor": "lightgray"
                    }
                  }
                },
                "xaxis": {
                  "anchor": "y",
                  "domain": [
                    0,
                    1
                  ],
                  "title": {
                    "text": "year"
                  }
                },
                "yaxis": {
                  "anchor": "x",
                  "domain": [
                    0,
                    1
                  ],
                  "title": {
                    "text": "volume_sold_(liters)"
                  }
                }
              }
            }
          },
          "metadata": {},
          "output_type": "display_data"
        }
      ],
      "source": [
        "px.line(data_yearly, x='year', y='volume_sold_(liters)', color= 'alcohol_type', template = iowa)"
      ]
    },
    {
      "cell_type": "code",
      "execution_count": null,
      "metadata": {
        "id": "dSimsikcuQUV",
        "outputId": "35c9ddd6-fdc5-449a-8f94-3edd065ab38b"
      },
      "outputs": [
        {
          "data": {
            "application/vnd.plotly.v1+json": {
              "config": {
                "plotlyServerURL": "https://plot.ly"
              },
              "data": [
                {
                  "alignmentgroup": "True",
                  "hovertemplate": "alcohol_type=BOURBON<br>year=%{x}<br>bottles_sold=%{y}<extra></extra>",
                  "legendgroup": "BOURBON",
                  "marker": {
                    "color": "#4c3624",
                    "pattern": {
                      "shape": ""
                    }
                  },
                  "name": "BOURBON",
                  "offsetgroup": "BOURBON",
                  "orientation": "v",
                  "showlegend": true,
                  "textposition": "auto",
                  "type": "bar",
                  "x": [
                    2021,
                    2022,
                    2023,
                    2024
                  ],
                  "xaxis": "x",
                  "y": [
                    1742865,
                    1714201,
                    1809473,
                    1824041
                  ],
                  "yaxis": "y"
                },
                {
                  "alignmentgroup": "True",
                  "hovertemplate": "alcohol_type=BRANDIES<br>year=%{x}<br>bottles_sold=%{y}<extra></extra>",
                  "legendgroup": "BRANDIES",
                  "marker": {
                    "color": "#ff0651",
                    "pattern": {
                      "shape": ""
                    }
                  },
                  "name": "BRANDIES",
                  "offsetgroup": "BRANDIES",
                  "orientation": "v",
                  "showlegend": true,
                  "textposition": "auto",
                  "type": "bar",
                  "x": [
                    2021,
                    2022,
                    2023,
                    2024
                  ],
                  "xaxis": "x",
                  "y": [
                    1555900,
                    1295501,
                    1200369,
                    1115008
                  ],
                  "yaxis": "y"
                },
                {
                  "alignmentgroup": "True",
                  "hovertemplate": "alcohol_type=GINS<br>year=%{x}<br>bottles_sold=%{y}<extra></extra>",
                  "legendgroup": "GINS",
                  "marker": {
                    "color": "#ff7e06",
                    "pattern": {
                      "shape": ""
                    }
                  },
                  "name": "GINS",
                  "offsetgroup": "GINS",
                  "orientation": "v",
                  "showlegend": true,
                  "textposition": "auto",
                  "type": "bar",
                  "x": [
                    2021,
                    2022,
                    2023,
                    2024
                  ],
                  "xaxis": "x",
                  "y": [
                    688088,
                    596377,
                    604740,
                    595660
                  ],
                  "yaxis": "y"
                },
                {
                  "alignmentgroup": "True",
                  "hovertemplate": "alcohol_type=LIQUEURS<br>year=%{x}<br>bottles_sold=%{y}<extra></extra>",
                  "legendgroup": "LIQUEURS",
                  "marker": {
                    "color": "#74B36B",
                    "pattern": {
                      "shape": ""
                    }
                  },
                  "name": "LIQUEURS",
                  "offsetgroup": "LIQUEURS",
                  "orientation": "v",
                  "showlegend": true,
                  "textposition": "auto",
                  "type": "bar",
                  "x": [
                    2021,
                    2022,
                    2023,
                    2024
                  ],
                  "xaxis": "x",
                  "y": [
                    5508279,
                    5687114,
                    5882978,
                    5985583
                  ],
                  "yaxis": "y"
                },
                {
                  "alignmentgroup": "True",
                  "hovertemplate": "alcohol_type=MEZCAL<br>year=%{x}<br>bottles_sold=%{y}<extra></extra>",
                  "legendgroup": "MEZCAL",
                  "marker": {
                    "color": "#628395",
                    "pattern": {
                      "shape": ""
                    }
                  },
                  "name": "MEZCAL",
                  "offsetgroup": "MEZCAL",
                  "orientation": "v",
                  "showlegend": true,
                  "textposition": "auto",
                  "type": "bar",
                  "x": [
                    2021,
                    2022,
                    2023,
                    2024
                  ],
                  "xaxis": "x",
                  "y": [
                    13233,
                    15390,
                    15550,
                    14477
                  ],
                  "yaxis": "y"
                },
                {
                  "alignmentgroup": "True",
                  "hovertemplate": "alcohol_type=OTHERS<br>year=%{x}<br>bottles_sold=%{y}<extra></extra>",
                  "legendgroup": "OTHERS",
                  "marker": {
                    "color": "#996C48",
                    "pattern": {
                      "shape": ""
                    }
                  },
                  "name": "OTHERS",
                  "offsetgroup": "OTHERS",
                  "orientation": "v",
                  "showlegend": true,
                  "textposition": "auto",
                  "type": "bar",
                  "x": [
                    2021,
                    2022,
                    2023,
                    2024
                  ],
                  "xaxis": "x",
                  "y": [
                    2043647,
                    2092656,
                    1980789,
                    2269181
                  ],
                  "yaxis": "y"
                },
                {
                  "alignmentgroup": "True",
                  "hovertemplate": "alcohol_type=RUM<br>year=%{x}<br>bottles_sold=%{y}<extra></extra>",
                  "legendgroup": "RUM",
                  "marker": {
                    "color": "#FF5C8D",
                    "pattern": {
                      "shape": ""
                    }
                  },
                  "name": "RUM",
                  "offsetgroup": "RUM",
                  "orientation": "v",
                  "showlegend": true,
                  "textposition": "auto",
                  "type": "bar",
                  "x": [
                    2021,
                    2022,
                    2023,
                    2024
                  ],
                  "xaxis": "x",
                  "y": [
                    2876552,
                    2617558,
                    2614821,
                    2415911
                  ],
                  "yaxis": "y"
                },
                {
                  "alignmentgroup": "True",
                  "hovertemplate": "alcohol_type=SCHNAPPS<br>year=%{x}<br>bottles_sold=%{y}<extra></extra>",
                  "legendgroup": "SCHNAPPS",
                  "marker": {
                    "color": "#FF9633",
                    "pattern": {
                      "shape": ""
                    }
                  },
                  "name": "SCHNAPPS",
                  "offsetgroup": "SCHNAPPS",
                  "orientation": "v",
                  "showlegend": true,
                  "textposition": "auto",
                  "type": "bar",
                  "x": [
                    2021,
                    2022,
                    2023,
                    2024
                  ],
                  "xaxis": "x",
                  "y": [
                    1183747,
                    1168188,
                    1303502,
                    1391745
                  ],
                  "yaxis": "y"
                },
                {
                  "alignmentgroup": "True",
                  "hovertemplate": "alcohol_type=TEQUILA<br>year=%{x}<br>bottles_sold=%{y}<extra></extra>",
                  "legendgroup": "TEQUILA",
                  "marker": {
                    "color": "#8CC084",
                    "pattern": {
                      "shape": ""
                    }
                  },
                  "name": "TEQUILA",
                  "offsetgroup": "TEQUILA",
                  "orientation": "v",
                  "showlegend": true,
                  "textposition": "auto",
                  "type": "bar",
                  "x": [
                    2021,
                    2022,
                    2023,
                    2024
                  ],
                  "xaxis": "x",
                  "y": [
                    1616833,
                    1703739,
                    1911964,
                    1972159
                  ],
                  "yaxis": "y"
                },
                {
                  "alignmentgroup": "True",
                  "hovertemplate": "alcohol_type=VODKAS<br>year=%{x}<br>bottles_sold=%{y}<extra></extra>",
                  "legendgroup": "VODKAS",
                  "marker": {
                    "color": "#84A0AE",
                    "pattern": {
                      "shape": ""
                    }
                  },
                  "name": "VODKAS",
                  "offsetgroup": "VODKAS",
                  "orientation": "v",
                  "showlegend": true,
                  "textposition": "auto",
                  "type": "bar",
                  "x": [
                    2021,
                    2022,
                    2023,
                    2024
                  ],
                  "xaxis": "x",
                  "y": [
                    8270436,
                    8229267,
                    8527908,
                    8530078
                  ],
                  "yaxis": "y"
                },
                {
                  "alignmentgroup": "True",
                  "hovertemplate": "alcohol_type=WHISKIES<br>year=%{x}<br>bottles_sold=%{y}<extra></extra>",
                  "legendgroup": "WHISKIES",
                  "marker": {
                    "color": "#B78B66",
                    "pattern": {
                      "shape": ""
                    }
                  },
                  "name": "WHISKIES",
                  "offsetgroup": "WHISKIES",
                  "orientation": "v",
                  "showlegend": true,
                  "textposition": "auto",
                  "type": "bar",
                  "x": [
                    2021,
                    2022,
                    2023,
                    2024
                  ],
                  "xaxis": "x",
                  "y": [
                    5701689,
                    5290891,
                    5404781,
                    5270055
                  ],
                  "yaxis": "y"
                }
              ],
              "layout": {
                "barmode": "relative",
                "legend": {
                  "title": {
                    "text": "alcohol_type"
                  },
                  "tracegroupgap": 0
                },
                "margin": {
                  "t": 60
                },
                "template": {
                  "layout": {
                    "colorway": [
                      "#4c3624",
                      "#ff0651",
                      "#ff7e06",
                      "#74B36B",
                      "#628395",
                      "#996C48",
                      "#FF5C8D",
                      "#FF9633",
                      "#8CC084",
                      "#84A0AE",
                      "#B78B66",
                      "#FF85A9",
                      "#FFB570",
                      "#A7CEA1",
                      "#A9BCC7"
                    ],
                    "font": {
                      "color": "black"
                    },
                    "paper_bgcolor": "white",
                    "plot_bgcolor": "white",
                    "xaxis": {
                      "gridcolor": "lightgray"
                    },
                    "yaxis": {
                      "gridcolor": "lightgray"
                    }
                  }
                },
                "xaxis": {
                  "anchor": "y",
                  "domain": [
                    0,
                    1
                  ],
                  "title": {
                    "text": "year"
                  }
                },
                "yaxis": {
                  "anchor": "x",
                  "domain": [
                    0,
                    1
                  ],
                  "title": {
                    "text": "bottles_sold"
                  }
                }
              }
            }
          },
          "metadata": {},
          "output_type": "display_data"
        }
      ],
      "source": [
        "px.bar(data_yearly, x='year', y='bottles_sold', color= 'alcohol_type', template = iowa)"
      ]
    },
    {
      "cell_type": "code",
      "execution_count": null,
      "metadata": {
        "id": "AEjp9w4DuQUV",
        "outputId": "ae357ac9-a766-452d-c488-19e8162e0fb9"
      },
      "outputs": [
        {
          "data": {
            "application/vnd.plotly.v1+json": {
              "config": {
                "plotlyServerURL": "https://plot.ly"
              },
              "data": [
                {
                  "hovertemplate": "alcohol_type=BOURBON<br>year=%{x}<br>bottles_sold=%{y}<extra></extra>",
                  "legendgroup": "BOURBON",
                  "line": {
                    "color": "#4c3624",
                    "dash": "solid"
                  },
                  "marker": {
                    "symbol": "circle"
                  },
                  "mode": "lines",
                  "name": "BOURBON",
                  "orientation": "v",
                  "showlegend": true,
                  "type": "scatter",
                  "x": [
                    2021,
                    2022,
                    2023,
                    2024
                  ],
                  "xaxis": "x",
                  "y": [
                    1742865,
                    1714201,
                    1809473,
                    1824041
                  ],
                  "yaxis": "y"
                },
                {
                  "hovertemplate": "alcohol_type=BRANDIES<br>year=%{x}<br>bottles_sold=%{y}<extra></extra>",
                  "legendgroup": "BRANDIES",
                  "line": {
                    "color": "#ff0651",
                    "dash": "solid"
                  },
                  "marker": {
                    "symbol": "circle"
                  },
                  "mode": "lines",
                  "name": "BRANDIES",
                  "orientation": "v",
                  "showlegend": true,
                  "type": "scatter",
                  "x": [
                    2021,
                    2022,
                    2023,
                    2024
                  ],
                  "xaxis": "x",
                  "y": [
                    1555900,
                    1295501,
                    1200369,
                    1115008
                  ],
                  "yaxis": "y"
                },
                {
                  "hovertemplate": "alcohol_type=GINS<br>year=%{x}<br>bottles_sold=%{y}<extra></extra>",
                  "legendgroup": "GINS",
                  "line": {
                    "color": "#ff7e06",
                    "dash": "solid"
                  },
                  "marker": {
                    "symbol": "circle"
                  },
                  "mode": "lines",
                  "name": "GINS",
                  "orientation": "v",
                  "showlegend": true,
                  "type": "scatter",
                  "x": [
                    2021,
                    2022,
                    2023,
                    2024
                  ],
                  "xaxis": "x",
                  "y": [
                    688088,
                    596377,
                    604740,
                    595660
                  ],
                  "yaxis": "y"
                },
                {
                  "hovertemplate": "alcohol_type=LIQUEURS<br>year=%{x}<br>bottles_sold=%{y}<extra></extra>",
                  "legendgroup": "LIQUEURS",
                  "line": {
                    "color": "#74B36B",
                    "dash": "solid"
                  },
                  "marker": {
                    "symbol": "circle"
                  },
                  "mode": "lines",
                  "name": "LIQUEURS",
                  "orientation": "v",
                  "showlegend": true,
                  "type": "scatter",
                  "x": [
                    2021,
                    2022,
                    2023,
                    2024
                  ],
                  "xaxis": "x",
                  "y": [
                    5508279,
                    5687114,
                    5882978,
                    5985583
                  ],
                  "yaxis": "y"
                },
                {
                  "hovertemplate": "alcohol_type=MEZCAL<br>year=%{x}<br>bottles_sold=%{y}<extra></extra>",
                  "legendgroup": "MEZCAL",
                  "line": {
                    "color": "#628395",
                    "dash": "solid"
                  },
                  "marker": {
                    "symbol": "circle"
                  },
                  "mode": "lines",
                  "name": "MEZCAL",
                  "orientation": "v",
                  "showlegend": true,
                  "type": "scatter",
                  "x": [
                    2021,
                    2022,
                    2023,
                    2024
                  ],
                  "xaxis": "x",
                  "y": [
                    13233,
                    15390,
                    15550,
                    14477
                  ],
                  "yaxis": "y"
                },
                {
                  "hovertemplate": "alcohol_type=OTHERS<br>year=%{x}<br>bottles_sold=%{y}<extra></extra>",
                  "legendgroup": "OTHERS",
                  "line": {
                    "color": "#996C48",
                    "dash": "solid"
                  },
                  "marker": {
                    "symbol": "circle"
                  },
                  "mode": "lines",
                  "name": "OTHERS",
                  "orientation": "v",
                  "showlegend": true,
                  "type": "scatter",
                  "x": [
                    2021,
                    2022,
                    2023,
                    2024
                  ],
                  "xaxis": "x",
                  "y": [
                    2043647,
                    2092656,
                    1980789,
                    2269181
                  ],
                  "yaxis": "y"
                },
                {
                  "hovertemplate": "alcohol_type=RUM<br>year=%{x}<br>bottles_sold=%{y}<extra></extra>",
                  "legendgroup": "RUM",
                  "line": {
                    "color": "#FF5C8D",
                    "dash": "solid"
                  },
                  "marker": {
                    "symbol": "circle"
                  },
                  "mode": "lines",
                  "name": "RUM",
                  "orientation": "v",
                  "showlegend": true,
                  "type": "scatter",
                  "x": [
                    2021,
                    2022,
                    2023,
                    2024
                  ],
                  "xaxis": "x",
                  "y": [
                    2876552,
                    2617558,
                    2614821,
                    2415911
                  ],
                  "yaxis": "y"
                },
                {
                  "hovertemplate": "alcohol_type=SCHNAPPS<br>year=%{x}<br>bottles_sold=%{y}<extra></extra>",
                  "legendgroup": "SCHNAPPS",
                  "line": {
                    "color": "#FF9633",
                    "dash": "solid"
                  },
                  "marker": {
                    "symbol": "circle"
                  },
                  "mode": "lines",
                  "name": "SCHNAPPS",
                  "orientation": "v",
                  "showlegend": true,
                  "type": "scatter",
                  "x": [
                    2021,
                    2022,
                    2023,
                    2024
                  ],
                  "xaxis": "x",
                  "y": [
                    1183747,
                    1168188,
                    1303502,
                    1391745
                  ],
                  "yaxis": "y"
                },
                {
                  "hovertemplate": "alcohol_type=TEQUILA<br>year=%{x}<br>bottles_sold=%{y}<extra></extra>",
                  "legendgroup": "TEQUILA",
                  "line": {
                    "color": "#8CC084",
                    "dash": "solid"
                  },
                  "marker": {
                    "symbol": "circle"
                  },
                  "mode": "lines",
                  "name": "TEQUILA",
                  "orientation": "v",
                  "showlegend": true,
                  "type": "scatter",
                  "x": [
                    2021,
                    2022,
                    2023,
                    2024
                  ],
                  "xaxis": "x",
                  "y": [
                    1616833,
                    1703739,
                    1911964,
                    1972159
                  ],
                  "yaxis": "y"
                },
                {
                  "hovertemplate": "alcohol_type=VODKAS<br>year=%{x}<br>bottles_sold=%{y}<extra></extra>",
                  "legendgroup": "VODKAS",
                  "line": {
                    "color": "#84A0AE",
                    "dash": "solid"
                  },
                  "marker": {
                    "symbol": "circle"
                  },
                  "mode": "lines",
                  "name": "VODKAS",
                  "orientation": "v",
                  "showlegend": true,
                  "type": "scatter",
                  "x": [
                    2021,
                    2022,
                    2023,
                    2024
                  ],
                  "xaxis": "x",
                  "y": [
                    8270436,
                    8229267,
                    8527908,
                    8530078
                  ],
                  "yaxis": "y"
                },
                {
                  "hovertemplate": "alcohol_type=WHISKIES<br>year=%{x}<br>bottles_sold=%{y}<extra></extra>",
                  "legendgroup": "WHISKIES",
                  "line": {
                    "color": "#B78B66",
                    "dash": "solid"
                  },
                  "marker": {
                    "symbol": "circle"
                  },
                  "mode": "lines",
                  "name": "WHISKIES",
                  "orientation": "v",
                  "showlegend": true,
                  "type": "scatter",
                  "x": [
                    2021,
                    2022,
                    2023,
                    2024
                  ],
                  "xaxis": "x",
                  "y": [
                    5701689,
                    5290891,
                    5404781,
                    5270055
                  ],
                  "yaxis": "y"
                }
              ],
              "layout": {
                "legend": {
                  "title": {
                    "text": "alcohol_type"
                  },
                  "tracegroupgap": 0
                },
                "margin": {
                  "t": 60
                },
                "template": {
                  "layout": {
                    "colorway": [
                      "#4c3624",
                      "#ff0651",
                      "#ff7e06",
                      "#74B36B",
                      "#628395",
                      "#996C48",
                      "#FF5C8D",
                      "#FF9633",
                      "#8CC084",
                      "#84A0AE",
                      "#B78B66",
                      "#FF85A9",
                      "#FFB570",
                      "#A7CEA1",
                      "#A9BCC7"
                    ],
                    "font": {
                      "color": "black"
                    },
                    "paper_bgcolor": "white",
                    "plot_bgcolor": "white",
                    "xaxis": {
                      "gridcolor": "lightgray"
                    },
                    "yaxis": {
                      "gridcolor": "lightgray"
                    }
                  }
                },
                "xaxis": {
                  "anchor": "y",
                  "domain": [
                    0,
                    1
                  ],
                  "title": {
                    "text": "year"
                  }
                },
                "yaxis": {
                  "anchor": "x",
                  "domain": [
                    0,
                    1
                  ],
                  "title": {
                    "text": "bottles_sold"
                  }
                }
              }
            }
          },
          "metadata": {},
          "output_type": "display_data"
        }
      ],
      "source": [
        "px.line(data_yearly, x='year', y='bottles_sold', color= 'alcohol_type', template = iowa)"
      ]
    },
    {
      "cell_type": "code",
      "execution_count": null,
      "metadata": {
        "id": "jhlu6JrpuQUV",
        "outputId": "9a38a3c1-ceb0-4ee6-d248-e2751445bb2b"
      },
      "outputs": [
        {
          "data": {
            "application/vnd.plotly.v1+json": {
              "config": {
                "plotlyServerURL": "https://plot.ly"
              },
              "data": [
                {
                  "alignmentgroup": "True",
                  "hovertemplate": "alcohol_type=BOURBON<br>year=%{x}<br>sale_(dollars)=%{y}<extra></extra>",
                  "legendgroup": "BOURBON",
                  "marker": {
                    "color": "#4c3624",
                    "pattern": {
                      "shape": ""
                    }
                  },
                  "name": "BOURBON",
                  "offsetgroup": "BOURBON",
                  "orientation": "v",
                  "showlegend": true,
                  "textposition": "auto",
                  "type": "bar",
                  "x": [
                    2021,
                    2022,
                    2023,
                    2024
                  ],
                  "xaxis": "x",
                  "y": [
                    36256343.17,
                    38245142.38,
                    42193448.48,
                    43706248.48
                  ],
                  "yaxis": "y"
                },
                {
                  "alignmentgroup": "True",
                  "hovertemplate": "alcohol_type=BRANDIES<br>year=%{x}<br>sale_(dollars)=%{y}<extra></extra>",
                  "legendgroup": "BRANDIES",
                  "marker": {
                    "color": "#ff0651",
                    "pattern": {
                      "shape": ""
                    }
                  },
                  "name": "BRANDIES",
                  "offsetgroup": "BRANDIES",
                  "orientation": "v",
                  "showlegend": true,
                  "textposition": "auto",
                  "type": "bar",
                  "x": [
                    2021,
                    2022,
                    2023,
                    2024
                  ],
                  "xaxis": "x",
                  "y": [
                    21211232.16,
                    18143175.21,
                    15885214.62,
                    14160587.63
                  ],
                  "yaxis": "y"
                },
                {
                  "alignmentgroup": "True",
                  "hovertemplate": "alcohol_type=GINS<br>year=%{x}<br>sale_(dollars)=%{y}<extra></extra>",
                  "legendgroup": "GINS",
                  "marker": {
                    "color": "#ff7e06",
                    "pattern": {
                      "shape": ""
                    }
                  },
                  "name": "GINS",
                  "offsetgroup": "GINS",
                  "orientation": "v",
                  "showlegend": true,
                  "textposition": "auto",
                  "type": "bar",
                  "x": [
                    2021,
                    2022,
                    2023,
                    2024
                  ],
                  "xaxis": "x",
                  "y": [
                    9737478.35,
                    9257973.8,
                    9699453.53,
                    9676884.3
                  ],
                  "yaxis": "y"
                },
                {
                  "alignmentgroup": "True",
                  "hovertemplate": "alcohol_type=LIQUEURS<br>year=%{x}<br>sale_(dollars)=%{y}<extra></extra>",
                  "legendgroup": "LIQUEURS",
                  "marker": {
                    "color": "#74B36B",
                    "pattern": {
                      "shape": ""
                    }
                  },
                  "name": "LIQUEURS",
                  "offsetgroup": "LIQUEURS",
                  "orientation": "v",
                  "showlegend": true,
                  "textposition": "auto",
                  "type": "bar",
                  "x": [
                    2021,
                    2022,
                    2023,
                    2024
                  ],
                  "xaxis": "x",
                  "y": [
                    51151377.45,
                    52249573.14,
                    54048161.55,
                    52845156.67
                  ],
                  "yaxis": "y"
                },
                {
                  "alignmentgroup": "True",
                  "hovertemplate": "alcohol_type=MEZCAL<br>year=%{x}<br>sale_(dollars)=%{y}<extra></extra>",
                  "legendgroup": "MEZCAL",
                  "marker": {
                    "color": "#628395",
                    "pattern": {
                      "shape": ""
                    }
                  },
                  "name": "MEZCAL",
                  "offsetgroup": "MEZCAL",
                  "orientation": "v",
                  "showlegend": true,
                  "textposition": "auto",
                  "type": "bar",
                  "x": [
                    2021,
                    2022,
                    2023,
                    2024
                  ],
                  "xaxis": "x",
                  "y": [
                    430544.76,
                    506772.9,
                    527681.49,
                    466248.68
                  ],
                  "yaxis": "y"
                },
                {
                  "alignmentgroup": "True",
                  "hovertemplate": "alcohol_type=OTHERS<br>year=%{x}<br>sale_(dollars)=%{y}<extra></extra>",
                  "legendgroup": "OTHERS",
                  "marker": {
                    "color": "#996C48",
                    "pattern": {
                      "shape": ""
                    }
                  },
                  "name": "OTHERS",
                  "offsetgroup": "OTHERS",
                  "orientation": "v",
                  "showlegend": true,
                  "textposition": "auto",
                  "type": "bar",
                  "x": [
                    2021,
                    2022,
                    2023,
                    2024
                  ],
                  "xaxis": "x",
                  "y": [
                    27169031.92,
                    32595092.14,
                    28588548.33,
                    34952785.98
                  ],
                  "yaxis": "y"
                },
                {
                  "alignmentgroup": "True",
                  "hovertemplate": "alcohol_type=RUM<br>year=%{x}<br>sale_(dollars)=%{y}<extra></extra>",
                  "legendgroup": "RUM",
                  "marker": {
                    "color": "#FF5C8D",
                    "pattern": {
                      "shape": ""
                    }
                  },
                  "name": "RUM",
                  "offsetgroup": "RUM",
                  "orientation": "v",
                  "showlegend": true,
                  "textposition": "auto",
                  "type": "bar",
                  "x": [
                    2021,
                    2022,
                    2023,
                    2024
                  ],
                  "xaxis": "x",
                  "y": [
                    41074845.85,
                    37803426.38,
                    39442959.98,
                    36794486.27
                  ],
                  "yaxis": "y"
                },
                {
                  "alignmentgroup": "True",
                  "hovertemplate": "alcohol_type=SCHNAPPS<br>year=%{x}<br>sale_(dollars)=%{y}<extra></extra>",
                  "legendgroup": "SCHNAPPS",
                  "marker": {
                    "color": "#FF9633",
                    "pattern": {
                      "shape": ""
                    }
                  },
                  "name": "SCHNAPPS",
                  "offsetgroup": "SCHNAPPS",
                  "orientation": "v",
                  "showlegend": true,
                  "textposition": "auto",
                  "type": "bar",
                  "x": [
                    2021,
                    2022,
                    2023,
                    2024
                  ],
                  "xaxis": "x",
                  "y": [
                    13198252.02,
                    12556047.22,
                    13423454.1,
                    13627052.05
                  ],
                  "yaxis": "y"
                },
                {
                  "alignmentgroup": "True",
                  "hovertemplate": "alcohol_type=TEQUILA<br>year=%{x}<br>sale_(dollars)=%{y}<extra></extra>",
                  "legendgroup": "TEQUILA",
                  "marker": {
                    "color": "#8CC084",
                    "pattern": {
                      "shape": ""
                    }
                  },
                  "name": "TEQUILA",
                  "offsetgroup": "TEQUILA",
                  "orientation": "v",
                  "showlegend": true,
                  "textposition": "auto",
                  "type": "bar",
                  "x": [
                    2021,
                    2022,
                    2023,
                    2024
                  ],
                  "xaxis": "x",
                  "y": [
                    34583419.74,
                    38011773.81,
                    43642246.9,
                    45769586.48
                  ],
                  "yaxis": "y"
                },
                {
                  "alignmentgroup": "True",
                  "hovertemplate": "alcohol_type=VODKAS<br>year=%{x}<br>sale_(dollars)=%{y}<extra></extra>",
                  "legendgroup": "VODKAS",
                  "marker": {
                    "color": "#84A0AE",
                    "pattern": {
                      "shape": ""
                    }
                  },
                  "name": "VODKAS",
                  "offsetgroup": "VODKAS",
                  "orientation": "v",
                  "showlegend": true,
                  "textposition": "auto",
                  "type": "bar",
                  "x": [
                    2021,
                    2022,
                    2023,
                    2024
                  ],
                  "xaxis": "x",
                  "y": [
                    92302813.51,
                    91013327.45,
                    95754328.7,
                    94538772.86
                  ],
                  "yaxis": "y"
                },
                {
                  "alignmentgroup": "True",
                  "hovertemplate": "alcohol_type=WHISKIES<br>year=%{x}<br>sale_(dollars)=%{y}<extra></extra>",
                  "legendgroup": "WHISKIES",
                  "marker": {
                    "color": "#B78B66",
                    "pattern": {
                      "shape": ""
                    }
                  },
                  "name": "WHISKIES",
                  "offsetgroup": "WHISKIES",
                  "orientation": "v",
                  "showlegend": true,
                  "textposition": "auto",
                  "type": "bar",
                  "x": [
                    2021,
                    2022,
                    2023,
                    2024
                  ],
                  "xaxis": "x",
                  "y": [
                    100952840.33,
                    97971405.61,
                    102738798.29,
                    100637423.87
                  ],
                  "yaxis": "y"
                }
              ],
              "layout": {
                "barmode": "relative",
                "legend": {
                  "title": {
                    "text": "alcohol_type"
                  },
                  "tracegroupgap": 0
                },
                "margin": {
                  "t": 60
                },
                "template": {
                  "layout": {
                    "colorway": [
                      "#4c3624",
                      "#ff0651",
                      "#ff7e06",
                      "#74B36B",
                      "#628395",
                      "#996C48",
                      "#FF5C8D",
                      "#FF9633",
                      "#8CC084",
                      "#84A0AE",
                      "#B78B66",
                      "#FF85A9",
                      "#FFB570",
                      "#A7CEA1",
                      "#A9BCC7"
                    ],
                    "font": {
                      "color": "black"
                    },
                    "paper_bgcolor": "white",
                    "plot_bgcolor": "white",
                    "xaxis": {
                      "gridcolor": "lightgray"
                    },
                    "yaxis": {
                      "gridcolor": "lightgray"
                    }
                  }
                },
                "xaxis": {
                  "anchor": "y",
                  "domain": [
                    0,
                    1
                  ],
                  "title": {
                    "text": "year"
                  }
                },
                "yaxis": {
                  "anchor": "x",
                  "domain": [
                    0,
                    1
                  ],
                  "title": {
                    "text": "sale_(dollars)"
                  }
                }
              }
            }
          },
          "metadata": {},
          "output_type": "display_data"
        }
      ],
      "source": [
        "px.bar(data_yearly, x='year', y='sale_(dollars)', color= 'alcohol_type', template = iowa)"
      ]
    },
    {
      "cell_type": "code",
      "execution_count": null,
      "metadata": {
        "id": "6AAbTpF0uQUW",
        "outputId": "78f2e67e-f7e0-42b5-f448-0c85a3960269"
      },
      "outputs": [
        {
          "data": {
            "application/vnd.plotly.v1+json": {
              "config": {
                "plotlyServerURL": "https://plot.ly"
              },
              "data": [
                {
                  "hovertemplate": "alcohol_type=BOURBON<br>year=%{x}<br>sale_(dollars)=%{y}<extra></extra>",
                  "legendgroup": "BOURBON",
                  "line": {
                    "color": "#4c3624",
                    "dash": "solid"
                  },
                  "marker": {
                    "symbol": "circle"
                  },
                  "mode": "lines",
                  "name": "BOURBON",
                  "orientation": "v",
                  "showlegend": true,
                  "type": "scatter",
                  "x": [
                    2021,
                    2022,
                    2023,
                    2024
                  ],
                  "xaxis": "x",
                  "y": [
                    36256343.17,
                    38245142.38,
                    42193448.48,
                    43706248.48
                  ],
                  "yaxis": "y"
                },
                {
                  "hovertemplate": "alcohol_type=BRANDIES<br>year=%{x}<br>sale_(dollars)=%{y}<extra></extra>",
                  "legendgroup": "BRANDIES",
                  "line": {
                    "color": "#ff0651",
                    "dash": "solid"
                  },
                  "marker": {
                    "symbol": "circle"
                  },
                  "mode": "lines",
                  "name": "BRANDIES",
                  "orientation": "v",
                  "showlegend": true,
                  "type": "scatter",
                  "x": [
                    2021,
                    2022,
                    2023,
                    2024
                  ],
                  "xaxis": "x",
                  "y": [
                    21211232.16,
                    18143175.21,
                    15885214.62,
                    14160587.63
                  ],
                  "yaxis": "y"
                },
                {
                  "hovertemplate": "alcohol_type=GINS<br>year=%{x}<br>sale_(dollars)=%{y}<extra></extra>",
                  "legendgroup": "GINS",
                  "line": {
                    "color": "#ff7e06",
                    "dash": "solid"
                  },
                  "marker": {
                    "symbol": "circle"
                  },
                  "mode": "lines",
                  "name": "GINS",
                  "orientation": "v",
                  "showlegend": true,
                  "type": "scatter",
                  "x": [
                    2021,
                    2022,
                    2023,
                    2024
                  ],
                  "xaxis": "x",
                  "y": [
                    9737478.35,
                    9257973.8,
                    9699453.53,
                    9676884.3
                  ],
                  "yaxis": "y"
                },
                {
                  "hovertemplate": "alcohol_type=LIQUEURS<br>year=%{x}<br>sale_(dollars)=%{y}<extra></extra>",
                  "legendgroup": "LIQUEURS",
                  "line": {
                    "color": "#74B36B",
                    "dash": "solid"
                  },
                  "marker": {
                    "symbol": "circle"
                  },
                  "mode": "lines",
                  "name": "LIQUEURS",
                  "orientation": "v",
                  "showlegend": true,
                  "type": "scatter",
                  "x": [
                    2021,
                    2022,
                    2023,
                    2024
                  ],
                  "xaxis": "x",
                  "y": [
                    51151377.45,
                    52249573.14,
                    54048161.55,
                    52845156.67
                  ],
                  "yaxis": "y"
                },
                {
                  "hovertemplate": "alcohol_type=MEZCAL<br>year=%{x}<br>sale_(dollars)=%{y}<extra></extra>",
                  "legendgroup": "MEZCAL",
                  "line": {
                    "color": "#628395",
                    "dash": "solid"
                  },
                  "marker": {
                    "symbol": "circle"
                  },
                  "mode": "lines",
                  "name": "MEZCAL",
                  "orientation": "v",
                  "showlegend": true,
                  "type": "scatter",
                  "x": [
                    2021,
                    2022,
                    2023,
                    2024
                  ],
                  "xaxis": "x",
                  "y": [
                    430544.76,
                    506772.9,
                    527681.49,
                    466248.68
                  ],
                  "yaxis": "y"
                },
                {
                  "hovertemplate": "alcohol_type=OTHERS<br>year=%{x}<br>sale_(dollars)=%{y}<extra></extra>",
                  "legendgroup": "OTHERS",
                  "line": {
                    "color": "#996C48",
                    "dash": "solid"
                  },
                  "marker": {
                    "symbol": "circle"
                  },
                  "mode": "lines",
                  "name": "OTHERS",
                  "orientation": "v",
                  "showlegend": true,
                  "type": "scatter",
                  "x": [
                    2021,
                    2022,
                    2023,
                    2024
                  ],
                  "xaxis": "x",
                  "y": [
                    27169031.92,
                    32595092.14,
                    28588548.33,
                    34952785.98
                  ],
                  "yaxis": "y"
                },
                {
                  "hovertemplate": "alcohol_type=RUM<br>year=%{x}<br>sale_(dollars)=%{y}<extra></extra>",
                  "legendgroup": "RUM",
                  "line": {
                    "color": "#FF5C8D",
                    "dash": "solid"
                  },
                  "marker": {
                    "symbol": "circle"
                  },
                  "mode": "lines",
                  "name": "RUM",
                  "orientation": "v",
                  "showlegend": true,
                  "type": "scatter",
                  "x": [
                    2021,
                    2022,
                    2023,
                    2024
                  ],
                  "xaxis": "x",
                  "y": [
                    41074845.85,
                    37803426.38,
                    39442959.98,
                    36794486.27
                  ],
                  "yaxis": "y"
                },
                {
                  "hovertemplate": "alcohol_type=SCHNAPPS<br>year=%{x}<br>sale_(dollars)=%{y}<extra></extra>",
                  "legendgroup": "SCHNAPPS",
                  "line": {
                    "color": "#FF9633",
                    "dash": "solid"
                  },
                  "marker": {
                    "symbol": "circle"
                  },
                  "mode": "lines",
                  "name": "SCHNAPPS",
                  "orientation": "v",
                  "showlegend": true,
                  "type": "scatter",
                  "x": [
                    2021,
                    2022,
                    2023,
                    2024
                  ],
                  "xaxis": "x",
                  "y": [
                    13198252.02,
                    12556047.22,
                    13423454.1,
                    13627052.05
                  ],
                  "yaxis": "y"
                },
                {
                  "hovertemplate": "alcohol_type=TEQUILA<br>year=%{x}<br>sale_(dollars)=%{y}<extra></extra>",
                  "legendgroup": "TEQUILA",
                  "line": {
                    "color": "#8CC084",
                    "dash": "solid"
                  },
                  "marker": {
                    "symbol": "circle"
                  },
                  "mode": "lines",
                  "name": "TEQUILA",
                  "orientation": "v",
                  "showlegend": true,
                  "type": "scatter",
                  "x": [
                    2021,
                    2022,
                    2023,
                    2024
                  ],
                  "xaxis": "x",
                  "y": [
                    34583419.74,
                    38011773.81,
                    43642246.9,
                    45769586.48
                  ],
                  "yaxis": "y"
                },
                {
                  "hovertemplate": "alcohol_type=VODKAS<br>year=%{x}<br>sale_(dollars)=%{y}<extra></extra>",
                  "legendgroup": "VODKAS",
                  "line": {
                    "color": "#84A0AE",
                    "dash": "solid"
                  },
                  "marker": {
                    "symbol": "circle"
                  },
                  "mode": "lines",
                  "name": "VODKAS",
                  "orientation": "v",
                  "showlegend": true,
                  "type": "scatter",
                  "x": [
                    2021,
                    2022,
                    2023,
                    2024
                  ],
                  "xaxis": "x",
                  "y": [
                    92302813.51,
                    91013327.45,
                    95754328.7,
                    94538772.86
                  ],
                  "yaxis": "y"
                },
                {
                  "hovertemplate": "alcohol_type=WHISKIES<br>year=%{x}<br>sale_(dollars)=%{y}<extra></extra>",
                  "legendgroup": "WHISKIES",
                  "line": {
                    "color": "#B78B66",
                    "dash": "solid"
                  },
                  "marker": {
                    "symbol": "circle"
                  },
                  "mode": "lines",
                  "name": "WHISKIES",
                  "orientation": "v",
                  "showlegend": true,
                  "type": "scatter",
                  "x": [
                    2021,
                    2022,
                    2023,
                    2024
                  ],
                  "xaxis": "x",
                  "y": [
                    100952840.33,
                    97971405.61,
                    102738798.29,
                    100637423.87
                  ],
                  "yaxis": "y"
                }
              ],
              "layout": {
                "legend": {
                  "title": {
                    "text": "alcohol_type"
                  },
                  "tracegroupgap": 0
                },
                "margin": {
                  "t": 60
                },
                "template": {
                  "layout": {
                    "colorway": [
                      "#4c3624",
                      "#ff0651",
                      "#ff7e06",
                      "#74B36B",
                      "#628395",
                      "#996C48",
                      "#FF5C8D",
                      "#FF9633",
                      "#8CC084",
                      "#84A0AE",
                      "#B78B66",
                      "#FF85A9",
                      "#FFB570",
                      "#A7CEA1",
                      "#A9BCC7"
                    ],
                    "font": {
                      "color": "black"
                    },
                    "paper_bgcolor": "white",
                    "plot_bgcolor": "white",
                    "xaxis": {
                      "gridcolor": "lightgray"
                    },
                    "yaxis": {
                      "gridcolor": "lightgray"
                    }
                  }
                },
                "xaxis": {
                  "anchor": "y",
                  "domain": [
                    0,
                    1
                  ],
                  "title": {
                    "text": "year"
                  }
                },
                "yaxis": {
                  "anchor": "x",
                  "domain": [
                    0,
                    1
                  ],
                  "title": {
                    "text": "sale_(dollars)"
                  }
                }
              }
            }
          },
          "metadata": {},
          "output_type": "display_data"
        }
      ],
      "source": [
        "px.line(data_yearly, x='year', y='sale_(dollars)', color= 'alcohol_type', template = iowa)"
      ]
    },
    {
      "cell_type": "code",
      "execution_count": 11,
      "metadata": {
        "id": "CHzyizk4uQUW"
      },
      "outputs": [],
      "source": [
        "#Creating new features to understand the performance of each cateogry\n",
        "\n",
        "# Price related features\n",
        "data_post_covid['price_per_liter'] = data_post_covid['state_bottle_retail'] / data_post_covid['bottle_volume_(ml)'] * 1000\n",
        "data_post_covid['profit_per_bottle'] = data_post_covid['state_bottle_retail'] - data_post_covid['state_bottle_cost']\n",
        "data_post_covid['profit_margin'] = (data_post_covid['profit_per_bottle'] / data_post_covid['state_bottle_retail']) * 100\n",
        "\n",
        "\n",
        "# Sales performance features\n",
        "data_post_covid['sales_per_store'] = data_post_covid.groupby(['store_number', 'year_month'])['sale_(dollars)'].transform('sum')\n",
        "\n",
        "\n",
        "# Time based features\n",
        "data_post_covid['is_weekend'] = data_post_covid['weekday'].isin([5,6]).astype(int)\n",
        "data_post_covid['quarter'] = data_post_covid['date'].dt.quarter"
      ]
    },
    {
      "cell_type": "code",
      "source": [
        "# Plotting sales for each category\n",
        "fig_sales_category = px.bar(data_post_covid,\n",
        "                           x='category_name',\n",
        "                           y='sale_(dollars)',\n",
        "                           color='category_name',\n",
        "                           title='Total Sales by Category',\n",
        "                           template='iowa')\n",
        "fig_sales_category.show()\n"
      ],
      "metadata": {
        "id": "u7bMgruOwTvH"
      },
      "execution_count": null,
      "outputs": []
    },
    {
      "cell_type": "code",
      "source": [
        "# Plotting sales for each alcohol type\n",
        "fig_sales_alcohol_type = px.bar(data_post_covid,\n",
        "                           x='alcohol_type',\n",
        "                           y='sale_(dollars)',\n",
        "                           color='alcohol_type',\n",
        "                           title='Total Sales by Alcohol Type',\n",
        "                           template='iowa')\n",
        "fig_sales_alcohol_type.show()"
      ],
      "metadata": {
        "id": "bMnOh_3xwWRF"
      },
      "execution_count": null,
      "outputs": []
    },
    {
      "cell_type": "code",
      "source": [
        "# Plotting sales trend over time for each category (using year_month)\n",
        "fig_sales_trend = px.line(data_year_month,\n",
        "                         x='year_month',\n",
        "                         y='sale_(dollars)',\n",
        "                         color='alcohol_type',\n",
        "                         title='Sales Trend by Alcohol Type Over Time',\n",
        "                         template='iowa')\n",
        "fig_sales_trend.show()\n"
      ],
      "metadata": {
        "id": "MmsynWYXwYZ0"
      },
      "execution_count": null,
      "outputs": []
    },
    {
      "cell_type": "code",
      "source": [
        "# Plotting sales over time for each alcohol_type\n",
        "for alcohol_type in data_post_covid['alcohol_type'].unique():\n",
        "  subset = data_post_covid[data_post_covid['alcohol_type']==alcohol_type]\n",
        "  fig = px.line(subset, x='date', y='sale_(dollars)', title=f'Sales of {alcohol_type} over time')\n",
        "  fig.show()\n"
      ],
      "metadata": {
        "id": "Yf-yJCJdwbaC"
      },
      "execution_count": null,
      "outputs": []
    },
    {
      "cell_type": "markdown",
      "source": [
        "#Sales"
      ],
      "metadata": {
        "id": "lkUJ1hAQzMrR"
      }
    },
    {
      "cell_type": "code",
      "source": [
        "# Evolutions of sales per category\n",
        "fig = px.line(data_yearly_category,\n",
        "              x='year',\n",
        "              y='sale_(dollars)',\n",
        "              color='category_name',\n",
        "              title='Evolution of Sales by Category per Year',\n",
        "              template='iowa')\n",
        "fig.show()\n"
      ],
      "metadata": {
        "colab": {
          "base_uri": "https://localhost:8080/",
          "height": 542
        },
        "id": "tLbaIFsXzOeZ",
        "outputId": "75128a64-02da-4f97-c881-3b02cad5a4ef"
      },
      "execution_count": 13,
      "outputs": [
        {
          "output_type": "display_data",
          "data": {
            "text/html": [
              "<html>\n",
              "<head><meta charset=\"utf-8\" /></head>\n",
              "<body>\n",
              "    <div>            <script src=\"https://cdnjs.cloudflare.com/ajax/libs/mathjax/2.7.5/MathJax.js?config=TeX-AMS-MML_SVG\"></script><script type=\"text/javascript\">if (window.MathJax && window.MathJax.Hub && window.MathJax.Hub.Config) {window.MathJax.Hub.Config({SVG: {font: \"STIX-Web\"}});}</script>                <script type=\"text/javascript\">window.PlotlyConfig = {MathJaxConfig: 'local'};</script>\n",
              "        <script charset=\"utf-8\" src=\"https://cdn.plot.ly/plotly-2.35.2.min.js\"></script>                <div id=\"f9e562b1-ef26-4d2e-9e0c-08fcbc9d351b\" class=\"plotly-graph-div\" style=\"height:525px; width:100%;\"></div>            <script type=\"text/javascript\">                                    window.PLOTLYENV=window.PLOTLYENV || {};                                    if (document.getElementById(\"f9e562b1-ef26-4d2e-9e0c-08fcbc9d351b\")) {                    Plotly.newPlot(                        \"f9e562b1-ef26-4d2e-9e0c-08fcbc9d351b\",                        [{\"hovertemplate\":\"category_name=100% AGAVE TEQUILA\\u003cbr\\u003eyear=%{x}\\u003cbr\\u003esale_(dollars)=%{y}\\u003cextra\\u003e\\u003c\\u002fextra\\u003e\",\"legendgroup\":\"100% AGAVE TEQUILA\",\"line\":{\"color\":\"#4c3624\",\"dash\":\"solid\"},\"marker\":{\"symbol\":\"circle\"},\"mode\":\"lines\",\"name\":\"100% AGAVE TEQUILA\",\"orientation\":\"v\",\"showlegend\":true,\"x\":[2021,2022,2023,2024],\"xaxis\":\"x\",\"y\":[23915100.71,27396705.02,32313535.6,34617162.95],\"yaxis\":\"y\",\"type\":\"scatter\"},{\"hovertemplate\":\"category_name=AGED DARK RUM\\u003cbr\\u003eyear=%{x}\\u003cbr\\u003esale_(dollars)=%{y}\\u003cextra\\u003e\\u003c\\u002fextra\\u003e\",\"legendgroup\":\"AGED DARK RUM\",\"line\":{\"color\":\"#ff0651\",\"dash\":\"solid\"},\"marker\":{\"symbol\":\"circle\"},\"mode\":\"lines\",\"name\":\"AGED DARK RUM\",\"orientation\":\"v\",\"showlegend\":true,\"x\":[2021,2022,2023,2024],\"xaxis\":\"x\",\"y\":[1073387.53,979043.75,1020498.45,1005479.65],\"yaxis\":\"y\",\"type\":\"scatter\"},{\"hovertemplate\":\"category_name=AMERICAN BRANDIES\\u003cbr\\u003eyear=%{x}\\u003cbr\\u003esale_(dollars)=%{y}\\u003cextra\\u003e\\u003c\\u002fextra\\u003e\",\"legendgroup\":\"AMERICAN BRANDIES\",\"line\":{\"color\":\"#ff7e06\",\"dash\":\"solid\"},\"marker\":{\"symbol\":\"circle\"},\"mode\":\"lines\",\"name\":\"AMERICAN BRANDIES\",\"orientation\":\"v\",\"showlegend\":true,\"x\":[2021,2022,2023,2024],\"xaxis\":\"x\",\"y\":[5216033.32,4836975.19,4695609.58,4538315.87],\"yaxis\":\"y\",\"type\":\"scatter\"},{\"hovertemplate\":\"category_name=AMERICAN CORDIALS & LIQUEURS\\u003cbr\\u003eyear=%{x}\\u003cbr\\u003esale_(dollars)=%{y}\\u003cextra\\u003e\\u003c\\u002fextra\\u003e\",\"legendgroup\":\"AMERICAN CORDIALS & LIQUEURS\",\"line\":{\"color\":\"#74B36B\",\"dash\":\"solid\"},\"marker\":{\"symbol\":\"circle\"},\"mode\":\"lines\",\"name\":\"AMERICAN CORDIALS & LIQUEURS\",\"orientation\":\"v\",\"showlegend\":true,\"x\":[2021,2022,2023,2024],\"xaxis\":\"x\",\"y\":[4293640.07,4531138.07,4369172.3,4454046.69],\"yaxis\":\"y\",\"type\":\"scatter\"},{\"hovertemplate\":\"category_name=AMERICAN DISTILLED SPIRITS SPECIALTY\\u003cbr\\u003eyear=%{x}\\u003cbr\\u003esale_(dollars)=%{y}\\u003cextra\\u003e\\u003c\\u002fextra\\u003e\",\"legendgroup\":\"AMERICAN DISTILLED SPIRITS SPECIALTY\",\"line\":{\"color\":\"#628395\",\"dash\":\"solid\"},\"marker\":{\"symbol\":\"circle\"},\"mode\":\"lines\",\"name\":\"AMERICAN DISTILLED SPIRITS SPECIALTY\",\"orientation\":\"v\",\"showlegend\":true,\"x\":[2021,2022,2023,2024],\"xaxis\":\"x\",\"y\":[1497977.3800000001,1517407.95,2118431.67,1493901.46],\"yaxis\":\"y\",\"type\":\"scatter\"},{\"hovertemplate\":\"category_name=AMERICAN DRY GINS\\u003cbr\\u003eyear=%{x}\\u003cbr\\u003esale_(dollars)=%{y}\\u003cextra\\u003e\\u003c\\u002fextra\\u003e\",\"legendgroup\":\"AMERICAN DRY GINS\",\"line\":{\"color\":\"#996C48\",\"dash\":\"solid\"},\"marker\":{\"symbol\":\"circle\"},\"mode\":\"lines\",\"name\":\"AMERICAN DRY GINS\",\"orientation\":\"v\",\"showlegend\":true,\"x\":[2021,2022,2023,2024],\"xaxis\":\"x\",\"y\":[3712656.36,3280707.08,3322487.35,3193055.84],\"yaxis\":\"y\",\"type\":\"scatter\"},{\"hovertemplate\":\"category_name=AMERICAN FLAVORED VODKA\\u003cbr\\u003eyear=%{x}\\u003cbr\\u003esale_(dollars)=%{y}\\u003cextra\\u003e\\u003c\\u002fextra\\u003e\",\"legendgroup\":\"AMERICAN FLAVORED VODKA\",\"line\":{\"color\":\"#FF5C8D\",\"dash\":\"solid\"},\"marker\":{\"symbol\":\"circle\"},\"mode\":\"lines\",\"name\":\"AMERICAN FLAVORED VODKA\",\"orientation\":\"v\",\"showlegend\":true,\"x\":[2021,2022,2023,2024],\"xaxis\":\"x\",\"y\":[10537027.16,11162910.39,11810399.15,11546046.77],\"yaxis\":\"y\",\"type\":\"scatter\"},{\"hovertemplate\":\"category_name=AMERICAN SCHNAPPS\\u003cbr\\u003eyear=%{x}\\u003cbr\\u003esale_(dollars)=%{y}\\u003cextra\\u003e\\u003c\\u002fextra\\u003e\",\"legendgroup\":\"AMERICAN SCHNAPPS\",\"line\":{\"color\":\"#FF9633\",\"dash\":\"solid\"},\"marker\":{\"symbol\":\"circle\"},\"mode\":\"lines\",\"name\":\"AMERICAN SCHNAPPS\",\"orientation\":\"v\",\"showlegend\":true,\"x\":[2021,2022,2023,2024],\"xaxis\":\"x\",\"y\":[6560797.23,6357983.89,7305661.4,7718516.600000001],\"yaxis\":\"y\",\"type\":\"scatter\"},{\"hovertemplate\":\"category_name=AMERICAN SLOE GINS\\u003cbr\\u003eyear=%{x}\\u003cbr\\u003esale_(dollars)=%{y}\\u003cextra\\u003e\\u003c\\u002fextra\\u003e\",\"legendgroup\":\"AMERICAN SLOE GINS\",\"line\":{\"color\":\"#8CC084\",\"dash\":\"solid\"},\"marker\":{\"symbol\":\"circle\"},\"mode\":\"lines\",\"name\":\"AMERICAN SLOE GINS\",\"orientation\":\"v\",\"showlegend\":true,\"x\":[2021,2022,2023,2024],\"xaxis\":\"x\",\"y\":[31666.350000000002,26998.95,27100.260000000002,23649.13],\"yaxis\":\"y\",\"type\":\"scatter\"},{\"hovertemplate\":\"category_name=AMERICAN VODKAS\\u003cbr\\u003eyear=%{x}\\u003cbr\\u003esale_(dollars)=%{y}\\u003cextra\\u003e\\u003c\\u002fextra\\u003e\",\"legendgroup\":\"AMERICAN VODKAS\",\"line\":{\"color\":\"#84A0AE\",\"dash\":\"solid\"},\"marker\":{\"symbol\":\"circle\"},\"mode\":\"lines\",\"name\":\"AMERICAN VODKAS\",\"orientation\":\"v\",\"showlegend\":true,\"x\":[2021,2022,2023,2024],\"xaxis\":\"x\",\"y\":[61425526.74,62579331.62,67328780.8,67051947.15],\"yaxis\":\"y\",\"type\":\"scatter\"},{\"hovertemplate\":\"category_name=AMERICAN WHISKIES\\u003cbr\\u003eyear=%{x}\\u003cbr\\u003esale_(dollars)=%{y}\\u003cextra\\u003e\\u003c\\u002fextra\\u003e\",\"legendgroup\":\"AMERICAN WHISKIES\",\"line\":{\"color\":\"#B78B66\",\"dash\":\"solid\"},\"marker\":{\"symbol\":\"circle\"},\"mode\":\"lines\",\"name\":\"AMERICAN WHISKIES\",\"orientation\":\"v\",\"showlegend\":true,\"x\":[2021],\"xaxis\":\"x\",\"y\":[1881.0],\"yaxis\":\"y\",\"type\":\"scatter\"},{\"hovertemplate\":\"category_name=BLENDED WHISKIES\\u003cbr\\u003eyear=%{x}\\u003cbr\\u003esale_(dollars)=%{y}\\u003cextra\\u003e\\u003c\\u002fextra\\u003e\",\"legendgroup\":\"BLENDED WHISKIES\",\"line\":{\"color\":\"#FF85A9\",\"dash\":\"solid\"},\"marker\":{\"symbol\":\"circle\"},\"mode\":\"lines\",\"name\":\"BLENDED WHISKIES\",\"orientation\":\"v\",\"showlegend\":true,\"x\":[2021,2022,2023,2024],\"xaxis\":\"x\",\"y\":[12635163.13,11322213.19,10721323.48,11313115.19],\"yaxis\":\"y\",\"type\":\"scatter\"},{\"hovertemplate\":\"category_name=BOTTLED IN BOND BOURBON\\u003cbr\\u003eyear=%{x}\\u003cbr\\u003esale_(dollars)=%{y}\\u003cextra\\u003e\\u003c\\u002fextra\\u003e\",\"legendgroup\":\"BOTTLED IN BOND BOURBON\",\"line\":{\"color\":\"#FFB570\",\"dash\":\"solid\"},\"marker\":{\"symbol\":\"circle\"},\"mode\":\"lines\",\"name\":\"BOTTLED IN BOND BOURBON\",\"orientation\":\"v\",\"showlegend\":true,\"x\":[2021,2022,2023,2024],\"xaxis\":\"x\",\"y\":[694701.27,951488.73,1266568.55,1315490.37],\"yaxis\":\"y\",\"type\":\"scatter\"},{\"hovertemplate\":\"category_name=CANADIAN WHISKIES\\u003cbr\\u003eyear=%{x}\\u003cbr\\u003esale_(dollars)=%{y}\\u003cextra\\u003e\\u003c\\u002fextra\\u003e\",\"legendgroup\":\"CANADIAN WHISKIES\",\"line\":{\"color\":\"#A7CEA1\",\"dash\":\"solid\"},\"marker\":{\"symbol\":\"circle\"},\"mode\":\"lines\",\"name\":\"CANADIAN WHISKIES\",\"orientation\":\"v\",\"showlegend\":true,\"x\":[2021,2022,2023,2024],\"xaxis\":\"x\",\"y\":[47389550.25,45740813.57,50354350.74,49819948.34],\"yaxis\":\"y\",\"type\":\"scatter\"},{\"hovertemplate\":\"category_name=COCKTAILS\\u002fRTD\\u003cbr\\u003eyear=%{x}\\u003cbr\\u003esale_(dollars)=%{y}\\u003cextra\\u003e\\u003c\\u002fextra\\u003e\",\"legendgroup\":\"COCKTAILS\\u002fRTD\",\"line\":{\"color\":\"#A9BCC7\",\"dash\":\"solid\"},\"marker\":{\"symbol\":\"circle\"},\"mode\":\"lines\",\"name\":\"COCKTAILS\\u002fRTD\",\"orientation\":\"v\",\"showlegend\":true,\"x\":[2021,2022,2023,2024],\"xaxis\":\"x\",\"y\":[8689880.63,7818573.09,7885234.13,8584556.02],\"yaxis\":\"y\",\"type\":\"scatter\"},{\"hovertemplate\":\"category_name=COFFEE LIQUEURS\\u003cbr\\u003eyear=%{x}\\u003cbr\\u003esale_(dollars)=%{y}\\u003cextra\\u003e\\u003c\\u002fextra\\u003e\",\"legendgroup\":\"COFFEE LIQUEURS\",\"line\":{\"color\":\"#4c3624\",\"dash\":\"solid\"},\"marker\":{\"symbol\":\"circle\"},\"mode\":\"lines\",\"name\":\"COFFEE LIQUEURS\",\"orientation\":\"v\",\"showlegend\":true,\"x\":[2021,2022,2023,2024],\"xaxis\":\"x\",\"y\":[2125991.07,2105906.25,2199223.94,2218639.31],\"yaxis\":\"y\",\"type\":\"scatter\"},{\"hovertemplate\":\"category_name=CORN WHISKIES\\u003cbr\\u003eyear=%{x}\\u003cbr\\u003esale_(dollars)=%{y}\\u003cextra\\u003e\\u003c\\u002fextra\\u003e\",\"legendgroup\":\"CORN WHISKIES\",\"line\":{\"color\":\"#ff0651\",\"dash\":\"solid\"},\"marker\":{\"symbol\":\"circle\"},\"mode\":\"lines\",\"name\":\"CORN WHISKIES\",\"orientation\":\"v\",\"showlegend\":true,\"x\":[2021,2022,2023,2024],\"xaxis\":\"x\",\"y\":[442212.52,412877.76,251118.07,147940.72],\"yaxis\":\"y\",\"type\":\"scatter\"},{\"hovertemplate\":\"category_name=CREAM LIQUEURS\\u003cbr\\u003eyear=%{x}\\u003cbr\\u003esale_(dollars)=%{y}\\u003cextra\\u003e\\u003c\\u002fextra\\u003e\",\"legendgroup\":\"CREAM LIQUEURS\",\"line\":{\"color\":\"#ff7e06\",\"dash\":\"solid\"},\"marker\":{\"symbol\":\"circle\"},\"mode\":\"lines\",\"name\":\"CREAM LIQUEURS\",\"orientation\":\"v\",\"showlegend\":true,\"x\":[2021,2022,2023,2024],\"xaxis\":\"x\",\"y\":[8860576.94,8200174.18,8448373.2,7662244.34],\"yaxis\":\"y\",\"type\":\"scatter\"},{\"hovertemplate\":\"category_name=DISTILLED SPIRITS SPECIALTY\\u003cbr\\u003eyear=%{x}\\u003cbr\\u003esale_(dollars)=%{y}\\u003cextra\\u003e\\u003c\\u002fextra\\u003e\",\"legendgroup\":\"DISTILLED SPIRITS SPECIALTY\",\"line\":{\"color\":\"#74B36B\",\"dash\":\"solid\"},\"marker\":{\"symbol\":\"circle\"},\"mode\":\"lines\",\"name\":\"DISTILLED SPIRITS SPECIALTY\",\"orientation\":\"v\",\"showlegend\":true,\"x\":[2021,2022],\"xaxis\":\"x\",\"y\":[28070.0,3564.98],\"yaxis\":\"y\",\"type\":\"scatter\"},{\"hovertemplate\":\"category_name=FLAVORED GIN\\u003cbr\\u003eyear=%{x}\\u003cbr\\u003esale_(dollars)=%{y}\\u003cextra\\u003e\\u003c\\u002fextra\\u003e\",\"legendgroup\":\"FLAVORED GIN\",\"line\":{\"color\":\"#628395\",\"dash\":\"solid\"},\"marker\":{\"symbol\":\"circle\"},\"mode\":\"lines\",\"name\":\"FLAVORED GIN\",\"orientation\":\"v\",\"showlegend\":true,\"x\":[2021,2022,2023,2024],\"xaxis\":\"x\",\"y\":[388056.54,683890.86,984082.44,1226082.31],\"yaxis\":\"y\",\"type\":\"scatter\"},{\"hovertemplate\":\"category_name=FLAVORED RUM\\u003cbr\\u003eyear=%{x}\\u003cbr\\u003esale_(dollars)=%{y}\\u003cextra\\u003e\\u003c\\u002fextra\\u003e\",\"legendgroup\":\"FLAVORED RUM\",\"line\":{\"color\":\"#996C48\",\"dash\":\"solid\"},\"marker\":{\"symbol\":\"circle\"},\"mode\":\"lines\",\"name\":\"FLAVORED RUM\",\"orientation\":\"v\",\"showlegend\":true,\"x\":[2021,2022,2023,2024],\"xaxis\":\"x\",\"y\":[9023367.709999999,8313592.9,8308210.3,7117820.7],\"yaxis\":\"y\",\"type\":\"scatter\"},{\"hovertemplate\":\"category_name=GOLD RUM\\u003cbr\\u003eyear=%{x}\\u003cbr\\u003esale_(dollars)=%{y}\\u003cextra\\u003e\\u003c\\u002fextra\\u003e\",\"legendgroup\":\"GOLD RUM\",\"line\":{\"color\":\"#FF5C8D\",\"dash\":\"solid\"},\"marker\":{\"symbol\":\"circle\"},\"mode\":\"lines\",\"name\":\"GOLD RUM\",\"orientation\":\"v\",\"showlegend\":true,\"x\":[2021,2022,2023,2024],\"xaxis\":\"x\",\"y\":[1162451.51,1027551.9400000001,1039173.14,974316.41],\"yaxis\":\"y\",\"type\":\"scatter\"},{\"hovertemplate\":\"category_name=IMPORTED BRANDIES\\u003cbr\\u003eyear=%{x}\\u003cbr\\u003esale_(dollars)=%{y}\\u003cextra\\u003e\\u003c\\u002fextra\\u003e\",\"legendgroup\":\"IMPORTED BRANDIES\",\"line\":{\"color\":\"#FF9633\",\"dash\":\"solid\"},\"marker\":{\"symbol\":\"circle\"},\"mode\":\"lines\",\"name\":\"IMPORTED BRANDIES\",\"orientation\":\"v\",\"showlegend\":true,\"x\":[2021,2022,2023,2024],\"xaxis\":\"x\",\"y\":[15995198.84,13306200.02,11189605.04,9622271.76],\"yaxis\":\"y\",\"type\":\"scatter\"},{\"hovertemplate\":\"category_name=IMPORTED CORDIALS & LIQUEURS\\u003cbr\\u003eyear=%{x}\\u003cbr\\u003esale_(dollars)=%{y}\\u003cextra\\u003e\\u003c\\u002fextra\\u003e\",\"legendgroup\":\"IMPORTED CORDIALS & LIQUEURS\",\"line\":{\"color\":\"#8CC084\",\"dash\":\"solid\"},\"marker\":{\"symbol\":\"circle\"},\"mode\":\"lines\",\"name\":\"IMPORTED CORDIALS & LIQUEURS\",\"orientation\":\"v\",\"showlegend\":true,\"x\":[2021,2022,2023,2024],\"xaxis\":\"x\",\"y\":[11205973.1,11951238.09,12500025.44,11999666.31],\"yaxis\":\"y\",\"type\":\"scatter\"},{\"hovertemplate\":\"category_name=IMPORTED DISTILLED SPIRITS SPECIALTY\\u003cbr\\u003eyear=%{x}\\u003cbr\\u003esale_(dollars)=%{y}\\u003cextra\\u003e\\u003c\\u002fextra\\u003e\",\"legendgroup\":\"IMPORTED DISTILLED SPIRITS SPECIALTY\",\"line\":{\"color\":\"#84A0AE\",\"dash\":\"solid\"},\"marker\":{\"symbol\":\"circle\"},\"mode\":\"lines\",\"name\":\"IMPORTED DISTILLED SPIRITS SPECIALTY\",\"orientation\":\"v\",\"showlegend\":true,\"x\":[2021,2022,2023,2024],\"xaxis\":\"x\",\"y\":[2198387.35,2287548.25,2570139.47,2800047.57],\"yaxis\":\"y\",\"type\":\"scatter\"},{\"hovertemplate\":\"category_name=IMPORTED DRY GINS\\u003cbr\\u003eyear=%{x}\\u003cbr\\u003esale_(dollars)=%{y}\\u003cextra\\u003e\\u003c\\u002fextra\\u003e\",\"legendgroup\":\"IMPORTED DRY GINS\",\"line\":{\"color\":\"#B78B66\",\"dash\":\"solid\"},\"marker\":{\"symbol\":\"circle\"},\"mode\":\"lines\",\"name\":\"IMPORTED DRY GINS\",\"orientation\":\"v\",\"showlegend\":true,\"x\":[2021,2022,2023,2024],\"xaxis\":\"x\",\"y\":[5601912.38,5264783.55,5365783.4799999995,5234097.02],\"yaxis\":\"y\",\"type\":\"scatter\"},{\"hovertemplate\":\"category_name=IMPORTED FLAVORED VODKA\\u003cbr\\u003eyear=%{x}\\u003cbr\\u003esale_(dollars)=%{y}\\u003cextra\\u003e\\u003c\\u002fextra\\u003e\",\"legendgroup\":\"IMPORTED FLAVORED VODKA\",\"line\":{\"color\":\"#FF85A9\",\"dash\":\"solid\"},\"marker\":{\"symbol\":\"circle\"},\"mode\":\"lines\",\"name\":\"IMPORTED FLAVORED VODKA\",\"orientation\":\"v\",\"showlegend\":true,\"x\":[2021,2022,2023,2024],\"xaxis\":\"x\",\"y\":[5785184.29,5110305.62,4645766.33,4043151.31],\"yaxis\":\"y\",\"type\":\"scatter\"},{\"hovertemplate\":\"category_name=IMPORTED GINS\\u003cbr\\u003eyear=%{x}\\u003cbr\\u003esale_(dollars)=%{y}\\u003cextra\\u003e\\u003c\\u002fextra\\u003e\",\"legendgroup\":\"IMPORTED GINS\",\"line\":{\"color\":\"#FFB570\",\"dash\":\"solid\"},\"marker\":{\"symbol\":\"circle\"},\"mode\":\"lines\",\"name\":\"IMPORTED GINS\",\"orientation\":\"v\",\"showlegend\":true,\"x\":[2021,2022],\"xaxis\":\"x\",\"y\":[3186.72,1593.3600000000001],\"yaxis\":\"y\",\"type\":\"scatter\"},{\"hovertemplate\":\"category_name=IMPORTED SCHNAPPS\\u003cbr\\u003eyear=%{x}\\u003cbr\\u003esale_(dollars)=%{y}\\u003cextra\\u003e\\u003c\\u002fextra\\u003e\",\"legendgroup\":\"IMPORTED SCHNAPPS\",\"line\":{\"color\":\"#A7CEA1\",\"dash\":\"solid\"},\"marker\":{\"symbol\":\"circle\"},\"mode\":\"lines\",\"name\":\"IMPORTED SCHNAPPS\",\"orientation\":\"v\",\"showlegend\":true,\"x\":[2021,2022,2023,2024],\"xaxis\":\"x\",\"y\":[6637454.79,6198063.33,6117792.7,5908535.45],\"yaxis\":\"y\",\"type\":\"scatter\"},{\"hovertemplate\":\"category_name=IMPORTED VODKAS\\u003cbr\\u003eyear=%{x}\\u003cbr\\u003esale_(dollars)=%{y}\\u003cextra\\u003e\\u003c\\u002fextra\\u003e\",\"legendgroup\":\"IMPORTED VODKAS\",\"line\":{\"color\":\"#A9BCC7\",\"dash\":\"solid\"},\"marker\":{\"symbol\":\"circle\"},\"mode\":\"lines\",\"name\":\"IMPORTED VODKAS\",\"orientation\":\"v\",\"showlegend\":true,\"x\":[2021,2022,2023,2024],\"xaxis\":\"x\",\"y\":[14555075.32,12160779.82,11969382.42,11897627.63],\"yaxis\":\"y\",\"type\":\"scatter\"},{\"hovertemplate\":\"category_name=IMPORTED WHISKIES\\u003cbr\\u003eyear=%{x}\\u003cbr\\u003esale_(dollars)=%{y}\\u003cextra\\u003e\\u003c\\u002fextra\\u003e\",\"legendgroup\":\"IMPORTED WHISKIES\",\"line\":{\"color\":\"#4c3624\",\"dash\":\"solid\"},\"marker\":{\"symbol\":\"circle\"},\"mode\":\"lines\",\"name\":\"IMPORTED WHISKIES\",\"orientation\":\"v\",\"showlegend\":true,\"x\":[2021,2022],\"xaxis\":\"x\",\"y\":[5518.799999999999,1150.56],\"yaxis\":\"y\",\"type\":\"scatter\"},{\"hovertemplate\":\"category_name=IRISH WHISKIES\\u003cbr\\u003eyear=%{x}\\u003cbr\\u003esale_(dollars)=%{y}\\u003cextra\\u003e\\u003c\\u002fextra\\u003e\",\"legendgroup\":\"IRISH WHISKIES\",\"line\":{\"color\":\"#ff0651\",\"dash\":\"solid\"},\"marker\":{\"symbol\":\"circle\"},\"mode\":\"lines\",\"name\":\"IRISH WHISKIES\",\"orientation\":\"v\",\"showlegend\":true,\"x\":[2021,2022,2023,2024],\"xaxis\":\"x\",\"y\":[9237284.79,9501351.99,9776688.53,9677247.86],\"yaxis\":\"y\",\"type\":\"scatter\"},{\"hovertemplate\":\"category_name=MEZCAL\\u003cbr\\u003eyear=%{x}\\u003cbr\\u003esale_(dollars)=%{y}\\u003cextra\\u003e\\u003c\\u002fextra\\u003e\",\"legendgroup\":\"MEZCAL\",\"line\":{\"color\":\"#ff7e06\",\"dash\":\"solid\"},\"marker\":{\"symbol\":\"circle\"},\"mode\":\"lines\",\"name\":\"MEZCAL\",\"orientation\":\"v\",\"showlegend\":true,\"x\":[2021,2022,2023,2024],\"xaxis\":\"x\",\"y\":[430544.76,506772.9,527681.49,466248.68],\"yaxis\":\"y\",\"type\":\"scatter\"},{\"hovertemplate\":\"category_name=MIXTO TEQUILA\\u003cbr\\u003eyear=%{x}\\u003cbr\\u003esale_(dollars)=%{y}\\u003cextra\\u003e\\u003c\\u002fextra\\u003e\",\"legendgroup\":\"MIXTO TEQUILA\",\"line\":{\"color\":\"#74B36B\",\"dash\":\"solid\"},\"marker\":{\"symbol\":\"circle\"},\"mode\":\"lines\",\"name\":\"MIXTO TEQUILA\",\"orientation\":\"v\",\"showlegend\":true,\"x\":[2021,2022,2023,2024],\"xaxis\":\"x\",\"y\":[10668319.03,10615068.79,11328711.3,11152423.53],\"yaxis\":\"y\",\"type\":\"scatter\"},{\"hovertemplate\":\"category_name=NEUTRAL GRAIN SPIRITS\\u003cbr\\u003eyear=%{x}\\u003cbr\\u003esale_(dollars)=%{y}\\u003cextra\\u003e\\u003c\\u002fextra\\u003e\",\"legendgroup\":\"NEUTRAL GRAIN SPIRITS\",\"line\":{\"color\":\"#628395\",\"dash\":\"solid\"},\"marker\":{\"symbol\":\"circle\"},\"mode\":\"lines\",\"name\":\"NEUTRAL GRAIN SPIRITS\",\"orientation\":\"v\",\"showlegend\":true,\"x\":[2021,2022,2023,2024],\"xaxis\":\"x\",\"y\":[642212.92,717044.06,600038.79,534416.46],\"yaxis\":\"y\",\"type\":\"scatter\"},{\"hovertemplate\":\"category_name=NEUTRAL GRAIN SPIRITS FLAVORED\\u003cbr\\u003eyear=%{x}\\u003cbr\\u003esale_(dollars)=%{y}\\u003cextra\\u003e\\u003c\\u002fextra\\u003e\",\"legendgroup\":\"NEUTRAL GRAIN SPIRITS FLAVORED\",\"line\":{\"color\":\"#996C48\",\"dash\":\"solid\"},\"marker\":{\"symbol\":\"circle\"},\"mode\":\"lines\",\"name\":\"NEUTRAL GRAIN SPIRITS FLAVORED\",\"orientation\":\"v\",\"showlegend\":true,\"x\":[2021,2022,2023,2024],\"xaxis\":\"x\",\"y\":[1570388.39,2824263.02,3687915.86,3174711.44],\"yaxis\":\"y\",\"type\":\"scatter\"},{\"hovertemplate\":\"category_name=SCOTCH WHISKIES\\u003cbr\\u003eyear=%{x}\\u003cbr\\u003esale_(dollars)=%{y}\\u003cextra\\u003e\\u003c\\u002fextra\\u003e\",\"legendgroup\":\"SCOTCH WHISKIES\",\"line\":{\"color\":\"#FF5C8D\",\"dash\":\"solid\"},\"marker\":{\"symbol\":\"circle\"},\"mode\":\"lines\",\"name\":\"SCOTCH WHISKIES\",\"orientation\":\"v\",\"showlegend\":true,\"x\":[2021,2022,2023,2024],\"xaxis\":\"x\",\"y\":[5717575.85,5859818.71,5820348.94,5475405.61],\"yaxis\":\"y\",\"type\":\"scatter\"},{\"hovertemplate\":\"category_name=SINGLE BARREL BOURBON WHISKIES\\u003cbr\\u003eyear=%{x}\\u003cbr\\u003esale_(dollars)=%{y}\\u003cextra\\u003e\\u003c\\u002fextra\\u003e\",\"legendgroup\":\"SINGLE BARREL BOURBON WHISKIES\",\"line\":{\"color\":\"#FF9633\",\"dash\":\"solid\"},\"marker\":{\"symbol\":\"circle\"},\"mode\":\"lines\",\"name\":\"SINGLE BARREL BOURBON WHISKIES\",\"orientation\":\"v\",\"showlegend\":true,\"x\":[2021,2022,2023,2024],\"xaxis\":\"x\",\"y\":[1066420.02,1337022.01,2263352.85,2120425.73],\"yaxis\":\"y\",\"type\":\"scatter\"},{\"hovertemplate\":\"category_name=SINGLE MALT SCOTCH\\u003cbr\\u003eyear=%{x}\\u003cbr\\u003esale_(dollars)=%{y}\\u003cextra\\u003e\\u003c\\u002fextra\\u003e\",\"legendgroup\":\"SINGLE MALT SCOTCH\",\"line\":{\"color\":\"#8CC084\",\"dash\":\"solid\"},\"marker\":{\"symbol\":\"circle\"},\"mode\":\"lines\",\"name\":\"SINGLE MALT SCOTCH\",\"orientation\":\"v\",\"showlegend\":true,\"x\":[2021,2022,2023,2024],\"xaxis\":\"x\",\"y\":[4454879.36,4195328.69,4366960.12,3741822.52],\"yaxis\":\"y\",\"type\":\"scatter\"},{\"hovertemplate\":\"category_name=SPECIAL ORDER ITEMS\\u003cbr\\u003eyear=%{x}\\u003cbr\\u003esale_(dollars)=%{y}\\u003cextra\\u003e\\u003c\\u002fextra\\u003e\",\"legendgroup\":\"SPECIAL ORDER ITEMS\",\"line\":{\"color\":\"#84A0AE\",\"dash\":\"solid\"},\"marker\":{\"symbol\":\"circle\"},\"mode\":\"lines\",\"name\":\"SPECIAL ORDER ITEMS\",\"orientation\":\"v\",\"showlegend\":true,\"x\":[2021,2022,2023,2024],\"xaxis\":\"x\",\"y\":[1523594.6,1268780.94,1355046.29,1175867.3],\"yaxis\":\"y\",\"type\":\"scatter\"},{\"hovertemplate\":\"category_name=SPICED RUM\\u003cbr\\u003eyear=%{x}\\u003cbr\\u003esale_(dollars)=%{y}\\u003cextra\\u003e\\u003c\\u002fextra\\u003e\",\"legendgroup\":\"SPICED RUM\",\"line\":{\"color\":\"#B78B66\",\"dash\":\"solid\"},\"marker\":{\"symbol\":\"circle\"},\"mode\":\"lines\",\"name\":\"SPICED RUM\",\"orientation\":\"v\",\"showlegend\":true,\"x\":[2021,2022,2023,2024],\"xaxis\":\"x\",\"y\":[23106396.57,21249404.580000002,23177153.86,22196731.21],\"yaxis\":\"y\",\"type\":\"scatter\"},{\"hovertemplate\":\"category_name=STRAIGHT BOURBON WHISKIES\\u003cbr\\u003eyear=%{x}\\u003cbr\\u003esale_(dollars)=%{y}\\u003cextra\\u003e\\u003c\\u002fextra\\u003e\",\"legendgroup\":\"STRAIGHT BOURBON WHISKIES\",\"line\":{\"color\":\"#FF85A9\",\"dash\":\"solid\"},\"marker\":{\"symbol\":\"circle\"},\"mode\":\"lines\",\"name\":\"STRAIGHT BOURBON WHISKIES\",\"orientation\":\"v\",\"showlegend\":true,\"x\":[2021,2022,2023,2024],\"xaxis\":\"x\",\"y\":[34495221.88,35956631.64,38663527.08,40270332.38],\"yaxis\":\"y\",\"type\":\"scatter\"},{\"hovertemplate\":\"category_name=STRAIGHT RYE WHISKIES\\u003cbr\\u003eyear=%{x}\\u003cbr\\u003esale_(dollars)=%{y}\\u003cextra\\u003e\\u003c\\u002fextra\\u003e\",\"legendgroup\":\"STRAIGHT RYE WHISKIES\",\"line\":{\"color\":\"#FFB570\",\"dash\":\"solid\"},\"marker\":{\"symbol\":\"circle\"},\"mode\":\"lines\",\"name\":\"STRAIGHT RYE WHISKIES\",\"orientation\":\"v\",\"showlegend\":true,\"x\":[2021,2022,2023,2024],\"xaxis\":\"x\",\"y\":[4793496.38,4564984.01,4650988.17,3575026.2],\"yaxis\":\"y\",\"type\":\"scatter\"},{\"hovertemplate\":\"category_name=TEMPORARY & SPECIALTY PACKAGES\\u003cbr\\u003eyear=%{x}\\u003cbr\\u003esale_(dollars)=%{y}\\u003cextra\\u003e\\u003c\\u002fextra\\u003e\",\"legendgroup\":\"TEMPORARY & SPECIALTY PACKAGES\",\"line\":{\"color\":\"#A7CEA1\",\"dash\":\"solid\"},\"marker\":{\"symbol\":\"circle\"},\"mode\":\"lines\",\"name\":\"TEMPORARY & SPECIALTY PACKAGES\",\"orientation\":\"v\",\"showlegend\":true,\"x\":[2021,2022,2023,2024],\"xaxis\":\"x\",\"y\":[10170312.63,15366045.72,9500518.93,16366569.75],\"yaxis\":\"y\",\"type\":\"scatter\"},{\"hovertemplate\":\"category_name=TENNESSEE WHISKIES\\u003cbr\\u003eyear=%{x}\\u003cbr\\u003esale_(dollars)=%{y}\\u003cextra\\u003e\\u003c\\u002fextra\\u003e\",\"legendgroup\":\"TENNESSEE WHISKIES\",\"line\":{\"color\":\"#A9BCC7\",\"dash\":\"solid\"},\"marker\":{\"symbol\":\"circle\"},\"mode\":\"lines\",\"name\":\"TENNESSEE WHISKIES\",\"orientation\":\"v\",\"showlegend\":true,\"x\":[2021,2022,2023,2024],\"xaxis\":\"x\",\"y\":[16275278.25,16372867.13,16797020.24,16886917.43],\"yaxis\":\"y\",\"type\":\"scatter\"},{\"hovertemplate\":\"category_name=TRIPLE SEC\\u003cbr\\u003eyear=%{x}\\u003cbr\\u003esale_(dollars)=%{y}\\u003cextra\\u003e\\u003c\\u002fextra\\u003e\",\"legendgroup\":\"TRIPLE SEC\",\"line\":{\"color\":\"#4c3624\",\"dash\":\"solid\"},\"marker\":{\"symbol\":\"circle\"},\"mode\":\"lines\",\"name\":\"TRIPLE SEC\",\"orientation\":\"v\",\"showlegend\":true,\"x\":[2021,2022,2023,2024],\"xaxis\":\"x\",\"y\":[848208.02,791864.13,871223.19,822715.98],\"yaxis\":\"y\",\"type\":\"scatter\"},{\"hovertemplate\":\"category_name=WHISKEY LIQUEUR\\u003cbr\\u003eyear=%{x}\\u003cbr\\u003esale_(dollars)=%{y}\\u003cextra\\u003e\\u003c\\u002fextra\\u003e\",\"legendgroup\":\"WHISKEY LIQUEUR\",\"line\":{\"color\":\"#ff0651\",\"dash\":\"solid\"},\"marker\":{\"symbol\":\"circle\"},\"mode\":\"lines\",\"name\":\"WHISKEY LIQUEUR\",\"orientation\":\"v\",\"showlegend\":true,\"x\":[2021,2022,2023,2024],\"xaxis\":\"x\",\"y\":[24665196.27,25461116.55,26531366.67,26510560.02],\"yaxis\":\"y\",\"type\":\"scatter\"},{\"hovertemplate\":\"category_name=WHITE RUM\\u003cbr\\u003eyear=%{x}\\u003cbr\\u003esale_(dollars)=%{y}\\u003cextra\\u003e\\u003c\\u002fextra\\u003e\",\"legendgroup\":\"WHITE RUM\",\"line\":{\"color\":\"#ff7e06\",\"dash\":\"solid\"},\"marker\":{\"symbol\":\"circle\"},\"mode\":\"lines\",\"name\":\"WHITE RUM\",\"orientation\":\"v\",\"showlegend\":true,\"x\":[2021,2022,2023,2024],\"xaxis\":\"x\",\"y\":[6709242.53,6233833.21,5897924.23,5500138.3],\"yaxis\":\"y\",\"type\":\"scatter\"}],                        {\"template\":{\"layout\":{\"colorway\":[\"#4c3624\",\"#ff0651\",\"#ff7e06\",\"#74B36B\",\"#628395\",\"#996C48\",\"#FF5C8D\",\"#FF9633\",\"#8CC084\",\"#84A0AE\",\"#B78B66\",\"#FF85A9\",\"#FFB570\",\"#A7CEA1\",\"#A9BCC7\"],\"font\":{\"color\":\"black\"},\"paper_bgcolor\":\"white\",\"plot_bgcolor\":\"white\",\"xaxis\":{\"gridcolor\":\"lightgray\"},\"yaxis\":{\"gridcolor\":\"lightgray\"}}},\"xaxis\":{\"anchor\":\"y\",\"domain\":[0.0,1.0],\"title\":{\"text\":\"year\"}},\"yaxis\":{\"anchor\":\"x\",\"domain\":[0.0,1.0],\"title\":{\"text\":\"sale_(dollars)\"}},\"legend\":{\"title\":{\"text\":\"category_name\"},\"tracegroupgap\":0},\"title\":{\"text\":\"Evolution of Sales by Category per Year\"}},                        {\"responsive\": true}                    ).then(function(){\n",
              "                            \n",
              "var gd = document.getElementById('f9e562b1-ef26-4d2e-9e0c-08fcbc9d351b');\n",
              "var x = new MutationObserver(function (mutations, observer) {{\n",
              "        var display = window.getComputedStyle(gd).display;\n",
              "        if (!display || display === 'none') {{\n",
              "            console.log([gd, 'removed!']);\n",
              "            Plotly.purge(gd);\n",
              "            observer.disconnect();\n",
              "        }}\n",
              "}});\n",
              "\n",
              "// Listen for the removal of the full notebook cells\n",
              "var notebookContainer = gd.closest('#notebook-container');\n",
              "if (notebookContainer) {{\n",
              "    x.observe(notebookContainer, {childList: true});\n",
              "}}\n",
              "\n",
              "// Listen for the clearing of the current output cell\n",
              "var outputEl = gd.closest('.output');\n",
              "if (outputEl) {{\n",
              "    x.observe(outputEl, {childList: true});\n",
              "}}\n",
              "\n",
              "                        })                };                            </script>        </div>\n",
              "</body>\n",
              "</html>"
            ]
          },
          "metadata": {}
        }
      ]
    },
    {
      "cell_type": "markdown",
      "source": [
        "Since we cannot see any peaks of find a specific pattern, we'll try to find it in the % growth of sales."
      ],
      "metadata": {
        "id": "zcsjj3Sh6Yud"
      }
    },
    {
      "cell_type": "code",
      "source": [
        "# Calculate year-over-year sales growth for each category\n",
        "sales_growth = data_yearly_category.copy()\n",
        "sales_growth['sales_growth'] = sales_growth.groupby('category_name')['sale_(dollars)'].pct_change() * 100\n",
        "\n",
        "# Fill NaN values with 0\n",
        "sales_growth['sales_growth'] = sales_growth['sales_growth'].fillna(0)\n",
        "\n",
        "# Display the sales growth\n",
        "print(sales_growth[['year', 'category_name', 'sale_(dollars)', 'sales_growth']])\n"
      ],
      "metadata": {
        "colab": {
          "base_uri": "https://localhost:8080/"
        },
        "id": "4ABIgmQU1wh5",
        "outputId": "e521e540-c0ef-42f6-a049-5c2e84f16fe6"
      },
      "execution_count": 25,
      "outputs": [
        {
          "output_type": "stream",
          "name": "stdout",
          "text": [
            "     year                         category_name  sale_(dollars)  sales_growth\n",
            "0    2021                    100% AGAVE TEQUILA     23915100.71      0.000000\n",
            "1    2021                         AGED DARK RUM      1073387.53      0.000000\n",
            "2    2021                     AMERICAN BRANDIES      5216033.32      0.000000\n",
            "3    2021          AMERICAN CORDIALS & LIQUEURS      4293640.07      0.000000\n",
            "4    2021  AMERICAN DISTILLED SPIRITS SPECIALTY      1497977.38      0.000000\n",
            "..    ...                                   ...             ...           ...\n",
            "178  2024        TEMPORARY & SPECIALTY PACKAGES     16366569.75     72.270271\n",
            "179  2024                    TENNESSEE WHISKIES     16886917.43      0.535197\n",
            "180  2024                            TRIPLE SEC       822715.98     -5.567713\n",
            "181  2024                       WHISKEY LIQUEUR     26510560.02     -0.078423\n",
            "182  2024                             WHITE RUM      5500138.30     -6.744507\n",
            "\n",
            "[183 rows x 4 columns]\n"
          ]
        }
      ]
    },
    {
      "cell_type": "code",
      "source": [
        "# Plotting the growth of each category\n",
        "fig_sales_growth = px.line(sales_growth,\n",
        "                           x='year',\n",
        "                           y='sales_growth',\n",
        "                           color='category_name',\n",
        "                           title='Year-over-Year Sales Growth by Category',\n",
        "                           template='iowa')\n",
        "fig_sales_growth.show()\n"
      ],
      "metadata": {
        "colab": {
          "base_uri": "https://localhost:8080/",
          "height": 542
        },
        "id": "MASfBN5o1gWM",
        "outputId": "95c7b480-5dfc-432c-cd6f-fe5a2e0f1e8a"
      },
      "execution_count": 26,
      "outputs": [
        {
          "output_type": "display_data",
          "data": {
            "text/html": [
              "<html>\n",
              "<head><meta charset=\"utf-8\" /></head>\n",
              "<body>\n",
              "    <div>            <script src=\"https://cdnjs.cloudflare.com/ajax/libs/mathjax/2.7.5/MathJax.js?config=TeX-AMS-MML_SVG\"></script><script type=\"text/javascript\">if (window.MathJax && window.MathJax.Hub && window.MathJax.Hub.Config) {window.MathJax.Hub.Config({SVG: {font: \"STIX-Web\"}});}</script>                <script type=\"text/javascript\">window.PlotlyConfig = {MathJaxConfig: 'local'};</script>\n",
              "        <script charset=\"utf-8\" src=\"https://cdn.plot.ly/plotly-2.35.2.min.js\"></script>                <div id=\"f71253e8-1a09-4541-9b6f-0b503ffc8b9a\" class=\"plotly-graph-div\" style=\"height:525px; width:100%;\"></div>            <script type=\"text/javascript\">                                    window.PLOTLYENV=window.PLOTLYENV || {};                                    if (document.getElementById(\"f71253e8-1a09-4541-9b6f-0b503ffc8b9a\")) {                    Plotly.newPlot(                        \"f71253e8-1a09-4541-9b6f-0b503ffc8b9a\",                        [{\"hovertemplate\":\"category_name=100% AGAVE TEQUILA\\u003cbr\\u003eyear=%{x}\\u003cbr\\u003esales_growth=%{y}\\u003cextra\\u003e\\u003c\\u002fextra\\u003e\",\"legendgroup\":\"100% AGAVE TEQUILA\",\"line\":{\"color\":\"#4c3624\",\"dash\":\"solid\"},\"marker\":{\"symbol\":\"circle\"},\"mode\":\"lines\",\"name\":\"100% AGAVE TEQUILA\",\"orientation\":\"v\",\"showlegend\":true,\"x\":[2021,2022,2023,2024],\"xaxis\":\"x\",\"y\":[0.0,14.558183769404653,17.946795340573416,7.128985755430617],\"yaxis\":\"y\",\"type\":\"scatter\"},{\"hovertemplate\":\"category_name=AGED DARK RUM\\u003cbr\\u003eyear=%{x}\\u003cbr\\u003esales_growth=%{y}\\u003cextra\\u003e\\u003c\\u002fextra\\u003e\",\"legendgroup\":\"AGED DARK RUM\",\"line\":{\"color\":\"#ff0651\",\"dash\":\"solid\"},\"marker\":{\"symbol\":\"circle\"},\"mode\":\"lines\",\"name\":\"AGED DARK RUM\",\"orientation\":\"v\",\"showlegend\":true,\"x\":[2021,2022,2023,2024],\"xaxis\":\"x\",\"y\":[0.0,-8.78934936015141,4.234203016974458,-1.4717121814344702],\"yaxis\":\"y\",\"type\":\"scatter\"},{\"hovertemplate\":\"category_name=AMERICAN BRANDIES\\u003cbr\\u003eyear=%{x}\\u003cbr\\u003esales_growth=%{y}\\u003cextra\\u003e\\u003c\\u002fextra\\u003e\",\"legendgroup\":\"AMERICAN BRANDIES\",\"line\":{\"color\":\"#ff7e06\",\"dash\":\"solid\"},\"marker\":{\"symbol\":\"circle\"},\"mode\":\"lines\",\"name\":\"AMERICAN BRANDIES\",\"orientation\":\"v\",\"showlegend\":true,\"x\":[2021,2022,2023,2024],\"xaxis\":\"x\",\"y\":[0.0,-7.267172327035665,-2.9226035786220406,-3.3498038395261998],\"yaxis\":\"y\",\"type\":\"scatter\"},{\"hovertemplate\":\"category_name=AMERICAN CORDIALS & LIQUEURS\\u003cbr\\u003eyear=%{x}\\u003cbr\\u003esales_growth=%{y}\\u003cextra\\u003e\\u003c\\u002fextra\\u003e\",\"legendgroup\":\"AMERICAN CORDIALS & LIQUEURS\",\"line\":{\"color\":\"#74B36B\",\"dash\":\"solid\"},\"marker\":{\"symbol\":\"circle\"},\"mode\":\"lines\",\"name\":\"AMERICAN CORDIALS & LIQUEURS\",\"orientation\":\"v\",\"showlegend\":true,\"x\":[2021,2022,2023,2024],\"xaxis\":\"x\",\"y\":[0.0,5.5313905247768025,-3.5745052897935725,1.9425736540534366],\"yaxis\":\"y\",\"type\":\"scatter\"},{\"hovertemplate\":\"category_name=AMERICAN DISTILLED SPIRITS SPECIALTY\\u003cbr\\u003eyear=%{x}\\u003cbr\\u003esales_growth=%{y}\\u003cextra\\u003e\\u003c\\u002fextra\\u003e\",\"legendgroup\":\"AMERICAN DISTILLED SPIRITS SPECIALTY\",\"line\":{\"color\":\"#628395\",\"dash\":\"solid\"},\"marker\":{\"symbol\":\"circle\"},\"mode\":\"lines\",\"name\":\"AMERICAN DISTILLED SPIRITS SPECIALTY\",\"orientation\":\"v\",\"showlegend\":true,\"x\":[2021,2022,2023,2024],\"xaxis\":\"x\",\"y\":[0.0,1.2971203877591098,39.60857856320048,-29.480781412222747],\"yaxis\":\"y\",\"type\":\"scatter\"},{\"hovertemplate\":\"category_name=AMERICAN DRY GINS\\u003cbr\\u003eyear=%{x}\\u003cbr\\u003esales_growth=%{y}\\u003cextra\\u003e\\u003c\\u002fextra\\u003e\",\"legendgroup\":\"AMERICAN DRY GINS\",\"line\":{\"color\":\"#996C48\",\"dash\":\"solid\"},\"marker\":{\"symbol\":\"circle\"},\"mode\":\"lines\",\"name\":\"AMERICAN DRY GINS\",\"orientation\":\"v\",\"showlegend\":true,\"x\":[2021,2022,2023,2024],\"xaxis\":\"x\",\"y\":[0.0,-11.634507428530227,1.2735141840215736,-3.8956208516489954],\"yaxis\":\"y\",\"type\":\"scatter\"},{\"hovertemplate\":\"category_name=AMERICAN FLAVORED VODKA\\u003cbr\\u003eyear=%{x}\\u003cbr\\u003esales_growth=%{y}\\u003cextra\\u003e\\u003c\\u002fextra\\u003e\",\"legendgroup\":\"AMERICAN FLAVORED VODKA\",\"line\":{\"color\":\"#FF5C8D\",\"dash\":\"solid\"},\"marker\":{\"symbol\":\"circle\"},\"mode\":\"lines\",\"name\":\"AMERICAN FLAVORED VODKA\",\"orientation\":\"v\",\"showlegend\":true,\"x\":[2021,2022,2023,2024],\"xaxis\":\"x\",\"y\":[0.0,5.939846414897154,5.800357947691093,-2.23830182741962],\"yaxis\":\"y\",\"type\":\"scatter\"},{\"hovertemplate\":\"category_name=AMERICAN SCHNAPPS\\u003cbr\\u003eyear=%{x}\\u003cbr\\u003esales_growth=%{y}\\u003cextra\\u003e\\u003c\\u002fextra\\u003e\",\"legendgroup\":\"AMERICAN SCHNAPPS\",\"line\":{\"color\":\"#FF9633\",\"dash\":\"solid\"},\"marker\":{\"symbol\":\"circle\"},\"mode\":\"lines\",\"name\":\"AMERICAN SCHNAPPS\",\"orientation\":\"v\",\"showlegend\":true,\"x\":[2021,2022,2023,2024],\"xaxis\":\"x\",\"y\":[0.0,-3.09129108689129,14.90531474121115,5.651168010606122],\"yaxis\":\"y\",\"type\":\"scatter\"},{\"hovertemplate\":\"category_name=AMERICAN SLOE GINS\\u003cbr\\u003eyear=%{x}\\u003cbr\\u003esales_growth=%{y}\\u003cextra\\u003e\\u003c\\u002fextra\\u003e\",\"legendgroup\":\"AMERICAN SLOE GINS\",\"line\":{\"color\":\"#8CC084\",\"dash\":\"solid\"},\"marker\":{\"symbol\":\"circle\"},\"mode\":\"lines\",\"name\":\"AMERICAN SLOE GINS\",\"orientation\":\"v\",\"showlegend\":true,\"x\":[2021,2022,2023,2024],\"xaxis\":\"x\",\"y\":[0.0,-14.739305287789728,0.37523681476503423,-12.734674870277995],\"yaxis\":\"y\",\"type\":\"scatter\"},{\"hovertemplate\":\"category_name=AMERICAN VODKAS\\u003cbr\\u003eyear=%{x}\\u003cbr\\u003esales_growth=%{y}\\u003cextra\\u003e\\u003c\\u002fextra\\u003e\",\"legendgroup\":\"AMERICAN VODKAS\",\"line\":{\"color\":\"#84A0AE\",\"dash\":\"solid\"},\"marker\":{\"symbol\":\"circle\"},\"mode\":\"lines\",\"name\":\"AMERICAN VODKAS\",\"orientation\":\"v\",\"showlegend\":true,\"x\":[2021,2022,2023,2024],\"xaxis\":\"x\",\"y\":[0.0,1.878380115296019,7.589485309367072,-0.4111668839249183],\"yaxis\":\"y\",\"type\":\"scatter\"},{\"hovertemplate\":\"category_name=AMERICAN WHISKIES\\u003cbr\\u003eyear=%{x}\\u003cbr\\u003esales_growth=%{y}\\u003cextra\\u003e\\u003c\\u002fextra\\u003e\",\"legendgroup\":\"AMERICAN WHISKIES\",\"line\":{\"color\":\"#B78B66\",\"dash\":\"solid\"},\"marker\":{\"symbol\":\"circle\"},\"mode\":\"lines\",\"name\":\"AMERICAN WHISKIES\",\"orientation\":\"v\",\"showlegend\":true,\"x\":[2021],\"xaxis\":\"x\",\"y\":[0.0],\"yaxis\":\"y\",\"type\":\"scatter\"},{\"hovertemplate\":\"category_name=BLENDED WHISKIES\\u003cbr\\u003eyear=%{x}\\u003cbr\\u003esales_growth=%{y}\\u003cextra\\u003e\\u003c\\u002fextra\\u003e\",\"legendgroup\":\"BLENDED WHISKIES\",\"line\":{\"color\":\"#FF85A9\",\"dash\":\"solid\"},\"marker\":{\"symbol\":\"circle\"},\"mode\":\"lines\",\"name\":\"BLENDED WHISKIES\",\"orientation\":\"v\",\"showlegend\":true,\"x\":[2021,2022,2023,2024],\"xaxis\":\"x\",\"y\":[0.0,-10.391238534013302,-5.307175372132333,5.519763591724014],\"yaxis\":\"y\",\"type\":\"scatter\"},{\"hovertemplate\":\"category_name=BOTTLED IN BOND BOURBON\\u003cbr\\u003eyear=%{x}\\u003cbr\\u003esales_growth=%{y}\\u003cextra\\u003e\\u003c\\u002fextra\\u003e\",\"legendgroup\":\"BOTTLED IN BOND BOURBON\",\"line\":{\"color\":\"#FFB570\",\"dash\":\"solid\"},\"marker\":{\"symbol\":\"circle\"},\"mode\":\"lines\",\"name\":\"BOTTLED IN BOND BOURBON\",\"orientation\":\"v\",\"showlegend\":true,\"x\":[2021,2022,2023,2024],\"xaxis\":\"x\",\"y\":[0.0,36.963723990313134,33.114403782796266,3.862548142380451],\"yaxis\":\"y\",\"type\":\"scatter\"},{\"hovertemplate\":\"category_name=CANADIAN WHISKIES\\u003cbr\\u003eyear=%{x}\\u003cbr\\u003esales_growth=%{y}\\u003cextra\\u003e\\u003c\\u002fextra\\u003e\",\"legendgroup\":\"CANADIAN WHISKIES\",\"line\":{\"color\":\"#A7CEA1\",\"dash\":\"solid\"},\"marker\":{\"symbol\":\"circle\"},\"mode\":\"lines\",\"name\":\"CANADIAN WHISKIES\",\"orientation\":\"v\",\"showlegend\":true,\"x\":[2021,2022,2023,2024],\"xaxis\":\"x\",\"y\":[0.0,-3.47911442776353,10.086259534801712,-1.0612834683527805],\"yaxis\":\"y\",\"type\":\"scatter\"},{\"hovertemplate\":\"category_name=COCKTAILS\\u002fRTD\\u003cbr\\u003eyear=%{x}\\u003cbr\\u003esales_growth=%{y}\\u003cextra\\u003e\\u003c\\u002fextra\\u003e\",\"legendgroup\":\"COCKTAILS\\u002fRTD\",\"line\":{\"color\":\"#A9BCC7\",\"dash\":\"solid\"},\"marker\":{\"symbol\":\"circle\"},\"mode\":\"lines\",\"name\":\"COCKTAILS\\u002fRTD\",\"orientation\":\"v\",\"showlegend\":true,\"x\":[2021,2022,2023,2024],\"xaxis\":\"x\",\"y\":[0.0,-10.026691701517665,0.8525985398187386,8.868752385415846],\"yaxis\":\"y\",\"type\":\"scatter\"},{\"hovertemplate\":\"category_name=COFFEE LIQUEURS\\u003cbr\\u003eyear=%{x}\\u003cbr\\u003esales_growth=%{y}\\u003cextra\\u003e\\u003c\\u002fextra\\u003e\",\"legendgroup\":\"COFFEE LIQUEURS\",\"line\":{\"color\":\"#4c3624\",\"dash\":\"solid\"},\"marker\":{\"symbol\":\"circle\"},\"mode\":\"lines\",\"name\":\"COFFEE LIQUEURS\",\"orientation\":\"v\",\"showlegend\":true,\"x\":[2021,2022,2023,2024],\"xaxis\":\"x\",\"y\":[0.0,-0.9447273924814703,4.431236670673244,0.8828282398562814],\"yaxis\":\"y\",\"type\":\"scatter\"},{\"hovertemplate\":\"category_name=CORN WHISKIES\\u003cbr\\u003eyear=%{x}\\u003cbr\\u003esales_growth=%{y}\\u003cextra\\u003e\\u003c\\u002fextra\\u003e\",\"legendgroup\":\"CORN WHISKIES\",\"line\":{\"color\":\"#ff0651\",\"dash\":\"solid\"},\"marker\":{\"symbol\":\"circle\"},\"mode\":\"lines\",\"name\":\"CORN WHISKIES\",\"orientation\":\"v\",\"showlegend\":true,\"x\":[2021,2022,2023,2024],\"xaxis\":\"x\",\"y\":[0.0,-6.63363398214053,-39.17859126149105,-41.08718659712542],\"yaxis\":\"y\",\"type\":\"scatter\"},{\"hovertemplate\":\"category_name=CREAM LIQUEURS\\u003cbr\\u003eyear=%{x}\\u003cbr\\u003esales_growth=%{y}\\u003cextra\\u003e\\u003c\\u002fextra\\u003e\",\"legendgroup\":\"CREAM LIQUEURS\",\"line\":{\"color\":\"#ff7e06\",\"dash\":\"solid\"},\"marker\":{\"symbol\":\"circle\"},\"mode\":\"lines\",\"name\":\"CREAM LIQUEURS\",\"orientation\":\"v\",\"showlegend\":true,\"x\":[2021,2022,2023,2024],\"xaxis\":\"x\",\"y\":[0.0,-7.453270418754466,3.026753024409534,-9.30509154117386],\"yaxis\":\"y\",\"type\":\"scatter\"},{\"hovertemplate\":\"category_name=DISTILLED SPIRITS SPECIALTY\\u003cbr\\u003eyear=%{x}\\u003cbr\\u003esales_growth=%{y}\\u003cextra\\u003e\\u003c\\u002fextra\\u003e\",\"legendgroup\":\"DISTILLED SPIRITS SPECIALTY\",\"line\":{\"color\":\"#74B36B\",\"dash\":\"solid\"},\"marker\":{\"symbol\":\"circle\"},\"mode\":\"lines\",\"name\":\"DISTILLED SPIRITS SPECIALTY\",\"orientation\":\"v\",\"showlegend\":true,\"x\":[2021,2022],\"xaxis\":\"x\",\"y\":[0.0,-87.29967937299608],\"yaxis\":\"y\",\"type\":\"scatter\"},{\"hovertemplate\":\"category_name=FLAVORED GIN\\u003cbr\\u003eyear=%{x}\\u003cbr\\u003esales_growth=%{y}\\u003cextra\\u003e\\u003c\\u002fextra\\u003e\",\"legendgroup\":\"FLAVORED GIN\",\"line\":{\"color\":\"#628395\",\"dash\":\"solid\"},\"marker\":{\"symbol\":\"circle\"},\"mode\":\"lines\",\"name\":\"FLAVORED GIN\",\"orientation\":\"v\",\"showlegend\":true,\"x\":[2021,2022,2023,2024],\"xaxis\":\"x\",\"y\":[0.0,76.23484969484086,43.89466178857837,24.591422442209222],\"yaxis\":\"y\",\"type\":\"scatter\"},{\"hovertemplate\":\"category_name=FLAVORED RUM\\u003cbr\\u003eyear=%{x}\\u003cbr\\u003esales_growth=%{y}\\u003cextra\\u003e\\u003c\\u002fextra\\u003e\",\"legendgroup\":\"FLAVORED RUM\",\"line\":{\"color\":\"#996C48\",\"dash\":\"solid\"},\"marker\":{\"symbol\":\"circle\"},\"mode\":\"lines\",\"name\":\"FLAVORED RUM\",\"orientation\":\"v\",\"showlegend\":true,\"x\":[2021,2022,2023,2024],\"xaxis\":\"x\",\"y\":[0.0,-7.865963494022332,-0.06474457030486436,-14.327870347720973],\"yaxis\":\"y\",\"type\":\"scatter\"},{\"hovertemplate\":\"category_name=GOLD RUM\\u003cbr\\u003eyear=%{x}\\u003cbr\\u003esales_growth=%{y}\\u003cextra\\u003e\\u003c\\u002fextra\\u003e\",\"legendgroup\":\"GOLD RUM\",\"line\":{\"color\":\"#FF5C8D\",\"dash\":\"solid\"},\"marker\":{\"symbol\":\"circle\"},\"mode\":\"lines\",\"name\":\"GOLD RUM\",\"orientation\":\"v\",\"showlegend\":true,\"x\":[2021,2022,2023,2024],\"xaxis\":\"x\",\"y\":[0.0,-11.604748141279453,1.1309598617467387,-6.2411861415124665],\"yaxis\":\"y\",\"type\":\"scatter\"},{\"hovertemplate\":\"category_name=IMPORTED BRANDIES\\u003cbr\\u003eyear=%{x}\\u003cbr\\u003esales_growth=%{y}\\u003cextra\\u003e\\u003c\\u002fextra\\u003e\",\"legendgroup\":\"IMPORTED BRANDIES\",\"line\":{\"color\":\"#FF9633\",\"dash\":\"solid\"},\"marker\":{\"symbol\":\"circle\"},\"mode\":\"lines\",\"name\":\"IMPORTED BRANDIES\",\"orientation\":\"v\",\"showlegend\":true,\"x\":[2021,2022,2023,2024],\"xaxis\":\"x\",\"y\":[0.0,-16.811287229987325,-15.906832730746823,-14.007047383684956],\"yaxis\":\"y\",\"type\":\"scatter\"},{\"hovertemplate\":\"category_name=IMPORTED CORDIALS & LIQUEURS\\u003cbr\\u003eyear=%{x}\\u003cbr\\u003esales_growth=%{y}\\u003cextra\\u003e\\u003c\\u002fextra\\u003e\",\"legendgroup\":\"IMPORTED CORDIALS & LIQUEURS\",\"line\":{\"color\":\"#8CC084\",\"dash\":\"solid\"},\"marker\":{\"symbol\":\"circle\"},\"mode\":\"lines\",\"name\":\"IMPORTED CORDIALS & LIQUEURS\",\"orientation\":\"v\",\"showlegend\":true,\"x\":[2021,2022,2023,2024],\"xaxis\":\"x\",\"y\":[0.0,6.650604845731789,4.591887015113416,-4.002864893369362],\"yaxis\":\"y\",\"type\":\"scatter\"},{\"hovertemplate\":\"category_name=IMPORTED DISTILLED SPIRITS SPECIALTY\\u003cbr\\u003eyear=%{x}\\u003cbr\\u003esales_growth=%{y}\\u003cextra\\u003e\\u003c\\u002fextra\\u003e\",\"legendgroup\":\"IMPORTED DISTILLED SPIRITS SPECIALTY\",\"line\":{\"color\":\"#84A0AE\",\"dash\":\"solid\"},\"marker\":{\"symbol\":\"circle\"},\"mode\":\"lines\",\"name\":\"IMPORTED DISTILLED SPIRITS SPECIALTY\",\"orientation\":\"v\",\"showlegend\":true,\"x\":[2021,2022,2023,2024],\"xaxis\":\"x\",\"y\":[0.0,4.055741132244051,12.353453965397243,8.945355016084001],\"yaxis\":\"y\",\"type\":\"scatter\"},{\"hovertemplate\":\"category_name=IMPORTED DRY GINS\\u003cbr\\u003eyear=%{x}\\u003cbr\\u003esales_growth=%{y}\\u003cextra\\u003e\\u003c\\u002fextra\\u003e\",\"legendgroup\":\"IMPORTED DRY GINS\",\"line\":{\"color\":\"#B78B66\",\"dash\":\"solid\"},\"marker\":{\"symbol\":\"circle\"},\"mode\":\"lines\",\"name\":\"IMPORTED DRY GINS\",\"orientation\":\"v\",\"showlegend\":true,\"x\":[2021,2022,2023,2024],\"xaxis\":\"x\",\"y\":[0.0,-6.018102518054736,1.9184061232678795,-2.4541888522121247],\"yaxis\":\"y\",\"type\":\"scatter\"},{\"hovertemplate\":\"category_name=IMPORTED FLAVORED VODKA\\u003cbr\\u003eyear=%{x}\\u003cbr\\u003esales_growth=%{y}\\u003cextra\\u003e\\u003c\\u002fextra\\u003e\",\"legendgroup\":\"IMPORTED FLAVORED VODKA\",\"line\":{\"color\":\"#FF85A9\",\"dash\":\"solid\"},\"marker\":{\"symbol\":\"circle\"},\"mode\":\"lines\",\"name\":\"IMPORTED FLAVORED VODKA\",\"orientation\":\"v\",\"showlegend\":true,\"x\":[2021,2022,2023,2024],\"xaxis\":\"x\",\"y\":[0.0,-11.665638226366681,-9.090244782659395,-12.971272707123005],\"yaxis\":\"y\",\"type\":\"scatter\"},{\"hovertemplate\":\"category_name=IMPORTED GINS\\u003cbr\\u003eyear=%{x}\\u003cbr\\u003esales_growth=%{y}\\u003cextra\\u003e\\u003c\\u002fextra\\u003e\",\"legendgroup\":\"IMPORTED GINS\",\"line\":{\"color\":\"#FFB570\",\"dash\":\"solid\"},\"marker\":{\"symbol\":\"circle\"},\"mode\":\"lines\",\"name\":\"IMPORTED GINS\",\"orientation\":\"v\",\"showlegend\":true,\"x\":[2021,2022],\"xaxis\":\"x\",\"y\":[0.0,-49.999999999999986],\"yaxis\":\"y\",\"type\":\"scatter\"},{\"hovertemplate\":\"category_name=IMPORTED SCHNAPPS\\u003cbr\\u003eyear=%{x}\\u003cbr\\u003esales_growth=%{y}\\u003cextra\\u003e\\u003c\\u002fextra\\u003e\",\"legendgroup\":\"IMPORTED SCHNAPPS\",\"line\":{\"color\":\"#A7CEA1\",\"dash\":\"solid\"},\"marker\":{\"symbol\":\"circle\"},\"mode\":\"lines\",\"name\":\"IMPORTED SCHNAPPS\",\"orientation\":\"v\",\"showlegend\":true,\"x\":[2021,2022,2023,2024],\"xaxis\":\"x\",\"y\":[0.0,-6.619878762292853,-1.2950921235585389,-3.420469771720114],\"yaxis\":\"y\",\"type\":\"scatter\"},{\"hovertemplate\":\"category_name=IMPORTED VODKAS\\u003cbr\\u003eyear=%{x}\\u003cbr\\u003esales_growth=%{y}\\u003cextra\\u003e\\u003c\\u002fextra\\u003e\",\"legendgroup\":\"IMPORTED VODKAS\",\"line\":{\"color\":\"#A9BCC7\",\"dash\":\"solid\"},\"marker\":{\"symbol\":\"circle\"},\"mode\":\"lines\",\"name\":\"IMPORTED VODKAS\",\"orientation\":\"v\",\"showlegend\":true,\"x\":[2021,2022,2023,2024],\"xaxis\":\"x\",\"y\":[0.0,-16.44990113318081,-1.5738908427995857,-0.5994861512662708],\"yaxis\":\"y\",\"type\":\"scatter\"},{\"hovertemplate\":\"category_name=IMPORTED WHISKIES\\u003cbr\\u003eyear=%{x}\\u003cbr\\u003esales_growth=%{y}\\u003cextra\\u003e\\u003c\\u002fextra\\u003e\",\"legendgroup\":\"IMPORTED WHISKIES\",\"line\":{\"color\":\"#4c3624\",\"dash\":\"solid\"},\"marker\":{\"symbol\":\"circle\"},\"mode\":\"lines\",\"name\":\"IMPORTED WHISKIES\",\"orientation\":\"v\",\"showlegend\":true,\"x\":[2021,2022],\"xaxis\":\"x\",\"y\":[0.0,-79.15198956294847],\"yaxis\":\"y\",\"type\":\"scatter\"},{\"hovertemplate\":\"category_name=IRISH WHISKIES\\u003cbr\\u003eyear=%{x}\\u003cbr\\u003esales_growth=%{y}\\u003cextra\\u003e\\u003c\\u002fextra\\u003e\",\"legendgroup\":\"IRISH WHISKIES\",\"line\":{\"color\":\"#ff0651\",\"dash\":\"solid\"},\"marker\":{\"symbol\":\"circle\"},\"mode\":\"lines\",\"name\":\"IRISH WHISKIES\",\"orientation\":\"v\",\"showlegend\":true,\"x\":[2021,2022,2023,2024],\"xaxis\":\"x\",\"y\":[0.0,2.858710172992307,2.8978669592473416,-1.0171201598052737],\"yaxis\":\"y\",\"type\":\"scatter\"},{\"hovertemplate\":\"category_name=MEZCAL\\u003cbr\\u003eyear=%{x}\\u003cbr\\u003esales_growth=%{y}\\u003cextra\\u003e\\u003c\\u002fextra\\u003e\",\"legendgroup\":\"MEZCAL\",\"line\":{\"color\":\"#ff7e06\",\"dash\":\"solid\"},\"marker\":{\"symbol\":\"circle\"},\"mode\":\"lines\",\"name\":\"MEZCAL\",\"orientation\":\"v\",\"showlegend\":true,\"x\":[2021,2022,2023,2024],\"xaxis\":\"x\",\"y\":[0.0,17.70504418634662,4.125830327549074,-11.642024813112162],\"yaxis\":\"y\",\"type\":\"scatter\"},{\"hovertemplate\":\"category_name=MIXTO TEQUILA\\u003cbr\\u003eyear=%{x}\\u003cbr\\u003esales_growth=%{y}\\u003cextra\\u003e\\u003c\\u002fextra\\u003e\",\"legendgroup\":\"MIXTO TEQUILA\",\"line\":{\"color\":\"#74B36B\",\"dash\":\"solid\"},\"marker\":{\"symbol\":\"circle\"},\"mode\":\"lines\",\"name\":\"MIXTO TEQUILA\",\"orientation\":\"v\",\"showlegend\":true,\"x\":[2021,2022,2023,2024],\"xaxis\":\"x\",\"y\":[0.0,-0.49914367812077254,6.722919315155962,-1.5561149483966585],\"yaxis\":\"y\",\"type\":\"scatter\"},{\"hovertemplate\":\"category_name=NEUTRAL GRAIN SPIRITS\\u003cbr\\u003eyear=%{x}\\u003cbr\\u003esales_growth=%{y}\\u003cextra\\u003e\\u003c\\u002fextra\\u003e\",\"legendgroup\":\"NEUTRAL GRAIN SPIRITS\",\"line\":{\"color\":\"#628395\",\"dash\":\"solid\"},\"marker\":{\"symbol\":\"circle\"},\"mode\":\"lines\",\"name\":\"NEUTRAL GRAIN SPIRITS\",\"orientation\":\"v\",\"showlegend\":true,\"x\":[2021,2022,2023,2024],\"xaxis\":\"x\",\"y\":[0.0,11.652076386130638,-16.317723906673187,-10.936347965104066],\"yaxis\":\"y\",\"type\":\"scatter\"},{\"hovertemplate\":\"category_name=NEUTRAL GRAIN SPIRITS FLAVORED\\u003cbr\\u003eyear=%{x}\\u003cbr\\u003esales_growth=%{y}\\u003cextra\\u003e\\u003c\\u002fextra\\u003e\",\"legendgroup\":\"NEUTRAL GRAIN SPIRITS FLAVORED\",\"line\":{\"color\":\"#996C48\",\"dash\":\"solid\"},\"marker\":{\"symbol\":\"circle\"},\"mode\":\"lines\",\"name\":\"NEUTRAL GRAIN SPIRITS FLAVORED\",\"orientation\":\"v\",\"showlegend\":true,\"x\":[2021,2022,2023,2024],\"xaxis\":\"x\",\"y\":[0.0,79.84487391682768,30.579759529620574,-13.915838633042998],\"yaxis\":\"y\",\"type\":\"scatter\"},{\"hovertemplate\":\"category_name=SCOTCH WHISKIES\\u003cbr\\u003eyear=%{x}\\u003cbr\\u003esales_growth=%{y}\\u003cextra\\u003e\\u003c\\u002fextra\\u003e\",\"legendgroup\":\"SCOTCH WHISKIES\",\"line\":{\"color\":\"#FF5C8D\",\"dash\":\"solid\"},\"marker\":{\"symbol\":\"circle\"},\"mode\":\"lines\",\"name\":\"SCOTCH WHISKIES\",\"orientation\":\"v\",\"showlegend\":true,\"x\":[2021,2022,2023,2024],\"xaxis\":\"x\",\"y\":[0.0,2.4878176299139243,-0.6735664011694231,-5.926506014603305],\"yaxis\":\"y\",\"type\":\"scatter\"},{\"hovertemplate\":\"category_name=SINGLE BARREL BOURBON WHISKIES\\u003cbr\\u003eyear=%{x}\\u003cbr\\u003esales_growth=%{y}\\u003cextra\\u003e\\u003c\\u002fextra\\u003e\",\"legendgroup\":\"SINGLE BARREL BOURBON WHISKIES\",\"line\":{\"color\":\"#FF9633\",\"dash\":\"solid\"},\"marker\":{\"symbol\":\"circle\"},\"mode\":\"lines\",\"name\":\"SINGLE BARREL BOURBON WHISKIES\",\"orientation\":\"v\",\"showlegend\":true,\"x\":[2021,2022,2023,2024],\"xaxis\":\"x\",\"y\":[0.0,25.374804010149777,69.28314067170818,-6.314840392650223],\"yaxis\":\"y\",\"type\":\"scatter\"},{\"hovertemplate\":\"category_name=SINGLE MALT SCOTCH\\u003cbr\\u003eyear=%{x}\\u003cbr\\u003esales_growth=%{y}\\u003cextra\\u003e\\u003c\\u002fextra\\u003e\",\"legendgroup\":\"SINGLE MALT SCOTCH\",\"line\":{\"color\":\"#8CC084\",\"dash\":\"solid\"},\"marker\":{\"symbol\":\"circle\"},\"mode\":\"lines\",\"name\":\"SINGLE MALT SCOTCH\",\"orientation\":\"v\",\"showlegend\":true,\"x\":[2021,2022,2023,2024],\"xaxis\":\"x\",\"y\":[0.0,-5.826210970615375,4.091012711568953,-14.315166221394303],\"yaxis\":\"y\",\"type\":\"scatter\"},{\"hovertemplate\":\"category_name=SPECIAL ORDER ITEMS\\u003cbr\\u003eyear=%{x}\\u003cbr\\u003esales_growth=%{y}\\u003cextra\\u003e\\u003c\\u002fextra\\u003e\",\"legendgroup\":\"SPECIAL ORDER ITEMS\",\"line\":{\"color\":\"#84A0AE\",\"dash\":\"solid\"},\"marker\":{\"symbol\":\"circle\"},\"mode\":\"lines\",\"name\":\"SPECIAL ORDER ITEMS\",\"orientation\":\"v\",\"showlegend\":true,\"x\":[2021,2022,2023,2024],\"xaxis\":\"x\",\"y\":[0.0,-16.72450532444787,6.79907360525136,-13.223089965435797],\"yaxis\":\"y\",\"type\":\"scatter\"},{\"hovertemplate\":\"category_name=SPICED RUM\\u003cbr\\u003eyear=%{x}\\u003cbr\\u003esales_growth=%{y}\\u003cextra\\u003e\\u003c\\u002fextra\\u003e\",\"legendgroup\":\"SPICED RUM\",\"line\":{\"color\":\"#B78B66\",\"dash\":\"solid\"},\"marker\":{\"symbol\":\"circle\"},\"mode\":\"lines\",\"name\":\"SPICED RUM\",\"orientation\":\"v\",\"showlegend\":true,\"x\":[2021,2022,2023,2024],\"xaxis\":\"x\",\"y\":[0.0,-8.036700938522834,9.072015513387143,-4.2301253032282276],\"yaxis\":\"y\",\"type\":\"scatter\"},{\"hovertemplate\":\"category_name=STRAIGHT BOURBON WHISKIES\\u003cbr\\u003eyear=%{x}\\u003cbr\\u003esales_growth=%{y}\\u003cextra\\u003e\\u003c\\u002fextra\\u003e\",\"legendgroup\":\"STRAIGHT BOURBON WHISKIES\",\"line\":{\"color\":\"#FF85A9\",\"dash\":\"solid\"},\"marker\":{\"symbol\":\"circle\"},\"mode\":\"lines\",\"name\":\"STRAIGHT BOURBON WHISKIES\",\"orientation\":\"v\",\"showlegend\":true,\"x\":[2021,2022,2023,2024],\"xaxis\":\"x\",\"y\":[0.0,4.236557066030389,7.52822307467953,4.155868389025419],\"yaxis\":\"y\",\"type\":\"scatter\"},{\"hovertemplate\":\"category_name=STRAIGHT RYE WHISKIES\\u003cbr\\u003eyear=%{x}\\u003cbr\\u003esales_growth=%{y}\\u003cextra\\u003e\\u003c\\u002fextra\\u003e\",\"legendgroup\":\"STRAIGHT RYE WHISKIES\",\"line\":{\"color\":\"#FFB570\",\"dash\":\"solid\"},\"marker\":{\"symbol\":\"circle\"},\"mode\":\"lines\",\"name\":\"STRAIGHT RYE WHISKIES\",\"orientation\":\"v\",\"showlegend\":true,\"x\":[2021,2022,2023,2024],\"xaxis\":\"x\",\"y\":[0.0,-4.767133463444906,1.8839969605939588,-23.13405088708277],\"yaxis\":\"y\",\"type\":\"scatter\"},{\"hovertemplate\":\"category_name=TEMPORARY & SPECIALTY PACKAGES\\u003cbr\\u003eyear=%{x}\\u003cbr\\u003esales_growth=%{y}\\u003cextra\\u003e\\u003c\\u002fextra\\u003e\",\"legendgroup\":\"TEMPORARY & SPECIALTY PACKAGES\",\"line\":{\"color\":\"#A7CEA1\",\"dash\":\"solid\"},\"marker\":{\"symbol\":\"circle\"},\"mode\":\"lines\",\"name\":\"TEMPORARY & SPECIALTY PACKAGES\",\"orientation\":\"v\",\"showlegend\":true,\"x\":[2021,2022,2023,2024],\"xaxis\":\"x\",\"y\":[0.0,51.08725050077443,-38.17199881401889,72.2702714513722],\"yaxis\":\"y\",\"type\":\"scatter\"},{\"hovertemplate\":\"category_name=TENNESSEE WHISKIES\\u003cbr\\u003eyear=%{x}\\u003cbr\\u003esales_growth=%{y}\\u003cextra\\u003e\\u003c\\u002fextra\\u003e\",\"legendgroup\":\"TENNESSEE WHISKIES\",\"line\":{\"color\":\"#A9BCC7\",\"dash\":\"solid\"},\"marker\":{\"symbol\":\"circle\"},\"mode\":\"lines\",\"name\":\"TENNESSEE WHISKIES\",\"orientation\":\"v\",\"showlegend\":true,\"x\":[2021,2022,2023,2024],\"xaxis\":\"x\",\"y\":[0.0,0.5996142032164586,2.5905854279048235,0.535197247580399],\"yaxis\":\"y\",\"type\":\"scatter\"},{\"hovertemplate\":\"category_name=TRIPLE SEC\\u003cbr\\u003eyear=%{x}\\u003cbr\\u003esales_growth=%{y}\\u003cextra\\u003e\\u003c\\u002fextra\\u003e\",\"legendgroup\":\"TRIPLE SEC\",\"line\":{\"color\":\"#4c3624\",\"dash\":\"solid\"},\"marker\":{\"symbol\":\"circle\"},\"mode\":\"lines\",\"name\":\"TRIPLE SEC\",\"orientation\":\"v\",\"showlegend\":true,\"x\":[2021,2022,2023,2024],\"xaxis\":\"x\",\"y\":[0.0,-6.642697153464782,10.021802603939122,-5.567713366307425],\"yaxis\":\"y\",\"type\":\"scatter\"},{\"hovertemplate\":\"category_name=WHISKEY LIQUEUR\\u003cbr\\u003eyear=%{x}\\u003cbr\\u003esales_growth=%{y}\\u003cextra\\u003e\\u003c\\u002fextra\\u003e\",\"legendgroup\":\"WHISKEY LIQUEUR\",\"line\":{\"color\":\"#ff0651\",\"dash\":\"solid\"},\"marker\":{\"symbol\":\"circle\"},\"mode\":\"lines\",\"name\":\"WHISKEY LIQUEUR\",\"orientation\":\"v\",\"showlegend\":true,\"x\":[2021,2022,2023,2024],\"xaxis\":\"x\",\"y\":[0.0,3.2268961953003883,4.2034689166057015,-0.07842283535106631],\"yaxis\":\"y\",\"type\":\"scatter\"},{\"hovertemplate\":\"category_name=WHITE RUM\\u003cbr\\u003eyear=%{x}\\u003cbr\\u003esales_growth=%{y}\\u003cextra\\u003e\\u003c\\u002fextra\\u003e\",\"legendgroup\":\"WHITE RUM\",\"line\":{\"color\":\"#ff7e06\",\"dash\":\"solid\"},\"marker\":{\"symbol\":\"circle\"},\"mode\":\"lines\",\"name\":\"WHITE RUM\",\"orientation\":\"v\",\"showlegend\":true,\"x\":[2021,2022,2023,2024],\"xaxis\":\"x\",\"y\":[0.0,-7.085886638830452,-5.388481993088156,-6.744507295916902],\"yaxis\":\"y\",\"type\":\"scatter\"}],                        {\"template\":{\"layout\":{\"colorway\":[\"#4c3624\",\"#ff0651\",\"#ff7e06\",\"#74B36B\",\"#628395\",\"#996C48\",\"#FF5C8D\",\"#FF9633\",\"#8CC084\",\"#84A0AE\",\"#B78B66\",\"#FF85A9\",\"#FFB570\",\"#A7CEA1\",\"#A9BCC7\"],\"font\":{\"color\":\"black\"},\"paper_bgcolor\":\"white\",\"plot_bgcolor\":\"white\",\"xaxis\":{\"gridcolor\":\"lightgray\"},\"yaxis\":{\"gridcolor\":\"lightgray\"}}},\"xaxis\":{\"anchor\":\"y\",\"domain\":[0.0,1.0],\"title\":{\"text\":\"year\"}},\"yaxis\":{\"anchor\":\"x\",\"domain\":[0.0,1.0],\"title\":{\"text\":\"sales_growth\"}},\"legend\":{\"title\":{\"text\":\"category_name\"},\"tracegroupgap\":0},\"title\":{\"text\":\"Year-over-Year Sales Growth by Category\"}},                        {\"responsive\": true}                    ).then(function(){\n",
              "                            \n",
              "var gd = document.getElementById('f71253e8-1a09-4541-9b6f-0b503ffc8b9a');\n",
              "var x = new MutationObserver(function (mutations, observer) {{\n",
              "        var display = window.getComputedStyle(gd).display;\n",
              "        if (!display || display === 'none') {{\n",
              "            console.log([gd, 'removed!']);\n",
              "            Plotly.purge(gd);\n",
              "            observer.disconnect();\n",
              "        }}\n",
              "}});\n",
              "\n",
              "// Listen for the removal of the full notebook cells\n",
              "var notebookContainer = gd.closest('#notebook-container');\n",
              "if (notebookContainer) {{\n",
              "    x.observe(notebookContainer, {childList: true});\n",
              "}}\n",
              "\n",
              "// Listen for the clearing of the current output cell\n",
              "var outputEl = gd.closest('.output');\n",
              "if (outputEl) {{\n",
              "    x.observe(outputEl, {childList: true});\n",
              "}}\n",
              "\n",
              "                        })                };                            </script>        </div>\n",
              "</body>\n",
              "</html>"
            ]
          },
          "metadata": {}
        }
      ]
    },
    {
      "cell_type": "markdown",
      "source": [
        "it's a lot of information so it's hard to analyze, let's filter by the % of fluctuation, to see the categories that have growth or decrease their sales\n"
      ],
      "metadata": {
        "id": "5un_IVup7A6H"
      }
    },
    {
      "cell_type": "code",
      "source": [
        "# prompt: from sales_growth show me the most fluctuating categories\n",
        "\n",
        "# Calculate the absolute value of sales growth\n",
        "sales_growth['abs_sales_growth'] = abs(sales_growth['sales_growth'])\n",
        "\n",
        "# Find categories with the highest absolute sales growth\n",
        "most_fluctuating = sales_growth.groupby('category_name')['abs_sales_growth'].mean().sort_values(ascending=False)\n",
        "\n",
        "# Threshold 20% of fluctuation\n",
        "threshold = 20\n",
        "highly_fluctuating_categories = sales_growth[sales_growth['abs_sales_growth'] > threshold]\n",
        "print(\"\\nCategories with absolute sales growth greater than\", threshold, \"%:\")\n",
        "highly_fluctuating_categories\n"
      ],
      "metadata": {
        "colab": {
          "base_uri": "https://localhost:8080/",
          "height": 1000
        },
        "id": "rZG2WVnG4XW3",
        "outputId": "5baf136f-e10f-4ea9-c565-d44dd7227392"
      },
      "execution_count": 43,
      "outputs": [
        {
          "output_type": "stream",
          "name": "stdout",
          "text": [
            "\n",
            "Categories with absolute sales growth greater than 20 %:\n"
          ]
        },
        {
          "output_type": "execute_result",
          "data": {
            "text/plain": [
              "     year                         category_name    pack  bottle_volume_(ml)  \\\n",
              "59   2022               BOTTLED IN BOND BOURBON   81024             7736000   \n",
              "65   2022           DISTILLED SPIRITS SPECIALTY     168               21000   \n",
              "66   2022                          FLAVORED GIN   23850             2386400   \n",
              "74   2022                         IMPORTED GINS      60                3750   \n",
              "77   2022                     IMPORTED WHISKIES      12                1500   \n",
              "82   2022        NEUTRAL GRAIN SPIRITS FLAVORED  210900            16469150   \n",
              "84   2022        SINGLE BARREL BOURBON WHISKIES   33438             3847125   \n",
              "90   2022        TEMPORARY & SPECIALTY PACKAGES  634452            53786500   \n",
              "99   2023  AMERICAN DISTILLED SPIRITS SPECIALTY   97636             7677750   \n",
              "106  2023               BOTTLED IN BOND BOURBON   87675             8610300   \n",
              "110  2023                         CORN WHISKIES   11556             1019300   \n",
              "112  2023                          FLAVORED GIN   33416             3467175   \n",
              "126  2023        NEUTRAL GRAIN SPIRITS FLAVORED  290236            20481400   \n",
              "128  2023        SINGLE BARREL BOURBON WHISKIES   47469             5588500   \n",
              "134  2023        TEMPORARY & SPECIALTY PACKAGES  395478            40059340   \n",
              "143  2024  AMERICAN DISTILLED SPIRITS SPECIALTY   81426             5762575   \n",
              "154  2024                         CORN WHISKIES    7836              727875   \n",
              "156  2024                          FLAVORED GIN   35906             3879350   \n",
              "177  2024                 STRAIGHT RYE WHISKIES  140844            14954375   \n",
              "178  2024        TEMPORARY & SPECIALTY PACKAGES  593063            55309130   \n",
              "\n",
              "     state_bottle_cost  state_bottle_retail  bottles_sold  sale_(dollars)  \\\n",
              "59           194588.44            291886.94         33086       951488.73   \n",
              "65              674.90              1012.49           100         3564.98   \n",
              "66            53139.98             79712.90         28305       683890.86   \n",
              "74               73.75               110.65            72         1593.36   \n",
              "77              127.84               191.76            12         1150.56   \n",
              "82           364193.80            546340.05        168258      2824263.02   \n",
              "84           122110.79            183169.19         37400      1337022.01   \n",
              "90          1970429.81           2955790.43        575317     15366045.72   \n",
              "99           155180.38            232783.84         95909      2118431.67   \n",
              "106          223678.02            335519.16         41890      1266568.55   \n",
              "110           28280.88             42421.95          9473       251118.07   \n",
              "112           76728.20            115097.25         38804       984082.44   \n",
              "126          481065.63            721679.71        220959      3687915.86   \n",
              "128          208410.51            312617.85         55132      2263352.85   \n",
              "134         1748443.22           2623368.23        329937      9500518.93   \n",
              "143          104151.68            156247.77         75976      1493901.46   \n",
              "154           16962.93             25444.75          6020       147940.72   \n",
              "156           89355.18            134037.93         47665      1226082.31   \n",
              "177          486207.88            729340.64        116638      3575026.20   \n",
              "178         2179471.28           3269352.75        567165     16366569.75   \n",
              "\n",
              "     volume_sold_(liters)  volume_sold_(gallons)  sales_growth  \\\n",
              "59               28757.25                7541.87     36.963724   \n",
              "65                  75.00                  19.61    -87.299679   \n",
              "66               20855.65                5485.84     76.234850   \n",
              "74                  54.00                  14.23    -50.000000   \n",
              "77                   9.00                   2.36    -79.151990   \n",
              "82               91560.30               23967.06     79.844874   \n",
              "84               28086.00                7378.87     25.374804   \n",
              "90              455046.19              119678.28     51.087251   \n",
              "99               68686.10               18072.59     39.608579   \n",
              "106              36132.30                9481.85     33.114404   \n",
              "110               6616.47                1737.26    -39.178591   \n",
              "112              29271.90                7699.84     43.894662   \n",
              "126             113004.35               29563.90     30.579760   \n",
              "128              41439.00               10888.88     69.283141   \n",
              "134             244262.45               64134.66    -38.171999   \n",
              "143              53806.52               14160.54    -29.480781   \n",
              "154               4213.32                1105.47    -41.087187   \n",
              "156              35576.80                9360.63     24.591422   \n",
              "177              90427.92               23747.60    -23.134051   \n",
              "178             445790.15              117270.81     72.270271   \n",
              "\n",
              "     abs_sales_growth  \n",
              "59          36.963724  \n",
              "65          87.299679  \n",
              "66          76.234850  \n",
              "74          50.000000  \n",
              "77          79.151990  \n",
              "82          79.844874  \n",
              "84          25.374804  \n",
              "90          51.087251  \n",
              "99          39.608579  \n",
              "106         33.114404  \n",
              "110         39.178591  \n",
              "112         43.894662  \n",
              "126         30.579760  \n",
              "128         69.283141  \n",
              "134         38.171999  \n",
              "143         29.480781  \n",
              "154         41.087187  \n",
              "156         24.591422  \n",
              "177         23.134051  \n",
              "178         72.270271  "
            ],
            "text/html": [
              "\n",
              "  <div id=\"df-6aa97c1e-11d0-4ea2-b76d-314ab9d4f2e0\" class=\"colab-df-container\">\n",
              "    <div>\n",
              "<style scoped>\n",
              "    .dataframe tbody tr th:only-of-type {\n",
              "        vertical-align: middle;\n",
              "    }\n",
              "\n",
              "    .dataframe tbody tr th {\n",
              "        vertical-align: top;\n",
              "    }\n",
              "\n",
              "    .dataframe thead th {\n",
              "        text-align: right;\n",
              "    }\n",
              "</style>\n",
              "<table border=\"1\" class=\"dataframe\">\n",
              "  <thead>\n",
              "    <tr style=\"text-align: right;\">\n",
              "      <th></th>\n",
              "      <th>year</th>\n",
              "      <th>category_name</th>\n",
              "      <th>pack</th>\n",
              "      <th>bottle_volume_(ml)</th>\n",
              "      <th>state_bottle_cost</th>\n",
              "      <th>state_bottle_retail</th>\n",
              "      <th>bottles_sold</th>\n",
              "      <th>sale_(dollars)</th>\n",
              "      <th>volume_sold_(liters)</th>\n",
              "      <th>volume_sold_(gallons)</th>\n",
              "      <th>sales_growth</th>\n",
              "      <th>abs_sales_growth</th>\n",
              "    </tr>\n",
              "  </thead>\n",
              "  <tbody>\n",
              "    <tr>\n",
              "      <th>59</th>\n",
              "      <td>2022</td>\n",
              "      <td>BOTTLED IN BOND BOURBON</td>\n",
              "      <td>81024</td>\n",
              "      <td>7736000</td>\n",
              "      <td>194588.44</td>\n",
              "      <td>291886.94</td>\n",
              "      <td>33086</td>\n",
              "      <td>951488.73</td>\n",
              "      <td>28757.25</td>\n",
              "      <td>7541.87</td>\n",
              "      <td>36.963724</td>\n",
              "      <td>36.963724</td>\n",
              "    </tr>\n",
              "    <tr>\n",
              "      <th>65</th>\n",
              "      <td>2022</td>\n",
              "      <td>DISTILLED SPIRITS SPECIALTY</td>\n",
              "      <td>168</td>\n",
              "      <td>21000</td>\n",
              "      <td>674.90</td>\n",
              "      <td>1012.49</td>\n",
              "      <td>100</td>\n",
              "      <td>3564.98</td>\n",
              "      <td>75.00</td>\n",
              "      <td>19.61</td>\n",
              "      <td>-87.299679</td>\n",
              "      <td>87.299679</td>\n",
              "    </tr>\n",
              "    <tr>\n",
              "      <th>66</th>\n",
              "      <td>2022</td>\n",
              "      <td>FLAVORED GIN</td>\n",
              "      <td>23850</td>\n",
              "      <td>2386400</td>\n",
              "      <td>53139.98</td>\n",
              "      <td>79712.90</td>\n",
              "      <td>28305</td>\n",
              "      <td>683890.86</td>\n",
              "      <td>20855.65</td>\n",
              "      <td>5485.84</td>\n",
              "      <td>76.234850</td>\n",
              "      <td>76.234850</td>\n",
              "    </tr>\n",
              "    <tr>\n",
              "      <th>74</th>\n",
              "      <td>2022</td>\n",
              "      <td>IMPORTED GINS</td>\n",
              "      <td>60</td>\n",
              "      <td>3750</td>\n",
              "      <td>73.75</td>\n",
              "      <td>110.65</td>\n",
              "      <td>72</td>\n",
              "      <td>1593.36</td>\n",
              "      <td>54.00</td>\n",
              "      <td>14.23</td>\n",
              "      <td>-50.000000</td>\n",
              "      <td>50.000000</td>\n",
              "    </tr>\n",
              "    <tr>\n",
              "      <th>77</th>\n",
              "      <td>2022</td>\n",
              "      <td>IMPORTED WHISKIES</td>\n",
              "      <td>12</td>\n",
              "      <td>1500</td>\n",
              "      <td>127.84</td>\n",
              "      <td>191.76</td>\n",
              "      <td>12</td>\n",
              "      <td>1150.56</td>\n",
              "      <td>9.00</td>\n",
              "      <td>2.36</td>\n",
              "      <td>-79.151990</td>\n",
              "      <td>79.151990</td>\n",
              "    </tr>\n",
              "    <tr>\n",
              "      <th>82</th>\n",
              "      <td>2022</td>\n",
              "      <td>NEUTRAL GRAIN SPIRITS FLAVORED</td>\n",
              "      <td>210900</td>\n",
              "      <td>16469150</td>\n",
              "      <td>364193.80</td>\n",
              "      <td>546340.05</td>\n",
              "      <td>168258</td>\n",
              "      <td>2824263.02</td>\n",
              "      <td>91560.30</td>\n",
              "      <td>23967.06</td>\n",
              "      <td>79.844874</td>\n",
              "      <td>79.844874</td>\n",
              "    </tr>\n",
              "    <tr>\n",
              "      <th>84</th>\n",
              "      <td>2022</td>\n",
              "      <td>SINGLE BARREL BOURBON WHISKIES</td>\n",
              "      <td>33438</td>\n",
              "      <td>3847125</td>\n",
              "      <td>122110.79</td>\n",
              "      <td>183169.19</td>\n",
              "      <td>37400</td>\n",
              "      <td>1337022.01</td>\n",
              "      <td>28086.00</td>\n",
              "      <td>7378.87</td>\n",
              "      <td>25.374804</td>\n",
              "      <td>25.374804</td>\n",
              "    </tr>\n",
              "    <tr>\n",
              "      <th>90</th>\n",
              "      <td>2022</td>\n",
              "      <td>TEMPORARY &amp; SPECIALTY PACKAGES</td>\n",
              "      <td>634452</td>\n",
              "      <td>53786500</td>\n",
              "      <td>1970429.81</td>\n",
              "      <td>2955790.43</td>\n",
              "      <td>575317</td>\n",
              "      <td>15366045.72</td>\n",
              "      <td>455046.19</td>\n",
              "      <td>119678.28</td>\n",
              "      <td>51.087251</td>\n",
              "      <td>51.087251</td>\n",
              "    </tr>\n",
              "    <tr>\n",
              "      <th>99</th>\n",
              "      <td>2023</td>\n",
              "      <td>AMERICAN DISTILLED SPIRITS SPECIALTY</td>\n",
              "      <td>97636</td>\n",
              "      <td>7677750</td>\n",
              "      <td>155180.38</td>\n",
              "      <td>232783.84</td>\n",
              "      <td>95909</td>\n",
              "      <td>2118431.67</td>\n",
              "      <td>68686.10</td>\n",
              "      <td>18072.59</td>\n",
              "      <td>39.608579</td>\n",
              "      <td>39.608579</td>\n",
              "    </tr>\n",
              "    <tr>\n",
              "      <th>106</th>\n",
              "      <td>2023</td>\n",
              "      <td>BOTTLED IN BOND BOURBON</td>\n",
              "      <td>87675</td>\n",
              "      <td>8610300</td>\n",
              "      <td>223678.02</td>\n",
              "      <td>335519.16</td>\n",
              "      <td>41890</td>\n",
              "      <td>1266568.55</td>\n",
              "      <td>36132.30</td>\n",
              "      <td>9481.85</td>\n",
              "      <td>33.114404</td>\n",
              "      <td>33.114404</td>\n",
              "    </tr>\n",
              "    <tr>\n",
              "      <th>110</th>\n",
              "      <td>2023</td>\n",
              "      <td>CORN WHISKIES</td>\n",
              "      <td>11556</td>\n",
              "      <td>1019300</td>\n",
              "      <td>28280.88</td>\n",
              "      <td>42421.95</td>\n",
              "      <td>9473</td>\n",
              "      <td>251118.07</td>\n",
              "      <td>6616.47</td>\n",
              "      <td>1737.26</td>\n",
              "      <td>-39.178591</td>\n",
              "      <td>39.178591</td>\n",
              "    </tr>\n",
              "    <tr>\n",
              "      <th>112</th>\n",
              "      <td>2023</td>\n",
              "      <td>FLAVORED GIN</td>\n",
              "      <td>33416</td>\n",
              "      <td>3467175</td>\n",
              "      <td>76728.20</td>\n",
              "      <td>115097.25</td>\n",
              "      <td>38804</td>\n",
              "      <td>984082.44</td>\n",
              "      <td>29271.90</td>\n",
              "      <td>7699.84</td>\n",
              "      <td>43.894662</td>\n",
              "      <td>43.894662</td>\n",
              "    </tr>\n",
              "    <tr>\n",
              "      <th>126</th>\n",
              "      <td>2023</td>\n",
              "      <td>NEUTRAL GRAIN SPIRITS FLAVORED</td>\n",
              "      <td>290236</td>\n",
              "      <td>20481400</td>\n",
              "      <td>481065.63</td>\n",
              "      <td>721679.71</td>\n",
              "      <td>220959</td>\n",
              "      <td>3687915.86</td>\n",
              "      <td>113004.35</td>\n",
              "      <td>29563.90</td>\n",
              "      <td>30.579760</td>\n",
              "      <td>30.579760</td>\n",
              "    </tr>\n",
              "    <tr>\n",
              "      <th>128</th>\n",
              "      <td>2023</td>\n",
              "      <td>SINGLE BARREL BOURBON WHISKIES</td>\n",
              "      <td>47469</td>\n",
              "      <td>5588500</td>\n",
              "      <td>208410.51</td>\n",
              "      <td>312617.85</td>\n",
              "      <td>55132</td>\n",
              "      <td>2263352.85</td>\n",
              "      <td>41439.00</td>\n",
              "      <td>10888.88</td>\n",
              "      <td>69.283141</td>\n",
              "      <td>69.283141</td>\n",
              "    </tr>\n",
              "    <tr>\n",
              "      <th>134</th>\n",
              "      <td>2023</td>\n",
              "      <td>TEMPORARY &amp; SPECIALTY PACKAGES</td>\n",
              "      <td>395478</td>\n",
              "      <td>40059340</td>\n",
              "      <td>1748443.22</td>\n",
              "      <td>2623368.23</td>\n",
              "      <td>329937</td>\n",
              "      <td>9500518.93</td>\n",
              "      <td>244262.45</td>\n",
              "      <td>64134.66</td>\n",
              "      <td>-38.171999</td>\n",
              "      <td>38.171999</td>\n",
              "    </tr>\n",
              "    <tr>\n",
              "      <th>143</th>\n",
              "      <td>2024</td>\n",
              "      <td>AMERICAN DISTILLED SPIRITS SPECIALTY</td>\n",
              "      <td>81426</td>\n",
              "      <td>5762575</td>\n",
              "      <td>104151.68</td>\n",
              "      <td>156247.77</td>\n",
              "      <td>75976</td>\n",
              "      <td>1493901.46</td>\n",
              "      <td>53806.52</td>\n",
              "      <td>14160.54</td>\n",
              "      <td>-29.480781</td>\n",
              "      <td>29.480781</td>\n",
              "    </tr>\n",
              "    <tr>\n",
              "      <th>154</th>\n",
              "      <td>2024</td>\n",
              "      <td>CORN WHISKIES</td>\n",
              "      <td>7836</td>\n",
              "      <td>727875</td>\n",
              "      <td>16962.93</td>\n",
              "      <td>25444.75</td>\n",
              "      <td>6020</td>\n",
              "      <td>147940.72</td>\n",
              "      <td>4213.32</td>\n",
              "      <td>1105.47</td>\n",
              "      <td>-41.087187</td>\n",
              "      <td>41.087187</td>\n",
              "    </tr>\n",
              "    <tr>\n",
              "      <th>156</th>\n",
              "      <td>2024</td>\n",
              "      <td>FLAVORED GIN</td>\n",
              "      <td>35906</td>\n",
              "      <td>3879350</td>\n",
              "      <td>89355.18</td>\n",
              "      <td>134037.93</td>\n",
              "      <td>47665</td>\n",
              "      <td>1226082.31</td>\n",
              "      <td>35576.80</td>\n",
              "      <td>9360.63</td>\n",
              "      <td>24.591422</td>\n",
              "      <td>24.591422</td>\n",
              "    </tr>\n",
              "    <tr>\n",
              "      <th>177</th>\n",
              "      <td>2024</td>\n",
              "      <td>STRAIGHT RYE WHISKIES</td>\n",
              "      <td>140844</td>\n",
              "      <td>14954375</td>\n",
              "      <td>486207.88</td>\n",
              "      <td>729340.64</td>\n",
              "      <td>116638</td>\n",
              "      <td>3575026.20</td>\n",
              "      <td>90427.92</td>\n",
              "      <td>23747.60</td>\n",
              "      <td>-23.134051</td>\n",
              "      <td>23.134051</td>\n",
              "    </tr>\n",
              "    <tr>\n",
              "      <th>178</th>\n",
              "      <td>2024</td>\n",
              "      <td>TEMPORARY &amp; SPECIALTY PACKAGES</td>\n",
              "      <td>593063</td>\n",
              "      <td>55309130</td>\n",
              "      <td>2179471.28</td>\n",
              "      <td>3269352.75</td>\n",
              "      <td>567165</td>\n",
              "      <td>16366569.75</td>\n",
              "      <td>445790.15</td>\n",
              "      <td>117270.81</td>\n",
              "      <td>72.270271</td>\n",
              "      <td>72.270271</td>\n",
              "    </tr>\n",
              "  </tbody>\n",
              "</table>\n",
              "</div>\n",
              "    <div class=\"colab-df-buttons\">\n",
              "\n",
              "  <div class=\"colab-df-container\">\n",
              "    <button class=\"colab-df-convert\" onclick=\"convertToInteractive('df-6aa97c1e-11d0-4ea2-b76d-314ab9d4f2e0')\"\n",
              "            title=\"Convert this dataframe to an interactive table.\"\n",
              "            style=\"display:none;\">\n",
              "\n",
              "  <svg xmlns=\"http://www.w3.org/2000/svg\" height=\"24px\" viewBox=\"0 -960 960 960\">\n",
              "    <path d=\"M120-120v-720h720v720H120Zm60-500h600v-160H180v160Zm220 220h160v-160H400v160Zm0 220h160v-160H400v160ZM180-400h160v-160H180v160Zm440 0h160v-160H620v160ZM180-180h160v-160H180v160Zm440 0h160v-160H620v160Z\"/>\n",
              "  </svg>\n",
              "    </button>\n",
              "\n",
              "  <style>\n",
              "    .colab-df-container {\n",
              "      display:flex;\n",
              "      gap: 12px;\n",
              "    }\n",
              "\n",
              "    .colab-df-convert {\n",
              "      background-color: #E8F0FE;\n",
              "      border: none;\n",
              "      border-radius: 50%;\n",
              "      cursor: pointer;\n",
              "      display: none;\n",
              "      fill: #1967D2;\n",
              "      height: 32px;\n",
              "      padding: 0 0 0 0;\n",
              "      width: 32px;\n",
              "    }\n",
              "\n",
              "    .colab-df-convert:hover {\n",
              "      background-color: #E2EBFA;\n",
              "      box-shadow: 0px 1px 2px rgba(60, 64, 67, 0.3), 0px 1px 3px 1px rgba(60, 64, 67, 0.15);\n",
              "      fill: #174EA6;\n",
              "    }\n",
              "\n",
              "    .colab-df-buttons div {\n",
              "      margin-bottom: 4px;\n",
              "    }\n",
              "\n",
              "    [theme=dark] .colab-df-convert {\n",
              "      background-color: #3B4455;\n",
              "      fill: #D2E3FC;\n",
              "    }\n",
              "\n",
              "    [theme=dark] .colab-df-convert:hover {\n",
              "      background-color: #434B5C;\n",
              "      box-shadow: 0px 1px 3px 1px rgba(0, 0, 0, 0.15);\n",
              "      filter: drop-shadow(0px 1px 2px rgba(0, 0, 0, 0.3));\n",
              "      fill: #FFFFFF;\n",
              "    }\n",
              "  </style>\n",
              "\n",
              "    <script>\n",
              "      const buttonEl =\n",
              "        document.querySelector('#df-6aa97c1e-11d0-4ea2-b76d-314ab9d4f2e0 button.colab-df-convert');\n",
              "      buttonEl.style.display =\n",
              "        google.colab.kernel.accessAllowed ? 'block' : 'none';\n",
              "\n",
              "      async function convertToInteractive(key) {\n",
              "        const element = document.querySelector('#df-6aa97c1e-11d0-4ea2-b76d-314ab9d4f2e0');\n",
              "        const dataTable =\n",
              "          await google.colab.kernel.invokeFunction('convertToInteractive',\n",
              "                                                    [key], {});\n",
              "        if (!dataTable) return;\n",
              "\n",
              "        const docLinkHtml = 'Like what you see? Visit the ' +\n",
              "          '<a target=\"_blank\" href=https://colab.research.google.com/notebooks/data_table.ipynb>data table notebook</a>'\n",
              "          + ' to learn more about interactive tables.';\n",
              "        element.innerHTML = '';\n",
              "        dataTable['output_type'] = 'display_data';\n",
              "        await google.colab.output.renderOutput(dataTable, element);\n",
              "        const docLink = document.createElement('div');\n",
              "        docLink.innerHTML = docLinkHtml;\n",
              "        element.appendChild(docLink);\n",
              "      }\n",
              "    </script>\n",
              "  </div>\n",
              "\n",
              "\n",
              "<div id=\"df-652507ca-3fec-4cc4-b1f3-2818265a55cc\">\n",
              "  <button class=\"colab-df-quickchart\" onclick=\"quickchart('df-652507ca-3fec-4cc4-b1f3-2818265a55cc')\"\n",
              "            title=\"Suggest charts\"\n",
              "            style=\"display:none;\">\n",
              "\n",
              "<svg xmlns=\"http://www.w3.org/2000/svg\" height=\"24px\"viewBox=\"0 0 24 24\"\n",
              "     width=\"24px\">\n",
              "    <g>\n",
              "        <path d=\"M19 3H5c-1.1 0-2 .9-2 2v14c0 1.1.9 2 2 2h14c1.1 0 2-.9 2-2V5c0-1.1-.9-2-2-2zM9 17H7v-7h2v7zm4 0h-2V7h2v10zm4 0h-2v-4h2v4z\"/>\n",
              "    </g>\n",
              "</svg>\n",
              "  </button>\n",
              "\n",
              "<style>\n",
              "  .colab-df-quickchart {\n",
              "      --bg-color: #E8F0FE;\n",
              "      --fill-color: #1967D2;\n",
              "      --hover-bg-color: #E2EBFA;\n",
              "      --hover-fill-color: #174EA6;\n",
              "      --disabled-fill-color: #AAA;\n",
              "      --disabled-bg-color: #DDD;\n",
              "  }\n",
              "\n",
              "  [theme=dark] .colab-df-quickchart {\n",
              "      --bg-color: #3B4455;\n",
              "      --fill-color: #D2E3FC;\n",
              "      --hover-bg-color: #434B5C;\n",
              "      --hover-fill-color: #FFFFFF;\n",
              "      --disabled-bg-color: #3B4455;\n",
              "      --disabled-fill-color: #666;\n",
              "  }\n",
              "\n",
              "  .colab-df-quickchart {\n",
              "    background-color: var(--bg-color);\n",
              "    border: none;\n",
              "    border-radius: 50%;\n",
              "    cursor: pointer;\n",
              "    display: none;\n",
              "    fill: var(--fill-color);\n",
              "    height: 32px;\n",
              "    padding: 0;\n",
              "    width: 32px;\n",
              "  }\n",
              "\n",
              "  .colab-df-quickchart:hover {\n",
              "    background-color: var(--hover-bg-color);\n",
              "    box-shadow: 0 1px 2px rgba(60, 64, 67, 0.3), 0 1px 3px 1px rgba(60, 64, 67, 0.15);\n",
              "    fill: var(--button-hover-fill-color);\n",
              "  }\n",
              "\n",
              "  .colab-df-quickchart-complete:disabled,\n",
              "  .colab-df-quickchart-complete:disabled:hover {\n",
              "    background-color: var(--disabled-bg-color);\n",
              "    fill: var(--disabled-fill-color);\n",
              "    box-shadow: none;\n",
              "  }\n",
              "\n",
              "  .colab-df-spinner {\n",
              "    border: 2px solid var(--fill-color);\n",
              "    border-color: transparent;\n",
              "    border-bottom-color: var(--fill-color);\n",
              "    animation:\n",
              "      spin 1s steps(1) infinite;\n",
              "  }\n",
              "\n",
              "  @keyframes spin {\n",
              "    0% {\n",
              "      border-color: transparent;\n",
              "      border-bottom-color: var(--fill-color);\n",
              "      border-left-color: var(--fill-color);\n",
              "    }\n",
              "    20% {\n",
              "      border-color: transparent;\n",
              "      border-left-color: var(--fill-color);\n",
              "      border-top-color: var(--fill-color);\n",
              "    }\n",
              "    30% {\n",
              "      border-color: transparent;\n",
              "      border-left-color: var(--fill-color);\n",
              "      border-top-color: var(--fill-color);\n",
              "      border-right-color: var(--fill-color);\n",
              "    }\n",
              "    40% {\n",
              "      border-color: transparent;\n",
              "      border-right-color: var(--fill-color);\n",
              "      border-top-color: var(--fill-color);\n",
              "    }\n",
              "    60% {\n",
              "      border-color: transparent;\n",
              "      border-right-color: var(--fill-color);\n",
              "    }\n",
              "    80% {\n",
              "      border-color: transparent;\n",
              "      border-right-color: var(--fill-color);\n",
              "      border-bottom-color: var(--fill-color);\n",
              "    }\n",
              "    90% {\n",
              "      border-color: transparent;\n",
              "      border-bottom-color: var(--fill-color);\n",
              "    }\n",
              "  }\n",
              "</style>\n",
              "\n",
              "  <script>\n",
              "    async function quickchart(key) {\n",
              "      const quickchartButtonEl =\n",
              "        document.querySelector('#' + key + ' button');\n",
              "      quickchartButtonEl.disabled = true;  // To prevent multiple clicks.\n",
              "      quickchartButtonEl.classList.add('colab-df-spinner');\n",
              "      try {\n",
              "        const charts = await google.colab.kernel.invokeFunction(\n",
              "            'suggestCharts', [key], {});\n",
              "      } catch (error) {\n",
              "        console.error('Error during call to suggestCharts:', error);\n",
              "      }\n",
              "      quickchartButtonEl.classList.remove('colab-df-spinner');\n",
              "      quickchartButtonEl.classList.add('colab-df-quickchart-complete');\n",
              "    }\n",
              "    (() => {\n",
              "      let quickchartButtonEl =\n",
              "        document.querySelector('#df-652507ca-3fec-4cc4-b1f3-2818265a55cc button');\n",
              "      quickchartButtonEl.style.display =\n",
              "        google.colab.kernel.accessAllowed ? 'block' : 'none';\n",
              "    })();\n",
              "  </script>\n",
              "</div>\n",
              "\n",
              "  <div id=\"id_847f789b-ae09-44b6-bdf3-7e453d6d78cf\">\n",
              "    <style>\n",
              "      .colab-df-generate {\n",
              "        background-color: #E8F0FE;\n",
              "        border: none;\n",
              "        border-radius: 50%;\n",
              "        cursor: pointer;\n",
              "        display: none;\n",
              "        fill: #1967D2;\n",
              "        height: 32px;\n",
              "        padding: 0 0 0 0;\n",
              "        width: 32px;\n",
              "      }\n",
              "\n",
              "      .colab-df-generate:hover {\n",
              "        background-color: #E2EBFA;\n",
              "        box-shadow: 0px 1px 2px rgba(60, 64, 67, 0.3), 0px 1px 3px 1px rgba(60, 64, 67, 0.15);\n",
              "        fill: #174EA6;\n",
              "      }\n",
              "\n",
              "      [theme=dark] .colab-df-generate {\n",
              "        background-color: #3B4455;\n",
              "        fill: #D2E3FC;\n",
              "      }\n",
              "\n",
              "      [theme=dark] .colab-df-generate:hover {\n",
              "        background-color: #434B5C;\n",
              "        box-shadow: 0px 1px 3px 1px rgba(0, 0, 0, 0.15);\n",
              "        filter: drop-shadow(0px 1px 2px rgba(0, 0, 0, 0.3));\n",
              "        fill: #FFFFFF;\n",
              "      }\n",
              "    </style>\n",
              "    <button class=\"colab-df-generate\" onclick=\"generateWithVariable('highly_fluctuating_categories')\"\n",
              "            title=\"Generate code using this dataframe.\"\n",
              "            style=\"display:none;\">\n",
              "\n",
              "  <svg xmlns=\"http://www.w3.org/2000/svg\" height=\"24px\"viewBox=\"0 0 24 24\"\n",
              "       width=\"24px\">\n",
              "    <path d=\"M7,19H8.4L18.45,9,17,7.55,7,17.6ZM5,21V16.75L18.45,3.32a2,2,0,0,1,2.83,0l1.4,1.43a1.91,1.91,0,0,1,.58,1.4,1.91,1.91,0,0,1-.58,1.4L9.25,21ZM18.45,9,17,7.55Zm-12,3A5.31,5.31,0,0,0,4.9,8.1,5.31,5.31,0,0,0,1,6.5,5.31,5.31,0,0,0,4.9,4.9,5.31,5.31,0,0,0,6.5,1,5.31,5.31,0,0,0,8.1,4.9,5.31,5.31,0,0,0,12,6.5,5.46,5.46,0,0,0,6.5,12Z\"/>\n",
              "  </svg>\n",
              "    </button>\n",
              "    <script>\n",
              "      (() => {\n",
              "      const buttonEl =\n",
              "        document.querySelector('#id_847f789b-ae09-44b6-bdf3-7e453d6d78cf button.colab-df-generate');\n",
              "      buttonEl.style.display =\n",
              "        google.colab.kernel.accessAllowed ? 'block' : 'none';\n",
              "\n",
              "      buttonEl.onclick = () => {\n",
              "        google.colab.notebook.generateWithVariable('highly_fluctuating_categories');\n",
              "      }\n",
              "      })();\n",
              "    </script>\n",
              "  </div>\n",
              "\n",
              "    </div>\n",
              "  </div>\n"
            ],
            "application/vnd.google.colaboratory.intrinsic+json": {
              "type": "dataframe",
              "variable_name": "highly_fluctuating_categories",
              "summary": "{\n  \"name\": \"highly_fluctuating_categories\",\n  \"rows\": 20,\n  \"fields\": [\n    {\n      \"column\": \"year\",\n      \"properties\": {\n        \"dtype\": \"int32\",\n        \"num_unique_values\": 3,\n        \"samples\": [\n          2022,\n          2023,\n          2024\n        ],\n        \"semantic_type\": \"\",\n        \"description\": \"\"\n      }\n    },\n    {\n      \"column\": \"category_name\",\n      \"properties\": {\n        \"dtype\": \"string\",\n        \"num_unique_values\": 11,\n        \"samples\": [\n          \"NEUTRAL GRAIN SPIRITS FLAVORED\",\n          \"BOTTLED IN BOND BOURBON\",\n          \"CORN WHISKIES\"\n        ],\n        \"semantic_type\": \"\",\n        \"description\": \"\"\n      }\n    },\n    {\n      \"column\": \"pack\",\n      \"properties\": {\n        \"dtype\": \"number\",\n        \"std\": 192265,\n        \"min\": 12,\n        \"max\": 634452,\n        \"num_unique_values\": 20,\n        \"samples\": [\n          81024,\n          35906,\n          81426\n        ],\n        \"semantic_type\": \"\",\n        \"description\": \"\"\n      }\n    },\n    {\n      \"column\": \"bottle_volume_(ml)\",\n      \"properties\": {\n        \"dtype\": \"number\",\n        \"std\": 17179890,\n        \"min\": 1500,\n        \"max\": 55309130,\n        \"num_unique_values\": 20,\n        \"samples\": [\n          7736000,\n          3879350,\n          5762575\n        ],\n        \"semantic_type\": \"\",\n        \"description\": \"\"\n      }\n    },\n    {\n      \"column\": \"state_bottle_cost\",\n      \"properties\": {\n        \"dtype\": \"number\",\n        \"std\": 683407.5558522528,\n        \"min\": 73.75,\n        \"max\": 2179471.28,\n        \"num_unique_values\": 20,\n        \"samples\": [\n          194588.44,\n          89355.18,\n          104151.68000000001\n        ],\n        \"semantic_type\": \"\",\n        \"description\": \"\"\n      }\n    },\n    {\n      \"column\": \"state_bottle_retail\",\n      \"properties\": {\n        \"dtype\": \"number\",\n        \"std\": 1025218.9444926786,\n        \"min\": 110.64999999999999,\n        \"max\": 3269352.75,\n        \"num_unique_values\": 20,\n        \"samples\": [\n          291886.94,\n          134037.93,\n          156247.77\n        ],\n        \"semantic_type\": \"\",\n        \"description\": \"\"\n      }\n    },\n    {\n      \"column\": \"bottles_sold\",\n      \"properties\": {\n        \"dtype\": \"number\",\n        \"std\": 174651,\n        \"min\": 12,\n        \"max\": 575317,\n        \"num_unique_values\": 20,\n        \"samples\": [\n          33086,\n          47665,\n          75976\n        ],\n        \"semantic_type\": \"\",\n        \"description\": \"\"\n      }\n    },\n    {\n      \"column\": \"sale_(dollars)\",\n      \"properties\": {\n        \"dtype\": \"number\",\n        \"std\": 4826669.864470329,\n        \"min\": 1150.56,\n        \"max\": 16366569.75,\n        \"num_unique_values\": 20,\n        \"samples\": [\n          951488.73,\n          1226082.31,\n          1493901.46\n        ],\n        \"semantic_type\": \"\",\n        \"description\": \"\"\n      }\n    },\n    {\n      \"column\": \"volume_sold_(liters)\",\n      \"properties\": {\n        \"dtype\": \"number\",\n        \"std\": 135490.9789195918,\n        \"min\": 9.0,\n        \"max\": 455046.19,\n        \"num_unique_values\": 20,\n        \"samples\": [\n          28757.25,\n          35576.8,\n          53806.52\n        ],\n        \"semantic_type\": \"\",\n        \"description\": \"\"\n      }\n    },\n    {\n      \"column\": \"volume_sold_(gallons)\",\n      \"properties\": {\n        \"dtype\": \"number\",\n        \"std\": 35631.45263940139,\n        \"min\": 2.36,\n        \"max\": 119678.28,\n        \"num_unique_values\": 20,\n        \"samples\": [\n          7541.87,\n          9360.63,\n          14160.54\n        ],\n        \"semantic_type\": \"\",\n        \"description\": \"\"\n      }\n    },\n    {\n      \"column\": \"sales_growth\",\n      \"properties\": {\n        \"dtype\": \"number\",\n        \"std\": 53.07643456376089,\n        \"min\": -87.29967937299608,\n        \"max\": 79.84487391682768,\n        \"num_unique_values\": 20,\n        \"samples\": [\n          36.963723990313134,\n          24.591422442209222,\n          -29.480781412222747\n        ],\n        \"semantic_type\": \"\",\n        \"description\": \"\"\n      }\n    },\n    {\n      \"column\": \"abs_sales_growth\",\n      \"properties\": {\n        \"dtype\": \"number\",\n        \"std\": 20.96846211224252,\n        \"min\": 23.13405088708277,\n        \"max\": 87.29967937299608,\n        \"num_unique_values\": 20,\n        \"samples\": [\n          36.963723990313134,\n          24.591422442209222,\n          29.480781412222747\n        ],\n        \"semantic_type\": \"\",\n        \"description\": \"\"\n      }\n    }\n  ]\n}"
            }
          },
          "metadata": {},
          "execution_count": 43
        }
      ]
    },
    {
      "cell_type": "code",
      "source": [
        "# Filter data for years starting from 2021\n",
        "sales_growth_2021 = sales_growth[sales_growth['year'] >= 2021]\n",
        "\n",
        "# Plotting the growth of highly fluctuating categories from 2021 onwards\n",
        "fig_highly_fluctuating = px.line(sales_growth_2021[sales_growth_2021['category_name'].isin(highly_fluctuating_categories['category_name'])],\n",
        "                                 x='year',\n",
        "                                 y='sales_growth',\n",
        "                                 color='category_name',\n",
        "                                 title='Year-over-Year Sales Growth of Highly Fluctuating Categories (2021-2024)',\n",
        "                                 template='iowa')\n",
        "fig_highly_fluctuating.show()\n"
      ],
      "metadata": {
        "colab": {
          "base_uri": "https://localhost:8080/",
          "height": 542
        },
        "id": "8cKvvvzn5EUZ",
        "outputId": "381f694e-c2a8-41b2-d57e-c8ff2b0dc5e3"
      },
      "execution_count": 45,
      "outputs": [
        {
          "output_type": "display_data",
          "data": {
            "text/html": [
              "<html>\n",
              "<head><meta charset=\"utf-8\" /></head>\n",
              "<body>\n",
              "    <div>            <script src=\"https://cdnjs.cloudflare.com/ajax/libs/mathjax/2.7.5/MathJax.js?config=TeX-AMS-MML_SVG\"></script><script type=\"text/javascript\">if (window.MathJax && window.MathJax.Hub && window.MathJax.Hub.Config) {window.MathJax.Hub.Config({SVG: {font: \"STIX-Web\"}});}</script>                <script type=\"text/javascript\">window.PlotlyConfig = {MathJaxConfig: 'local'};</script>\n",
              "        <script charset=\"utf-8\" src=\"https://cdn.plot.ly/plotly-2.35.2.min.js\"></script>                <div id=\"33396c0e-a23b-4e0f-8d72-f911c5e4ec68\" class=\"plotly-graph-div\" style=\"height:525px; width:100%;\"></div>            <script type=\"text/javascript\">                                    window.PLOTLYENV=window.PLOTLYENV || {};                                    if (document.getElementById(\"33396c0e-a23b-4e0f-8d72-f911c5e4ec68\")) {                    Plotly.newPlot(                        \"33396c0e-a23b-4e0f-8d72-f911c5e4ec68\",                        [{\"hovertemplate\":\"category_name=AMERICAN DISTILLED SPIRITS SPECIALTY\\u003cbr\\u003eyear=%{x}\\u003cbr\\u003esales_growth=%{y}\\u003cextra\\u003e\\u003c\\u002fextra\\u003e\",\"legendgroup\":\"AMERICAN DISTILLED SPIRITS SPECIALTY\",\"line\":{\"color\":\"#4c3624\",\"dash\":\"solid\"},\"marker\":{\"symbol\":\"circle\"},\"mode\":\"lines\",\"name\":\"AMERICAN DISTILLED SPIRITS SPECIALTY\",\"orientation\":\"v\",\"showlegend\":true,\"x\":[2021,2022,2023,2024],\"xaxis\":\"x\",\"y\":[0.0,1.2971203877591098,39.60857856320048,-29.480781412222747],\"yaxis\":\"y\",\"type\":\"scatter\"},{\"hovertemplate\":\"category_name=BOTTLED IN BOND BOURBON\\u003cbr\\u003eyear=%{x}\\u003cbr\\u003esales_growth=%{y}\\u003cextra\\u003e\\u003c\\u002fextra\\u003e\",\"legendgroup\":\"BOTTLED IN BOND BOURBON\",\"line\":{\"color\":\"#ff0651\",\"dash\":\"solid\"},\"marker\":{\"symbol\":\"circle\"},\"mode\":\"lines\",\"name\":\"BOTTLED IN BOND BOURBON\",\"orientation\":\"v\",\"showlegend\":true,\"x\":[2021,2022,2023,2024],\"xaxis\":\"x\",\"y\":[0.0,36.963723990313134,33.114403782796266,3.862548142380451],\"yaxis\":\"y\",\"type\":\"scatter\"},{\"hovertemplate\":\"category_name=CORN WHISKIES\\u003cbr\\u003eyear=%{x}\\u003cbr\\u003esales_growth=%{y}\\u003cextra\\u003e\\u003c\\u002fextra\\u003e\",\"legendgroup\":\"CORN WHISKIES\",\"line\":{\"color\":\"#ff7e06\",\"dash\":\"solid\"},\"marker\":{\"symbol\":\"circle\"},\"mode\":\"lines\",\"name\":\"CORN WHISKIES\",\"orientation\":\"v\",\"showlegend\":true,\"x\":[2021,2022,2023,2024],\"xaxis\":\"x\",\"y\":[0.0,-6.63363398214053,-39.17859126149105,-41.08718659712542],\"yaxis\":\"y\",\"type\":\"scatter\"},{\"hovertemplate\":\"category_name=DISTILLED SPIRITS SPECIALTY\\u003cbr\\u003eyear=%{x}\\u003cbr\\u003esales_growth=%{y}\\u003cextra\\u003e\\u003c\\u002fextra\\u003e\",\"legendgroup\":\"DISTILLED SPIRITS SPECIALTY\",\"line\":{\"color\":\"#74B36B\",\"dash\":\"solid\"},\"marker\":{\"symbol\":\"circle\"},\"mode\":\"lines\",\"name\":\"DISTILLED SPIRITS SPECIALTY\",\"orientation\":\"v\",\"showlegend\":true,\"x\":[2021,2022],\"xaxis\":\"x\",\"y\":[0.0,-87.29967937299608],\"yaxis\":\"y\",\"type\":\"scatter\"},{\"hovertemplate\":\"category_name=FLAVORED GIN\\u003cbr\\u003eyear=%{x}\\u003cbr\\u003esales_growth=%{y}\\u003cextra\\u003e\\u003c\\u002fextra\\u003e\",\"legendgroup\":\"FLAVORED GIN\",\"line\":{\"color\":\"#628395\",\"dash\":\"solid\"},\"marker\":{\"symbol\":\"circle\"},\"mode\":\"lines\",\"name\":\"FLAVORED GIN\",\"orientation\":\"v\",\"showlegend\":true,\"x\":[2021,2022,2023,2024],\"xaxis\":\"x\",\"y\":[0.0,76.23484969484086,43.89466178857837,24.591422442209222],\"yaxis\":\"y\",\"type\":\"scatter\"},{\"hovertemplate\":\"category_name=IMPORTED GINS\\u003cbr\\u003eyear=%{x}\\u003cbr\\u003esales_growth=%{y}\\u003cextra\\u003e\\u003c\\u002fextra\\u003e\",\"legendgroup\":\"IMPORTED GINS\",\"line\":{\"color\":\"#996C48\",\"dash\":\"solid\"},\"marker\":{\"symbol\":\"circle\"},\"mode\":\"lines\",\"name\":\"IMPORTED GINS\",\"orientation\":\"v\",\"showlegend\":true,\"x\":[2021,2022],\"xaxis\":\"x\",\"y\":[0.0,-49.999999999999986],\"yaxis\":\"y\",\"type\":\"scatter\"},{\"hovertemplate\":\"category_name=IMPORTED WHISKIES\\u003cbr\\u003eyear=%{x}\\u003cbr\\u003esales_growth=%{y}\\u003cextra\\u003e\\u003c\\u002fextra\\u003e\",\"legendgroup\":\"IMPORTED WHISKIES\",\"line\":{\"color\":\"#FF5C8D\",\"dash\":\"solid\"},\"marker\":{\"symbol\":\"circle\"},\"mode\":\"lines\",\"name\":\"IMPORTED WHISKIES\",\"orientation\":\"v\",\"showlegend\":true,\"x\":[2021,2022],\"xaxis\":\"x\",\"y\":[0.0,-79.15198956294847],\"yaxis\":\"y\",\"type\":\"scatter\"},{\"hovertemplate\":\"category_name=NEUTRAL GRAIN SPIRITS FLAVORED\\u003cbr\\u003eyear=%{x}\\u003cbr\\u003esales_growth=%{y}\\u003cextra\\u003e\\u003c\\u002fextra\\u003e\",\"legendgroup\":\"NEUTRAL GRAIN SPIRITS FLAVORED\",\"line\":{\"color\":\"#FF9633\",\"dash\":\"solid\"},\"marker\":{\"symbol\":\"circle\"},\"mode\":\"lines\",\"name\":\"NEUTRAL GRAIN SPIRITS FLAVORED\",\"orientation\":\"v\",\"showlegend\":true,\"x\":[2021,2022,2023,2024],\"xaxis\":\"x\",\"y\":[0.0,79.84487391682768,30.579759529620574,-13.915838633042998],\"yaxis\":\"y\",\"type\":\"scatter\"},{\"hovertemplate\":\"category_name=SINGLE BARREL BOURBON WHISKIES\\u003cbr\\u003eyear=%{x}\\u003cbr\\u003esales_growth=%{y}\\u003cextra\\u003e\\u003c\\u002fextra\\u003e\",\"legendgroup\":\"SINGLE BARREL BOURBON WHISKIES\",\"line\":{\"color\":\"#8CC084\",\"dash\":\"solid\"},\"marker\":{\"symbol\":\"circle\"},\"mode\":\"lines\",\"name\":\"SINGLE BARREL BOURBON WHISKIES\",\"orientation\":\"v\",\"showlegend\":true,\"x\":[2021,2022,2023,2024],\"xaxis\":\"x\",\"y\":[0.0,25.374804010149777,69.28314067170818,-6.314840392650223],\"yaxis\":\"y\",\"type\":\"scatter\"},{\"hovertemplate\":\"category_name=STRAIGHT RYE WHISKIES\\u003cbr\\u003eyear=%{x}\\u003cbr\\u003esales_growth=%{y}\\u003cextra\\u003e\\u003c\\u002fextra\\u003e\",\"legendgroup\":\"STRAIGHT RYE WHISKIES\",\"line\":{\"color\":\"#84A0AE\",\"dash\":\"solid\"},\"marker\":{\"symbol\":\"circle\"},\"mode\":\"lines\",\"name\":\"STRAIGHT RYE WHISKIES\",\"orientation\":\"v\",\"showlegend\":true,\"x\":[2021,2022,2023,2024],\"xaxis\":\"x\",\"y\":[0.0,-4.767133463444906,1.8839969605939588,-23.13405088708277],\"yaxis\":\"y\",\"type\":\"scatter\"},{\"hovertemplate\":\"category_name=TEMPORARY & SPECIALTY PACKAGES\\u003cbr\\u003eyear=%{x}\\u003cbr\\u003esales_growth=%{y}\\u003cextra\\u003e\\u003c\\u002fextra\\u003e\",\"legendgroup\":\"TEMPORARY & SPECIALTY PACKAGES\",\"line\":{\"color\":\"#B78B66\",\"dash\":\"solid\"},\"marker\":{\"symbol\":\"circle\"},\"mode\":\"lines\",\"name\":\"TEMPORARY & SPECIALTY PACKAGES\",\"orientation\":\"v\",\"showlegend\":true,\"x\":[2021,2022,2023,2024],\"xaxis\":\"x\",\"y\":[0.0,51.08725050077443,-38.17199881401889,72.2702714513722],\"yaxis\":\"y\",\"type\":\"scatter\"}],                        {\"template\":{\"layout\":{\"colorway\":[\"#4c3624\",\"#ff0651\",\"#ff7e06\",\"#74B36B\",\"#628395\",\"#996C48\",\"#FF5C8D\",\"#FF9633\",\"#8CC084\",\"#84A0AE\",\"#B78B66\",\"#FF85A9\",\"#FFB570\",\"#A7CEA1\",\"#A9BCC7\"],\"font\":{\"color\":\"black\"},\"paper_bgcolor\":\"white\",\"plot_bgcolor\":\"white\",\"xaxis\":{\"gridcolor\":\"lightgray\"},\"yaxis\":{\"gridcolor\":\"lightgray\"}}},\"xaxis\":{\"anchor\":\"y\",\"domain\":[0.0,1.0],\"title\":{\"text\":\"year\"}},\"yaxis\":{\"anchor\":\"x\",\"domain\":[0.0,1.0],\"title\":{\"text\":\"sales_growth\"}},\"legend\":{\"title\":{\"text\":\"category_name\"},\"tracegroupgap\":0},\"title\":{\"text\":\"Year-over-Year Sales Growth of Highly Fluctuating Categories (2021-2024)\"}},                        {\"responsive\": true}                    ).then(function(){\n",
              "                            \n",
              "var gd = document.getElementById('33396c0e-a23b-4e0f-8d72-f911c5e4ec68');\n",
              "var x = new MutationObserver(function (mutations, observer) {{\n",
              "        var display = window.getComputedStyle(gd).display;\n",
              "        if (!display || display === 'none') {{\n",
              "            console.log([gd, 'removed!']);\n",
              "            Plotly.purge(gd);\n",
              "            observer.disconnect();\n",
              "        }}\n",
              "}});\n",
              "\n",
              "// Listen for the removal of the full notebook cells\n",
              "var notebookContainer = gd.closest('#notebook-container');\n",
              "if (notebookContainer) {{\n",
              "    x.observe(notebookContainer, {childList: true});\n",
              "}}\n",
              "\n",
              "// Listen for the clearing of the current output cell\n",
              "var outputEl = gd.closest('.output');\n",
              "if (outputEl) {{\n",
              "    x.observe(outputEl, {childList: true});\n",
              "}}\n",
              "\n",
              "                        })                };                            </script>        </div>\n",
              "</body>\n",
              "</html>"
            ]
          },
          "metadata": {}
        }
      ]
    },
    {
      "cell_type": "markdown",
      "source": [
        "The following categories don't have a continuis line, they stop at year 2022. Let's understand waht hapenned\n",
        "- imported gins\n",
        "- imported whiskies\n",
        "- destilled spirits specialty"
      ],
      "metadata": {
        "id": "ztLEpdcZ6kf4"
      }
    },
    {
      "cell_type": "code",
      "source": [
        "# Filter data for specific categories\n",
        "imported_gins = data_yearly_category[data_yearly_category['category_name'] == 'IMPORTED GINS']\n",
        "imported_whiskies = data_yearly_category[data_yearly_category['category_name'] == 'IMPORTED WHISKIES']\n",
        "distilled_spirits = data_yearly_category[data_yearly_category['category_name'] == 'DISTILLED SPIRITS SPECIALTY']\n",
        "\n",
        "# Check if data exists for each category\n",
        "if not imported_gins.empty:\n",
        "    print(\"Data available for Imported Gins:\")\n",
        "    print(imported_gins[['year', 'sale_(dollars)']])\n",
        "else:\n",
        "    print(\"No data found for Imported Gins.\")\n",
        "\n",
        "if not imported_whiskies.empty:\n",
        "    print(\"\\nData available for Imported Whiskies:\")\n",
        "    print(imported_whiskies[['year', 'sale_(dollars)']])\n",
        "else:\n",
        "    print(\"No data found for Imported Whiskies.\")\n",
        "\n",
        "if not distilled_spirits.empty:\n",
        "    print(\"\\nData available for Distilled Spirits Specialty:\")\n",
        "    print(distilled_spirits[['year', 'category_name', 'sale_(dollars)']])\n",
        "else:\n",
        "    print(\"No data found for Distilled Spirits Specialty.\")\n"
      ],
      "metadata": {
        "colab": {
          "base_uri": "https://localhost:8080/"
        },
        "id": "W-7nsQRk19g1",
        "outputId": "b64b37d0-90dd-4ddb-fe74-6c5777f25c00"
      },
      "execution_count": 29,
      "outputs": [
        {
          "output_type": "stream",
          "name": "stdout",
          "text": [
            "Data available for Imported Gins:\n",
            "    year  sale_(dollars)\n",
            "27  2021         3186.72\n",
            "74  2022         1593.36\n",
            "\n",
            "Data available for Imported Whiskies:\n",
            "    year  sale_(dollars)\n",
            "30  2021         5518.80\n",
            "77  2022         1150.56\n",
            "\n",
            "Data available for Distilled Spirits Specialty:\n",
            "    year                category_name  sale_(dollars)\n",
            "18  2021  DISTILLED SPIRITS SPECIALTY        28070.00\n",
            "65  2022  DISTILLED SPIRITS SPECIALTY         3564.98\n"
          ]
        }
      ]
    },
    {
      "cell_type": "markdown",
      "source": [
        "Since we dont have data of these 3 categories for the last 2 years, we are not going to take them into consideration in the post covid analysis."
      ],
      "metadata": {
        "id": "ThntuNRl2gWO"
      }
    },
    {
      "cell_type": "markdown",
      "source": [
        "Back to the fluctuations in sales growth. Is this fluctuation a generalization of their alcohol type or specific to the category?"
      ],
      "metadata": {
        "id": "HAZ9YugH7NxA"
      }
    }
  ],
  "metadata": {
    "kernelspec": {
      "display_name": "Python 3",
      "name": "python3"
    },
    "language_info": {
      "codemirror_mode": {
        "name": "ipython",
        "version": 3
      },
      "file_extension": ".py",
      "mimetype": "text/x-python",
      "name": "python",
      "nbconvert_exporter": "python",
      "pygments_lexer": "ipython3",
      "version": "3.11.7"
    },
    "colab": {
      "provenance": [],
      "toc_visible": true,
      "machine_shape": "hm",
      "gpuType": "L4",
      "include_colab_link": true
    },
    "accelerator": "GPU"
  },
  "nbformat": 4,
  "nbformat_minor": 0
}